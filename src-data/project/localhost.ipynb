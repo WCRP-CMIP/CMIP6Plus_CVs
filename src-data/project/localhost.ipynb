{
 "cells": [
  {
   "cell_type": "markdown",
   "metadata": {},
   "source": [
    "## Testing changes to the **current** repository using existing CMIP infrastructure\n",
    "\n",
    "In this notebook we take the JSON-LD files in the current directory, copy them to a locally hosted temporary directory and load them as if they were coming from the published site (`<owner>.github.io/<repo>`)\n",
    "\n",
    "This method allows us to test any new changes with the existing JSON-LD universe."
   ]
  },
  {
   "cell_type": "code",
   "execution_count": 1,
   "metadata": {},
   "outputs": [],
   "source": [
    "import cmipld\n",
    "from cmipld.utils.offline import LD_server, replace_loader"
   ]
  },
  {
   "cell_type": "markdown",
   "metadata": {},
   "source": [
    "##### Set up the temporary directory"
   ]
  },
  {
   "cell_type": "code",
   "execution_count": 2,
   "metadata": {},
   "outputs": [
    {
     "name": "stdout",
     "output_type": "stream",
     "text": [
      "Copying the repo into LocalServer  /Users/daniel.ellis/WIPwork/CMIP6Plus_CVs/src-data/ --> current_repo\n",
      "Repositories copied into <TemporaryDirectory '/var/folders/hc/s_7lggq12nndglbdyrn3f91m1l58yd/T/cmipld_local_t8u_e1612025-01-12T22:59:11'>\n"
     ]
    }
   ],
   "source": [
    "\n",
    "\n",
    "# the path of the JSON-LD content for the current repository\n",
    "ldpath = cmipld.utils.git.ldpath()\n",
    "\n",
    "# create a temporary directory containing (a copy of) the current repository\n",
    "localserver = LD_server(copy = [[ldpath,'current_repo']])\n",
    "\n",
    "# NOTE: all changes to the files will need to be updated e.g.: \n",
    "# localserver.copy_existing_repos([['pat/to/repo','repo_name']...])\n"
   ]
  },
  {
   "cell_type": "markdown",
   "metadata": {},
   "source": [
    "#### Start the server"
   ]
  },
  {
   "cell_type": "code",
   "execution_count": 3,
   "metadata": {},
   "outputs": [
    {
     "name": "stderr",
     "output_type": "stream",
     "text": [
      ".+...+...+...+......+.+............+..+...+.+..+.........+......+....+........+...+...+....+............+.....+....+.........+...+..+......+.+......+...+.....+................+..............+....+...+..+..........+..+...............+.+..+.+.....+................+.........+.....+.........+.......+.....+++++++++++++++++++++++++++++++++++++++++++++*..+.....+............+...+.........+......+...+.......+...+..+++++++++++++++++++++++++++++++++++++++++++++*......+......+...+......+.....+.+..............+.........+......................+.........+........+..........+.....+...+...+......+....+...........+....+............+..................+..+.......+...+.....+.......+............+...........+..................+......+......+...+.+.....+.+..+.............+.....+.......+..+..................+...+............+...+.......+...+..+.......+......+..+.+.....+...................+...........+.........+..........+.....+.+............+...+.............................+......+.+.....+.........+....+.....................+......+.....+...+......+....+............+..............+......+...+.+......+.....+......+.............+..+.........+...+...+.........+.........+.......+.................+...............+............+...+...+...+.......+.................+................+.................+.............+......+.....+....+..+.......+........+....+...+...+.....+...+....+...+..+...+............+......+.+...+......+.....+....+..+.........+.........+...+..........+..............+.+.....+..........+............+..+......+....+...+++++\n",
      "....+.........+.....+.+..+...+..........+++++++++++++++++++++++++++++++++++++++++++++*.+...+..+.+..+....+.....+.+.................+......+.+.....+.........+.+.....+......+...+......+...+..........+.....+.+............+..+...+...+.........+.+......+.....+.+........+.+...........+.........+.+...+...........+...+.......+.........+.....+....+........+..........+...+...........+++++++++++++++++++++++++++++++++++++++++++++*....................+.+............+.....+.......+...........+...........................+............+.........+.........+.......+...........+............+.......+...............+.........+...........+...+.....................+......+.+..............+.........+............+.......+......+.....+....+...+.....+...+.+......+..+.......+......+...+......+...+..+..........+......+...+..............................+........................+...+.................+............+.+.........+.....+................+.........+........+.+.....+.......+...+.....+....+......+...........+.+...+....................+......+.+...........................................................+..........+......+........+....+.....+...+...+......+.+.....+...+.......+..+............+...+......+.+...+........+.........................+..+.+.........+..+......+...+............+...+....+..+..........+...+......+.....+.......+............+..+.+..............+...+......................+.........+..+...............+.............+..+....+..................+..+.+..+......+............+............+...+.............+..+...+............+.......+.....+...+...+....+......+.........+..+..................+.......+......+.....+.............+..............+...+.......+............+..............+.+...+......+...............+.....+.+.....+.............+..+....+.................+.........+...+.............+..+...+.......+..+...+.+............+..+......+......+...+.............+.....+.......+...+.....+.......+...........+.+......+.....+.......+......+......+........+......+.........+...+..........+.....+............+.+......+...+...........+.......+..+......+.+...+.....+.+...............+.........+.......................+.........+.+..+.......+...........+....+...........+....+........+..................+.......+...+.....+....+...+...+........+.........+.......+..............+.+...+..................+..+............+................+........+.+......+...+...........+.+...+.........+.....+.+..+............+.+.........+...........+.........+......+.+...+..+.........+......+.+.....+...+....+...+..+...+.............+......+........+...+...+.+........+.+......+.........+......+...........+......................+.....+...............+.+.....+....+...+..+......+......+...............+.+...+.....+"
     ]
    },
    {
     "name": "stdout",
     "output_type": "stream",
     "text": [
      "Created SSL certificates in: /var/folders/hc/s_7lggq12nndglbdyrn3f91m1l58yd/T/cmipld_local_t8u_e1612025-01-12T22:59:11\n",
      "Serving /var/folders/hc/s_7lggq12nndglbdyrn3f91m1l58yd/T/cmipld_local_t8u_e1612025-01-12T22:59:11 at https://localhost:8081\n"
     ]
    },
    {
     "name": "stderr",
     "output_type": "stream",
     "text": [
      "....+...+............+........+............+.+.................+....+...+........+....+......+...+.....+.......+..+..........+...............+......+..+.........+......+............+..........+.....+.............+...............+............+..+.........+....+...........+......+......+.......+..+..........+......+...+.........+.................+....+.....+.+..................+......+.....+......+.+..+......................+......+.........+.....+...+..................+..........+..+...+...+.+......+.....+.........+...............+........................+......+.........+.+.....+...+......+................+...+..+.............+......+..+....+++++\n",
      "-----\n"
     ]
    }
   ],
   "source": [
    "# After establishing a temporary directory we can start the server\n",
    "# this will host all the files we have loaded on localserver:port/\n",
    "localhost = localserver.start_server(8081)\n"
   ]
  },
  {
   "cell_type": "markdown",
   "metadata": {},
   "source": [
    "##### Set up redirects"
   ]
  },
  {
   "cell_type": "code",
   "execution_count": 4,
   "metadata": {},
   "outputs": [
    {
     "name": "stdout",
     "output_type": "stream",
     "text": [
      "make test for url2io\n",
      "Setting up location forwarding for:\n",
      " -  https://wcrp-cmip.github.io/CMIP6Plus_CVs/ >>> https://localhost:8081/current_repo/\n",
      "\n"
     ]
    }
   ],
   "source": [
    "\n",
    "# Obtaining the hosted github io address of the current repository\n",
    "repo_url = cmipld.utils.git.url()\n",
    "io_url = cmipld.utils.git.url2io(repo_url)\n",
    "\n",
    "# We now generate create a list of urls to be redirected, and replace the JSONLD loader. \n",
    "replace_loader(localhost,[(io_url,'current_repo')] )\n"
   ]
  },
  {
   "cell_type": "markdown",
   "metadata": {},
   "source": [
    "##### Getting the data"
   ]
  },
  {
   "cell_type": "code",
   "execution_count": 7,
   "metadata": {},
   "outputs": [
    {
     "data": {
      "text/plain": [
       "[{'@id': 'https://wcrp-cmip.github.io/CMIP6Plus_CVs/project/product',\n",
       "  'https://wcrp-cmip.github.io/CMIP6Plus_CVs/project/product': [{'@value': 'model-output'}],\n",
       "  '@type': ['wcrp:project',\n",
       "   'https://wcrp-cmip.github.io/CMIP6Plus_CVs/',\n",
       "   'wcrp:product']}]"
      ]
     },
     "execution_count": 7,
     "metadata": {},
     "output_type": "execute_result"
    }
   ],
   "source": [
    "# This means we can make 'locally hosted' content appear as an external resource in our PYLD instance\n",
    "\n",
    "testfile = f'{io_url}project/product.json'\n",
    "\n",
    "from pyld import jsonld\n",
    "jsonld.expand(testfile)"
   ]
  },
  {
   "cell_type": "code",
   "execution_count": 6,
   "metadata": {},
   "outputs": [
    {
     "data": {
      "text/plain": [
       "[{'@context': 'https://wcrp-cmip.github.io/CMIP6Plus_CVs/project/_context_',\n",
       "  'id': 'cmip6plus:project/product',\n",
       "  'type': ['wcrp:project', 'cmip6plus', 'wcrp:product'],\n",
       "  'cmip6plus:project/product': 'model-output'}]"
      ]
     },
     "execution_count": 6,
     "metadata": {},
     "output_type": "execute_result"
    }
   ],
   "source": [
    "# or the cmipld library loaders.\n",
    "cmipld.get(testfile)\n"
   ]
  }
 ],
 "metadata": {
  "kernelspec": {
   "display_name": "base",
   "language": "python",
   "name": "python3"
  },
  "language_info": {
   "codemirror_mode": {
    "name": "ipython",
    "version": 3
   },
   "file_extension": ".py",
   "mimetype": "text/x-python",
   "name": "python",
   "nbconvert_exporter": "python",
   "pygments_lexer": "ipython3",
   "version": "3.10.10"
  }
 },
 "nbformat": 4,
 "nbformat_minor": 2
}
