{
 "cells": [
  {
   "cell_type": "markdown",
   "metadata": {},
   "source": [
    "## Testing changes to the **current** repository using existing CMIP infrastructure\n",
    "\n",
    "In this notebook we take the JSON-LD files in the current directory, copy them to a locally hosted temporary directory and load them as if they were coming from the published site (`<owner>.github.io/<repo>`)\n",
    "\n",
    "This method allows us to test any new changes with the existing JSON-LD universe."
   ]
  },
  {
   "cell_type": "code",
   "execution_count": 4,
   "metadata": {},
   "outputs": [],
   "source": [
    "import cmipld\n",
    "from cmipld.utils.offline import LD_server, replace_loader"
   ]
  },
  {
   "cell_type": "markdown",
   "metadata": {},
   "source": [
    "##### Set up the temporary directory"
   ]
  },
  {
   "cell_type": "code",
   "execution_count": 5,
   "metadata": {},
   "outputs": [
    {
     "name": "stdout",
     "output_type": "stream",
     "text": [
      "Copying the repo into LocalServer  /Users/daniel.ellis/WIPwork/CMIP6Plus_CVs/src-data/ --> current_repo\n",
      "Repositories copied into <TemporaryDirectory '/var/folders/hc/s_7lggq12nndglbdyrn3f91m1l58yd/T/cmipld_local_k8kz8epe2025-01-15T11:46:44'>\n"
     ]
    }
   ],
   "source": [
    "\n",
    "\n",
    "# the path of the JSON-LD content for the current repository\n",
    "ldpath = cmipld.utils.git.ldpath()\n",
    "\n",
    "# create a temporary directory containing (a copy of) the current repository\n",
    "localserver = LD_server(copy = [[ldpath,'current_repo']])\n",
    "\n",
    "# NOTE: all changes to the files will need to be updated e.g.: \n",
    "# localserver.copy_existing_repos([['pat/to/repo','repo_name']...])\n"
   ]
  },
  {
   "cell_type": "markdown",
   "metadata": {},
   "source": [
    "#### Start the server"
   ]
  },
  {
   "cell_type": "code",
   "execution_count": 6,
   "metadata": {},
   "outputs": [
    {
     "name": "stderr",
     "output_type": "stream",
     "text": [
      "...........+...+.....+.+...+..+++++++++++++++++++++++++++++++++++++++++++++*.....+..........+......+.....+.+..................+..+++++++++++++++++++++++++++++++++++++++++++++*.............+..+.+..........................+......+........................+.........+.+...+...........+...............+.+........+.+..+.......+........+.......+..+....+.................+.......+...............+.....+.+......+.....................+..+.+.....+....+.....+.......+.........+.....+....+...+.....+.............+..+...+.+........+...+...+.......+...+......+.....+.+...+..+.........+...+............+....+.....+.......+...+..+....+...+............+...........+..........+........+.........+...+...+.+...+............+.....+.+....................+.......+.....+.+..+++++\n",
      ".........+.+..+.........+.+.....+....+...+..+....+..+.......+.....+.+..+.........+...+...+...+.......+..+...+.......+...+........+......+.+.........+...+.....+..........+..+.........+....+......+...............+..+..........+..+.+..+....+.....+...+.+.....+.+.....+....+.....+.+...+...........+.+..............+......+.+...+..+...............+.......+.....+...+..........+........+.+.....+...+...+....+.....+......+....+...+....................+.......+...+..+++++++++++++++++++++++++++++++++++++++++++++*.......+...+++++++++++++++++++++++++++++++++++++++++++++*..........+...............+.....+.........+......+...+.......+............+...........+.+...+...+...+.........+...+........+.+.....+....+..+...+............+"
     ]
    },
    {
     "name": "stdout",
     "output_type": "stream",
     "text": [
      "Created SSL certificates in: /var/folders/hc/s_7lggq12nndglbdyrn3f91m1l58yd/T/cmipld_local_k8kz8epe2025-01-15T11:46:44\n",
      "Serving /var/folders/hc/s_7lggq12nndglbdyrn3f91m1l58yd/T/cmipld_local_k8kz8epe2025-01-15T11:46:44 at https://localhost:8081\n"
     ]
    },
    {
     "name": "stderr",
     "output_type": "stream",
     "text": [
      ".........+.........+.................................................+..+....+...........+.+.................+...+......................+........+...................+...+...+...............+.........+......+.........+.....+...+..........+..+.+...+.....+....+......+..+....+...........+.......+.....+..........+...+........+.......+..+...+....+.....+..........+...........+.......+......+.........+........+...+.......+...............+...+..............+.......+...........+...+.......+........+...................+..+.............+...+........+......+.+..+......+......+++++\n",
      "-----\n"
     ]
    }
   ],
   "source": [
    "# After establishing a temporary directory we can start the server\n",
    "# this will host all the files we have loaded on localserver:port/\n",
    "localhost = localserver.start_server(8081)\n"
   ]
  },
  {
   "cell_type": "markdown",
   "metadata": {},
   "source": [
    "##### Set up redirects"
   ]
  },
  {
   "cell_type": "code",
   "execution_count": 7,
   "metadata": {},
   "outputs": [
    {
     "name": "stdout",
     "output_type": "stream",
     "text": [
      "make test for url2io\n",
      "Setting up location forwarding for:\n",
      " -  https://wcrp-cmip.github.io/CMIP6Plus_CVs/ >>> https://localhost:8081/current_repo/\n",
      "\n"
     ]
    }
   ],
   "source": [
    "\n",
    "# Obtaining the hosted github io address of the current repository\n",
    "repo_url = cmipld.utils.git.url()\n",
    "io_url = cmipld.utils.git.url2io(repo_url)\n",
    "\n",
    "# We now generate create a list of urls to be redirected, and replace the JSONLD loader. \n",
    "replace_loader(localhost,[(io_url,'current_repo')] )\n"
   ]
  },
  {
   "cell_type": "markdown",
   "metadata": {},
   "source": [
    "##### Getting the data"
   ]
  },
  {
   "cell_type": "code",
   "execution_count": 8,
   "metadata": {},
   "outputs": [
    {
     "name": "stderr",
     "output_type": "stream",
     "text": [
      "127.0.0.1 - - [15/Jan/2025 11:46:45] \"GET /current_repo/project/product.json HTTP/1.1\" 200 -\n",
      "127.0.0.1 - - [15/Jan/2025 11:46:45] \"GET /current_repo/project/_context_ HTTP/1.1\" 200 -\n",
      "127.0.0.1 - - [15/Jan/2025 11:46:45] \"GET /current_repo/_context_ HTTP/1.1\" 200 -\n",
      "127.0.0.1 - - [15/Jan/2025 11:46:50] \"GET /current_repo/project/product.json HTTP/1.1\" 200 -\n",
      "127.0.0.1 - - [15/Jan/2025 11:46:51] \"GET /current_repo/project/_context_ HTTP/1.1\" 200 -\n",
      "127.0.0.1 - - [15/Jan/2025 11:46:51] \"GET /current_repo/_context_ HTTP/1.1\" 200 -\n",
      "127.0.0.1 - - [15/Jan/2025 11:46:51] \"GET /current_repo/project/_context_ HTTP/1.1\" 200 -\n",
      "127.0.0.1 - - [15/Jan/2025 11:46:51] \"GET /current_repo/_context_ HTTP/1.1\" 200 -\n"
     ]
    },
    {
     "data": {
      "text/plain": [
       "[{'@id': 'https://wcrp-cmip.github.io/CMIP6Plus_CVs/project/product',\n",
       "  'https://wcrp-cmip.github.io/CMIP6Plus_CVs/project/product': [{'@value': 'model-output'}],\n",
       "  '@type': ['wcrp:project',\n",
       "   'https://wcrp-cmip.github.io/CMIP6Plus_CVs/',\n",
       "   'wcrp:product']}]"
      ]
     },
     "execution_count": 8,
     "metadata": {},
     "output_type": "execute_result"
    }
   ],
   "source": [
    "# This means we can make 'locally hosted' content appear as an external resource in our PYLD instance\n",
    "\n",
    "testfile = f'{io_url}project/product.json'\n",
    "\n",
    "from pyld import jsonld\n",
    "jsonld.expand(testfile)"
   ]
  },
  {
   "cell_type": "code",
   "execution_count": 9,
   "metadata": {},
   "outputs": [
    {
     "data": {
      "text/plain": [
       "[{'@context': 'https://wcrp-cmip.github.io/CMIP6Plus_CVs/project/_context_',\n",
       "  'id': 'cmip6plus:project/product',\n",
       "  'type': ['wcrp:project', 'cmip6plus', 'wcrp:product'],\n",
       "  'cmip6plus:project/product': 'model-output'}]"
      ]
     },
     "execution_count": 9,
     "metadata": {},
     "output_type": "execute_result"
    }
   ],
   "source": [
    "# or the cmipld library loaders.\n",
    "cmipld.get(testfile)\n"
   ]
  },
  {
   "cell_type": "code",
   "execution_count": 12,
   "metadata": {},
   "outputs": [
    {
     "ename": "AttributeError",
     "evalue": "type object 'LD_server' has no attribute 'server'",
     "output_type": "error",
     "traceback": [
      "\u001b[0;31m---------------------------------------------------------------------------\u001b[0m",
      "\u001b[0;31mAttributeError\u001b[0m                            Traceback (most recent call last)",
      "Cell \u001b[0;32mIn[12], line 1\u001b[0m\n\u001b[0;32m----> 1\u001b[0m \u001b[43mLD_server\u001b[49m\u001b[38;5;241;43m.\u001b[39;49m\u001b[43mstop_server\u001b[49m\u001b[43m(\u001b[49m\u001b[43mLD_server\u001b[49m\u001b[43m)\u001b[49m\n",
      "File \u001b[0;32m~/WIPwork/CMIP-LD/cmipld/utils/offline.py:152\u001b[0m, in \u001b[0;36mLD_server.stop_server\u001b[0;34m(self)\u001b[0m\n\u001b[1;32m    151\u001b[0m \u001b[38;5;28;01mdef\u001b[39;00m\u001b[38;5;250m \u001b[39m\u001b[38;5;21mstop_server\u001b[39m(\u001b[38;5;28mself\u001b[39m):\n\u001b[0;32m--> 152\u001b[0m     \u001b[38;5;28;43mself\u001b[39;49m\u001b[38;5;241;43m.\u001b[39;49m\u001b[43mserver\u001b[49m\u001b[38;5;241m.\u001b[39mstop_server()\n\u001b[1;32m    153\u001b[0m     \u001b[38;5;28mself\u001b[39m\u001b[38;5;241m.\u001b[39mserver \u001b[38;5;241m=\u001b[39m \u001b[38;5;28;01mNone\u001b[39;00m\n\u001b[1;32m    154\u001b[0m     \u001b[38;5;28mself\u001b[39m\u001b[38;5;241m.\u001b[39murl \u001b[38;5;241m=\u001b[39m \u001b[38;5;28;01mNone\u001b[39;00m\n",
      "\u001b[0;31mAttributeError\u001b[0m: type object 'LD_server' has no attribute 'server'"
     ]
    }
   ],
   "source": [
    "LD_server.stop_server()"
   ]
  },
  {
   "cell_type": "code",
   "execution_count": null,
   "metadata": {},
   "outputs": [],
   "source": []
  }
 ],
 "metadata": {
  "kernelspec": {
   "display_name": "base",
   "language": "python",
   "name": "python3"
  },
  "language_info": {
   "codemirror_mode": {
    "name": "ipython",
    "version": 3
   },
   "file_extension": ".py",
   "mimetype": "text/x-python",
   "name": "python",
   "nbconvert_exporter": "python",
   "pygments_lexer": "ipython3",
   "version": "3.10.10"
  }
 },
 "nbformat": 4,
 "nbformat_minor": 2
}
