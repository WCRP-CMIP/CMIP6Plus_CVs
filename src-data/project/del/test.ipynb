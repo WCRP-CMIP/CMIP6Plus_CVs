{
 "cells": [
  {
   "cell_type": "code",
   "execution_count": 1,
   "metadata": {},
   "outputs": [
    {
     "name": "stdout",
     "output_type": "stream",
     "text": [
      "All JSON files in the current directory have been updated.\n"
     ]
    }
   ],
   "source": [
    "# import os\n",
    "# import json\n",
    "\n",
    "\n",
    "# # Iterate over all JSON files in the current directory\n",
    "# for file in os.listdir('.'):\n",
    "#     if file.endswith('.json'):\n",
    "#         with open(file, 'r', encoding='utf-8') as f:\n",
    "#             content = json.load(f)\n",
    "        \n",
    "#         # Modify the content as needed\n",
    "#         # Example: Add a new key-value pair\n",
    "#         content['id'] = content['id']+'-list'\n",
    "        \n",
    "#         # Write the updated content back to the file\n",
    "#         with open(file, 'w', encoding='utf-8') as f:\n",
    "#             json.dump(content, f, indent=4)\n",
    "            \n",
    "#                 # Rename the file\n",
    "#         os.rename(file, file.replace('.json','-list.json'))\n",
    "        \n",
    "#         # # Remove the old file\n",
    "#         # os.remove(file)\n",
    "\n",
    "# print(\"All JSON files in the current directory have been updated.\")\n"
   ]
  },
  {
   "cell_type": "code",
   "execution_count": null,
   "metadata": {},
   "outputs": [],
   "source": []
  }
 ],
 "metadata": {
  "kernelspec": {
   "display_name": "base",
   "language": "python",
   "name": "python3"
  },
  "language_info": {
   "codemirror_mode": {
    "name": "ipython",
    "version": 3
   },
   "file_extension": ".py",
   "mimetype": "text/x-python",
   "name": "python",
   "nbconvert_exporter": "python",
   "pygments_lexer": "ipython3",
   "version": "3.10.10"
  }
 },
 "nbformat": 4,
 "nbformat_minor": 2
}
