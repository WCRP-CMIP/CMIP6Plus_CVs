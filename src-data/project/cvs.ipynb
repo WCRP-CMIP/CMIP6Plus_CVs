{
 "cells": [
  {
   "cell_type": "code",
   "execution_count": 1,
   "metadata": {},
   "outputs": [
    {
     "name": "stdout",
     "output_type": "stream",
     "text": [
      "make test for url2io\n",
      "--------------------------------------------------\n",
      "Parsing repo: cmip6plus\n",
      "Location: https://github.com/WCRP-CMIP/CMIP6Plus_CVs\n",
      "Github IO link: https://wcrp-cmip.github.io/CMIP6Plus_CVs/\n",
      "--------------------------------------------------\n"
     ]
    },
    {
     "name": "stderr",
     "output_type": "stream",
     "text": [
      "/Users/daniel.ellis/customlib/homebrew/Caskroom/mambaforge/base/lib/python3.10/site-packages/tqdm/auto.py:21: TqdmWarning: IProgress not found. Please update jupyter and ipywidgets. See https://ipywidgets.readthedocs.io/en/stable/user_install.html\n",
      "  from .autonotebook import tqdm as notebook_tqdm\n"
     ]
    }
   ],
   "source": [
    "import cmipld\n",
    "import importlib\n",
    "from collections import OrderedDict\n",
    "\n",
    "\n",
    "repo_url = cmipld.utils.git.url()\n",
    "io_url = cmipld.utils.git.url2io(repo_url)\n",
    "\n",
    "whoami = cmipld.reverse_mapping()[io_url]\n",
    "print('-'*50)\n",
    "print(f'Parsing repo: {whoami}')\n",
    "print(f'Location: {repo_url}')\n",
    "print(f'Github IO link: {io_url}')\n",
    "print('-'*50)\n",
    "\n",
    "'''\n",
    "To keep this set of functions generic, we create separate files containing all relevant functions for a repository to be processed. \n",
    "When running this script we determine the parent repository, and consequently its prefix. This is then used to grab all relevant functions for processing. \n",
    "\n",
    "Example usage: getattr(this,'activity')({'activity':[{\"label\":1,\"id\":'one'}]})\n",
    "\n",
    "'''\n",
    "# Dynamically import the target module and assign it to a variable\n",
    "module_path = f\"cmipld.cvs.{whoami}\" # go to CMIPLD/CVs/<value of whoami>.py for functions\n",
    "this = importlib.import_module(module_path)\n",
    "\n"
   ]
  },
  {
   "cell_type": "code",
   "execution_count": 2,
   "metadata": {},
   "outputs": [],
   "source": [
    "# # Set up offline override for the current repository\n",
    "\n",
    "# ldpath = cmipld.utils.git.ldpath()\n",
    "\n",
    "\n",
    "# # create a temporary directory containing (a copy of) the current repository\n",
    "# # localserver = LD_server(copy = [[ldpath,'current_repo']])\n",
    "# repos= { \n",
    "#         'https://wcrp-cmip.github.io/WCRP-universe/': 'universal',\n",
    "#         'https://wcrp-cmip.github.io/MIP-variables/': 'variables',\n",
    "#         'https://wcrp-cmip.github.io/CMIP6Plus_CVs/': 'cmip6plus'\n",
    "#         }\n",
    "\n",
    "# localserver = LD_server(repos = repos.items(),copy = [[ldpath,whoami]],override='y')\n",
    "\n",
    "# # localserver = LD_server(copy = [[ldpath,'cmip6plus']])\n",
    "\n",
    "\n",
    "# localhost = localserver.start_server(8080)\n"
   ]
  },
  {
   "cell_type": "code",
   "execution_count": 3,
   "metadata": {},
   "outputs": [],
   "source": [
    "# # \n",
    "# replace_loader(localhost,[list(i) for i in repos.items()])\n",
    "# # "
   ]
  },
  {
   "cell_type": "code",
   "execution_count": 4,
   "metadata": {},
   "outputs": [],
   "source": [
    "\n",
    "CV = OrderedDict()\n",
    "cmipld.processor.clear_cache()\n"
   ]
  },
  {
   "cell_type": "code",
   "execution_count": 5,
   "metadata": {},
   "outputs": [
    {
     "name": "stdout",
     "output_type": "stream",
     "text": [
      "repo\n",
      "mip-era\n",
      "license\n",
      "activity\n",
      "dict_keys(['@context', 'id', 'type', 'description', 'label', 'start', 'url'])\n",
      "dict_keys(['@context', 'id', 'type', 'description', 'label', 'start', 'url'])\n",
      "drs\n",
      "product\n",
      "required-global-attributes\n"
     ]
    }
   ],
   "source": [
    "\n",
    "\n",
    "for item in [\n",
    "    'repo',\n",
    "    'mip-era',\n",
    "    'license',\n",
    "    'activity',\n",
    "    'drs',\n",
    "    'product',\n",
    "    'required-global-attributes',\n",
    "    # 'tables',\n",
    "    ]:\n",
    "    \n",
    "    print(item)\n",
    "    # CV[item] = getattr(locals(),item)\n",
    "    ld  = cmipld.processor.expand_document(f'{io_url}project/{item}.json', depth=3)[0]\n",
    "    # functions may be autogenrated in (reponame).py under the CVs dir. \n",
    "    CV[item] = getattr(this,item)(ld)\n",
    "    \n"
   ]
  },
  {
   "cell_type": "code",
   "execution_count": 6,
   "metadata": {},
   "outputs": [],
   "source": [
    "# adding the index properties\n",
    "print('index')\n",
    "CV.update(cmipld.processor.get(f'{io_url}/project/index.json')[0]['index'])"
   ]
  },
  {
   "cell_type": "code",
   "execution_count": 7,
   "metadata": {},
   "outputs": [
    {
     "name": "stdout",
     "output_type": "stream",
     "text": [
      "make a file for relevant realms and relevant realms\n",
      "realm\n",
      "frequency\n"
     ]
    }
   ],
   "source": [
    "print('make a file for relevant realms and relevant realms')\n",
    "\n",
    "for universe_item in ['realm','frequency']:\n",
    "    # 'grid-label''nominal'\n",
    "    print(universe_item)\n",
    "    path = f'{cmipld.mapping[\"universal\"]}{universe_item}/graph.jsonld'\n",
    "    ld  = cmipld.jsonld.compact(path,path)['@graph']\n",
    "    CV[universe_item] = getattr(this,universe_item)(ld)"
   ]
  },
  {
   "cell_type": "code",
   "execution_count": null,
   "metadata": {},
   "outputs": [],
   "source": [
    "# path = f'{cmipld.mapping[\"universal\"]}resolution/graph.jsonld'\n",
    "# data  = cmipld.jsonld.compact(path,path)['@graph']\n",
    "\n",
    "# CV['nominal_resolution'] = [f\"{r['value']} {r['unit']}\" for r in sorted(data, key=lambda x: float(x['value']) if x['value'].replace('.', '', 1).isdigit() else float('inf'))]\n",
    "\n",
    "print('make a file for relevant nominal resolution')"
   ]
  },
  {
   "cell_type": "code",
   "execution_count": 28,
   "metadata": {},
   "outputs": [
    {
     "name": "stdout",
     "output_type": "stream",
     "text": [
      "WARNING: Part of the loaded context contains a \"@container\" this may mean referenced items become nested in framing.\n",
      " Please use .iterative_frame() instead.\n"
     ]
    },
    {
     "name": "stderr",
     "output_type": "stream",
     "text": [
      "100%|██████████| 4/4 [00:01<00:00,  3.57it/s]\n"
     ]
    }
   ],
   "source": [
    "# url = cmipld.processor.resolve_prefix(file)\n",
    "\n",
    "# loads the experiments graph and relevant dependancies. \n",
    "\n",
    "es_data = {}\n",
    "\n",
    "for value in ['experiment', 'source']:\n",
    "    es_data[value] = cmipld.processor.EmbeddedFrame(f'{io_url}experiment/graph.jsonld') \n",
    "    result = es_data[value].frame({'@type':[f'wcrp:{value}']})\n",
    "    \n",
    "    # CV[value+'_id'] = getattr(this,value)(result)\n",
    "    break\n"
   ]
  },
  {
   "cell_type": "code",
   "execution_count": null,
   "metadata": {},
   "outputs": [
    {
     "name": "stdout",
     "output_type": "stream",
     "text": [
      "dict_keys(['id', 'type', 'activity', 'description', 'end', 'label', 'min_number_yrs_per_sim', 'model_realms', 'parent_activity', 'parent_experiment', 'start', 'sub_experiment', 'tier'])\n",
      "parent_activity\n",
      "{'id': 'universal:activity/cmip', 'type': ['wcrp:activity', 'universal'], 'description': 'CMIP DECK: 1pctCO2, abrupt-4xCO2, amip, esm-piControl, esm-historical, historical, and piControl experiments', 'label': 'CMIP', 'url': 'https://gmd.copernicus.org/articles/9/1937/2016/gmd-9-1937-2016.pdf'}\n",
      "sub_experiment\n",
      "{'id': 'cmip6plus:sub-experiment/none', 'type': ['wcrp:sub-experiment', 'cmip6plus'], 'description': 'none', 'name': 'none'}\n"
     ]
    },
    {
     "ename": "KeyError",
     "evalue": "'label'",
     "output_type": "error",
     "traceback": [
      "\u001b[0;31m---------------------------------------------------------------------------\u001b[0m",
      "\u001b[0;31mKeyError\u001b[0m                                  Traceback (most recent call last)",
      "Cell \u001b[0;32mIn[29], line 28\u001b[0m\n\u001b[1;32m     26\u001b[0m         \u001b[38;5;28mprint\u001b[39m(name)\n\u001b[1;32m     27\u001b[0m         \u001b[38;5;28mprint\u001b[39m(e[name])\n\u001b[0;32m---> 28\u001b[0m         e[name] \u001b[38;5;241m=\u001b[39m \u001b[43mname_entry\u001b[49m\u001b[43m(\u001b[49m\u001b[43me\u001b[49m\u001b[43m[\u001b[49m\u001b[43mname\u001b[49m\u001b[43m]\u001b[49m\u001b[43m)\u001b[49m\n\u001b[1;32m     30\u001b[0m     dummy[e[\u001b[38;5;124m'\u001b[39m\u001b[38;5;124mlabel\u001b[39m\u001b[38;5;124m'\u001b[39m]] \u001b[38;5;241m=\u001b[39m e\n\u001b[1;32m     32\u001b[0m \u001b[38;5;28mprint\u001b[39m(dummy)\n",
      "Cell \u001b[0;32mIn[29], line 15\u001b[0m, in \u001b[0;36mname_entry\u001b[0;34m(data, value, key)\u001b[0m\n\u001b[1;32m     13\u001b[0m \u001b[38;5;28;01melif\u001b[39;00m \u001b[38;5;28misinstance\u001b[39m(data,\u001b[38;5;28mdict\u001b[39m):\n\u001b[1;32m     14\u001b[0m     \u001b[38;5;28;01mif\u001b[39;00m \u001b[38;5;124m'\u001b[39m\u001b[38;5;124mid\u001b[39m\u001b[38;5;124m'\u001b[39m \u001b[38;5;129;01min\u001b[39;00m data:\n\u001b[0;32m---> 15\u001b[0m         \u001b[38;5;28;01mreturn\u001b[39;00m {\u001b[43mdata\u001b[49m\u001b[43m[\u001b[49m\u001b[43mkey\u001b[49m\u001b[43m]\u001b[49m:data[value]}\n\u001b[1;32m     16\u001b[0m     \u001b[38;5;28;01melse\u001b[39;00m:\n\u001b[1;32m     17\u001b[0m         \u001b[38;5;28;01mreturn\u001b[39;00m {entry: data[entry][value] \u001b[38;5;28;01mfor\u001b[39;00m entry \u001b[38;5;129;01min\u001b[39;00m data}\n",
      "\u001b[0;31mKeyError\u001b[0m: 'label'"
     ]
    }
   ],
   "source": [
    "def get_entry(data,entry='label'):\n",
    "    if isinstance(data,dict):\n",
    "        if 'id' in data:\n",
    "            return [data[entry]]\n",
    "        else:\n",
    "            data = list(data.values())\n",
    "    return [i.get(entry) for i in data]\n",
    "\n",
    "def name_entry(data,value = 'description', key='label'):\n",
    "    if isinstance(data,list):\n",
    "        return {entry[key]: entry[value] for entry in data}\n",
    "    \n",
    "    elif isinstance(data,dict):\n",
    "        if 'id' in data:\n",
    "            return {data[key]:data[value]}\n",
    "        else:\n",
    "            return {entry: data[entry][value] for entry in data}\n",
    "        \n",
    "        \n",
    "\n",
    "data = result[::]\n",
    "dummy = {}\n",
    "for e in data:\n",
    "    print(e.keys())\n",
    "    for name in ['model_realms','activity','parent_experiment','parent_activity','sub_experiment']:\n",
    "        print(name)\n",
    "        print(e[name])\n",
    "        e[name] = name_entry(e[name])\n",
    "        \n",
    "    dummy[e['label']] = e\n",
    "    \n",
    "print(dummy)\n"
   ]
  },
  {
   "cell_type": "code",
   "execution_count": null,
   "metadata": {},
   "outputs": [],
   "source": [
    "# url = cmipld.processor.resolve_prefix(file)\n",
    "\n",
    "# loads the experiments graph and relevant dependancies. \n",
    "cmipld.processor.clear_cache()\n",
    "\n",
    "es_data = {}\n",
    "\n",
    "for value in ['experiment', 'source']:\n",
    "    es_data[value] = cmipld.processor.EmbeddedFrame(f'{io_url}experiment/graph.jsonld') \n",
    "    \n",
    "    ct = es_data[value].context\n",
    "    ct['model_realms'] = {'@context': \n",
    "   \n",
    "        {\n",
    "            \"@vocab\":\"https://wcrp-cmip.github.io/WCRP-universe/source-type/\",\n",
    "            \"@base\":\"https://wcrp-cmip.github.io/WCRP-universe/source-type/\",\n",
    "            # \"is_required\":{\"@value\":'hello'},\n",
    "            \n",
    "            },\n",
    "'@container': '@set'\n",
    "# \"@type\":\"@id\"\n",
    "    }\n",
    "    \n",
    "    \n",
    "    # result = es_data[value].frame({'@type':[f'wcrp:{value}'],'@id':f'{io_url}experiment/abrupt-4xco2','@context':[es_data[value].context ], 'model_realms':{\"is_required\":{\"@embed\": \"@never\"}}})\n",
    "    \n",
    "    # '@id':f'{io_url}experiment/abrupt-4xco2'\n",
    "    result = es_data[value].frame({'@type':[f'wcrp:{value}'],'@id':f'{io_url}experiment/abrupt-4xco2','@context':ct, 'model_realms':{\"is_required\":{\"@embed\": \"@never\"}}})\n",
    "    \n",
    "    a = es_data[value]\n",
    "    break\n",
    "\n",
    "result"
   ]
  },
  {
   "cell_type": "code",
   "execution_count": null,
   "metadata": {},
   "outputs": [],
   "source": [
    "CV"
   ]
  },
  {
   "cell_type": "code",
   "execution_count": 91,
   "metadata": {},
   "outputs": [],
   "source": [
    "# e1 = exp[1]\n",
    "# # del e1['id'], e1['type']\n",
    "# for k,v in e1.items():\n",
    "#     if isinstance(v,dict) and 'type' in v:\n",
    "#         print(k)\n",
    "#         e1[k] = v['label']\n",
    "# e1\n"
   ]
  },
  {
   "cell_type": "code",
   "execution_count": null,
   "metadata": {},
   "outputs": [],
   "source": [
    "ls \n"
   ]
  },
  {
   "cell_type": "code",
   "execution_count": null,
   "metadata": {},
   "outputs": [],
   "source": []
  }
 ],
 "metadata": {
  "kernelspec": {
   "display_name": "base",
   "language": "python",
   "name": "python3"
  },
  "language_info": {
   "codemirror_mode": {
    "name": "ipython",
    "version": 3
   },
   "file_extension": ".py",
   "mimetype": "text/x-python",
   "name": "python",
   "nbconvert_exporter": "python",
   "pygments_lexer": "ipython3",
   "version": "3.10.10"
  }
 },
 "nbformat": 4,
 "nbformat_minor": 2
}
