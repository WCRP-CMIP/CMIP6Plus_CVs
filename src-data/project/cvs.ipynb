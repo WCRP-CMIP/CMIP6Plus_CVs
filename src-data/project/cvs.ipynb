{
 "cells": [
  {
   "cell_type": "code",
   "execution_count": 13,
   "metadata": {},
   "outputs": [
    {
     "name": "stdout",
     "output_type": "stream",
     "text": [
      "make test for url2io\n",
      "--------------------------------------------------\n",
      "Parsing repo: cmip6plus\n",
      "Location: https://github.com/WCRP-CMIP/CMIP6Plus_CVs\n",
      "Github IO link: https://wcrp-cmip.github.io/CMIP6Plus_CVs/\n",
      "--------------------------------------------------\n"
     ]
    }
   ],
   "source": [
    "import cmipld\n",
    "import importlib,json\n",
    "from collections import OrderedDict\n",
    "\n",
    "\n",
    "repo_url = cmipld.utils.git.url()\n",
    "io_url = cmipld.utils.git.url2io(repo_url)\n",
    "\n",
    "branch = cmipld.utils.git.getbranch()\n",
    "repopath = cmipld.utils.git.toplevel()\n",
    "\n",
    "whoami = cmipld.reverse_mapping()[io_url]\n",
    "print('-'*50)\n",
    "print(f'Parsing repo: {whoami}')\n",
    "print(f'Location: {repo_url}')\n",
    "print(f'Github IO link: {io_url}')\n",
    "print('-'*50)\n",
    "\n",
    "'''\n",
    "To keep this set of functions generic, we create separate files containing all relevant functions for a repository to be processed. \n",
    "When running this script we determine the parent repository, and consequently its prefix. This is then used to grab all relevant functions for processing. \n",
    "\n",
    "Example usage: getattr(this,'activity')({'activity':[{\"label\":1,\"id\":'one'}]})\n",
    "\n",
    "'''\n",
    "# Dynamically import the target module and assign it to a variable\n",
    "module_path = f\"cmipld.cvs.{whoami}\" # go to CMIPLD/CVs/<value of whoami>.py for functions\n",
    "this = importlib.import_module(module_path)\n",
    "\n"
   ]
  },
  {
   "cell_type": "code",
   "execution_count": 2,
   "metadata": {},
   "outputs": [
    {
     "name": "stderr",
     "output_type": "stream",
     "text": [
      "Cloning into '/var/folders/hc/s_7lggq12nndglbdyrn3f91m1l58yd/T/cmipld_local_ojhs5nng2025-02-26T19:17:17/universal'...\n"
     ]
    },
    {
     "name": "stdout",
     "output_type": "stream",
     "text": [
      "https://wcrp-cmip.github.io/WCRP-universe/ universal /var/folders/hc/s_7lggq12nndglbdyrn3f91m1l58yd/T/cmipld_local_ojhs5nng2025-02-26T19:17:17\n",
      "\n",
      "\n",
      "https://wcrp-cmip.github.io/MIP-variables/ variables /var/folders/hc/s_7lggq12nndglbdyrn3f91m1l58yd/T/cmipld_local_ojhs5nng2025-02-26T19:17:17\n"
     ]
    },
    {
     "name": "stderr",
     "output_type": "stream",
     "text": [
      "Cloning into '/var/folders/hc/s_7lggq12nndglbdyrn3f91m1l58yd/T/cmipld_local_ojhs5nng2025-02-26T19:17:17/variables'...\n"
     ]
    },
    {
     "name": "stdout",
     "output_type": "stream",
     "text": [
      "\n",
      "\n",
      "https://wcrp-cmip.github.io/CMIP6Plus_CVs/ cmip6plus /var/folders/hc/s_7lggq12nndglbdyrn3f91m1l58yd/T/cmipld_local_ojhs5nng2025-02-26T19:17:17\n"
     ]
    },
    {
     "name": "stderr",
     "output_type": "stream",
     "text": [
      "Cloning into '/var/folders/hc/s_7lggq12nndglbdyrn3f91m1l58yd/T/cmipld_local_ojhs5nng2025-02-26T19:17:17/cmip6plus'...\n"
     ]
    },
    {
     "name": "stdout",
     "output_type": "stream",
     "text": [
      "\n",
      "\n",
      "Repositories cloned into <TemporaryDirectory '/var/folders/hc/s_7lggq12nndglbdyrn3f91m1l58yd/T/cmipld_local_ojhs5nng2025-02-26T19:17:17'>\n",
      "Copying the repo into LocalServer  /Users/daniel.ellis/WIPwork/CMIP6Plus_CVs/src-data/ --> cmip6plus\n",
      "Repositories copied into <TemporaryDirectory '/var/folders/hc/s_7lggq12nndglbdyrn3f91m1l58yd/T/cmipld_local_ojhs5nng2025-02-26T19:17:17'>\n"
     ]
    },
    {
     "name": "stderr",
     "output_type": "stream",
     "text": [
      "........+...+.+++++++++++++++++++++++++++++++++++++++++++++*...+......+.+...............+...+++++++++++++++++++++++++++++++++++++++++++++*...........+.+..................+.........+.....+.............+........................+........+...+....+........+...+...+....+......+..+.......+....................+......+....+............+......+...+.....+......+...+.+..+...+................+.....+................+..+.+...........+....+..+...+..........+.....................+.....+...+..........+.....+..........+..+.............+..+...............+....+.....+................+........+.+..............+...+............+......+...............+....+...+.....+.........................+..+.+.....+.+..............+......+....+.....+...................+..+.........+.........+..............................+.+.........+.....................+......+...+.....+......+....+........+.......+..+...+............+....+......+......+..+.+.....+......................+.........+......+..+...+....+...+......+.................+....+.....+....+"
     ]
    },
    {
     "name": "stdout",
     "output_type": "stream",
     "text": [
      "Created SSL certificates in: /var/folders/hc/s_7lggq12nndglbdyrn3f91m1l58yd/T/cmipld_local_ojhs5nng2025-02-26T19:17:17\n",
      "Serving /var/folders/hc/s_7lggq12nndglbdyrn3f91m1l58yd/T/cmipld_local_ojhs5nng2025-02-26T19:17:17 at https://localhost:8089\n"
     ]
    },
    {
     "name": "stderr",
     "output_type": "stream",
     "text": [
      "..+...+.+...+.....+.......+......+...+.....................+++++\n",
      ".+......+......+...+......+.+........+++++++++++++++++++++++++++++++++++++++++++++*........+.........+...+.................+......................+...+..+....+.....+......+.+..+.+..+....+...+..+.+........+....+..+......+.......+...+............+..+...+.......+...+.....+......+.+...+......+.....+.......+...+..+...+......+...+...+.............+.........+..+.+.........+.........+..+..................+.+........+.+......+.....+...+......+....+...+..+...+...+..........+.....+....+...+..+...+.......+..+......+.......+.....+.+...........+.+........+.+.....+.+..+++++++++++++++++++++++++++++++++++++++++++++*..........+..+................+.....+....+............+...+......+.....+.+......+...+.....+.......+........+....+........+..........+.....+.......+..+.............+......+..+.........+....+...........+...+...+....+...+.....+...+.......+...+...+..+++++\n",
      "-----\n"
     ]
    }
   ],
   "source": [
    "# Set up offline override for the current repository\n",
    "\n",
    "from cmipld.utils.offline import LD_server\n",
    "\n",
    "ldpath = cmipld.utils.git.ldpath()\n",
    "\n",
    "\n",
    "# create a temporary directory containing (a copy of) the current repository\n",
    "# localserver = LD_server(copy = [[ldpath,'current_repo']])\n",
    "repos= { \n",
    "        'https://wcrp-cmip.github.io/WCRP-universe/': 'universal',\n",
    "        'https://wcrp-cmip.github.io/MIP-variables/': 'variables',\n",
    "        'https://wcrp-cmip.github.io/CMIP6Plus_CVs/': 'cmip6plus'\n",
    "        }\n",
    "\n",
    "localserver = LD_server(repos = repos.items(),copy = [[ldpath,whoami]],override='y')\n",
    "\n",
    "# localserver = LD_server(copy = [[ldpath,'cmip6plus']])\n",
    "\n",
    "\n",
    "localhost = localserver.start_server(8089)\n"
   ]
  },
  {
   "cell_type": "code",
   "execution_count": 3,
   "metadata": {},
   "outputs": [
    {
     "name": "stdout",
     "output_type": "stream",
     "text": [
      "Setting up location forwarding for:\n",
      " -  https://wcrp-cmip.github.io/WCRP-universe/ >>> https://localhost:8089/universal/ \n",
      "\n",
      " -  https://wcrp-cmip.github.io/MIP-variables/ >>> https://localhost:8089/variables/ \n",
      "\n",
      " -  https://wcrp-cmip.github.io/CMIP6Plus_CVs/ >>> https://localhost:8089/cmip6plus/ \n",
      "\n"
     ]
    }
   ],
   "source": [
    "cmipld.processor.replace_loader(localhost,[list(i) for i in repos.items()]) "
   ]
  },
  {
   "cell_type": "code",
   "execution_count": 4,
   "metadata": {},
   "outputs": [],
   "source": [
    "\n",
    "CV = OrderedDict()\n",
    "cmipld.processor.clear_cache()\n",
    "\n",
    "\n",
    "es_data = {}"
   ]
  },
  {
   "cell_type": "code",
   "execution_count": 5,
   "metadata": {},
   "outputs": [
    {
     "name": "stderr",
     "output_type": "stream",
     "text": [
      "127.0.0.1 - - [26/Feb/2025 19:17:20] \"GET /cmip6plus/project/graph.jsonld HTTP/1.1\" 200 -\n",
      "127.0.0.1 - - [26/Feb/2025 19:17:20] \"GET /universal/activity/_context_ HTTP/1.1\" 200 -\n",
      "127.0.0.1 - - [26/Feb/2025 19:17:20] \"GET /universal/_context_ HTTP/1.1\" 200 -\n",
      "127.0.0.1 - - [26/Feb/2025 19:17:20] \"GET /universal/license/_context_ HTTP/1.1\" 200 -\n",
      "127.0.0.1 - - [26/Feb/2025 19:17:20] \"GET /universal/mip/_context_ HTTP/1.1\" 200 -\n",
      "127.0.0.1 - - [26/Feb/2025 19:17:20] \"GET /universal/resolution/_context_ HTTP/1.1\" 200 -\n",
      "127.0.0.1 - - [26/Feb/2025 19:17:20] \"GET /universal/product/_context_ HTTP/1.1\" 200 -\n",
      "127.0.0.1 - - [26/Feb/2025 19:17:20] \"GET /variables/tables/_context_ HTTP/1.1\" 200 -\n",
      "127.0.0.1 - - [26/Feb/2025 19:17:20] \"GET /variables/_context_ HTTP/1.1\" 200 -\n",
      "127.0.0.1 - - [26/Feb/2025 19:17:20] \"GET /variables/variables/_context_ HTTP/1.1\" 200 -\n",
      "127.0.0.1 - - [26/Feb/2025 19:17:21] \"GET /variables/tables/graph.jsonld HTTP/1.1\" 200 -\n",
      "127.0.0.1 - - [26/Feb/2025 19:17:21] \"GET /cmip6plus/project/graph.jsonld HTTP/1.1\" 200 -\n",
      "127.0.0.1 - - [26/Feb/2025 19:17:21] \"GET /universal/product/graph.jsonld HTTP/1.1\" 200 -\n",
      "127.0.0.1 - - [26/Feb/2025 19:17:21] \"GET /universal/license/graph.jsonld HTTP/1.1\" 200 -\n",
      "127.0.0.1 - - [26/Feb/2025 19:17:21] \"GET /universal/activity/graph.jsonld HTTP/1.1\" 200 -\n",
      "127.0.0.1 - - [26/Feb/2025 19:17:21] \"GET /universal/product/_context_ HTTP/1.1\" 200 -\n",
      "127.0.0.1 - - [26/Feb/2025 19:17:21] \"GET /universal/activity/_context_ HTTP/1.1\" 200 -\n",
      "127.0.0.1 - - [26/Feb/2025 19:17:21] \"GET /universal/mip/graph.jsonld HTTP/1.1\" 200 -\n",
      "127.0.0.1 - - [26/Feb/2025 19:17:21] \"GET /universal/license/_context_ HTTP/1.1\" 200 -\n",
      "127.0.0.1 - - [26/Feb/2025 19:17:21] \"GET /universal/mip/_context_ HTTP/1.1\" 200 -\n",
      "127.0.0.1 - - [26/Feb/2025 19:17:21] \"GET /universal/product/_context_ HTTP/1.1\" 200 -\n",
      "127.0.0.1 - - [26/Feb/2025 19:17:21] \"GET /variables/tables/_context_ HTTP/1.1\" 200 -\n",
      "127.0.0.1 - - [26/Feb/2025 19:17:21] \"GET /cmip6plus/project/_context_ HTTP/1.1\" 200 -\n",
      "127.0.0.1 - - [26/Feb/2025 19:17:21] \"GET /cmip6plus/_context_ HTTP/1.1\" 200 -\n",
      "127.0.0.1 - - [26/Feb/2025 19:17:21] \"GET /universal/activity/_context_ HTTP/1.1\" 200 -\n",
      "127.0.0.1 - - [26/Feb/2025 19:17:21] \"GET /universal/license/_context_ HTTP/1.1\" 200 -\n",
      "127.0.0.1 - - [26/Feb/2025 19:17:21] \"GET /universal/mip/_context_ HTTP/1.1\" 200 -\n",
      "127.0.0.1 - - [26/Feb/2025 19:17:21] \"GET /universal/product/_context_ HTTP/1.1\" 200 -\n",
      "127.0.0.1 - - [26/Feb/2025 19:17:21] \"GET /variables/tables/_context_ HTTP/1.1\" 200 -\n",
      "127.0.0.1 - - [26/Feb/2025 19:17:21] \"GET /cmip6plus/project/_context_ HTTP/1.1\" 200 -\n",
      "127.0.0.1 - - [26/Feb/2025 19:17:21] \"GET /universal/mip/_context_ HTTP/1.1\" 200 -\n",
      "127.0.0.1 - - [26/Feb/2025 19:17:21] \"GET /universal/activity/_context_ HTTP/1.1\" 200 -\n",
      "127.0.0.1 - - [26/Feb/2025 19:17:21] \"GET /universal/license/_context_ HTTP/1.1\" 200 -\n",
      "127.0.0.1 - - [26/Feb/2025 19:17:21] \"GET /universal/mip/_context_ HTTP/1.1\" 200 -\n",
      "127.0.0.1 - - [26/Feb/2025 19:17:21] \"GET /universal/product/_context_ HTTP/1.1\" 200 -\n",
      "127.0.0.1 - - [26/Feb/2025 19:17:21] \"GET /variables/tables/_context_ HTTP/1.1\" 200 -\n",
      "127.0.0.1 - - [26/Feb/2025 19:17:21] \"GET /cmip6plus/project/_context_ HTTP/1.1\" 200 -\n",
      "127.0.0.1 - - [26/Feb/2025 19:17:21] \"GET /universal/license/_context_ HTTP/1.1\" 200 -\n",
      "127.0.0.1 - - [26/Feb/2025 19:17:21] \"GET /universal/activity/_context_ HTTP/1.1\" 200 -\n",
      "127.0.0.1 - - [26/Feb/2025 19:17:22] \"GET /universal/license/_context_ HTTP/1.1\" 200 -\n",
      "127.0.0.1 - - [26/Feb/2025 19:17:22] \"GET /universal/mip/_context_ HTTP/1.1\" 200 -\n",
      "127.0.0.1 - - [26/Feb/2025 19:17:22] \"GET /universal/product/_context_ HTTP/1.1\" 200 -\n",
      "127.0.0.1 - - [26/Feb/2025 19:17:22] \"GET /variables/tables/_context_ HTTP/1.1\" 200 -\n",
      "127.0.0.1 - - [26/Feb/2025 19:17:22] \"GET /cmip6plus/project/_context_ HTTP/1.1\" 200 -\n",
      "127.0.0.1 - - [26/Feb/2025 19:17:22] \"GET /universal/activity/_context_ HTTP/1.1\" 200 -\n",
      "127.0.0.1 - - [26/Feb/2025 19:17:22] \"GET /universal/activity/_context_ HTTP/1.1\" 200 -\n",
      "127.0.0.1 - - [26/Feb/2025 19:17:22] \"GET /universal/license/_context_ HTTP/1.1\" 200 -\n",
      "127.0.0.1 - - [26/Feb/2025 19:17:22] \"GET /universal/mip/_context_ HTTP/1.1\" 200 -\n",
      "127.0.0.1 - - [26/Feb/2025 19:17:22] \"GET /universal/product/_context_ HTTP/1.1\" 200 -\n",
      "127.0.0.1 - - [26/Feb/2025 19:17:22] \"GET /variables/tables/_context_ HTTP/1.1\" 200 -\n",
      "127.0.0.1 - - [26/Feb/2025 19:17:22] \"GET /cmip6plus/project/_context_ HTTP/1.1\" 200 -\n",
      "127.0.0.1 - - [26/Feb/2025 19:17:22] \"GET /universal/activity/_context_ HTTP/1.1\" 200 -\n",
      "127.0.0.1 - - [26/Feb/2025 19:17:22] \"GET /universal/license/_context_ HTTP/1.1\" 200 -\n",
      "127.0.0.1 - - [26/Feb/2025 19:17:22] \"GET /universal/mip/_context_ HTTP/1.1\" 200 -\n",
      "127.0.0.1 - - [26/Feb/2025 19:17:22] \"GET /universal/product/_context_ HTTP/1.1\" 200 -\n",
      "127.0.0.1 - - [26/Feb/2025 19:17:22] \"GET /variables/tables/_context_ HTTP/1.1\" 200 -\n",
      "127.0.0.1 - - [26/Feb/2025 19:17:22] \"GET /cmip6plus/project/_context_ HTTP/1.1\" 200 -\n",
      "127.0.0.1 - - [26/Feb/2025 19:17:22] \"GET /universal/product/_context_ HTTP/1.1\" 200 -\n",
      "127.0.0.1 - - [26/Feb/2025 19:17:22] \"GET /universal/activity/_context_ HTTP/1.1\" 200 -\n",
      "127.0.0.1 - - [26/Feb/2025 19:17:22] \"GET /universal/license/_context_ HTTP/1.1\" 200 -\n",
      "127.0.0.1 - - [26/Feb/2025 19:17:22] \"GET /universal/mip/_context_ HTTP/1.1\" 200 -\n",
      "127.0.0.1 - - [26/Feb/2025 19:17:22] \"GET /universal/product/_context_ HTTP/1.1\" 200 -\n",
      "127.0.0.1 - - [26/Feb/2025 19:17:22] \"GET /variables/tables/_context_ HTTP/1.1\" 200 -\n",
      "127.0.0.1 - - [26/Feb/2025 19:17:22] \"GET /cmip6plus/project/_context_ HTTP/1.1\" 200 -\n",
      "127.0.0.1 - - [26/Feb/2025 19:17:22] \"GET /universal/activity/_context_ HTTP/1.1\" 200 -\n",
      "127.0.0.1 - - [26/Feb/2025 19:17:22] \"GET /universal/license/_context_ HTTP/1.1\" 200 -\n",
      "127.0.0.1 - - [26/Feb/2025 19:17:22] \"GET /universal/mip/_context_ HTTP/1.1\" 200 -\n",
      "127.0.0.1 - - [26/Feb/2025 19:17:22] \"GET /universal/product/_context_ HTTP/1.1\" 200 -\n",
      "127.0.0.1 - - [26/Feb/2025 19:17:22] \"GET /variables/tables/_context_ HTTP/1.1\" 200 -\n",
      "127.0.0.1 - - [26/Feb/2025 19:17:22] \"GET /cmip6plus/project/_context_ HTTP/1.1\" 200 -\n",
      "127.0.0.1 - - [26/Feb/2025 19:17:22] \"GET /variables/tables/_context_ HTTP/1.1\" 200 -\n",
      "127.0.0.1 - - [26/Feb/2025 19:17:22] \"GET /universal/product/_context_ HTTP/1.1\" 200 -\n",
      "127.0.0.1 - - [26/Feb/2025 19:17:22] \"GET /universal/activity/_context_ HTTP/1.1\" 200 -\n",
      "127.0.0.1 - - [26/Feb/2025 19:17:22] \"GET /universal/license/_context_ HTTP/1.1\" 200 -\n",
      "127.0.0.1 - - [26/Feb/2025 19:17:22] \"GET /universal/mip/_context_ HTTP/1.1\" 200 -\n",
      "127.0.0.1 - - [26/Feb/2025 19:17:22] \"GET /universal/product/_context_ HTTP/1.1\" 200 -\n",
      "127.0.0.1 - - [26/Feb/2025 19:17:22] \"GET /variables/tables/_context_ HTTP/1.1\" 200 -\n",
      "127.0.0.1 - - [26/Feb/2025 19:17:22] \"GET /cmip6plus//project/index-list.json HTTP/1.1\" 200 -\n",
      "127.0.0.1 - - [26/Feb/2025 19:17:22] \"GET /cmip6plus//project/_context_ HTTP/1.1\" 200 -\n",
      "127.0.0.1 - - [26/Feb/2025 19:17:22] \"GET /cmip6plus//_context_ HTTP/1.1\" 200 -\n",
      "127.0.0.1 - - [26/Feb/2025 19:17:22] \"GET /cmip6plus/project/_context_ HTTP/1.1\" 200 -\n",
      "127.0.0.1 - - [26/Feb/2025 19:17:22] \"GET /universal/realm/graph.jsonld HTTP/1.1\" 200 -\n",
      "127.0.0.1 - - [26/Feb/2025 19:17:22] \"GET /universal/realm/graph.jsonld HTTP/1.1\" 200 -\n",
      "127.0.0.1 - - [26/Feb/2025 19:17:22] \"GET /universal/frequency/graph.jsonld HTTP/1.1\" 200 -\n",
      "127.0.0.1 - - [26/Feb/2025 19:17:23] \"GET /universal/frequency/graph.jsonld HTTP/1.1\" 200 -\n",
      "127.0.0.1 - - [26/Feb/2025 19:17:23] \"GET /cmip6plus/experiment/graph.jsonld HTTP/1.1\" 200 -\n",
      "127.0.0.1 - - [26/Feb/2025 19:17:23] \"GET /universal/source-type/_context_ HTTP/1.1\" 200 -\n",
      "127.0.0.1 - - [26/Feb/2025 19:17:23] \"GET /cmip6plus/experiment/_context_ HTTP/1.1\" 200 -\n",
      "127.0.0.1 - - [26/Feb/2025 19:17:23] \"GET /cmip6plus/sub-experiment/_context_ HTTP/1.1\" 200 -\n",
      "127.0.0.1 - - [26/Feb/2025 19:17:23] \"GET /universal/activity/_context_ HTTP/1.1\" 200 -\n",
      "127.0.0.1 - - [26/Feb/2025 19:17:23] \"GET /universal/activity/graph.jsonld HTTP/1.1\" 200 -\n",
      "127.0.0.1 - - [26/Feb/2025 19:17:23] \"GET /cmip6plus/experiment/graph.jsonld HTTP/1.1\" 200 -\n",
      "127.0.0.1 - - [26/Feb/2025 19:17:23] \"GET /universal/source-type/graph.jsonld HTTP/1.1\" 200 -\n",
      "127.0.0.1 - - [26/Feb/2025 19:17:23] \"GET /universal/activity/_context_ HTTP/1.1\" 200 -\n",
      "127.0.0.1 - - [26/Feb/2025 19:17:23] \"GET /universal/source-type/_context_ HTTP/1.1\" 200 -\n",
      "127.0.0.1 - - [26/Feb/2025 19:17:23] \"GET /cmip6plus/experiment/_context_ HTTP/1.1\" 200 -\n",
      "127.0.0.1 - - [26/Feb/2025 19:17:23] \"GET /cmip6plus/sub-experiment/_context_ HTTP/1.1\" 200 -\n",
      "127.0.0.1 - - [26/Feb/2025 19:17:23] \"GET /cmip6plus/experiment/_context_ HTTP/1.1\" 200 -\n",
      "127.0.0.1 - - [26/Feb/2025 19:17:23] \"GET /universal/activity/_context_ HTTP/1.1\" 200 -\n",
      "127.0.0.1 - - [26/Feb/2025 19:17:23] \"GET /universal/source-type/_context_ HTTP/1.1\" 200 -\n",
      "127.0.0.1 - - [26/Feb/2025 19:17:23] \"GET /universal/activity/_context_ HTTP/1.1\" 200 -\n",
      "127.0.0.1 - - [26/Feb/2025 19:17:23] \"GET /universal/source-type/_context_ HTTP/1.1\" 200 -\n",
      "127.0.0.1 - - [26/Feb/2025 19:17:23] \"GET /cmip6plus/experiment/_context_ HTTP/1.1\" 200 -\n",
      "127.0.0.1 - - [26/Feb/2025 19:17:23] \"GET /cmip6plus/source/graph.jsonld HTTP/1.1\" 200 -\n",
      "127.0.0.1 - - [26/Feb/2025 19:17:23] \"GET /universal/organisation/_context_ HTTP/1.1\" 200 -\n",
      "127.0.0.1 - - [26/Feb/2025 19:17:23] \"GET /universal/activity/_context_ HTTP/1.1\" 200 -\n",
      "127.0.0.1 - - [26/Feb/2025 19:17:23] \"GET /universal/license/_context_ HTTP/1.1\" 200 -\n",
      "127.0.0.1 - - [26/Feb/2025 19:17:23] \"GET /universal/organisation/graph.jsonld HTTP/1.1\" 200 -\n",
      "127.0.0.1 - - [26/Feb/2025 19:17:24] \"GET /universal/activity/graph.jsonld HTTP/1.1\" 200 -\n",
      "127.0.0.1 - - [26/Feb/2025 19:17:24] \"GET /universal/license/graph.jsonld HTTP/1.1\" 200 -\n",
      "127.0.0.1 - - [26/Feb/2025 19:17:24] \"GET /cmip6plus/source/graph.jsonld HTTP/1.1\" 200 -\n",
      "127.0.0.1 - - [26/Feb/2025 19:17:24] \"GET /universal/activity/_context_ HTTP/1.1\" 200 -\n",
      "127.0.0.1 - - [26/Feb/2025 19:17:24] \"GET /universal/license/_context_ HTTP/1.1\" 200 -\n",
      "127.0.0.1 - - [26/Feb/2025 19:17:24] \"GET /universal/organisation/_context_ HTTP/1.1\" 200 -\n",
      "127.0.0.1 - - [26/Feb/2025 19:17:24] \"GET /cmip6plus/source/_context_ HTTP/1.1\" 200 -\n",
      "127.0.0.1 - - [26/Feb/2025 19:17:24] \"GET /universal/license/_context_ HTTP/1.1\" 200 -\n",
      "127.0.0.1 - - [26/Feb/2025 19:17:24] \"GET /universal/organisation/_context_ HTTP/1.1\" 200 -\n",
      "127.0.0.1 - - [26/Feb/2025 19:17:24] \"GET /universal/activity/_context_ HTTP/1.1\" 200 -\n",
      "127.0.0.1 - - [26/Feb/2025 19:17:24] \"GET /universal/license/_context_ HTTP/1.1\" 200 -\n",
      "127.0.0.1 - - [26/Feb/2025 19:17:24] \"GET /universal/organisation/_context_ HTTP/1.1\" 200 -\n",
      "127.0.0.1 - - [26/Feb/2025 19:17:24] \"GET /cmip6plus/source/_context_ HTTP/1.1\" 200 -\n",
      "127.0.0.1 - - [26/Feb/2025 19:17:24] \"GET /universal/organisation/_context_ HTTP/1.1\" 200 -\n",
      "127.0.0.1 - - [26/Feb/2025 19:17:24] \"GET /universal/activity/_context_ HTTP/1.1\" 200 -\n",
      "127.0.0.1 - - [26/Feb/2025 19:17:24] \"GET /universal/license/_context_ HTTP/1.1\" 200 -\n",
      "127.0.0.1 - - [26/Feb/2025 19:17:24] \"GET /universal/organisation/_context_ HTTP/1.1\" 200 -\n"
     ]
    },
    {
     "name": "stdout",
     "output_type": "stream",
     "text": [
      "WARNING: Part of the loaded context contains a \"@container\" this may mean referenced items become nested in framing.\n",
      " Please check output - this is not     corrected for secondary nested items.\n",
      "[2] https://wcrp-cmip.github.io/CMIP6Plus_CVs/project ['https://wcrp-cmip.github.io/WCRP-universe/mip/graph.jsonld', 'https://wcrp-cmip.github.io/WCRP-universe/license/graph.jsonld', 'https://wcrp-cmip.github.io/CMIP6Plus_CVs/project/graph.jsonld', 'https://wcrp-cmip.github.io/WCRP-universe/product/graph.jsonld', 'https://wcrp-cmip.github.io/MIP-variables/tables/graph.jsonld', 'https://wcrp-cmip.github.io/WCRP-universe/activity/graph.jsonld']\n"
     ]
    },
    {
     "name": "stderr",
     "output_type": "stream",
     "text": [
      "100%|██████████| 6/6 [00:00<00:00, 53.22it/s]"
     ]
    },
    {
     "name": "stdout",
     "output_type": "stream",
     "text": [
      "repo\n"
     ]
    },
    {
     "name": "stderr",
     "output_type": "stream",
     "text": [
      "\n"
     ]
    },
    {
     "name": "stdout",
     "output_type": "stream",
     "text": [
      "mip-era\n",
      "license\n",
      "activity\n",
      "drs\n",
      "product\n",
      "required-global-attributes\n",
      "tables\n"
     ]
    }
   ],
   "source": [
    "\n",
    "\n",
    "es_data['project'] = project = cmipld.processor.EmbeddedFrame(f'{io_url}project/graph.jsonld') \n",
    "\n",
    "for item in [\n",
    "    'repo',\n",
    "    'mip-era',\n",
    "    'license',\n",
    "    'activity',\n",
    "    'drs',\n",
    "    'product',\n",
    "    'required-global-attributes',\n",
    "    'tables',\n",
    "    ]:\n",
    "    \n",
    "    print(item)\n",
    "    # CV[item] = getattr(locals(),item)\n",
    "    # ld  = cmipld.processor.expand_document(f'{io_url}project/{item}.json', depth=3)[0]\n",
    "    # functions may be autogenrated in (reponame).py under the CVs dir. \n",
    "    \n",
    "    result = project.frame({'id':f'{io_url}project/{item}-list'})\n",
    "    # from pprint import pprint \n",
    "    # pprint(result)\n",
    "    \n",
    "    # print(item,getattr(this,item))\n",
    "    \n",
    "    item = item.replace('-','_')\n",
    "    CV[item] = getattr(this,item)(result[0])\n",
    "    "
   ]
  },
  {
   "cell_type": "code",
   "execution_count": null,
   "metadata": {},
   "outputs": [],
   "source": []
  },
  {
   "cell_type": "code",
   "execution_count": 6,
   "metadata": {},
   "outputs": [
    {
     "name": "stdout",
     "output_type": "stream",
     "text": [
      "index\n"
     ]
    }
   ],
   "source": [
    "\n",
    "# adding the index properties\n",
    "print('index')\n",
    "CV.update(cmipld.processor.get(f'{io_url}/project/index-list.json')[0]['index'])"
   ]
  },
  {
   "cell_type": "code",
   "execution_count": 7,
   "metadata": {},
   "outputs": [
    {
     "name": "stdout",
     "output_type": "stream",
     "text": [
      "make a file for relevant realms and relevant realms\n",
      "realm\n",
      "frequency\n"
     ]
    }
   ],
   "source": [
    "print('make a file for relevant realms and relevant realms')\n",
    "\n",
    "for universe_item in ['realm','frequency']:\n",
    "    # 'grid-label''nominal'\n",
    "    print(universe_item)\n",
    "    path = f'{cmipld.mapping[\"universal\"]}{universe_item}/graph.jsonld'\n",
    "    ld  = cmipld.jsonld.compact(path,path)['@graph']\n",
    "    CV[universe_item] = getattr(this,universe_item)(ld)"
   ]
  },
  {
   "cell_type": "code",
   "execution_count": 8,
   "metadata": {},
   "outputs": [
    {
     "name": "stdout",
     "output_type": "stream",
     "text": [
      "make a file for relevant nominal resolution\n"
     ]
    }
   ],
   "source": [
    "# path = f'{cmipld.mapping[\"universal\"]}resolution/graph.jsonld'\n",
    "# data  = cmipld.jsonld.compact(path,path)['@graph']\n",
    "\n",
    "# CV['nominal_resolution'] = [f\"{r['value']} {r['unit']}\" for r in sorted(data, key=lambda x: float(x['value']) if x['value'].replace('.', '', 1).isdigit() else float('inf'))]\n",
    "\n",
    "print('make a file for relevant nominal resolution')"
   ]
  },
  {
   "cell_type": "code",
   "execution_count": 9,
   "metadata": {},
   "outputs": [
    {
     "name": "stdout",
     "output_type": "stream",
     "text": [
      "/Users/daniel.ellis/WIPwork/CMIP6Plus_CVs/src-data/ cmip6plus\n",
      "WARNING: Part of the loaded context contains a \"@container\" this may mean referenced items become nested in framing.\n",
      " Please check output - this is not     corrected for secondary nested items.\n",
      "[1] https://wcrp-cmip.github.io/CMIP6Plus_CVs/experiment ['https://wcrp-cmip.github.io/WCRP-universe/source-type/graph.jsonld', 'https://wcrp-cmip.github.io/CMIP6Plus_CVs/experiment/graph.jsonld', 'https://wcrp-cmip.github.io/WCRP-universe/activity/graph.jsonld']\n"
     ]
    },
    {
     "name": "stderr",
     "output_type": "stream",
     "text": [
      "100%|██████████| 3/3 [00:00<00:00, 29.07it/s]\n"
     ]
    },
    {
     "name": "stdout",
     "output_type": "stream",
     "text": [
      "{'id': 'cmip6plus:experiment/abrupt-4xco2', 'type': ['wcrp:experiment', 'cmip6plus'], 'activity': {'id': 'universal:activity/cmip', 'type': ['wcrp:activity', 'universal'], 'description': 'CMIP DECK: 1pctCO2, abrupt-4xCO2, amip, esm-piControl, esm-historical, historical, and piControl experiments', 'label': 'CMIP', 'url': 'https://gmd.copernicus.org/articles/9/1937/2016/gmd-9-1937-2016.pdf'}, 'description': 'DECK: abrupt-4xCO2', 'end': -999, 'label': 'abrupt-4xCO2', 'min_number_yrs_per_sim': 150, 'model_realms': [{'id': 'universal:source-type/aogcm', 'type': ['wcrp:source_type', 'universal'], 'description': 'coupled atmosphere-ocean global climate model, additionally including explicit representation of at least the land and sea ice', 'is_required': True, 'label': 'AOGCM'}, {'id': 'universal:source-type/aer', 'type': ['wcrp:source_type', 'universal'], 'description': 'aerosol treatment in an atmospheric model where concentrations are calculated based on emissions, transformation, and removal processes (rather than being prescribed or omitted entirely)', 'is_required': False, 'label': 'AER'}, {'id': 'universal:source-type/chem', 'type': ['wcrp:source_type', 'universal'], 'description': 'chemistry treatment in an atmospheric model that calculates atmospheric oxidant concentrations (including at least ozone), rather than prescribing them', 'is_required': False, 'label': 'CHEM'}, {'id': 'universal:source-type/bgc', 'type': ['wcrp:source_type', 'universal'], 'description': 'biogeochemistry model component that at the very least accounts for carbon reservoirs and fluxes in the atmosphere, terrestrial biosphere, and ocean', 'is_required': False, 'label': 'BGC'}], 'cmip6plus:experiment/parent_activity': 'cmip', 'parent_experiment': {'id': 'cmip6plus:experiment/picontrol', 'type': ['wcrp:experiment', 'cmip6plus'], 'activity': {'id': 'universal:activity/cmip', 'type': ['wcrp:activity', 'universal'], 'description': 'CMIP DECK: 1pctCO2, abrupt-4xCO2, amip, esm-piControl, esm-historical, historical, and piControl experiments', 'label': 'CMIP', 'url': 'https://gmd.copernicus.org/articles/9/1937/2016/gmd-9-1937-2016.pdf'}, 'description': 'DECK: control', 'end': -999, 'label': 'piControl', 'min_number_yrs_per_sim': 500, 'model_realms': [{'id': 'universal:source-type/aogcm', 'type': ['wcrp:source_type', 'universal'], 'description': 'coupled atmosphere-ocean global climate model, additionally including explicit representation of at least the land and sea ice', 'is_required': True, 'label': 'AOGCM'}, {'id': 'universal:source-type/aer', 'type': ['wcrp:source_type', 'universal'], 'description': 'aerosol treatment in an atmospheric model where concentrations are calculated based on emissions, transformation, and removal processes (rather than being prescribed or omitted entirely)', 'is_required': [False, True], 'label': 'AER'}, {'id': 'universal:source-type/chem', 'type': ['wcrp:source_type', 'universal'], 'description': 'chemistry treatment in an atmospheric model that calculates atmospheric oxidant concentrations (including at least ozone), rather than prescribing them', 'is_required': False, 'label': 'CHEM'}, {'id': 'universal:source-type/bgc', 'type': ['wcrp:source_type', 'universal'], 'description': 'biogeochemistry model component that at the very least accounts for carbon reservoirs and fluxes in the atmosphere, terrestrial biosphere, and ocean', 'is_required': [False, True], 'label': 'BGC'}], 'cmip6plus:experiment/parent_activity': 'cmip', 'parent_experiment': {'id': 'cmip6plus:experiment/picontrol-spinup', 'type': ['wcrp:experiment', 'cmip6plus'], 'activity': {'id': 'universal:activity/cmip', 'type': ['wcrp:activity', 'universal'], 'description': 'CMIP DECK: 1pctCO2, abrupt-4xCO2, amip, esm-piControl, esm-historical, historical, and piControl experiments', 'label': 'CMIP', 'url': 'https://gmd.copernicus.org/articles/9/1937/2016/gmd-9-1937-2016.pdf'}, 'description': 'DECK: spin-up portion of the control', 'end': -999, 'label': 'piControl-spinup', 'min_number_yrs_per_sim': 100, 'model_realms': [{'id': 'universal:source-type/aogcm', 'type': ['wcrp:source_type', 'universal'], 'description': 'coupled atmosphere-ocean global climate model, additionally including explicit representation of at least the land and sea ice', 'is_required': True, 'label': 'AOGCM'}, {'id': 'universal:source-type/aer', 'type': ['wcrp:source_type', 'universal'], 'description': 'aerosol treatment in an atmospheric model where concentrations are calculated based on emissions, transformation, and removal processes (rather than being prescribed or omitted entirely)', 'is_required': [False, True], 'label': 'AER'}, {'id': 'universal:source-type/chem', 'type': ['wcrp:source_type', 'universal'], 'description': 'chemistry treatment in an atmospheric model that calculates atmospheric oxidant concentrations (including at least ozone), rather than prescribing them', 'is_required': False, 'label': 'CHEM'}, {'id': 'universal:source-type/bgc', 'type': ['wcrp:source_type', 'universal'], 'description': 'biogeochemistry model component that at the very least accounts for carbon reservoirs and fluxes in the atmosphere, terrestrial biosphere, and ocean', 'is_required': [False, True], 'label': 'BGC'}], 'cmip6plus:experiment/parent_activity': 'none', 'parent_experiment': 'cmip6plus:experiment/none', 'start': -999, 'cmip6plus:experiment/sub_experiment': 'none', 'tier': 2}, 'start': -999, 'cmip6plus:experiment/sub_experiment': 'none', 'tier': 1}, 'start': -999, 'cmip6plus:experiment/sub_experiment': 'none', 'tier': 1}\n",
      "WARNING: Part of the loaded context contains a \"@container\" this may mean referenced items become nested in framing.\n",
      " Please check output - this is not     corrected for secondary nested items.\n",
      "[2] https://wcrp-cmip.github.io/CMIP6Plus_CVs/source ['https://wcrp-cmip.github.io/WCRP-universe/organisation/graph.jsonld', 'https://wcrp-cmip.github.io/WCRP-universe/license/graph.jsonld', 'https://wcrp-cmip.github.io/CMIP6Plus_CVs/source/graph.jsonld', 'https://wcrp-cmip.github.io/WCRP-universe/activity/graph.jsonld']\n"
     ]
    },
    {
     "name": "stderr",
     "output_type": "stream",
     "text": [
      "100%|██████████| 4/4 [00:00<00:00, 33.16it/s]\n"
     ]
    },
    {
     "name": "stdout",
     "output_type": "stream",
     "text": [
      "{'id': 'cmip6plus:source/cesm2', 'type': ['wcrp:source', 'cmip6plus'], 'cohort': 'Published', 'label': 'CESM2', 'label_extended': 'CESM2', 'license': [{'id': 'universal:license/cc-by-4.0', 'type': ['wcrp:license', 'universal'], 'exceptions_contact': '@ucar.edu <- cesm_cmip6', 'label': 'CC BY 4.0', 'long_label': 'Creative Commons Attribution 4.0 International', 'source_specific_info': '', 'url': 'https://creativecommons.org/licenses/by/4.0/'}], 'model_component': [{'id': 'cmip6plus:source/mam4', 'type': 'wcrp:model-component', 'codebase': '', 'component-family': 'mam', 'configuration': '', 'coupled-with': '', 'description': 'MAM4 (same grid as atmos)', 'embedded-in': '', 'label': 'MAM4', 'model-family': '', 'native-horizontal-grid': '', 'native-nominal-resolution': '100km', 'native-vertical-grid': '', 'realm': ['aerosol', 'atmoschem']}, {'id': 'cmip6plus:source/cam6', 'type': 'wcrp:model-component', 'codebase': '', 'component-family': 'cam', 'configuration': '', 'coupled-with': '', 'description': 'CAM6 (0.9x1.25 finite volume grid; 288 x 192 longitude/latitude; 32 levels; top level 2.25 mb)', 'embedded-in': '', 'label': 'CAM6', 'model-family': 'cam', 'native-horizontal-grid': '288 x 192 longitude/latitude', 'native-nominal-resolution': '100km', 'native-vertical-grid': '32 levels', 'realm': 'atmos'}, {'id': 'cmip6plus:source/clm5', 'type': 'wcrp:model-component', 'codebase': '', 'component-family': 'clm', 'configuration': '', 'coupled-with': '', 'description': 'CLM5 (same grid as atmos)', 'embedded-in': '', 'label': 'CLM5', 'model-family': '', 'native-horizontal-grid': '', 'native-nominal-resolution': '100km', 'native-vertical-grid': '', 'realm': 'land'}, {'id': 'cmip6plus:source/cism2p1', 'type': 'wcrp:model-component', 'codebase': '', 'component-family': 'cism', 'configuration': '', 'coupled-with': '', 'description': 'CISM2.1', 'embedded-in': '', 'label': 'CISM2.1', 'model-family': '', 'native-horizontal-grid': '', 'native-nominal-resolution': '5km', 'native-vertical-grid': '', 'realm': 'landice'}, {'id': 'cmip6plus:source/pop2', 'type': 'wcrp:model-component', 'codebase': '', 'component-family': 'pop', 'configuration': '', 'coupled-with': '', 'description': 'POP2 (320x384 longitude/latitude; 60 levels; top grid cell 0-10 m)', 'embedded-in': '', 'label': 'POP2', 'model-family': '', 'native-horizontal-grid': '320x384 longitude/latitude', 'native-nominal-resolution': '100km', 'native-vertical-grid': '60 levels', 'realm': 'ocean'}, {'id': 'cmip6plus:source/marbl', 'type': 'wcrp:model-component', 'codebase': '', 'component-family': 'marbl', 'configuration': '', 'coupled-with': '', 'description': 'MARBL (same grid as ocean)', 'embedded-in': '', 'label': 'MARBL', 'model-family': '', 'native-horizontal-grid': '', 'native-nominal-resolution': '100km', 'native-vertical-grid': '', 'realm': 'ocnbgchem'}, {'id': 'cmip6plus:source/cice5p1', 'type': 'wcrp:model-component', 'codebase': '', 'component-family': 'cice', 'configuration': '', 'coupled-with': '', 'description': 'CICE5.1 (same grid as ocean)', 'embedded-in': '', 'label': 'CICE5.1', 'model-family': '', 'native-horizontal-grid': '', 'native-nominal-resolution': '100km', 'native-vertical-grid': '', 'realm': 'seaice'}], 'organisation': {'id': 'universal:organisation/ncar', 'type': ['universal', 'wcrp:institution', 'wcrp:organisation'], 'acronyms': 'NCAR', 'established': 1930, 'kind': 'Facility', 'label': 'NCAR', 'location': {'id': 'universal:location/05cvfcr44', 'type': 'location', 'city': 'Boulder', 'country': ['United States', 'US'], 'lat': 40.01499, 'lon': 40.01499}, 'long_label': 'National Center for Atmospheric Research', 'ror': '05cvfcr44', 'url': 'https://ncar.ucar.edu/'}, 'release_year': '2018'}\n"
     ]
    }
   ],
   "source": [
    "# url = cmipld.processor.resolve_prefix(file)\n",
    "\n",
    "# loads the experiments graph and relevant dependancies. \n",
    "# cmipld.processor.clear_cache()\n",
    "# localserver.copy_existing_repos([[ldpath,whoami]],override=True)\n",
    "print(ldpath,whoami)\n",
    "\n",
    "es_data = {}\n",
    "\n",
    "for value in ['experiment', 'source']:\n",
    "    # print(value)\n",
    "    es_data[value] = cmipld.processor.EmbeddedFrame(f'{io_url}{value}/graph.jsonld') \n",
    "    result = es_data[value].frame({'@type':[f'wcrp:{value}']})\n",
    "    print(result[1])\n",
    "    CV[value] = getattr(this,value)(result)\n",
    "    \n",
    "    "
   ]
  },
  {
   "cell_type": "code",
   "execution_count": 10,
   "metadata": {},
   "outputs": [
    {
     "name": "stdout",
     "output_type": "stream",
     "text": [
      "organisations\n"
     ]
    }
   ],
   "source": [
    "org = getattr(this,'organisation')(es_data['source'].frame({'@type':f'wcrp:source',\"@explicit\":True, 'organisation':{}}))\n",
    "CV['institution_id'] = {k: v for d in org for k, v in d.items()}\n",
    "print('organisations')"
   ]
  },
  {
   "cell_type": "code",
   "execution_count": 11,
   "metadata": {},
   "outputs": [
    {
     "data": {
      "text/plain": [
       "{'CCCma': 'Environment and Climate Change Canada',\n",
       " 'NCAR': 'National Center for Atmospheric Research',\n",
       " 'universal:organisation/cnrm-cerfacs': None,\n",
       " 'universal:organisation/ec-earth-consortium': None,\n",
       " 'NASA-GISS': 'Goddard Institute for Space Studies',\n",
       " 'MOHC': 'Met Office',\n",
       " 'MIROC': 'MIROC Consortium',\n",
       " 'MPI-M': 'Max Planck Institute for Meteorology',\n",
       " 'MRI': 'Japan Meteorological Agency',\n",
       " 'NCC': 'NCC Consortium'}"
      ]
     },
     "execution_count": 11,
     "metadata": {},
     "output_type": "execute_result"
    }
   ],
   "source": [
    "CV['institution_id']"
   ]
  },
  {
   "cell_type": "code",
   "execution_count": null,
   "metadata": {},
   "outputs": [],
   "source": [
    "if branch == 'main':\n",
    "    print('remove existing CVs here. ')\n",
    "    outname = f'CVs/{repopath}/CV.json'\n",
    "    \n",
    "else:\n",
    "    outname = f'CVs/{repopath}/CV_{branch}.json'\n",
    "\n",
    "\n",
    "cmipld.utils.io.wjsn({\"CV\":CV}, outname)"
   ]
  },
  {
   "cell_type": "code",
   "execution_count": 12,
   "metadata": {},
   "outputs": [],
   "source": [
    "# import glob,json\n",
    "# files = glob.glob('../source/*.json')\n",
    "# print(files)\n",
    "\n",
    "# for f in files:\n",
    "#     print(f)\n",
    "#     data = json.load(open(f))\n",
    "#     data['organisation'] = [data['organisation'][0].split('/')[-1]]\n",
    "    \n",
    "#     json.dump(data,open(f,'w'),indent=4)\n",
    "\n",
    "# data"
   ]
  },
  {
   "cell_type": "code",
   "execution_count": null,
   "metadata": {},
   "outputs": [],
   "source": []
  }
 ],
 "metadata": {
  "kernelspec": {
   "display_name": "base",
   "language": "python",
   "name": "python3"
  },
  "language_info": {
   "codemirror_mode": {
    "name": "ipython",
    "version": 3
   },
   "file_extension": ".py",
   "mimetype": "text/x-python",
   "name": "python",
   "nbconvert_exporter": "python",
   "pygments_lexer": "ipython3",
   "version": "3.10.10"
  }
 },
 "nbformat": 4,
 "nbformat_minor": 2
}
