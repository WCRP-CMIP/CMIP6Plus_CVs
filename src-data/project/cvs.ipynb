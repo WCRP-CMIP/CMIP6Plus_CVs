{
 "cells": [
  {
   "cell_type": "code",
   "execution_count": 71,
   "metadata": {},
   "outputs": [],
   "source": [
    "import cmipld\n",
    "# from cmipld.utils.offline import LD_server, replace_loader\n",
    "from pyld import jsonld"
   ]
  },
  {
   "cell_type": "code",
   "execution_count": 3,
   "metadata": {},
   "outputs": [
    {
     "name": "stdout",
     "output_type": "stream",
     "text": [
      "make test for url2io\n",
      "--------------------------------------------------\n",
      "Parsing repo: cmip6plus\n",
      "Location: https://github.com/WCRP-CMIP/CMIP6Plus_CVs\n",
      "Github IO link: https://wcrp-cmip.github.io/CMIP6Plus_CVs/\n",
      "--------------------------------------------------\n"
     ]
    }
   ],
   "source": [
    "import cmipld\n",
    "import importlib\n",
    "\n",
    "\n",
    "repo_url = cmipld.utils.git.url()\n",
    "io_url = cmipld.utils.git.url2io(repo_url)\n",
    "\n",
    "whoami = cmipld.reverse_mapping()[io_url]\n",
    "print('-'*50)\n",
    "print(f'Parsing repo: {whoami}')\n",
    "print(f'Location: {repo_url}')\n",
    "print(f'Github IO link: {io_url}')\n",
    "print('-'*50)\n",
    "\n",
    "'''\n",
    "To keep this set of functions generic, we create separate files containing all relevant functions for a repository to be processed. \n",
    "When running this script we determine the parent repository, and consequently its prefix. This is then used to grab all relevant functions for processing. \n",
    "\n",
    "Example usage: getattr(this,'activity')({'activity':[{\"label\":1,\"id\":'one'}]})\n",
    "\n",
    "'''\n",
    "# Dynamically import the target module and assign it to a variable\n",
    "module_path = f\"cmipld.cvs.{whoami}\" # go to CMIPLD/CVs/<value of whoami>.py for functions\n",
    "this = importlib.import_module(module_path)\n",
    "\n"
   ]
  },
  {
   "cell_type": "code",
   "execution_count": 14,
   "metadata": {},
   "outputs": [
    {
     "name": "stderr",
     "output_type": "stream",
     "text": [
      "100%|██████████| 4/4 [00:00<00:00, 84.17it/s]\n"
     ]
    },
    {
     "data": {
      "text/plain": [
       "[{'id': 'universal:source-type/aogcm',\n",
       "  'type': ['wcrp:source_type', 'universal'],\n",
       "  'description': 'coupled atmosphere-ocean global climate model, additionally including explicit representation of at least the land and sea ice',\n",
       "  'universal:source-type/is_required#abrupt-4xco2': True,\n",
       "  'label': 'AOGCM'},\n",
       " {'id': 'universal:source-type/aer',\n",
       "  'type': ['wcrp:source_type', 'universal'],\n",
       "  'description': 'aerosol treatment in an atmospheric model where concentrations are calculated based on emissions, transformation, and removal processes (rather than being prescribed or omitted entirely)',\n",
       "  'universal:source-type/is_required#abrupt-4xco2': False,\n",
       "  'label': 'AER'},\n",
       " {'id': 'universal:source-type/chem',\n",
       "  'type': ['wcrp:source_type', 'universal'],\n",
       "  'description': 'chemistry treatment in an atmospheric model that calculates atmospheric oxidant concentrations (including at least ozone), rather than prescribing them',\n",
       "  'universal:source-type/is_required#abrupt-4xco2': False,\n",
       "  'label': 'CHEM'},\n",
       " {'id': 'universal:source-type/bgc',\n",
       "  'type': ['wcrp:source_type', 'universal'],\n",
       "  'description': 'biogeochemistry model component that at the very least accounts for carbon reservoirs and fluxes in the atmosphere, terrestrial biosphere, and ocean',\n",
       "  'universal:source-type/is_required#abrupt-4xco2': False,\n",
       "  'label': 'BGC'}]"
      ]
     },
     "execution_count": 14,
     "metadata": {},
     "output_type": "execute_result"
    }
   ],
   "source": [
    "# url = cmipld.processor.resolve_prefix(file)\n",
    "\n",
    "# loads the experiments graph and relevant dependancies. \n",
    "cmipld.processor.clear_cache()\n",
    "\n",
    "es_data = {}\n",
    "\n",
    "for value in ['experiment', 'source']:\n",
    "    es_data[value] = cmipld.processor.EmbeddedFrame(f'{io_url}experiment/graph.jsonld') \n",
    "    \n",
    "    result = es_data[value].frame({'@type':[f'wcrp:{value}'],'@id':f'{io_url}experiment/abrupt-4xco2','@context':[es_data[value].context_url , {\"@context\":{\"is_required#abrupt-4xco2\":'hello'}}]})\n",
    "    \n",
    "    a = es_data[value]\n",
    "    break\n",
    "\n",
    "result['model_realms']"
   ]
  },
  {
   "cell_type": "code",
   "execution_count": 73,
   "metadata": {},
   "outputs": [],
   "source": [
    "# # Set up offline override for the current repository\n",
    "\n",
    "# ldpath = cmipld.utils.git.ldpath()\n",
    "\n",
    "\n",
    "# # create a temporary directory containing (a copy of) the current repository\n",
    "# # localserver = LD_server(copy = [[ldpath,'current_repo']])\n",
    "# repos= { \n",
    "#         'https://wcrp-cmip.github.io/WCRP-universe/': 'universal',\n",
    "#         'https://wcrp-cmip.github.io/MIP-variables/': 'variables',\n",
    "#         'https://wcrp-cmip.github.io/CMIP6Plus_CVs/': 'cmip6plus'\n",
    "#         }\n",
    "\n",
    "# localserver = LD_server(repos = repos.items(),copy = [[ldpath,whoami]],override='y')\n",
    "\n",
    "# # localserver = LD_server(copy = [[ldpath,'cmip6plus']])\n",
    "\n",
    "\n",
    "# localhost = localserver.start_server(8080)\n"
   ]
  },
  {
   "cell_type": "code",
   "execution_count": 74,
   "metadata": {},
   "outputs": [],
   "source": [
    "# # \n",
    "# replace_loader(localhost,[list(i) for i in repos.items()])\n",
    "# # "
   ]
  },
  {
   "cell_type": "code",
   "execution_count": 75,
   "metadata": {},
   "outputs": [],
   "source": [
    "from collections import OrderedDict\n",
    "\n",
    "CV = OrderedDict()\n",
    "\n",
    "\n"
   ]
  },
  {
   "cell_type": "code",
   "execution_count": null,
   "metadata": {},
   "outputs": [],
   "source": [
    "\n",
    "for item in [\n",
    "    'repo',\n",
    "    'mip-era',\n",
    "    'license',\n",
    "    'activity',\n",
    "    'drs',\n",
    "    'product',\n",
    "    'required-global-attributes',\n",
    "    # 'tables',\n",
    "    ]:\n",
    "    \n",
    "    print(item)\n",
    "    # CV[item] = getattr(locals(),item)\n",
    "    ld  = cmipld.processor.expand_document(f'{io_url}project/{item}.json', depth=3)[0]\n",
    "    # functions may be autogenrated in (reponame).py under the CVs dir. \n",
    "    CV[item] = getattr(this,item)(ld)\n",
    "    \n"
   ]
  },
  {
   "cell_type": "code",
   "execution_count": 77,
   "metadata": {},
   "outputs": [],
   "source": [
    "# adding the index properties\n",
    "CV.update(cmipld.processor.get(f'{io_url}/project/index.json')[0]['index'])"
   ]
  },
  {
   "cell_type": "code",
   "execution_count": null,
   "metadata": {},
   "outputs": [],
   "source": [
    "CV"
   ]
  },
  {
   "cell_type": "code",
   "execution_count": null,
   "metadata": {},
   "outputs": [],
   "source": [
    "print('make a file for relevant realms and relevant realms')\n",
    "\n",
    "for universe_item in ['realm','frequency']:\n",
    "    # 'grid-label''nominal'\n",
    "    print(universe_item)\n",
    "    path = f'{cmipld.mapping[\"universal\"]}{universe_item}/graph.jsonld'\n",
    "    ld  = cmipld.jsonld.compact(path,path)['@graph']\n",
    "    CV[universe_item] = getattr(this,universe_item)(ld)"
   ]
  },
  {
   "cell_type": "code",
   "execution_count": null,
   "metadata": {},
   "outputs": [],
   "source": [
    "# path = f'{cmipld.mapping[\"universal\"]}resolution/graph.jsonld'\n",
    "# data  = cmipld.jsonld.compact(path,path)['@graph']\n",
    "\n",
    "# CV['nominal_resolution'] = [f\"{r['value']} {r['unit']}\" for r in sorted(data, key=lambda x: float(x['value']) if x['value'].replace('.', '', 1).isdigit() else float('inf'))]\n",
    "\n",
    "print('make a file for relevant nominal resolution')"
   ]
  },
  {
   "cell_type": "code",
   "execution_count": null,
   "metadata": {},
   "outputs": [],
   "source": [
    "# url = cmipld.processor.resolve_prefix(file)\n",
    "\n",
    "# loads the experiments graph and relevant dependancies. \n",
    "\n",
    "es_data = {}\n",
    "\n",
    "for value in ['experiment', 'source']:\n",
    "    es_data[value] = cmipld.processor.EmbeddedFrame(f'{io_url}experiment/graph.jsonld') \n",
    "    result = es_data[value].frame({'@type':[f'wcrp:{value}']})\n",
    "    \n",
    "    a = es_data[value]\n",
    "    break\n",
    "\n",
    "result[1]"
   ]
  },
  {
   "cell_type": "code",
   "execution_count": null,
   "metadata": {},
   "outputs": [
    {
     "data": {
      "text/plain": [
       "{'aer': {'universal:source-type/is_required': False},\n",
       " 'aogcm': {'universal:source-type/is_required': True},\n",
       " 'bgc': {'universal:source-type/is_required': False},\n",
       " 'chem': {'universal:source-type/is_required': False}}"
      ]
     },
     "execution_count": 38,
     "metadata": {},
     "output_type": "execute_result"
    }
   ],
   "source": [
    "from pyld import jsonld\n",
    "# jsonld.frame(es_data[value].corpus,{'@type':[f'wcrp:{value}'],'@context':es_data[value].context,'@embed':'@always'})['@graph'][3]['model_realms']\n",
    "\n",
    "ctx = {'@base': 'https://wcrp-cmip.github.io/CMIP6Plus_CVs/experiment/',\n",
    " '@vocab': 'https://wcrp-cmip.github.io/CMIP6Plus_CVs/experiment/',\n",
    " 'id': '@id',\n",
    " 'type': '@type',\n",
    " 'cf': 'https://wcrp-cmip.github.io/CF/',\n",
    " 'cmip6plus': 'https://wcrp-cmip.github.io/CMIP6Plus_CVs/',\n",
    " 'cmip7': 'https://wcrp-cmip.github.io/CMIP7_CVs/',\n",
    " 'obs4mips': 'https://wolfiex.github.io/obs4MIPs-cmor-tables-ld/',\n",
    " 'universal': 'https://wcrp-cmip.github.io/WCRP-universe/',\n",
    " 'variables': 'https://wcrp-cmip.github.io/MIP-variables/',\n",
    " 'activity': {'@type': '@id',\n",
    "  '@context': 'https://wcrp-cmip.github.io/WCRP-universe/activity/_context_'},\n",
    " \"model_realms\": {\n",
    "                # \"@container\": [\n",
    "                #     \"@set\"\n",
    "                # ],\n",
    "                \n",
    "                # '@type':'@id',\n",
    "                # \"@id\": \"https://test/{@index}\",\n",
    "                \"@context\": [\"https://wcrp-cmip.github.io/WCRP-universe/source-type/_context_\",\n",
    "                {\"is_required\":\"https://a.com\",}\n",
    "                ]\n",
    "            },\n",
    " 'parent_activity': {'@type': '@id',\n",
    "  '@context': 'https://wcrp-cmip.github.io/WCRP-universe/activity/_context_'},\n",
    " 'parent_experiment': {'@type': '@id',\n",
    "  '@context': 'https://wcrp-cmip.github.io/CMIP6Plus_CVs/experiment/_context_'},\n",
    " 'sub_experiment': {'@type': '@id',\n",
    "  '@context': 'https://wcrp-cmip.github.io/CMIP6Plus_CVs/sub-experiment/_context_'},\n",
    "#  \"entries\": \"@none\"\n",
    "}\n",
    "#\n",
    "\n",
    "jsonld.frame(a.url,{'@type':[f'wcrp:experiment'],'@context':ctx})['@graph'][1]['model_realms']"
   ]
  },
  {
   "cell_type": "code",
   "execution_count": null,
   "metadata": {},
   "outputs": [],
   "source": [
    "a.context"
   ]
  },
  {
   "cell_type": "code",
   "execution_count": null,
   "metadata": {},
   "outputs": [],
   "source": [
    "jsonld.expand(f'{io_url}experiment/abrupt-4xco2')"
   ]
  },
  {
   "cell_type": "code",
   "execution_count": null,
   "metadata": {},
   "outputs": [],
   "source": [
    "[i for i in jsonld.frame(f'{io_url}experiment/graph.jsonld',{\"@explicit\":True})['@graph'] if '@type' in i]"
   ]
  },
  {
   "cell_type": "code",
   "execution_count": null,
   "metadata": {},
   "outputs": [],
   "source": [
    "cmipld.processor.clear_cache()\n",
    "\n",
    "jsonld.frame(es_data[value].corpus,{'@context':es_data[value].context,'@embed':'@always'})['@graph'][1]"
   ]
  },
  {
   "cell_type": "code",
   "execution_count": null,
   "metadata": {},
   "outputs": [],
   "source": [
    "import json\n",
    "\"@container\" in json.dumps(cmipld.processor.loader( es_data[value].context,{} )['document']['@context'])"
   ]
  },
  {
   "cell_type": "code",
   "execution_count": null,
   "metadata": {},
   "outputs": [],
   "source": [
    "cmipld.processor.loader(es_data[value].url,{})['document']['@graph'][0]"
   ]
  },
  {
   "cell_type": "code",
   "execution_count": null,
   "metadata": {},
   "outputs": [],
   "source": [
    "result[0]\n",
    "es_data[value].container  #.corpus['@graph'][1]\n",
    "\n",
    "g = es_data[value].corpus['@graph']"
   ]
  },
  {
   "cell_type": "code",
   "execution_count": null,
   "metadata": {},
   "outputs": [],
   "source": [
    "# corpus = {}\n",
    "# for i in g:\n",
    "    \n",
    "result[3]"
   ]
  },
  {
   "cell_type": "code",
   "execution_count": 86,
   "metadata": {},
   "outputs": [],
   "source": [
    "[]\n",
    "\n",
    "\n",
    "item = result[1]\n",
    "item_id = item['experiment_id'] = item['label']\n",
    "\n",
    "item['activity_id'] = this.get_entry(item['activity'])\n",
    "\n",
    "# check that activity in activity list\n",
    "\n",
    "item['additional_allowed_model_components'] = []\n",
    "item['required_model_components'] = []\n",
    "\n",
    "# for item in item['model_realms']\n",
    "\n"
   ]
  },
  {
   "cell_type": "code",
   "execution_count": null,
   "metadata": {},
   "outputs": [],
   "source": [
    "this.name_entry(list(item['model_realms'].values()),'is_required')"
   ]
  },
  {
   "cell_type": "code",
   "execution_count": null,
   "metadata": {},
   "outputs": [],
   "source": [
    "item['parent_experiment']\n",
    "item_id"
   ]
  },
  {
   "cell_type": "code",
   "execution_count": null,
   "metadata": {},
   "outputs": [],
   "source": [
    "help(jsonld.frame)"
   ]
  },
  {
   "cell_type": "markdown",
   "metadata": {},
   "source": []
  },
  {
   "cell_type": "code",
   "execution_count": null,
   "metadata": {},
   "outputs": [],
   "source": [
    "CV"
   ]
  },
  {
   "cell_type": "code",
   "execution_count": 91,
   "metadata": {},
   "outputs": [],
   "source": [
    "# e1 = exp[1]\n",
    "# # del e1['id'], e1['type']\n",
    "# for k,v in e1.items():\n",
    "#     if isinstance(v,dict) and 'type' in v:\n",
    "#         print(k)\n",
    "#         e1[k] = v['label']\n",
    "# e1\n"
   ]
  },
  {
   "cell_type": "code",
   "execution_count": null,
   "metadata": {},
   "outputs": [],
   "source": []
  }
 ],
 "metadata": {
  "kernelspec": {
   "display_name": "base",
   "language": "python",
   "name": "python3"
  },
  "language_info": {
   "codemirror_mode": {
    "name": "ipython",
    "version": 3
   },
   "file_extension": ".py",
   "mimetype": "text/x-python",
   "name": "python",
   "nbconvert_exporter": "python",
   "pygments_lexer": "ipython3",
   "version": "3.10.10"
  }
 },
 "nbformat": 4,
 "nbformat_minor": 2
}
