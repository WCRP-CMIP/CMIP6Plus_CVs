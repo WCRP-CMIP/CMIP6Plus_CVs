{
 "cells": [
  {
   "cell_type": "code",
   "execution_count": null,
   "metadata": {},
   "outputs": [],
   "source": [
    "import cmipld\n",
    "import importlib\n",
    "from collections import OrderedDict\n",
    "\n",
    "\n",
    "repo_url = cmipld.utils.git.url()\n",
    "io_url = cmipld.utils.git.url2io(repo_url)\n",
    "\n",
    "whoami = cmipld.reverse_mapping()[io_url]\n",
    "print('-'*50)\n",
    "print(f'Parsing repo: {whoami}')\n",
    "print(f'Location: {repo_url}')\n",
    "print(f'Github IO link: {io_url}')\n",
    "print('-'*50)\n",
    "\n",
    "'''\n",
    "To keep this set of functions generic, we create separate files containing all relevant functions for a repository to be processed. \n",
    "When running this script we determine the parent repository, and consequently its prefix. This is then used to grab all relevant functions for processing. \n",
    "\n",
    "Example usage: getattr(this,'activity')({'activity':[{\"label\":1,\"id\":'one'}]})\n",
    "\n",
    "'''\n",
    "# Dynamically import the target module and assign it to a variable\n",
    "module_path = f\"cmipld.cvs.{whoami}\" # go to CMIPLD/CVs/<value of whoami>.py for functions\n",
    "this = importlib.import_module(module_path)\n",
    "\n"
   ]
  },
  {
   "cell_type": "code",
   "execution_count": null,
   "metadata": {},
   "outputs": [],
   "source": [
    "# Set up offline override for the current repository\n",
    "\n",
    "from cmipld.utils.offline import LD_server\n",
    "\n",
    "ldpath = cmipld.utils.git.ldpath()\n",
    "\n",
    "\n",
    "# create a temporary directory containing (a copy of) the current repository\n",
    "# localserver = LD_server(copy = [[ldpath,'current_repo']])\n",
    "repos= { \n",
    "        'https://wcrp-cmip.github.io/WCRP-universe/': 'universal',\n",
    "        'https://wcrp-cmip.github.io/MIP-variables/': 'variables',\n",
    "        'https://wcrp-cmip.github.io/CMIP6Plus_CVs/': 'cmip6plus'\n",
    "        }\n",
    "\n",
    "localserver = LD_server(repos = repos.items(),copy = [[ldpath,whoami]],override='y')\n",
    "\n",
    "# localserver = LD_server(copy = [[ldpath,'cmip6plus']])\n",
    "\n",
    "\n",
    "localhost = localserver.start_server(8080)\n"
   ]
  },
  {
   "cell_type": "code",
   "execution_count": null,
   "metadata": {},
   "outputs": [],
   "source": [
    "cmipld.processor.replace_loader(localhost,[list(i) for i in repos.items()]) "
   ]
  },
  {
   "cell_type": "code",
   "execution_count": 4,
   "metadata": {},
   "outputs": [],
   "source": [
    "\n",
    "CV = OrderedDict()\n",
    "cmipld.processor.clear_cache()\n"
   ]
  },
  {
   "cell_type": "code",
   "execution_count": null,
   "metadata": {},
   "outputs": [],
   "source": [
    "\n",
    "\n",
    "for item in [\n",
    "    'repo',\n",
    "    'mip-era',\n",
    "    'license',\n",
    "    'activity',\n",
    "    'drs',\n",
    "    'product',\n",
    "    'required-global-attributes',\n",
    "    'tables',\n",
    "    ]:\n",
    "    \n",
    "    print(item)\n",
    "    # CV[item] = getattr(locals(),item)\n",
    "    ld  = cmipld.processor.expand_document(f'{io_url}project/{item}.json', depth=3)[0]\n",
    "    # functions may be autogenrated in (reponame).py under the CVs dir. \n",
    "    CV[item] = getattr(this,item)(ld)\n",
    "    \n"
   ]
  },
  {
   "cell_type": "code",
   "execution_count": null,
   "metadata": {},
   "outputs": [],
   "source": [
    "    \n",
    "es_data = {}\n",
    "es_data[value] = cmipld.processor.EmbeddedFrame(f'{io_url}{value}/graph.jsonld') \n",
    "result = es_data[value].frame({'@type':[f'wcrp:{value}']})"
   ]
  },
  {
   "cell_type": "code",
   "execution_count": null,
   "metadata": {},
   "outputs": [],
   "source": [
    "# adding the index properties\n",
    "print('index')\n",
    "CV.update(cmipld.processor.get(f'{io_url}/project/index.json')[0]['index'])"
   ]
  },
  {
   "cell_type": "code",
   "execution_count": null,
   "metadata": {},
   "outputs": [],
   "source": [
    "print('make a file for relevant realms and relevant realms')\n",
    "\n",
    "for universe_item in ['realm','frequency']:\n",
    "    # 'grid-label''nominal'\n",
    "    print(universe_item)\n",
    "    path = f'{cmipld.mapping[\"universal\"]}{universe_item}/graph.jsonld'\n",
    "    ld  = cmipld.jsonld.compact(path,path)['@graph']\n",
    "    CV[universe_item] = getattr(this,universe_item)(ld)"
   ]
  },
  {
   "cell_type": "code",
   "execution_count": null,
   "metadata": {},
   "outputs": [],
   "source": [
    "# path = f'{cmipld.mapping[\"universal\"]}resolution/graph.jsonld'\n",
    "# data  = cmipld.jsonld.compact(path,path)['@graph']\n",
    "\n",
    "# CV['nominal_resolution'] = [f\"{r['value']} {r['unit']}\" for r in sorted(data, key=lambda x: float(x['value']) if x['value'].replace('.', '', 1).isdigit() else float('inf'))]\n",
    "\n",
    "print('make a file for relevant nominal resolution')"
   ]
  },
  {
   "cell_type": "code",
   "execution_count": null,
   "metadata": {},
   "outputs": [],
   "source": [
    "# url = cmipld.processor.resolve_prefix(file)\n",
    "\n",
    "# loads the experiments graph and relevant dependancies. \n",
    "cmipld.processor.clear_cache()\n",
    "# localserver.copy_existing_repos([[ldpath,whoami]],override=True)\n",
    "print(ldpath,whoami)\n",
    "\n",
    "es_data = {}\n",
    "\n",
    "for value in ['experiment', 'source']:\n",
    "    print(value)\n",
    "    es_data[value] = cmipld.processor.EmbeddedFrame(f'{io_url}{value}/graph.jsonld') \n",
    "    result = es_data[value].frame({'@type':[f'wcrp:{value}']})\n",
    "    \n",
    "    # CV[value+'_id'] = getattr(this,value)(result)\n",
    "# \n",
    "\n",
    "value, es_data[value].dependencies"
   ]
  },
  {
   "cell_type": "markdown",
   "metadata": {},
   "source": []
  },
  {
   "cell_type": "code",
   "execution_count": null,
   "metadata": {},
   "outputs": [],
   "source": [
    "# CV[value+'_id']\n",
    "result[0]"
   ]
  },
  {
   "cell_type": "code",
   "execution_count": null,
   "metadata": {},
   "outputs": [],
   "source": [
    "CV"
   ]
  },
  {
   "cell_type": "code",
   "execution_count": null,
   "metadata": {},
   "outputs": [],
   "source": [
    "ls \n"
   ]
  },
  {
   "cell_type": "code",
   "execution_count": null,
   "metadata": {},
   "outputs": [],
   "source": []
  }
 ],
 "metadata": {
  "kernelspec": {
   "display_name": "base",
   "language": "python",
   "name": "python3"
  },
  "language_info": {
   "codemirror_mode": {
    "name": "ipython",
    "version": 3
   },
   "file_extension": ".py",
   "mimetype": "text/x-python",
   "name": "python",
   "nbconvert_exporter": "python",
   "pygments_lexer": "ipython3",
   "version": "3.10.10"
  }
 },
 "nbformat": 4,
 "nbformat_minor": 2
}
