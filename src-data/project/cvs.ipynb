{
 "cells": [
  {
   "cell_type": "code",
   "execution_count": 1,
   "metadata": {},
   "outputs": [
    {
     "name": "stderr",
     "output_type": "stream",
     "text": [
      "/Users/daniel.ellis/customlib/homebrew/Caskroom/mambaforge/base/lib/python3.10/site-packages/tqdm/auto.py:21: TqdmWarning: IProgress not found. Please update jupyter and ipywidgets. See https://ipywidgets.readthedocs.io/en/stable/user_install.html\n",
      "  from .autonotebook import tqdm as notebook_tqdm\n"
     ]
    }
   ],
   "source": [
    "import cmipld\n",
    "from cmipld.utils.offline import LD_server, replace_loader\n",
    "from pyld import jsonld"
   ]
  },
  {
   "cell_type": "code",
   "execution_count": 7,
   "metadata": {},
   "outputs": [
    {
     "ename": "JsonLdError",
     "evalue": "('Invalid JSON-LD syntax; invalid remote context.',)\nType: jsonld.SyntaxError\nCode: invalid local context\nDetails: {'context': 'https://wcrp-cmip.github.io/WCRP-universe/activity/_context_'}",
     "output_type": "error",
     "traceback": [
      "\u001b[0;31m---------------------------------------------------------------------------\u001b[0m",
      "\u001b[0;31mJsonLdError\u001b[0m                               Traceback (most recent call last)",
      "Cell \u001b[0;32mIn[7], line 2\u001b[0m\n\u001b[1;32m      1\u001b[0m \u001b[38;5;28;01mfrom\u001b[39;00m\u001b[38;5;250m \u001b[39m\u001b[38;5;21;01mpyld\u001b[39;00m\u001b[38;5;250m \u001b[39m\u001b[38;5;28;01mimport\u001b[39;00m jsonld \n\u001b[0;32m----> 2\u001b[0m \u001b[43mjsonld\u001b[49m\u001b[38;5;241;43m.\u001b[39;49m\u001b[43mexpand\u001b[49m\u001b[43m(\u001b[49m\u001b[38;5;124;43m'\u001b[39;49m\u001b[38;5;124;43mhttps://wcrp-cmip.github.io/CMIP6Plus_CVs/project/activity.json\u001b[39;49m\u001b[38;5;124;43m'\u001b[39;49m\u001b[43m)\u001b[49m\n",
      "File \u001b[0;32m~/customlib/homebrew/Caskroom/mambaforge/base/lib/python3.10/site-packages/pyld/jsonld.py:163\u001b[0m, in \u001b[0;36mexpand\u001b[0;34m(input_, options)\u001b[0m\n\u001b[1;32m    145\u001b[0m \u001b[38;5;28;01mdef\u001b[39;00m\u001b[38;5;250m \u001b[39m\u001b[38;5;21mexpand\u001b[39m(input_, options\u001b[38;5;241m=\u001b[39m\u001b[38;5;28;01mNone\u001b[39;00m):\n\u001b[1;32m    146\u001b[0m \u001b[38;5;250m    \u001b[39m\u001b[38;5;124;03m\"\"\"\u001b[39;00m\n\u001b[1;32m    147\u001b[0m \u001b[38;5;124;03m    Performs JSON-LD expansion.\u001b[39;00m\n\u001b[1;32m    148\u001b[0m \n\u001b[0;32m   (...)\u001b[0m\n\u001b[1;32m    161\u001b[0m \u001b[38;5;124;03m    :return: the expanded JSON-LD output.\u001b[39;00m\n\u001b[1;32m    162\u001b[0m \u001b[38;5;124;03m    \"\"\"\u001b[39;00m\n\u001b[0;32m--> 163\u001b[0m     \u001b[38;5;28;01mreturn\u001b[39;00m \u001b[43mJsonLdProcessor\u001b[49m\u001b[43m(\u001b[49m\u001b[43m)\u001b[49m\u001b[38;5;241;43m.\u001b[39;49m\u001b[43mexpand\u001b[49m\u001b[43m(\u001b[49m\u001b[43minput_\u001b[49m\u001b[43m,\u001b[49m\u001b[43m \u001b[49m\u001b[43moptions\u001b[49m\u001b[43m)\u001b[49m\n",
      "File \u001b[0;32m~/customlib/homebrew/Caskroom/mambaforge/base/lib/python3.10/site-packages/pyld/jsonld.py:870\u001b[0m, in \u001b[0;36mJsonLdProcessor.expand\u001b[0;34m(self, input_, options)\u001b[0m\n\u001b[1;32m    866\u001b[0m     active_ctx \u001b[38;5;241m=\u001b[39m \u001b[38;5;28mself\u001b[39m\u001b[38;5;241m.\u001b[39mprocess_context(\n\u001b[1;32m    867\u001b[0m         active_ctx, remote_context, options)\n\u001b[1;32m    869\u001b[0m \u001b[38;5;66;03m# do expansion\u001b[39;00m\n\u001b[0;32m--> 870\u001b[0m expanded \u001b[38;5;241m=\u001b[39m \u001b[38;5;28;43mself\u001b[39;49m\u001b[38;5;241;43m.\u001b[39;49m\u001b[43m_expand\u001b[49m\u001b[43m(\u001b[49m\u001b[43mactive_ctx\u001b[49m\u001b[43m,\u001b[49m\u001b[43m \u001b[49m\u001b[38;5;28;43;01mNone\u001b[39;49;00m\u001b[43m,\u001b[49m\u001b[43m \u001b[49m\u001b[43mdocument\u001b[49m\u001b[43m,\u001b[49m\u001b[43m \u001b[49m\u001b[43moptions\u001b[49m\u001b[43m,\u001b[49m\n\u001b[1;32m    871\u001b[0m \u001b[43m    \u001b[49m\u001b[43minside_list\u001b[49m\u001b[38;5;241;43m=\u001b[39;49m\u001b[38;5;28;43;01mFalse\u001b[39;49;00m\u001b[43m)\u001b[49m\n\u001b[1;32m    873\u001b[0m \u001b[38;5;66;03m# optimize away @graph with no other properties\u001b[39;00m\n\u001b[1;32m    874\u001b[0m \u001b[38;5;28;01mif\u001b[39;00m (_is_object(expanded) \u001b[38;5;129;01mand\u001b[39;00m \u001b[38;5;124m'\u001b[39m\u001b[38;5;124m@graph\u001b[39m\u001b[38;5;124m'\u001b[39m \u001b[38;5;129;01min\u001b[39;00m expanded \u001b[38;5;129;01mand\u001b[39;00m\n\u001b[1;32m    875\u001b[0m         \u001b[38;5;28mlen\u001b[39m(expanded) \u001b[38;5;241m==\u001b[39m \u001b[38;5;241m1\u001b[39m):\n",
      "File \u001b[0;32m~/customlib/homebrew/Caskroom/mambaforge/base/lib/python3.10/site-packages/pyld/jsonld.py:2302\u001b[0m, in \u001b[0;36mJsonLdProcessor._expand\u001b[0;34m(self, active_ctx, active_property, element, options, inside_list, inside_index, type_scoped_ctx)\u001b[0m\n\u001b[1;32m   2299\u001b[0m \u001b[38;5;66;03m# recursively expand object\u001b[39;00m\n\u001b[1;32m   2300\u001b[0m \u001b[38;5;66;03m# if element has a context, process it\u001b[39;00m\n\u001b[1;32m   2301\u001b[0m \u001b[38;5;28;01mif\u001b[39;00m \u001b[38;5;124m'\u001b[39m\u001b[38;5;124m@context\u001b[39m\u001b[38;5;124m'\u001b[39m \u001b[38;5;129;01min\u001b[39;00m element:\n\u001b[0;32m-> 2302\u001b[0m     active_ctx \u001b[38;5;241m=\u001b[39m \u001b[38;5;28;43mself\u001b[39;49m\u001b[38;5;241;43m.\u001b[39;49m\u001b[43m_process_context\u001b[49m\u001b[43m(\u001b[49m\n\u001b[1;32m   2303\u001b[0m \u001b[43m        \u001b[49m\u001b[43mactive_ctx\u001b[49m\u001b[43m,\u001b[49m\u001b[43m \u001b[49m\u001b[43melement\u001b[49m\u001b[43m[\u001b[49m\u001b[38;5;124;43m'\u001b[39;49m\u001b[38;5;124;43m@context\u001b[39;49m\u001b[38;5;124;43m'\u001b[39;49m\u001b[43m]\u001b[49m\u001b[43m,\u001b[49m\u001b[43m \u001b[49m\u001b[43moptions\u001b[49m\u001b[43m)\u001b[49m\n\u001b[1;32m   2305\u001b[0m \u001b[38;5;66;03m# set the type-scoped context to the context on input, for use later\u001b[39;00m\n\u001b[1;32m   2306\u001b[0m type_scoped_ctx \u001b[38;5;241m=\u001b[39m active_ctx\n",
      "File \u001b[0;32m~/customlib/homebrew/Caskroom/mambaforge/base/lib/python3.10/site-packages/pyld/jsonld.py:3095\u001b[0m, in \u001b[0;36mJsonLdProcessor._process_context\u001b[0;34m(self, active_ctx, local_ctx, options, override_protected, propagate, validate_scoped, cycles)\u001b[0m\n\u001b[1;32m   3092\u001b[0m     ctx \u001b[38;5;241m=\u001b[39m ctx[\u001b[38;5;124m'\u001b[39m\u001b[38;5;124m@context\u001b[39m\u001b[38;5;124m'\u001b[39m]\n\u001b[1;32m   3094\u001b[0m \u001b[38;5;28;01mif\u001b[39;00m \u001b[38;5;129;01mnot\u001b[39;00m _is_object(ctx):\n\u001b[0;32m-> 3095\u001b[0m     \u001b[38;5;28;01mraise\u001b[39;00m JsonLdError(\n\u001b[1;32m   3096\u001b[0m         \u001b[38;5;124m'\u001b[39m\u001b[38;5;124mInvalid JSON-LD syntax; invalid remote context.\u001b[39m\u001b[38;5;124m'\u001b[39m,\n\u001b[1;32m   3097\u001b[0m         \u001b[38;5;124m'\u001b[39m\u001b[38;5;124mjsonld.SyntaxError\u001b[39m\u001b[38;5;124m'\u001b[39m, {\u001b[38;5;124m'\u001b[39m\u001b[38;5;124mcontext\u001b[39m\u001b[38;5;124m'\u001b[39m: ctx},\n\u001b[1;32m   3098\u001b[0m         code\u001b[38;5;241m=\u001b[39m\u001b[38;5;124m'\u001b[39m\u001b[38;5;124minvalid local context\u001b[39m\u001b[38;5;124m'\u001b[39m)\n\u001b[1;32m   3100\u001b[0m \u001b[38;5;66;03m# TODO: there is likely a `previousContext` cloning optimization that\u001b[39;00m\n\u001b[1;32m   3101\u001b[0m \u001b[38;5;66;03m# could be applied here (no need to copy it under certain conditions)\u001b[39;00m\n\u001b[1;32m   3103\u001b[0m rval \u001b[38;5;241m=\u001b[39m \u001b[38;5;28mself\u001b[39m\u001b[38;5;241m.\u001b[39m_clone_active_context(rval)\n",
      "\u001b[0;31mJsonLdError\u001b[0m: ('Invalid JSON-LD syntax; invalid remote context.',)\nType: jsonld.SyntaxError\nCode: invalid local context\nDetails: {'context': 'https://wcrp-cmip.github.io/WCRP-universe/activity/_context_'}"
     ]
    }
   ],
   "source": [
    "from pyld import jsonld \n",
    "jsonld.expand('https://wcrp-cmip.github.io/CMIP6Plus_CVs/project/activity.json')"
   ]
  },
  {
   "cell_type": "code",
   "execution_count": null,
   "metadata": {},
   "outputs": [],
   "source": [
    "import cmipld\n",
    "cmipld.processor.expand_document('https://wcrp-cmip.github.io/CMIP6Plus_CVs/project/product.json',compact=False)"
   ]
  },
  {
   "cell_type": "code",
   "execution_count": null,
   "metadata": {},
   "outputs": [],
   "source": []
  },
  {
   "cell_type": "code",
   "execution_count": null,
   "metadata": {},
   "outputs": [],
   "source": [
    "from pyld import jsonld\n",
    "jsonld.expand(f'https://wcrp-cmip.github.io/WCRP-universe/product/model-output.json')"
   ]
  },
  {
   "cell_type": "code",
   "execution_count": null,
   "metadata": {},
   "outputs": [],
   "source": [
    "jsonld.expand('https://wcrp-cmip.github.io/CMIP6Plus_CVs/project/product.json')"
   ]
  },
  {
   "cell_type": "code",
   "execution_count": 2,
   "metadata": {},
   "outputs": [
    {
     "name": "stdout",
     "output_type": "stream",
     "text": [
      "https://wcrp-cmip.github.io/WCRP-universe/ universal /var/folders/hc/s_7lggq12nndglbdyrn3f91m1l58yd/T/cmipld_local_t0bexf0d2025-01-17T10:27:42\n"
     ]
    },
    {
     "name": "stderr",
     "output_type": "stream",
     "text": [
      "Cloning into '/var/folders/hc/s_7lggq12nndglbdyrn3f91m1l58yd/T/cmipld_local_t0bexf0d2025-01-17T10:27:42/universal'...\n"
     ]
    },
    {
     "name": "stdout",
     "output_type": "stream",
     "text": [
      "\n",
      "\n",
      "https://wcrp-cmip.github.io/MIP-variables/ variables /var/folders/hc/s_7lggq12nndglbdyrn3f91m1l58yd/T/cmipld_local_t0bexf0d2025-01-17T10:27:42\n"
     ]
    },
    {
     "name": "stderr",
     "output_type": "stream",
     "text": [
      "Cloning into '/var/folders/hc/s_7lggq12nndglbdyrn3f91m1l58yd/T/cmipld_local_t0bexf0d2025-01-17T10:27:42/variables'...\n"
     ]
    },
    {
     "name": "stdout",
     "output_type": "stream",
     "text": [
      "\n",
      "\n",
      "https://wcrp-cmip.github.io/CMIP6Plus_CVs/ cmip6plus /var/folders/hc/s_7lggq12nndglbdyrn3f91m1l58yd/T/cmipld_local_t0bexf0d2025-01-17T10:27:42\n"
     ]
    },
    {
     "name": "stderr",
     "output_type": "stream",
     "text": [
      "Cloning into '/var/folders/hc/s_7lggq12nndglbdyrn3f91m1l58yd/T/cmipld_local_t0bexf0d2025-01-17T10:27:42/cmip6plus'...\n"
     ]
    },
    {
     "name": "stdout",
     "output_type": "stream",
     "text": [
      "\n",
      "\n",
      "Repositories cloned into <TemporaryDirectory '/var/folders/hc/s_7lggq12nndglbdyrn3f91m1l58yd/T/cmipld_local_t0bexf0d2025-01-17T10:27:42'>\n",
      "Copying the repo into LocalServer  /Users/daniel.ellis/WIPwork/CMIP6Plus_CVs/src-data/ --> cmip6plus\n",
      "Repositories copied into <TemporaryDirectory '/var/folders/hc/s_7lggq12nndglbdyrn3f91m1l58yd/T/cmipld_local_t0bexf0d2025-01-17T10:27:42'>\n"
     ]
    },
    {
     "name": "stderr",
     "output_type": "stream",
     "text": [
      "..+......+...+...+...+..+............+.+............+..+..........+...+........+.+...+........+++++++++++++++++++++++++++++++++++++++++++++*.......+......+....+.....+....+..+.+..+.......+...+.....+...+..........+...+......+...+..+.+..+.+......+........+.......+.....+......+.......+....................+.......+.....+....+..+..........+++++++++++++++++++++++++++++++++++++++++++++*.+.+...+.....+.+.....+.+.....+.+..+.......+...........+....+...+.....+............+.+...+.....+.......+..............................+..............+....+.....+.........+.+.....+......+.........+.......+...............+...+..+.............+......+........+.....................+.......+.....+..........+........+.+...+..................+.........+.....+...+.+.....+................+...+.....+......+.........+...+.........+.+..............+...................+......+...+..+......+.......+.....+.+......+........+.............+...+..+....+...+.................+....+............+..................+..+..................+....+.....+......+.+........+..........+...+.........+.........+.....+.......+.....+.......+........+....+...+...+.....+...................+.........+......+.....+...+...+.............+.....+......+.............+...........+....+.....+......+.........+......+...............+................+....................+.+...+..............+.+..+...+.......+............+.....+.+...........+......+....+...+..+.+..+.......+.................................+..+...+.+......+...+...+...+.....+......+.+..+............+...............+...+.......+......+...+.........+.....+.+......+.....+....+..+...+.......+.....+.......+............+..........................+.......+........+...+.........+..........+.....+...............+.+.....+.......+...+......+..............+.........+.............+...............+..................+..+....+........+...+....+........................+.........+..+.............+..+............................+..+...+......+.........+.+......+...+..+.........+.......+..+.......+...........+........................+.+...+...............+..+...+.........+.+...........+.+...+......+...........+....+.....+............................+..+...+.+..+...................+...+.....+......+.......+...+.....+......................+........+....+.......................+............+...+..........+...+.....+.+.....+...+......+..........+.........+...+..+...+.............+.....+......+...+.......+..............+....+...+...+..+..........+..+......+.+.....+.........+......+...+.............+...+.........+..+....+................................+....+......+..............+......+.......+++++\n",
      ".+..+....+........+.+.....+....+........+....+...+++++++++++++++++++++++++++++++++++++++++++++*..........+..+....+++++++++++++++++++++++++++++++++++++++++++++*..+...................+.....+...+.......+.....+.......+......+...+.................+..................+....+.................+++++\n",
      "-----\n"
     ]
    },
    {
     "name": "stdout",
     "output_type": "stream",
     "text": [
      "Created SSL certificates in: /var/folders/hc/s_7lggq12nndglbdyrn3f91m1l58yd/T/cmipld_local_t0bexf0d2025-01-17T10:27:42\n",
      "Serving /var/folders/hc/s_7lggq12nndglbdyrn3f91m1l58yd/T/cmipld_local_t0bexf0d2025-01-17T10:27:42 at https://localhost:8082\n",
      "make test for url2io\n"
     ]
    }
   ],
   "source": [
    "# Set up offline override for the current repository\n",
    "\n",
    "ldpath = cmipld.utils.git.ldpath()\n",
    "\n",
    "\n",
    "# create a temporary directory containing (a copy of) the current repository\n",
    "# localserver = LD_server(copy = [[ldpath,'current_repo']])\n",
    "repos= { \n",
    "        'https://wcrp-cmip.github.io/WCRP-universe/': 'universal',\n",
    "        'https://wcrp-cmip.github.io/MIP-variables/': 'variables',\n",
    "        'https://wcrp-cmip.github.io/CMIP6Plus_CVs/': 'cmip6plus'\n",
    "        }\n",
    "\n",
    "localserver = LD_server(repos = repos.items(),copy = [[ldpath,'cmip6plus']])\n",
    "\n",
    "# localserver = LD_server(copy = [[ldpath,'cmip6plus']])\n",
    "\n",
    "\n",
    "localhost = localserver.start_server(8082)\n",
    "repo_url = cmipld.utils.git.url()\n",
    "io_url = cmipld.utils.git.url2io(repo_url)\n",
    "\n",
    "\n",
    "\n"
   ]
  },
  {
   "cell_type": "code",
   "execution_count": 3,
   "metadata": {},
   "outputs": [
    {
     "name": "stdout",
     "output_type": "stream",
     "text": [
      "<function requests_document_loader.<locals>.loader at 0x115207880>\n",
      "Setting up location forwarding for:\n",
      " -  https://wcrp-cmip.github.io/WCRP-universe/ >>> https://localhost:8082/universal/\n",
      " -  https://wcrp-cmip.github.io/MIP-variables/ >>> https://localhost:8082/variables/\n",
      " -  https://wcrp-cmip.github.io/CMIP6Plus_CVs/ >>> https://localhost:8082/cmip6plus/\n",
      "\n"
     ]
    }
   ],
   "source": [
    "# \n",
    "replace_loader(localhost,[list(i) for i in repos.items()])\n"
   ]
  },
  {
   "cell_type": "code",
   "execution_count": 4,
   "metadata": {},
   "outputs": [
    {
     "name": "stderr",
     "output_type": "stream",
     "text": [
      "127.0.0.1 - - [17/Jan/2025 10:27:56] \"GET /cmip6plus/project/product.json HTTP/1.1\" 200 -\n",
      "127.0.0.1 - - [17/Jan/2025 10:27:56] \"GET /cmip6plus/project/_context_ HTTP/1.1\" 200 -\n",
      "127.0.0.1 - - [17/Jan/2025 10:27:56] \"GET /cmip6plus/_context_ HTTP/1.1\" 200 -\n",
      "127.0.0.1 - - [17/Jan/2025 10:27:56] \"GET /universal/activity/_context_ HTTP/1.1\" 200 -\n",
      "127.0.0.1 - - [17/Jan/2025 10:27:57] \"GET /universal/_context_ HTTP/1.1\" 200 -\n",
      "127.0.0.1 - - [17/Jan/2025 10:27:57] \"GET /universal/mip/_context_ HTTP/1.1\" 200 -\n",
      "127.0.0.1 - - [17/Jan/2025 10:27:57] \"GET /variables/tables/_context_ HTTP/1.1\" 200 -\n",
      "127.0.0.1 - - [17/Jan/2025 10:27:57] \"GET /variables/_context_ HTTP/1.1\" 200 -\n",
      "127.0.0.1 - - [17/Jan/2025 10:27:57] \"GET /universal/product/_context_ HTTP/1.1\" 200 -\n",
      "127.0.0.1 - - [17/Jan/2025 10:27:57] \"GET /variables/variables/_context_ HTTP/1.1\" 200 -\n",
      "127.0.0.1 - - [17/Jan/2025 10:27:58] \"GET /universal/license/_context_ HTTP/1.1\" 200 -\n",
      "127.0.0.1 - - [17/Jan/2025 10:28:32] \"GET /universal/product/model-output.json HTTP/1.1\" 200 -\n",
      "127.0.0.1 - - [17/Jan/2025 10:28:43] \"GET /cmip6plus/project/product.json HTTP/1.1\" 200 -\n",
      "127.0.0.1 - - [17/Jan/2025 10:30:27] \"GET /cmip6plus/project/activity.json HTTP/1.1\" 200 -\n"
     ]
    },
    {
     "ename": "JsonLdError",
     "evalue": "('Invalid JSON-LD syntax; invalid remote context.',)\nType: jsonld.SyntaxError\nCode: invalid local context\nDetails: {'context': 'https://wcrp-cmip.github.io/WCRP-universe/product/_context_'}",
     "output_type": "error",
     "traceback": [
      "\u001b[0;31m---------------------------------------------------------------------------\u001b[0m",
      "\u001b[0;31mJsonLdError\u001b[0m                               Traceback (most recent call last)",
      "Cell \u001b[0;32mIn[4], line 1\u001b[0m\n\u001b[0;32m----> 1\u001b[0m \u001b[43mcmipld\u001b[49m\u001b[38;5;241;43m.\u001b[39;49m\u001b[43mprocessor\u001b[49m\u001b[38;5;241;43m.\u001b[39;49m\u001b[43mexpand_document\u001b[49m\u001b[43m(\u001b[49m\u001b[38;5;124;43m'\u001b[39;49m\u001b[38;5;124;43mhttps://wcrp-cmip.github.io/CMIP6Plus_CVs/project/product.json\u001b[39;49m\u001b[38;5;124;43m'\u001b[39;49m\u001b[43m,\u001b[49m\u001b[43mcompact\u001b[49m\u001b[38;5;241;43m=\u001b[39;49m\u001b[38;5;28;43;01mFalse\u001b[39;49;00m\u001b[43m)\u001b[49m\n",
      "File \u001b[0;32m~/WIPwork/CMIP-LD/cmipld/browse/read.py:247\u001b[0m, in \u001b[0;36mJsonLdProcessor.expand_document\u001b[0;34m(self, jsonld_doc, compact, expand_ctx, expand_links, no_ctx, as_json, pprint, depth, is_nested)\u001b[0m\n\u001b[1;32m    226\u001b[0m \u001b[38;5;250m\u001b[39m\u001b[38;5;124;03m\"\"\"\u001b[39;00m\n\u001b[1;32m    227\u001b[0m \u001b[38;5;124;03mExpand a JSON-LD document and resolve all referenced URLs.\u001b[39;00m\n\u001b[1;32m    228\u001b[0m \u001b[38;5;124;03m\u001b[39;00m\n\u001b[0;32m   (...)\u001b[0m\n\u001b[1;32m    237\u001b[0m \u001b[38;5;124;03m    List of processed documents\u001b[39;00m\n\u001b[1;32m    238\u001b[0m \u001b[38;5;124;03m\"\"\"\u001b[39;00m\n\u001b[1;32m    239\u001b[0m \u001b[38;5;66;03m# doc = self._load_document(jsonld_doc) if isinstance(jsonld_doc, str) else jsonld_doc\u001b[39;00m\n\u001b[1;32m    240\u001b[0m \n\u001b[1;32m    241\u001b[0m \u001b[38;5;66;03m# if isinstance(doc['@context'],str):\u001b[39;00m\n\u001b[1;32m    242\u001b[0m \u001b[38;5;66;03m#     if not valid_url(doc['@context']):\u001b[39;00m\n\u001b[1;32m    243\u001b[0m \u001b[38;5;66;03m#         doc['@context']\u001b[39;00m\n\u001b[0;32m--> 247\u001b[0m expanded \u001b[38;5;241m=\u001b[39m \u001b[43mjsonld\u001b[49m\u001b[38;5;241;43m.\u001b[39;49m\u001b[43mexpand\u001b[49m\u001b[43m(\u001b[49m\u001b[43mjsonld_doc\u001b[49m\u001b[43m,\u001b[49m\u001b[43m \u001b[49m\u001b[43moptions\u001b[49m\u001b[38;5;241;43m=\u001b[39;49m\u001b[43m{\u001b[49m\u001b[38;5;124;43m'\u001b[39;49m\u001b[38;5;124;43mdefaultLoader\u001b[39;49m\u001b[38;5;124;43m'\u001b[39;49m\u001b[43m:\u001b[49m\u001b[43m \u001b[49m\u001b[38;5;28;43mself\u001b[39;49m\u001b[38;5;241;43m.\u001b[39;49m\u001b[43mloader\u001b[49m\u001b[43m}\u001b[49m\u001b[43m)\u001b[49m\n\u001b[1;32m    248\u001b[0m depth \u001b[38;5;241m-\u001b[39m\u001b[38;5;241m=\u001b[39m\u001b[38;5;241m1\u001b[39m\n\u001b[1;32m    250\u001b[0m \u001b[38;5;66;03m# mainfile context\u001b[39;00m\n",
      "File \u001b[0;32m~/customlib/homebrew/Caskroom/mambaforge/base/lib/python3.10/site-packages/pyld/jsonld.py:163\u001b[0m, in \u001b[0;36mexpand\u001b[0;34m(input_, options)\u001b[0m\n\u001b[1;32m    145\u001b[0m \u001b[38;5;28;01mdef\u001b[39;00m\u001b[38;5;250m \u001b[39m\u001b[38;5;21mexpand\u001b[39m(input_, options\u001b[38;5;241m=\u001b[39m\u001b[38;5;28;01mNone\u001b[39;00m):\n\u001b[1;32m    146\u001b[0m \u001b[38;5;250m    \u001b[39m\u001b[38;5;124;03m\"\"\"\u001b[39;00m\n\u001b[1;32m    147\u001b[0m \u001b[38;5;124;03m    Performs JSON-LD expansion.\u001b[39;00m\n\u001b[1;32m    148\u001b[0m \n\u001b[0;32m   (...)\u001b[0m\n\u001b[1;32m    161\u001b[0m \u001b[38;5;124;03m    :return: the expanded JSON-LD output.\u001b[39;00m\n\u001b[1;32m    162\u001b[0m \u001b[38;5;124;03m    \"\"\"\u001b[39;00m\n\u001b[0;32m--> 163\u001b[0m     \u001b[38;5;28;01mreturn\u001b[39;00m \u001b[43mJsonLdProcessor\u001b[49m\u001b[43m(\u001b[49m\u001b[43m)\u001b[49m\u001b[38;5;241;43m.\u001b[39;49m\u001b[43mexpand\u001b[49m\u001b[43m(\u001b[49m\u001b[43minput_\u001b[49m\u001b[43m,\u001b[49m\u001b[43m \u001b[49m\u001b[43moptions\u001b[49m\u001b[43m)\u001b[49m\n",
      "File \u001b[0;32m~/customlib/homebrew/Caskroom/mambaforge/base/lib/python3.10/site-packages/pyld/jsonld.py:870\u001b[0m, in \u001b[0;36mJsonLdProcessor.expand\u001b[0;34m(self, input_, options)\u001b[0m\n\u001b[1;32m    866\u001b[0m     active_ctx \u001b[38;5;241m=\u001b[39m \u001b[38;5;28mself\u001b[39m\u001b[38;5;241m.\u001b[39mprocess_context(\n\u001b[1;32m    867\u001b[0m         active_ctx, remote_context, options)\n\u001b[1;32m    869\u001b[0m \u001b[38;5;66;03m# do expansion\u001b[39;00m\n\u001b[0;32m--> 870\u001b[0m expanded \u001b[38;5;241m=\u001b[39m \u001b[38;5;28;43mself\u001b[39;49m\u001b[38;5;241;43m.\u001b[39;49m\u001b[43m_expand\u001b[49m\u001b[43m(\u001b[49m\u001b[43mactive_ctx\u001b[49m\u001b[43m,\u001b[49m\u001b[43m \u001b[49m\u001b[38;5;28;43;01mNone\u001b[39;49;00m\u001b[43m,\u001b[49m\u001b[43m \u001b[49m\u001b[43mdocument\u001b[49m\u001b[43m,\u001b[49m\u001b[43m \u001b[49m\u001b[43moptions\u001b[49m\u001b[43m,\u001b[49m\n\u001b[1;32m    871\u001b[0m \u001b[43m    \u001b[49m\u001b[43minside_list\u001b[49m\u001b[38;5;241;43m=\u001b[39;49m\u001b[38;5;28;43;01mFalse\u001b[39;49;00m\u001b[43m)\u001b[49m\n\u001b[1;32m    873\u001b[0m \u001b[38;5;66;03m# optimize away @graph with no other properties\u001b[39;00m\n\u001b[1;32m    874\u001b[0m \u001b[38;5;28;01mif\u001b[39;00m (_is_object(expanded) \u001b[38;5;129;01mand\u001b[39;00m \u001b[38;5;124m'\u001b[39m\u001b[38;5;124m@graph\u001b[39m\u001b[38;5;124m'\u001b[39m \u001b[38;5;129;01min\u001b[39;00m expanded \u001b[38;5;129;01mand\u001b[39;00m\n\u001b[1;32m    875\u001b[0m         \u001b[38;5;28mlen\u001b[39m(expanded) \u001b[38;5;241m==\u001b[39m \u001b[38;5;241m1\u001b[39m):\n",
      "File \u001b[0;32m~/customlib/homebrew/Caskroom/mambaforge/base/lib/python3.10/site-packages/pyld/jsonld.py:2302\u001b[0m, in \u001b[0;36mJsonLdProcessor._expand\u001b[0;34m(self, active_ctx, active_property, element, options, inside_list, inside_index, type_scoped_ctx)\u001b[0m\n\u001b[1;32m   2299\u001b[0m \u001b[38;5;66;03m# recursively expand object\u001b[39;00m\n\u001b[1;32m   2300\u001b[0m \u001b[38;5;66;03m# if element has a context, process it\u001b[39;00m\n\u001b[1;32m   2301\u001b[0m \u001b[38;5;28;01mif\u001b[39;00m \u001b[38;5;124m'\u001b[39m\u001b[38;5;124m@context\u001b[39m\u001b[38;5;124m'\u001b[39m \u001b[38;5;129;01min\u001b[39;00m element:\n\u001b[0;32m-> 2302\u001b[0m     active_ctx \u001b[38;5;241m=\u001b[39m \u001b[38;5;28;43mself\u001b[39;49m\u001b[38;5;241;43m.\u001b[39;49m\u001b[43m_process_context\u001b[49m\u001b[43m(\u001b[49m\n\u001b[1;32m   2303\u001b[0m \u001b[43m        \u001b[49m\u001b[43mactive_ctx\u001b[49m\u001b[43m,\u001b[49m\u001b[43m \u001b[49m\u001b[43melement\u001b[49m\u001b[43m[\u001b[49m\u001b[38;5;124;43m'\u001b[39;49m\u001b[38;5;124;43m@context\u001b[39;49m\u001b[38;5;124;43m'\u001b[39;49m\u001b[43m]\u001b[49m\u001b[43m,\u001b[49m\u001b[43m \u001b[49m\u001b[43moptions\u001b[49m\u001b[43m)\u001b[49m\n\u001b[1;32m   2305\u001b[0m \u001b[38;5;66;03m# set the type-scoped context to the context on input, for use later\u001b[39;00m\n\u001b[1;32m   2306\u001b[0m type_scoped_ctx \u001b[38;5;241m=\u001b[39m active_ctx\n",
      "File \u001b[0;32m~/customlib/homebrew/Caskroom/mambaforge/base/lib/python3.10/site-packages/pyld/jsonld.py:3095\u001b[0m, in \u001b[0;36mJsonLdProcessor._process_context\u001b[0;34m(self, active_ctx, local_ctx, options, override_protected, propagate, validate_scoped, cycles)\u001b[0m\n\u001b[1;32m   3092\u001b[0m     ctx \u001b[38;5;241m=\u001b[39m ctx[\u001b[38;5;124m'\u001b[39m\u001b[38;5;124m@context\u001b[39m\u001b[38;5;124m'\u001b[39m]\n\u001b[1;32m   3094\u001b[0m \u001b[38;5;28;01mif\u001b[39;00m \u001b[38;5;129;01mnot\u001b[39;00m _is_object(ctx):\n\u001b[0;32m-> 3095\u001b[0m     \u001b[38;5;28;01mraise\u001b[39;00m JsonLdError(\n\u001b[1;32m   3096\u001b[0m         \u001b[38;5;124m'\u001b[39m\u001b[38;5;124mInvalid JSON-LD syntax; invalid remote context.\u001b[39m\u001b[38;5;124m'\u001b[39m,\n\u001b[1;32m   3097\u001b[0m         \u001b[38;5;124m'\u001b[39m\u001b[38;5;124mjsonld.SyntaxError\u001b[39m\u001b[38;5;124m'\u001b[39m, {\u001b[38;5;124m'\u001b[39m\u001b[38;5;124mcontext\u001b[39m\u001b[38;5;124m'\u001b[39m: ctx},\n\u001b[1;32m   3098\u001b[0m         code\u001b[38;5;241m=\u001b[39m\u001b[38;5;124m'\u001b[39m\u001b[38;5;124minvalid local context\u001b[39m\u001b[38;5;124m'\u001b[39m)\n\u001b[1;32m   3100\u001b[0m \u001b[38;5;66;03m# TODO: there is likely a `previousContext` cloning optimization that\u001b[39;00m\n\u001b[1;32m   3101\u001b[0m \u001b[38;5;66;03m# could be applied here (no need to copy it under certain conditions)\u001b[39;00m\n\u001b[1;32m   3103\u001b[0m rval \u001b[38;5;241m=\u001b[39m \u001b[38;5;28mself\u001b[39m\u001b[38;5;241m.\u001b[39m_clone_active_context(rval)\n",
      "\u001b[0;31mJsonLdError\u001b[0m: ('Invalid JSON-LD syntax; invalid remote context.',)\nType: jsonld.SyntaxError\nCode: invalid local context\nDetails: {'context': 'https://wcrp-cmip.github.io/WCRP-universe/product/_context_'}"
     ]
    }
   ],
   "source": [
    "\n",
    "cmipld.processor.expand_document('https://wcrp-cmip.github.io/CMIP6Plus_CVs/project/product.json',compact=False)"
   ]
  },
  {
   "cell_type": "code",
   "execution_count": null,
   "metadata": {},
   "outputs": [],
   "source": [
    "cmipld.processor.expand_document(f'{io_url}project/{item}.json',depth=4)"
   ]
  },
  {
   "cell_type": "code",
   "execution_count": null,
   "metadata": {},
   "outputs": [],
   "source": [
    "f'{io_url}project/{item}.json'"
   ]
  },
  {
   "cell_type": "code",
   "execution_count": null,
   "metadata": {},
   "outputs": [],
   "source": [
    "jsonld.expand(f'{io_url}project/{item}.json')"
   ]
  },
  {
   "cell_type": "code",
   "execution_count": 5,
   "metadata": {
    "vscode": {
     "languageId": "markdown"
    }
   },
   "outputs": [
    {
     "data": {
      "text/plain": [
       "[{'https://wcrp-cmip.github.io/WCRP-universe/product/description': [{'@value': 'Output produced from a model simulation. This includes the various data points and metrics generated as a result of running climate models, which simulate physical, chemical, and biological processes affecting the climate system.'}],\n",
       "  '@id': 'https://wcrp-cmip.github.io/WCRP-universe/product/model-output',\n",
       "  'https://wcrp-cmip.github.io/WCRP-universe/product/label': [{'@value': 'model-output'}],\n",
       "  '@type': ['wcrp:product', 'https://wcrp-cmip.github.io/WCRP-universe/']}]"
      ]
     },
     "execution_count": 5,
     "metadata": {},
     "output_type": "execute_result"
    }
   ],
   "source": [
    "jsonld.expand(f'https://wcrp-cmip.github.io/WCRP-universe/product/model-output.json')"
   ]
  },
  {
   "cell_type": "code",
   "execution_count": null,
   "metadata": {
    "vscode": {
     "languageId": "markdown"
    }
   },
   "outputs": [],
   "source": [
    "jsonld.frame(f'https://wcrp-cmip.github.io/WCRP-universe/product/model-output.json',f'https://wcrp-cmip.github.io/WCRP-universe/product/model-output.json')"
   ]
  },
  {
   "cell_type": "code",
   "execution_count": null,
   "metadata": {},
   "outputs": [],
   "source": [
    "repo_url = cmipld.utils.git.url()\n",
    "io_url = cmipld.utils.git.url2io(repo_url)\n",
    "\n",
    "# localserver.copy_existing_repos([[ldpath,'cmip6plus']])\n",
    "\n",
    "item='product'\n",
    "a = jsonld.expand(f'{io_url}project/{item}.json')\n",
    "\n",
    "\n",
    "\n",
    "b = jsonld.frame(f'{io_url}project/{item}.json',f'{io_url}project/_context_')\n",
    "\n",
    "a"
   ]
  },
  {
   "cell_type": "code",
   "execution_count": 3,
   "metadata": {},
   "outputs": [],
   "source": [
    "\n",
    "\n",
    "def get_entry(data,entry='label'):\n",
    "    return [i.get(entry) for i in data]\n",
    "\n",
    "def tables(data):\n",
    "    return get_entry(data['tables'])\n",
    "    \n",
    "# getattr(cmipld,'processor')"
   ]
  },
  {
   "cell_type": "code",
   "execution_count": 5,
   "metadata": {},
   "outputs": [],
   "source": [
    "# getattr(cmipld,'processor')"
   ]
  },
  {
   "cell_type": "code",
   "execution_count": null,
   "metadata": {},
   "outputs": [],
   "source": [
    "from collections import OrderedDict\n",
    "\n",
    "CV = OrderedDict()\n",
    "\n",
    "\n",
    "for item in [\n",
    "    'product',\n",
    "    'mip-era',\n",
    "    'license',\n",
    "    'activity',\n",
    "    'tracking-id',\n",
    "    'drs',\n",
    "    'repo',\n",
    "    # 'tables',\n",
    "    'required-global-attributes',\n",
    "    'index'\n",
    "    ]:\n",
    "    \n",
    "    print(item)\n",
    "    # CV[item] = getattr(locals(),item)\n",
    "    CV[item] = cmipld.processor.get(f'{io_url}project/{item}.json', depth=3)[0]\n",
    "\n"
   ]
  },
  {
   "cell_type": "code",
   "execution_count": null,
   "metadata": {},
   "outputs": [],
   "source": [
    "CV['product']"
   ]
  },
  {
   "cell_type": "code",
   "execution_count": null,
   "metadata": {},
   "outputs": [],
   "source": []
  },
  {
   "cell_type": "code",
   "execution_count": null,
   "metadata": {},
   "outputs": [],
   "source": [
    "\n",
    "\n",
    "# cmipld.processor.loader(f'{io_url}project/_context_',{})\n",
    "\n",
    "jsonld.expand([{\n",
    "        \"@context\": [\n",
    "        {\n",
    "            \"@base\": \"https://wcrp-cmip.github.io/CMIP6Plus_CVs/project/\",\n",
    "            \"@vocab\": \"https://wcrp-cmip.github.io/CMIP6Plus_CVs/project/\",\n",
    "            \"activity\": {\n",
    "                \"@container\": \"@id\",\n",
    "                \"@context\": \"http://wcrp-cmip.github.io/WCRP-universe/activity/_context_\"\n",
    "            },\n",
    "            \"mip_era\": {\n",
    "                \"@type\": \"@id\",\n",
    "                \"@context\": \"http://wcrp-cmip.github.io/WCRP-universe/mip/_context_\"\n",
    "            },\n",
    "            \"product\": {\n",
    "                \"@type\": \"@id\",\n",
    "                \"@context\": \"https://wcrp-cmip.github.io/WCRP-universe/product/_context_\"\n",
    "            },\n",
    "            \"tables\": {\n",
    "                \"@type\": \"@id\",\n",
    "                \"@context\": \"http://wcrp-cmip.github.io/MIP-variables/tables/_context_\"\n",
    "            },\n",
    "            \"license\":{\n",
    "                \"@type\": \"@id\",\n",
    "                \"@context\": \"http://wcrp-cmip.github.io/WCRP-universe/license/_context_\"\n",
    "            }\n",
    "        }\n",
    "    ],\n",
    "        '@id': 'project/product',\n",
    "  'product': ['model-output'],\n",
    "  '@type': ['wcrp:project',\n",
    "   'https://wcrp-cmip.github.io/CMIP6Plus_CVs/',\n",
    "   'wcrp:product']}])#,f'{io_url}project/product.json')\n",
    "\n"
   ]
  },
  {
   "cell_type": "code",
   "execution_count": null,
   "metadata": {},
   "outputs": [],
   "source": [
    "import requests\n",
    "item='product'\n",
    "print(io_url)\n",
    "iourl = localhost\n",
    "d = requests.get(f'{io_url}project/{item}.json').json()\n",
    "c = requests.get(f'{io_url}project/_context_').json()\n",
    "c"
   ]
  },
  {
   "cell_type": "code",
   "execution_count": null,
   "metadata": {},
   "outputs": [],
   "source": [
    "d['@context'] = c['@context'][1]\n",
    "jsonld.expand(d)"
   ]
  },
  {
   "cell_type": "code",
   "execution_count": null,
   "metadata": {},
   "outputs": [],
   "source": [
    "\n",
    "# localserver.copy_existing_repos([[ldpath,'cmip6plus']])\n",
    "\n",
    "item='product'\n",
    "jsonld.expand(f'{io_url}project/{item}.json')"
   ]
  },
  {
   "cell_type": "code",
   "execution_count": null,
   "metadata": {},
   "outputs": [],
   "source": [
    "# This means we can make 'locally hosted' content appear as an external resource in our PYLD instance\n",
    "\n",
    "testfile = f'{io_url}project/'\n",
    "\n"
   ]
  },
  {
   "cell_type": "code",
   "execution_count": null,
   "metadata": {},
   "outputs": [],
   "source": []
  },
  {
   "cell_type": "code",
   "execution_count": null,
   "metadata": {},
   "outputs": [],
   "source": [
    "CV['license']"
   ]
  },
  {
   "cell_type": "code",
   "execution_count": null,
   "metadata": {},
   "outputs": [],
   "source": [
    "item = 'tables'\n",
    "\n",
    "\n",
    "\n",
    "\n",
    "frame = {\n",
    "    '@context': [\n",
    "   {'@base': 'https://wcrp-cmip.github.io/CMIP6Plus_CVs/project/',\n",
    "    '@vocab': 'https://wcrp-cmip.github.io/CMIP6Plus_CVs/project/',\n",
    "    'activity': {'@container': '@id',\n",
    "     '@context': 'https://wcrp-cmip.github.io/WCRP-universe/activity/_context_'},\n",
    "    'mip_era': {'@type': '@id',\n",
    "     '@context': 'https://wcrp-cmip.github.io/WCRP-universe/mip/_context_'},\n",
    "    'product': {'@type': '@id',\n",
    "     '@context': 'https://wcrp-cmip.github.io/WCRP-universe/product/_context_'},\n",
    "    'tables': {'@type': '@id',\n",
    "     '@context': 'https://wcrp-cmip.github.io/MIP-variables/tables/_context_'},\n",
    "    'license': {'@type': '@id',\n",
    "     '@context': 'https://wcrp-cmip.github.io/WCRP-universe/license/_context_'}}],\n",
    "    \"id\": \"product\",\n",
    "    \"type\": [\n",
    "        \"wcrp:project\",\n",
    "        \"cmip6plus\",\n",
    "        \"wcrp:product\"\n",
    "    ],\n",
    "    \"product\": [\n",
    "        \"model-output\"\n",
    "    ]\n",
    "         \n",
    "}\n",
    "         \n",
    "         \n",
    "        #  ,\"tables\":[{\"product\":\"\"}],\"@embed\":\"@always\"}\n",
    "\n",
    "res = jsonld.expand(frame)\n",
    "\n",
    "res"
   ]
  },
  {
   "cell_type": "code",
   "execution_count": null,
   "metadata": {},
   "outputs": [],
   "source": [
    "#  if depth = 1 parallel, otherwise serial \n",
    "#   ptqdm?\n",
    "\n",
    "\n",
    "cahcheing \n",
    "fail repeat \n",
    "\n"
   ]
  },
  {
   "cell_type": "code",
   "execution_count": null,
   "metadata": {},
   "outputs": [],
   "source": [
    "from p_tqdm import p_map"
   ]
  },
  {
   "cell_type": "code",
   "execution_count": null,
   "metadata": {},
   "outputs": [],
   "source": [
    "from pyld import jsonld\n",
    "jsonld.frame(cmipld.get(f'{io_url}project/{item}.json'), {\n",
    "    '@context': [\n",
    "        f'{io_url}project/{item}.json', \n",
    "        ],\n",
    "    \"tables\":{\n",
    "            \"table_id\":'',\n",
    "            \"@explicit\": True,\n",
    "            }\n",
    "    })"
   ]
  },
  {
   "cell_type": "code",
   "execution_count": null,
   "metadata": {},
   "outputs": [],
   "source": []
  },
  {
   "cell_type": "code",
   "execution_count": null,
   "metadata": {},
   "outputs": [],
   "source": [
    "jsonld.frame(f'{cmipld.mapping[\"variables\"]}tables/apsubhrptsite',{\"@context\":[f'{cmipld.mapping[\"variables\"]}tables/apsubhrptsite',{}],\"table_id\":{},\"@explicit\":True})"
   ]
  },
  {
   "cell_type": "code",
   "execution_count": null,
   "metadata": {},
   "outputs": [],
   "source": [
    "# localserver.copy_existing_repos([[ldpath,'current_repo']])"
   ]
  },
  {
   "cell_type": "code",
   "execution_count": null,
   "metadata": {},
   "outputs": [],
   "source": [
    "cmipld.get(f'{io_url}source/cesm2.json')"
   ]
  },
  {
   "cell_type": "code",
   "execution_count": null,
   "metadata": {},
   "outputs": [],
   "source": [
    "           \"model-component\": {\n",
    "                \"@context\": \"https://wcrp-cmip.github.io/CMIP6Plus_CVs/component/_context_\",\n",
    "                \"@type\": \"@id\"\n",
    "            }"
   ]
  },
  {
   "cell_type": "code",
   "execution_count": null,
   "metadata": {},
   "outputs": [],
   "source": [
    "jsonld.expand(f'{io_url}source/cesm2.json')"
   ]
  },
  {
   "cell_type": "code",
   "execution_count": 8,
   "metadata": {},
   "outputs": [
    {
     "data": {
      "text/plain": [
       "{'@base': 'https://wcrp-cmip.github.io/CMIP6Plus_CVs/project/',\n",
       " '@vocab': 'https://wcrp-cmip.github.io/CMIP6Plus_CVs/project/',\n",
       " 'activity': {'@container': '@id',\n",
       "  '@context': 'https://wcrp-cmip.github.io/WCRP-universe/activity/_context_'},\n",
       " 'mip_era': {'@type': '@id',\n",
       "  '@context': 'https://wcrp-cmip.github.io/WCRP-universe/mip/_context_'},\n",
       " 'tables': {'@type': '@id',\n",
       "  '@context': 'https://wcrp-cmip.github.io/MIP-variables/tables/_context_'},\n",
       " 'license': {'@type': '@id',\n",
       "  '@context': 'https://wcrp-cmip.github.io/WCRP-universe/license/_context_'},\n",
       " 'product': {'@type': '@id',\n",
       "  '@context': 'https://wcrp-cmip.github.io/WCRP-universe/product/_context_'}}"
      ]
     },
     "execution_count": 8,
     "metadata": {},
     "output_type": "execute_result"
    }
   ],
   "source": [
    "import glob\n",
    "fls = glob.glob('*.json')\n",
    "fls\n",
    "\n",
    "import json\n",
    "ctx = json.load(open('_context_'))['@context'][1]\n",
    "ctx"
   ]
  },
  {
   "cell_type": "code",
   "execution_count": 9,
   "metadata": {},
   "outputs": [
    {
     "name": "stdout",
     "output_type": "stream",
     "text": [
      "{'@context': ['_context_', {'@context': {'activity': {'@container': '@id', '@context': 'https://wcrp-cmip.github.io/WCRP-universe/activity/_context_'}}}], 'id': 'activity', 'type': ['wcrp:project', 'cmip6plus', 'wcrp:activity'], 'activity': {'lesfmip': {'start': 2024}, 'cmip': {'start': 2023}}}\n",
      "{'@context': ['_context_', {'@context': {'mip_era': {'@type': '@id', '@context': 'https://wcrp-cmip.github.io/WCRP-universe/mip/_context_'}}}], 'id': 'mip-era', 'type': ['wcrp:project', 'cmip6plus', 'wcrp:mip_era'], 'mip_era': ['cmip6plus']}\n",
      "{'@context': ['_context_', {'@context': {'tables': {'@type': '@id', '@context': 'https://wcrp-cmip.github.io/MIP-variables/tables/_context_'}}}], 'id': 'tables', 'type': ['wcrp:project', 'cmip6plus', 'wcrp:tables'], 'tables': ['acmon', 'acmonz', 'ae1hr', 'ae3hrpt', 'ae3hrptlev', 'ae6hr', 'ae6hrpt', 'ae6hrptlev', 'aeday', 'aemon', 'aemonlev', 'aemonz', 'aesubhrpt', 'aesubhrptsite', 'ap1hr', 'ap1hrpt', 'ap3hr', 'ap3hrpt', 'ap3hrptlev', 'ap6hr', 'ap6hrpt', 'ap6hrptlev', 'ap6hrptz', 'apday', 'apdaylev', 'apdayz', 'apfx', 'apmon', 'apmonclim', 'apmonclimlev', 'apmondiurnal', 'apmonlev', 'apmonz', 'apsubhrpt', 'apsubhrptlev', 'apsubhrptsite', 'giafx', 'giamon', 'giayr', 'gigfx', 'gigmon', 'gigyr', 'li3hrpt', 'li6hrpt', 'liday', 'lifx', 'limon', 'lisubhrptsite', 'lp3hr', 'lp3hrpt', 'lp6hrpt', 'lpday', 'lpfx', 'lpmon', 'lpyr', 'lpyrpt', 'obday', 'obmon', 'obmonlev', 'obyr', 'obyrlev', 'op3hrpt', 'opday', 'opdec', 'opdeclev', 'opdecz', 'opfx', 'opmon', 'opmonclim', 'opmonclimlev', 'opmonlev', 'opmonz', 'opyr', 'opyrlev', 'siday', 'simon', 'simonpt']}\n",
      "{'@context': ['_context_', {'@context': {'license': {'@type': '@id', '@context': 'https://wcrp-cmip.github.io/WCRP-universe/license/_context_'}}}], 'id': 'license', 'type': ['wcrp:project', 'cmip6plus', 'wcrp:license'], 'license': {'cc-by-4.0': {'regex': '^CMIP6Plus model data produced by .* is licensed under a Creative Commons .* License (https://creativecommons\\\\.org/.*)\\\\. *Consult https://pcmdi\\\\.llnl\\\\.gov/CMIP6Plus/TermsOfUse for terms of use governing CMIP6Plus output, including citation requirements and proper acknowledgment\\\\. *The data producers and data providers make no warranty, either express or implied, including, but not limited to, warranties of merchantability and fitness for a particular purpose\\\\. *All liabilities arising from the supply of the information (including any liability arising in negligence) are excluded to the fullest extent permitted by law\\\\.$'}}}\n",
      "{'@context': ['_context_', {'@context': {'product': {'@type': '@id', '@context': 'https://wcrp-cmip.github.io/WCRP-universe/product/_context_'}}}], 'id': 'product', 'type': ['wcrp:project', 'cmip6plus', 'wcrp:product'], 'product': ['model-output']}\n"
     ]
    }
   ],
   "source": [
    "for i,j in ctx.items():\n",
    "    if '@' not in i:\n",
    "        data= json.load(open(f\"{i.replace('_','-')}.json\"))\n",
    "        data['@context'] = ['_context_',{\"@context\":{i:j}}]\n",
    "        print(data)\n",
    "        json.dump(data,open(f\"{i.replace('_','-')}.json\",'w'),indent=4)"
   ]
  },
  {
   "cell_type": "code",
   "execution_count": null,
   "metadata": {},
   "outputs": [],
   "source": []
  }
 ],
 "metadata": {
  "kernelspec": {
   "display_name": "base",
   "language": "python",
   "name": "python3"
  },
  "language_info": {
   "codemirror_mode": {
    "name": "ipython",
    "version": 3
   },
   "file_extension": ".py",
   "mimetype": "text/x-python",
   "name": "python",
   "nbconvert_exporter": "python",
   "pygments_lexer": "ipython3",
   "version": "3.10.10"
  }
 },
 "nbformat": 4,
 "nbformat_minor": 2
}
