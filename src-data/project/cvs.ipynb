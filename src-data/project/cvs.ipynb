{
 "cells": [
  {
   "cell_type": "code",
   "execution_count": 1,
   "metadata": {},
   "outputs": [
    {
     "name": "stdout",
     "output_type": "stream",
     "text": [
      "make test for url2io\n",
      "--------------------------------------------------\n",
      "Parsing repo: cmip6plus\n",
      "Location: https://github.com/WCRP-CMIP/CMIP6Plus_CVs\n",
      "Github IO link: https://wcrp-cmip.github.io/CMIP6Plus_CVs/\n",
      "--------------------------------------------------\n"
     ]
    },
    {
     "name": "stderr",
     "output_type": "stream",
     "text": [
      "/Users/daniel.ellis/customlib/homebrew/Caskroom/mambaforge/base/lib/python3.10/site-packages/tqdm/auto.py:21: TqdmWarning: IProgress not found. Please update jupyter and ipywidgets. See https://ipywidgets.readthedocs.io/en/stable/user_install.html\n",
      "  from .autonotebook import tqdm as notebook_tqdm\n"
     ]
    }
   ],
   "source": [
    "import cmipld\n",
    "import importlib\n",
    "from collections import OrderedDict\n",
    "\n",
    "\n",
    "repo_url = cmipld.utils.git.url()\n",
    "io_url = cmipld.utils.git.url2io(repo_url)\n",
    "\n",
    "whoami = cmipld.reverse_mapping()[io_url]\n",
    "print('-'*50)\n",
    "print(f'Parsing repo: {whoami}')\n",
    "print(f'Location: {repo_url}')\n",
    "print(f'Github IO link: {io_url}')\n",
    "print('-'*50)\n",
    "\n",
    "'''\n",
    "To keep this set of functions generic, we create separate files containing all relevant functions for a repository to be processed. \n",
    "When running this script we determine the parent repository, and consequently its prefix. This is then used to grab all relevant functions for processing. \n",
    "\n",
    "Example usage: getattr(this,'activity')({'activity':[{\"label\":1,\"id\":'one'}]})\n",
    "\n",
    "'''\n",
    "# Dynamically import the target module and assign it to a variable\n",
    "module_path = f\"cmipld.cvs.{whoami}\" # go to CMIPLD/CVs/<value of whoami>.py for functions\n",
    "this = importlib.import_module(module_path)\n",
    "\n"
   ]
  },
  {
   "cell_type": "code",
   "execution_count": 2,
   "metadata": {},
   "outputs": [
    {
     "name": "stderr",
     "output_type": "stream",
     "text": [
      "Cloning into '/var/folders/hc/s_7lggq12nndglbdyrn3f91m1l58yd/T/cmipld_local_ggz0xmu42025-02-04T19:28:34/universal'...\n"
     ]
    },
    {
     "name": "stdout",
     "output_type": "stream",
     "text": [
      "https://wcrp-cmip.github.io/WCRP-universe/ universal /var/folders/hc/s_7lggq12nndglbdyrn3f91m1l58yd/T/cmipld_local_ggz0xmu42025-02-04T19:28:34\n",
      "\n",
      "\n",
      "https://wcrp-cmip.github.io/MIP-variables/ variables /var/folders/hc/s_7lggq12nndglbdyrn3f91m1l58yd/T/cmipld_local_ggz0xmu42025-02-04T19:28:34\n"
     ]
    },
    {
     "name": "stderr",
     "output_type": "stream",
     "text": [
      "Cloning into '/var/folders/hc/s_7lggq12nndglbdyrn3f91m1l58yd/T/cmipld_local_ggz0xmu42025-02-04T19:28:34/variables'...\n"
     ]
    },
    {
     "name": "stdout",
     "output_type": "stream",
     "text": [
      "\n",
      "\n",
      "https://wcrp-cmip.github.io/CMIP6Plus_CVs/ cmip6plus /var/folders/hc/s_7lggq12nndglbdyrn3f91m1l58yd/T/cmipld_local_ggz0xmu42025-02-04T19:28:34\n"
     ]
    },
    {
     "name": "stderr",
     "output_type": "stream",
     "text": [
      "Cloning into '/var/folders/hc/s_7lggq12nndglbdyrn3f91m1l58yd/T/cmipld_local_ggz0xmu42025-02-04T19:28:34/cmip6plus'...\n"
     ]
    },
    {
     "name": "stdout",
     "output_type": "stream",
     "text": [
      "\n",
      "\n",
      "Repositories cloned into <TemporaryDirectory '/var/folders/hc/s_7lggq12nndglbdyrn3f91m1l58yd/T/cmipld_local_ggz0xmu42025-02-04T19:28:34'>\n",
      "Copying the repo into LocalServer  /Users/daniel.ellis/WIPwork/CMIP6Plus_CVs/src-data/ --> cmip6plus\n",
      "Repositories copied into <TemporaryDirectory '/var/folders/hc/s_7lggq12nndglbdyrn3f91m1l58yd/T/cmipld_local_ggz0xmu42025-02-04T19:28:34'>\n"
     ]
    },
    {
     "name": "stderr",
     "output_type": "stream",
     "text": [
      ".........+...+.+......+......+..+...+...+.+...+...+..+..........+++++++++++++++++++++++++++++++++++++++++++++*..+..+............+++++++++++++++++++++++++++++++++++++++++++++*...+.....+......+.+.....+.......+..................+..+..........+......+.....+............+..........+..............+.+.....+...............+....+....................+..........+...............+...+........+.......+......+.....+............+.........+...+..........+...+...+.....+............+.......+........+...........................+......+.......+.....+..........+..............+.............+......+......+...+.....+...+...+......................+...+......+..................+.....+...+.........+....+..+.........+++++\n",
      ".......+...................+++++++++++++++++++++++++++++++++++++++++++++*..........+............+......+.....+............+...+.......+..+......+.+.....+...+......+.+.....+......+....+......+...+...........+....+..+....+...........+++++++++++++++++++++++++++++++++++++++++++++*...........+.............+........+.......+.....+...+......+...+.+..+....+...........+.......+........+..................+..........+............+.....+....+...+..+....+..............+............+...+...+...+.........+.............+..+.+............+...+..+...+.+...+..+.+.....+....+...+..+"
     ]
    },
    {
     "name": "stdout",
     "output_type": "stream",
     "text": [
      "Created SSL certificates in: /var/folders/hc/s_7lggq12nndglbdyrn3f91m1l58yd/T/cmipld_local_ggz0xmu42025-02-04T19:28:34\n",
      "Serving /var/folders/hc/s_7lggq12nndglbdyrn3f91m1l58yd/T/cmipld_local_ggz0xmu42025-02-04T19:28:34 at https://localhost:8089\n"
     ]
    },
    {
     "name": "stderr",
     "output_type": "stream",
     "text": [
      ".........+++++\n",
      "-----\n"
     ]
    }
   ],
   "source": [
    "# Set up offline override for the current repository\n",
    "\n",
    "from cmipld.utils.offline import LD_server\n",
    "\n",
    "ldpath = cmipld.utils.git.ldpath()\n",
    "\n",
    "\n",
    "# create a temporary directory containing (a copy of) the current repository\n",
    "# localserver = LD_server(copy = [[ldpath,'current_repo']])\n",
    "repos= { \n",
    "        'https://wcrp-cmip.github.io/WCRP-universe/': 'universal',\n",
    "        'https://wcrp-cmip.github.io/MIP-variables/': 'variables',\n",
    "        'https://wcrp-cmip.github.io/CMIP6Plus_CVs/': 'cmip6plus'\n",
    "        }\n",
    "\n",
    "localserver = LD_server(repos = repos.items(),copy = [[ldpath,whoami]],override='y')\n",
    "\n",
    "# localserver = LD_server(copy = [[ldpath,'cmip6plus']])\n",
    "\n",
    "\n",
    "localhost = localserver.start_server(8089)\n"
   ]
  },
  {
   "cell_type": "code",
   "execution_count": 3,
   "metadata": {},
   "outputs": [
    {
     "name": "stdout",
     "output_type": "stream",
     "text": [
      "Setting up location forwarding for:\n",
      " -  https://wcrp-cmip.github.io/WCRP-universe/ >>> https://localhost:8089/universal/ \n",
      "\n",
      " -  https://wcrp-cmip.github.io/MIP-variables/ >>> https://localhost:8089/variables/ \n",
      "\n",
      " -  https://wcrp-cmip.github.io/CMIP6Plus_CVs/ >>> https://localhost:8089/cmip6plus/ \n",
      "\n"
     ]
    }
   ],
   "source": [
    "cmipld.processor.replace_loader(localhost,[list(i) for i in repos.items()]) "
   ]
  },
  {
   "cell_type": "code",
   "execution_count": 4,
   "metadata": {},
   "outputs": [],
   "source": [
    "\n",
    "CV = OrderedDict()\n",
    "cmipld.processor.clear_cache()\n",
    "\n",
    "\n",
    "es_data = {}"
   ]
  },
  {
   "cell_type": "code",
   "execution_count": 5,
   "metadata": {},
   "outputs": [
    {
     "name": "stderr",
     "output_type": "stream",
     "text": [
      "127.0.0.1 - - [04/Feb/2025 19:28:37] \"GET /cmip6plus/project/graph.jsonld HTTP/1.1\" 200 -\n",
      "127.0.0.1 - - [04/Feb/2025 19:28:37] \"GET /universal/activity/_context_ HTTP/1.1\" 200 -\n",
      "127.0.0.1 - - [04/Feb/2025 19:28:37] \"GET /universal/_context_ HTTP/1.1\" 200 -\n",
      "127.0.0.1 - - [04/Feb/2025 19:28:37] \"GET /universal/license/_context_ HTTP/1.1\" 200 -\n",
      "127.0.0.1 - - [04/Feb/2025 19:28:37] \"GET /universal/mip/_context_ HTTP/1.1\" 200 -\n",
      "127.0.0.1 - - [04/Feb/2025 19:28:37] \"GET /universal/product/_context_ HTTP/1.1\" 200 -\n",
      "127.0.0.1 - - [04/Feb/2025 19:28:37] \"GET /variables/tables/_context_ HTTP/1.1\" 200 -\n",
      "127.0.0.1 - - [04/Feb/2025 19:28:37] \"GET /variables/_context_ HTTP/1.1\" 200 -\n",
      "127.0.0.1 - - [04/Feb/2025 19:28:37] \"GET /variables/variables/_context_ HTTP/1.1\" 200 -\n",
      "127.0.0.1 - - [04/Feb/2025 19:28:38] \"GET /cmip6plus/project/graph.jsonld HTTP/1.1\" 200 -\n",
      "127.0.0.1 - - [04/Feb/2025 19:28:38] \"GET /universal/activity/graph.jsonld HTTP/1.1\" 200 -\n",
      "127.0.0.1 - - [04/Feb/2025 19:28:38] \"GET /universal/license/graph.jsonld HTTP/1.1\" 200 -\n",
      "127.0.0.1 - - [04/Feb/2025 19:28:38] \"GET /universal/product/graph.jsonld HTTP/1.1\" 200 -\n",
      "127.0.0.1 - - [04/Feb/2025 19:28:38] \"GET /universal/mip/graph.jsonld HTTP/1.1\" 200 -\n",
      "127.0.0.1 - - [04/Feb/2025 19:28:38] \"GET /variables/tables/graph.jsonld HTTP/1.1\" 200 -\n",
      "127.0.0.1 - - [04/Feb/2025 19:28:38] \"GET /universal/activity/_context_ HTTP/1.1\" 200 -\n",
      "127.0.0.1 - - [04/Feb/2025 19:28:38] \"GET /universal/product/_context_ HTTP/1.1\" 200 -\n",
      "127.0.0.1 - - [04/Feb/2025 19:28:38] \"GET /universal/license/_context_ HTTP/1.1\" 200 -\n",
      "127.0.0.1 - - [04/Feb/2025 19:28:38] \"GET /universal/mip/_context_ HTTP/1.1\" 200 -\n",
      "127.0.0.1 - - [04/Feb/2025 19:28:38] \"GET /universal/product/_context_ HTTP/1.1\" 200 -\n",
      "127.0.0.1 - - [04/Feb/2025 19:28:38] \"GET /variables/tables/_context_ HTTP/1.1\" 200 -\n",
      "127.0.0.1 - - [04/Feb/2025 19:28:38] \"GET /cmip6plus/project/_context_ HTTP/1.1\" 200 -\n",
      "127.0.0.1 - - [04/Feb/2025 19:28:38] \"GET /cmip6plus/_context_ HTTP/1.1\" 200 -\n",
      "127.0.0.1 - - [04/Feb/2025 19:28:38] \"GET /universal/resolution/_context_ HTTP/1.1\" 200 -\n",
      "127.0.0.1 - - [04/Feb/2025 19:28:38] \"GET /universal/activity/_context_ HTTP/1.1\" 200 -\n",
      "127.0.0.1 - - [04/Feb/2025 19:28:38] \"GET /universal/license/_context_ HTTP/1.1\" 200 -\n",
      "127.0.0.1 - - [04/Feb/2025 19:28:38] \"GET /universal/mip/_context_ HTTP/1.1\" 200 -\n",
      "127.0.0.1 - - [04/Feb/2025 19:28:38] \"GET /universal/product/_context_ HTTP/1.1\" 200 -\n",
      "127.0.0.1 - - [04/Feb/2025 19:28:38] \"GET /variables/tables/_context_ HTTP/1.1\" 200 -\n",
      "127.0.0.1 - - [04/Feb/2025 19:28:38] \"GET /cmip6plus/project/_context_ HTTP/1.1\" 200 -\n",
      "127.0.0.1 - - [04/Feb/2025 19:28:38] \"GET /universal/mip/_context_ HTTP/1.1\" 200 -\n",
      "127.0.0.1 - - [04/Feb/2025 19:28:38] \"GET /universal/activity/_context_ HTTP/1.1\" 200 -\n",
      "127.0.0.1 - - [04/Feb/2025 19:28:38] \"GET /universal/license/_context_ HTTP/1.1\" 200 -\n",
      "127.0.0.1 - - [04/Feb/2025 19:28:38] \"GET /universal/mip/_context_ HTTP/1.1\" 200 -\n",
      "127.0.0.1 - - [04/Feb/2025 19:28:38] \"GET /universal/product/_context_ HTTP/1.1\" 200 -\n",
      "127.0.0.1 - - [04/Feb/2025 19:28:38] \"GET /variables/tables/_context_ HTTP/1.1\" 200 -\n",
      "127.0.0.1 - - [04/Feb/2025 19:28:38] \"GET /cmip6plus/project/_context_ HTTP/1.1\" 200 -\n",
      "127.0.0.1 - - [04/Feb/2025 19:28:38] \"GET /universal/license/_context_ HTTP/1.1\" 200 -\n",
      "127.0.0.1 - - [04/Feb/2025 19:28:38] \"GET /universal/activity/_context_ HTTP/1.1\" 200 -\n",
      "127.0.0.1 - - [04/Feb/2025 19:28:38] \"GET /universal/license/_context_ HTTP/1.1\" 200 -\n",
      "127.0.0.1 - - [04/Feb/2025 19:28:38] \"GET /universal/mip/_context_ HTTP/1.1\" 200 -\n",
      "127.0.0.1 - - [04/Feb/2025 19:28:38] \"GET /universal/product/_context_ HTTP/1.1\" 200 -\n",
      "127.0.0.1 - - [04/Feb/2025 19:28:38] \"GET /variables/tables/_context_ HTTP/1.1\" 200 -\n",
      "127.0.0.1 - - [04/Feb/2025 19:28:38] \"GET /cmip6plus/project/_context_ HTTP/1.1\" 200 -\n",
      "127.0.0.1 - - [04/Feb/2025 19:28:38] \"GET /universal/activity/_context_ HTTP/1.1\" 200 -\n",
      "127.0.0.1 - - [04/Feb/2025 19:28:38] \"GET /universal/activity/_context_ HTTP/1.1\" 200 -\n",
      "127.0.0.1 - - [04/Feb/2025 19:28:38] \"GET /universal/license/_context_ HTTP/1.1\" 200 -\n",
      "127.0.0.1 - - [04/Feb/2025 19:28:38] \"GET /universal/mip/_context_ HTTP/1.1\" 200 -\n",
      "127.0.0.1 - - [04/Feb/2025 19:28:38] \"GET /universal/product/_context_ HTTP/1.1\" 200 -\n",
      "127.0.0.1 - - [04/Feb/2025 19:28:38] \"GET /variables/tables/_context_ HTTP/1.1\" 200 -\n",
      "127.0.0.1 - - [04/Feb/2025 19:28:38] \"GET /cmip6plus/project/_context_ HTTP/1.1\" 200 -\n",
      "127.0.0.1 - - [04/Feb/2025 19:28:39] \"GET /universal/activity/_context_ HTTP/1.1\" 200 -\n",
      "127.0.0.1 - - [04/Feb/2025 19:28:39] \"GET /universal/license/_context_ HTTP/1.1\" 200 -\n",
      "127.0.0.1 - - [04/Feb/2025 19:28:39] \"GET /universal/mip/_context_ HTTP/1.1\" 200 -\n",
      "127.0.0.1 - - [04/Feb/2025 19:28:39] \"GET /universal/product/_context_ HTTP/1.1\" 200 -\n",
      "127.0.0.1 - - [04/Feb/2025 19:28:39] \"GET /variables/tables/_context_ HTTP/1.1\" 200 -\n",
      "127.0.0.1 - - [04/Feb/2025 19:28:39] \"GET /cmip6plus/project/_context_ HTTP/1.1\" 200 -\n",
      "127.0.0.1 - - [04/Feb/2025 19:28:39] \"GET /universal/product/_context_ HTTP/1.1\" 200 -\n",
      "127.0.0.1 - - [04/Feb/2025 19:28:39] \"GET /universal/activity/_context_ HTTP/1.1\" 200 -\n",
      "127.0.0.1 - - [04/Feb/2025 19:28:39] \"GET /universal/license/_context_ HTTP/1.1\" 200 -\n",
      "127.0.0.1 - - [04/Feb/2025 19:28:39] \"GET /universal/mip/_context_ HTTP/1.1\" 200 -\n",
      "127.0.0.1 - - [04/Feb/2025 19:28:39] \"GET /universal/product/_context_ HTTP/1.1\" 200 -\n",
      "127.0.0.1 - - [04/Feb/2025 19:28:39] \"GET /variables/tables/_context_ HTTP/1.1\" 200 -\n",
      "127.0.0.1 - - [04/Feb/2025 19:28:39] \"GET /cmip6plus/project/_context_ HTTP/1.1\" 200 -\n",
      "127.0.0.1 - - [04/Feb/2025 19:28:39] \"GET /universal/activity/_context_ HTTP/1.1\" 200 -\n",
      "127.0.0.1 - - [04/Feb/2025 19:28:39] \"GET /universal/license/_context_ HTTP/1.1\" 200 -\n",
      "127.0.0.1 - - [04/Feb/2025 19:28:39] \"GET /universal/mip/_context_ HTTP/1.1\" 200 -\n",
      "127.0.0.1 - - [04/Feb/2025 19:28:39] \"GET /universal/product/_context_ HTTP/1.1\" 200 -\n",
      "127.0.0.1 - - [04/Feb/2025 19:28:39] \"GET /variables/tables/_context_ HTTP/1.1\" 200 -\n",
      "127.0.0.1 - - [04/Feb/2025 19:28:39] \"GET /cmip6plus/project/_context_ HTTP/1.1\" 200 -\n",
      "127.0.0.1 - - [04/Feb/2025 19:28:39] \"GET /variables/tables/_context_ HTTP/1.1\" 200 -\n",
      "127.0.0.1 - - [04/Feb/2025 19:28:39] \"GET /universal/product/_context_ HTTP/1.1\" 200 -\n",
      "127.0.0.1 - - [04/Feb/2025 19:28:39] \"GET /universal/activity/_context_ HTTP/1.1\" 200 -\n",
      "127.0.0.1 - - [04/Feb/2025 19:28:39] \"GET /universal/license/_context_ HTTP/1.1\" 200 -\n",
      "127.0.0.1 - - [04/Feb/2025 19:28:39] \"GET /universal/mip/_context_ HTTP/1.1\" 200 -\n",
      "127.0.0.1 - - [04/Feb/2025 19:28:39] \"GET /universal/product/_context_ HTTP/1.1\" 200 -\n",
      "127.0.0.1 - - [04/Feb/2025 19:28:39] \"GET /variables/tables/_context_ HTTP/1.1\" 200 -\n",
      "127.0.0.1 - - [04/Feb/2025 19:28:39] \"GET /cmip6plus//project/index-list.json HTTP/1.1\" 200 -\n",
      "127.0.0.1 - - [04/Feb/2025 19:28:39] \"GET /cmip6plus//project/_context_ HTTP/1.1\" 200 -\n",
      "127.0.0.1 - - [04/Feb/2025 19:28:39] \"GET /cmip6plus//_context_ HTTP/1.1\" 200 -\n",
      "127.0.0.1 - - [04/Feb/2025 19:28:39] \"GET /cmip6plus/project/_context_ HTTP/1.1\" 200 -\n",
      "127.0.0.1 - - [04/Feb/2025 19:28:39] \"GET /universal/realm/graph.jsonld HTTP/1.1\" 200 -\n",
      "127.0.0.1 - - [04/Feb/2025 19:28:39] \"GET /universal/realm/graph.jsonld HTTP/1.1\" 200 -\n",
      "127.0.0.1 - - [04/Feb/2025 19:28:39] \"GET /universal/frequency/graph.jsonld HTTP/1.1\" 200 -\n",
      "127.0.0.1 - - [04/Feb/2025 19:28:39] \"GET /universal/frequency/graph.jsonld HTTP/1.1\" 200 -\n",
      "127.0.0.1 - - [04/Feb/2025 19:28:39] \"GET /cmip6plus/experiment/graph.jsonld HTTP/1.1\" 200 -\n",
      "127.0.0.1 - - [04/Feb/2025 19:28:39] \"GET /universal/source-type/_context_ HTTP/1.1\" 200 -\n",
      "127.0.0.1 - - [04/Feb/2025 19:28:39] \"GET /cmip6plus/experiment/_context_ HTTP/1.1\" 200 -\n",
      "127.0.0.1 - - [04/Feb/2025 19:28:39] \"GET /cmip6plus/sub-experiment/_context_ HTTP/1.1\" 200 -\n",
      "127.0.0.1 - - [04/Feb/2025 19:28:39] \"GET /universal/activity/_context_ HTTP/1.1\" 200 -\n",
      "127.0.0.1 - - [04/Feb/2025 19:28:40] \"GET /universal/source-type/graph.jsonld HTTP/1.1\" 200 -\n",
      "127.0.0.1 - - [04/Feb/2025 19:28:40] \"GET /cmip6plus/experiment/graph.jsonld HTTP/1.1\" 200 -\n",
      "127.0.0.1 - - [04/Feb/2025 19:28:40] \"GET /universal/activity/graph.jsonld HTTP/1.1\" 200 -\n",
      "127.0.0.1 - - [04/Feb/2025 19:28:40] \"GET /universal/activity/_context_ HTTP/1.1\" 200 -\n",
      "127.0.0.1 - - [04/Feb/2025 19:28:40] \"GET /universal/source-type/_context_ HTTP/1.1\" 200 -\n",
      "127.0.0.1 - - [04/Feb/2025 19:28:40] \"GET /cmip6plus/experiment/_context_ HTTP/1.1\" 200 -\n",
      "127.0.0.1 - - [04/Feb/2025 19:28:40] \"GET /cmip6plus/sub-experiment/_context_ HTTP/1.1\" 200 -\n",
      "127.0.0.1 - - [04/Feb/2025 19:28:40] \"GET /cmip6plus/experiment/_context_ HTTP/1.1\" 200 -\n",
      "127.0.0.1 - - [04/Feb/2025 19:28:40] \"GET /universal/activity/_context_ HTTP/1.1\" 200 -\n",
      "127.0.0.1 - - [04/Feb/2025 19:28:40] \"GET /universal/source-type/_context_ HTTP/1.1\" 200 -\n",
      "127.0.0.1 - - [04/Feb/2025 19:28:40] \"GET /universal/activity/_context_ HTTP/1.1\" 200 -\n",
      "127.0.0.1 - - [04/Feb/2025 19:28:40] \"GET /universal/source-type/_context_ HTTP/1.1\" 200 -\n",
      "127.0.0.1 - - [04/Feb/2025 19:28:40] \"GET /cmip6plus/experiment/_context_ HTTP/1.1\" 200 -\n",
      "127.0.0.1 - - [04/Feb/2025 19:28:40] \"GET /cmip6plus/source/graph.jsonld HTTP/1.1\" 200 -\n",
      "127.0.0.1 - - [04/Feb/2025 19:28:40] \"GET /universal/_context_ HTTP/1.1\" 200 -\n",
      "127.0.0.1 - - [04/Feb/2025 19:28:40] \"GET /universal/activity/_context_ HTTP/1.1\" 200 -\n",
      "127.0.0.1 - - [04/Feb/2025 19:28:40] \"GET /universal/license/_context_ HTTP/1.1\" 200 -\n",
      "127.0.0.1 - - [04/Feb/2025 19:28:41] \"GET /universal/consortium/graph.jsonld HTTP/1.1\" 200 -\n",
      "127.0.0.1 - - [04/Feb/2025 19:28:41] \"GET /cmip6plus/source/graph.jsonld HTTP/1.1\" 200 -\n",
      "127.0.0.1 - - [04/Feb/2025 19:28:41] \"GET /universal/license/graph.jsonld HTTP/1.1\" 200 -\n",
      "127.0.0.1 - - [04/Feb/2025 19:28:41] \"GET /universal/activity/graph.jsonld HTTP/1.1\" 200 -\n",
      "127.0.0.1 - - [04/Feb/2025 19:28:41] \"GET /universal/institution/graph.jsonld HTTP/1.1\" 200 -\n",
      "127.0.0.1 - - [04/Feb/2025 19:28:41] \"GET /universal/activity/_context_ HTTP/1.1\" 200 -\n",
      "127.0.0.1 - - [04/Feb/2025 19:28:41] \"GET /universal/license/_context_ HTTP/1.1\" 200 -\n",
      "127.0.0.1 - - [04/Feb/2025 19:28:41] \"GET /universal/_context_ HTTP/1.1\" 200 -\n",
      "127.0.0.1 - - [04/Feb/2025 19:28:41] \"GET /cmip6plus/source/_context_ HTTP/1.1\" 200 -\n",
      "127.0.0.1 - - [04/Feb/2025 19:28:41] \"GET /universal/license/_context_ HTTP/1.1\" 200 -\n",
      "127.0.0.1 - - [04/Feb/2025 19:28:41] \"GET /universal/_context_ HTTP/1.1\" 200 -\n",
      "127.0.0.1 - - [04/Feb/2025 19:28:41] \"GET /universal/activity/_context_ HTTP/1.1\" 200 -\n",
      "127.0.0.1 - - [04/Feb/2025 19:28:42] \"GET /universal/license/_context_ HTTP/1.1\" 200 -\n",
      "127.0.0.1 - - [04/Feb/2025 19:28:42] \"GET /universal/_context_ HTTP/1.1\" 200 -\n",
      "127.0.0.1 - - [04/Feb/2025 19:28:42] \"GET /cmip6plus/source/_context_ HTTP/1.1\" 200 -\n",
      "127.0.0.1 - - [04/Feb/2025 19:28:42] \"GET /universal/_context_ HTTP/1.1\" 200 -\n",
      "127.0.0.1 - - [04/Feb/2025 19:28:42] \"GET /universal/activity/_context_ HTTP/1.1\" 200 -\n",
      "127.0.0.1 - - [04/Feb/2025 19:28:42] \"GET /universal/license/_context_ HTTP/1.1\" 200 -\n",
      "127.0.0.1 - - [04/Feb/2025 19:28:42] \"GET /universal/_context_ HTTP/1.1\" 200 -\n",
      "127.0.0.1 - - [04/Feb/2025 19:28:42] \"GET /cmip6plus/source/_context_ HTTP/1.1\" 200 -\n",
      "127.0.0.1 - - [04/Feb/2025 19:28:42] \"GET /universal/_context_ HTTP/1.1\" 200 -\n",
      "127.0.0.1 - - [04/Feb/2025 19:28:42] \"GET /universal/activity/_context_ HTTP/1.1\" 200 -\n",
      "127.0.0.1 - - [04/Feb/2025 19:28:42] \"GET /universal/license/_context_ HTTP/1.1\" 200 -\n",
      "127.0.0.1 - - [04/Feb/2025 19:28:42] \"GET /universal/_context_ HTTP/1.1\" 200 -\n"
     ]
    },
    {
     "name": "stdout",
     "output_type": "stream",
     "text": [
      "WARNING: Part of the loaded context contains a \"@container\" this may mean referenced items become nested in framing.\n",
      " Please check output - this is not     corrected for secondary nested items.\n",
      "[1] https://wcrp-cmip.github.io/CMIP6Plus_CVs/project ['https://wcrp-cmip.github.io/WCRP-universe/product/graph.jsonld', 'https://wcrp-cmip.github.io/CMIP6Plus_CVs/project/graph.jsonld', 'https://wcrp-cmip.github.io/MIP-variables/tables/graph.jsonld', 'https://wcrp-cmip.github.io/WCRP-universe/mip/graph.jsonld', 'https://wcrp-cmip.github.io/WCRP-universe/license/graph.jsonld', 'https://wcrp-cmip.github.io/WCRP-universe/activity/graph.jsonld']\n"
     ]
    },
    {
     "name": "stderr",
     "output_type": "stream",
     "text": [
      "100%|██████████| 6/6 [00:00<00:00, 44.33it/s]\n"
     ]
    },
    {
     "name": "stdout",
     "output_type": "stream",
     "text": [
      "repo\n",
      "mip-era\n",
      "license\n",
      "activity\n",
      "drs\n",
      "product\n",
      "required-global-attributes\n",
      "tables\n"
     ]
    },
    {
     "data": {
      "text/plain": [
       "OrderedDict([('repo', 'https://github.com/WCRP-CMIP/CMIP6Plus_CVs'),\n",
       "             ('mip_era', ['CMIP6Plus']),\n",
       "             ('license',\n",
       "              [{'id': 'universal:license/cc-by-4.0',\n",
       "                'type': ['wcrp:license', 'universal'],\n",
       "                'label': 'CC BY 4.0',\n",
       "                'long_label': 'Creative Commons Attribution 4.0 International',\n",
       "                'regex': '^CMIP6Plus model data produced by .* is licensed under a Creative Commons .* License (https://creativecommons\\\\.org/.*)\\\\. *Consult https://pcmdi\\\\.llnl\\\\.gov/CMIP6Plus/TermsOfUse for terms of use governing CMIP6Plus output, including citation requirements and proper acknowledgment\\\\. *The data producers and data providers make no warranty, either express or implied, including, but not limited to, warranties of merchantability and fitness for a particular purpose\\\\. *All liabilities arising from the supply of the information (including any liability arising in negligence) are excluded to the fullest extent permitted by law\\\\.$',\n",
       "                'url': 'https://creativecommons.org/licenses/by/4.0/'}]),\n",
       "             ('activity', ['LESFMIP', 'CMIP']),\n",
       "             ('drs',\n",
       "              {'directory-path-example': 'CMIP6Plus/CMIP/MOHC/HadGEM3-GC31-MM/historical/r1i1p1f3/Amon/tas/gn/v20191207/',\n",
       "               'directory-path-sub-experiment-example': 'CMIP6Plus/DCPP/MOHC/HadGEM3-GC31-MM/dcppA-hindcast/s1960-r1i1p1f2/Amon/tas/gn/v20200417/',\n",
       "               'directory-path-template': '<mip_era>/<activity_id>/<institution_id>/<source_id>/<experiment_id>/<member_id>/<table_id>/<variable_id>/<grid_label>/<version>',\n",
       "               'filename-example': 'tas_Amon_HadGEM3-GC31-MM_historical_r1i1p1f3_gn_185001-186912.nc',\n",
       "               'filename-sub-experiment-example': 'tas_Amon_HadGEM3-GC31-MM_dcppA-hindcast_s1960-r1i1p1f2_gn_196011-196012.nc',\n",
       "               'filename-template': '<variable_id>_<table_id>_<source_id>_<experiment_id >_<member_id>_<grid_label>[_<time_range>].nc'}),\n",
       "             ('product', ['model-output']),\n",
       "             ('required_global_attributes',\n",
       "              ['Conventions',\n",
       "               'activity_id',\n",
       "               'creation_date',\n",
       "               'data_specs_version',\n",
       "               'experiment',\n",
       "               'experiment_id',\n",
       "               'forcing_index',\n",
       "               'frequency',\n",
       "               'grid',\n",
       "               'grid_label',\n",
       "               'initialization_index',\n",
       "               'institution',\n",
       "               'institution_id',\n",
       "               'license',\n",
       "               'mip_era',\n",
       "               'nominal_resolution',\n",
       "               'physics_index',\n",
       "               'realization_index',\n",
       "               'realm',\n",
       "               'source',\n",
       "               'source_id',\n",
       "               'source_type',\n",
       "               'sub_experiment',\n",
       "               'sub_experiment_id',\n",
       "               'table_id',\n",
       "               'tracking_id',\n",
       "               'variable_id',\n",
       "               'variant_label']),\n",
       "             ('tables',\n",
       "              ['ACmon',\n",
       "               'ACmonZ',\n",
       "               'AE1hr',\n",
       "               'AE3hrPt',\n",
       "               'AE3hrPtLev',\n",
       "               'AE6hr',\n",
       "               'AE6hrPt',\n",
       "               'AE6hrPtLev',\n",
       "               'AEday',\n",
       "               'AEmon',\n",
       "               'AEmonLev',\n",
       "               'AEmonZ',\n",
       "               'AEsubhrPt',\n",
       "               'AEsubhrPtSite',\n",
       "               'AP1hr',\n",
       "               'AP1hrPt',\n",
       "               'AP3hr',\n",
       "               'AP3hrPt',\n",
       "               'AP3hrPtLev',\n",
       "               'AP6hr',\n",
       "               'AP6hrPt',\n",
       "               'AP6hrPtLev',\n",
       "               'AP6hrPtZ',\n",
       "               'APday',\n",
       "               'APdayLev',\n",
       "               'APdayZ',\n",
       "               'APfx',\n",
       "               'APmon',\n",
       "               'APmonClim',\n",
       "               'APmonClimLev',\n",
       "               'APmonDiurnal',\n",
       "               'APmonLev',\n",
       "               'APmonZ',\n",
       "               'APsubhrPt',\n",
       "               'APsubhrPtLev',\n",
       "               'APsubhrPtSite',\n",
       "               'GIAfx',\n",
       "               'GIAmon',\n",
       "               'GIAyr',\n",
       "               'GIGfx',\n",
       "               'GIGmon',\n",
       "               'GIGyr',\n",
       "               'LI3hrPt',\n",
       "               'LI6hrPt',\n",
       "               'LIday',\n",
       "               'LIfx',\n",
       "               'LImon',\n",
       "               'LIsubhrPtSite',\n",
       "               'LP3hr',\n",
       "               'LP3hrPt',\n",
       "               'LP6hrPt',\n",
       "               'LPday',\n",
       "               'LPfx',\n",
       "               'LPmon',\n",
       "               'LPyr',\n",
       "               'LPyrPt',\n",
       "               'OBday',\n",
       "               'OBmon',\n",
       "               'OBmonLev',\n",
       "               'OByr',\n",
       "               'OByrLev',\n",
       "               'OP3hrPt',\n",
       "               'OPday',\n",
       "               'OPdec',\n",
       "               'OPdecLev',\n",
       "               'OPdecZ',\n",
       "               'OPfx',\n",
       "               'OPmon',\n",
       "               'OPmonClim',\n",
       "               'OPmonClimLev',\n",
       "               'OPmonLev',\n",
       "               'OPmonZ',\n",
       "               'OPyr',\n",
       "               'OPyrLev',\n",
       "               'SIday',\n",
       "               'SImon',\n",
       "               'SImonPt'])])"
      ]
     },
     "execution_count": 5,
     "metadata": {},
     "output_type": "execute_result"
    }
   ],
   "source": [
    "\n",
    "\n",
    "es_data['project'] = project = cmipld.processor.EmbeddedFrame(f'{io_url}project/graph.jsonld') \n",
    "\n",
    "for item in [\n",
    "    'repo',\n",
    "    'mip-era',\n",
    "    'license',\n",
    "    'activity',\n",
    "    'drs',\n",
    "    'product',\n",
    "    'required-global-attributes',\n",
    "    'tables',\n",
    "    ]:\n",
    "    \n",
    "    print(item)\n",
    "    # CV[item] = getattr(locals(),item)\n",
    "    # ld  = cmipld.processor.expand_document(f'{io_url}project/{item}.json', depth=3)[0]\n",
    "    # functions may be autogenrated in (reponame).py under the CVs dir. \n",
    "    \n",
    "    result = project.frame({'id':f'{io_url}project/{item}-list'})\n",
    "    # from pprint import pprint \n",
    "    # pprint(result)\n",
    "    \n",
    "    # print(item,getattr(this,item))\n",
    "    \n",
    "    item = item.replace('-','_')\n",
    "    CV[item] = getattr(this,item)(result[0])\n",
    "    "
   ]
  },
  {
   "cell_type": "code",
   "execution_count": null,
   "metadata": {},
   "outputs": [],
   "source": []
  },
  {
   "cell_type": "code",
   "execution_count": 6,
   "metadata": {},
   "outputs": [
    {
     "name": "stdout",
     "output_type": "stream",
     "text": [
      "index\n"
     ]
    }
   ],
   "source": [
    "\n",
    "# adding the index properties\n",
    "print('index')\n",
    "CV.update(cmipld.processor.get(f'{io_url}/project/index-list.json')[0]['index'])"
   ]
  },
  {
   "cell_type": "code",
   "execution_count": 7,
   "metadata": {},
   "outputs": [
    {
     "name": "stdout",
     "output_type": "stream",
     "text": [
      "make a file for relevant realms and relevant realms\n",
      "realm\n",
      "frequency\n"
     ]
    }
   ],
   "source": [
    "print('make a file for relevant realms and relevant realms')\n",
    "\n",
    "for universe_item in ['realm','frequency']:\n",
    "    # 'grid-label''nominal'\n",
    "    print(universe_item)\n",
    "    path = f'{cmipld.mapping[\"universal\"]}{universe_item}/graph.jsonld'\n",
    "    ld  = cmipld.jsonld.compact(path,path)['@graph']\n",
    "    CV[universe_item] = getattr(this,universe_item)(ld)"
   ]
  },
  {
   "cell_type": "code",
   "execution_count": 8,
   "metadata": {},
   "outputs": [
    {
     "name": "stdout",
     "output_type": "stream",
     "text": [
      "make a file for relevant nominal resolution\n"
     ]
    }
   ],
   "source": [
    "# path = f'{cmipld.mapping[\"universal\"]}resolution/graph.jsonld'\n",
    "# data  = cmipld.jsonld.compact(path,path)['@graph']\n",
    "\n",
    "# CV['nominal_resolution'] = [f\"{r['value']} {r['unit']}\" for r in sorted(data, key=lambda x: float(x['value']) if x['value'].replace('.', '', 1).isdigit() else float('inf'))]\n",
    "\n",
    "print('make a file for relevant nominal resolution')"
   ]
  },
  {
   "cell_type": "code",
   "execution_count": 9,
   "metadata": {},
   "outputs": [
    {
     "name": "stdout",
     "output_type": "stream",
     "text": [
      "/Users/daniel.ellis/WIPwork/CMIP6Plus_CVs/src-data/ cmip6plus\n",
      "WARNING: Part of the loaded context contains a \"@container\" this may mean referenced items become nested in framing.\n",
      " Please check output - this is not     corrected for secondary nested items.\n",
      "[1] https://wcrp-cmip.github.io/CMIP6Plus_CVs/experiment ['https://wcrp-cmip.github.io/WCRP-universe/source-type/graph.jsonld', 'https://wcrp-cmip.github.io/CMIP6Plus_CVs/experiment/graph.jsonld', 'https://wcrp-cmip.github.io/WCRP-universe/activity/graph.jsonld']\n"
     ]
    },
    {
     "name": "stderr",
     "output_type": "stream",
     "text": [
      "100%|██████████| 3/3 [00:00<00:00, 28.14it/s]\n"
     ]
    },
    {
     "name": "stdout",
     "output_type": "stream",
     "text": [
      "WARNING: Part of the loaded context contains a \"@container\" this may mean referenced items become nested in framing.\n",
      " Please check output - this is not     corrected for secondary nested items.\n",
      "[1] https://wcrp-cmip.github.io/CMIP6Plus_CVs/source ['https://wcrp-cmip.github.io/WCRP-universe/institution/graph.jsonld', 'https://wcrp-cmip.github.io/CMIP6Plus_CVs/source/graph.jsonld', 'https://wcrp-cmip.github.io/WCRP-universe/license/graph.jsonld', 'https://wcrp-cmip.github.io/WCRP-universe/activity/graph.jsonld', 'https://wcrp-cmip.github.io/WCRP-universe/consortium/graph.jsonld']\n"
     ]
    },
    {
     "name": "stderr",
     "output_type": "stream",
     "text": [
      "100%|██████████| 5/5 [00:00<00:00, 42.38it/s]\n"
     ]
    }
   ],
   "source": [
    "# url = cmipld.processor.resolve_prefix(file)\n",
    "\n",
    "# loads the experiments graph and relevant dependancies. \n",
    "# cmipld.processor.clear_cache()\n",
    "# localserver.copy_existing_repos([[ldpath,whoami]],override=True)\n",
    "print(ldpath,whoami)\n",
    "\n",
    "es_data = {}\n",
    "\n",
    "for value in ['experiment', 'source']:\n",
    "    # print(value)\n",
    "    es_data[value] = cmipld.processor.EmbeddedFrame(f'{io_url}{value}/graph.jsonld') \n",
    "    result = es_data[value].frame({'@type':[f'wcrp:{value}']})\n",
    "    "
   ]
  },
  {
   "cell_type": "code",
   "execution_count": null,
   "metadata": {},
   "outputs": [],
   "source": []
  },
  {
   "cell_type": "code",
   "execution_count": 10,
   "metadata": {},
   "outputs": [
    {
     "data": {
      "text/plain": [
       "[{'CCCma': 'Environment and Climate Change Canada'},\n",
       " {'NCAR': 'National Center for Atmospheric Research'},\n",
       " 'universal:institution/cnrm-cerfacs',\n",
       " 'universal:consortium/ec-earth-consortium',\n",
       " {'NASA-GISS': 'Goddard Institute for Space Studies'},\n",
       " {'MOHC': 'Met Office'},\n",
       " {'MIROC': 'MIROC Consortium'},\n",
       " {'MPI-M': 'Max Planck Institute for Meteorology'},\n",
       " {'MPI-M': 'Max Planck Institute for Meteorology'},\n",
       " {'MRI': 'Japan Meteorological Agency'},\n",
       " {'NCC': 'NCC Consortium'},\n",
       " {'MOHC': 'Met Office'}]"
      ]
     },
     "execution_count": 10,
     "metadata": {},
     "output_type": "execute_result"
    }
   ],
   "source": [
    "kind = 'organisation'\n",
    "getattr(this,kind)(es_data['source'].frame({'@type':f'wcrp:source',\"@explicit\":True, 'organisation':{}}))"
   ]
  },
  {
   "cell_type": "code",
   "execution_count": 11,
   "metadata": {},
   "outputs": [
    {
     "data": {
      "text/plain": [
       "[{'id': 'cmip6plus:source/canesm5-1',\n",
       "  'type': ['wcrp:source', 'cmip6plus'],\n",
       "  'organisation': {'id': 'universal:institution/cccma',\n",
       "   'type': ['universal', 'wcrp:institution', 'wcrp:organisation'],\n",
       "   'institution/acronyms': 'ECCC',\n",
       "   'institution/established': 1971,\n",
       "   'institution/kind': 'Government',\n",
       "   'institution/label': 'CCCma',\n",
       "   'institution/location': {'id': 'universal:location/026ny0e17',\n",
       "    'type': 'institution/location',\n",
       "    'institution/city': 'Gatineau',\n",
       "    'institution/country': ['Canada', 'CA'],\n",
       "    'institution/lat': 45.425373,\n",
       "    'institution/lon': -75.699862},\n",
       "   'institution/long_label': 'Environment and Climate Change Canada',\n",
       "   'institution/ror': '026ny0e17',\n",
       "   'institution/url': 'https://www.canada.ca/en/environment-climate-change.html'}},\n",
       " {'id': 'cmip6plus:source/cesm2',\n",
       "  'type': ['wcrp:source', 'cmip6plus'],\n",
       "  'organisation': {'id': 'universal:institution/ncar',\n",
       "   'type': ['universal', 'wcrp:institution', 'wcrp:organisation'],\n",
       "   'institution/acronyms': 'NCAR',\n",
       "   'institution/established': 1930,\n",
       "   'institution/kind': 'Facility',\n",
       "   'institution/label': 'NCAR',\n",
       "   'institution/location': {'id': 'universal:location/05cvfcr44',\n",
       "    'type': 'institution/location',\n",
       "    'institution/city': 'Boulder',\n",
       "    'institution/country': ['United States', 'US'],\n",
       "    'institution/lat': 40.01499,\n",
       "    'institution/lon': 40.01499},\n",
       "   'institution/long_label': 'National Center for Atmospheric Research',\n",
       "   'institution/ror': '05cvfcr44',\n",
       "   'institution/url': 'https://ncar.ucar.edu/'}},\n",
       " {'id': 'cmip6plus:source/cnrm-esm2-1',\n",
       "  'type': ['wcrp:source', 'cmip6plus'],\n",
       "  'organisation': 'universal:institution/cnrm-cerfacs'},\n",
       " {'id': 'cmip6plus:source/ec-earth-aerchem',\n",
       "  'type': ['wcrp:source', 'cmip6plus'],\n",
       "  'organisation': 'universal:consortium/ec-earth-consortium'},\n",
       " {'id': 'cmip6plus:source/giss-e2-1-g',\n",
       "  'type': ['wcrp:source', 'cmip6plus'],\n",
       "  'organisation': {'id': 'universal:institution/nasa-giss',\n",
       "   'type': ['universal', 'wcrp:institution', 'wcrp:organisation'],\n",
       "   'institution/acronyms': 'GISS',\n",
       "   'institution/established': 1961,\n",
       "   'institution/kind': 'Facility',\n",
       "   'institution/label': 'NASA-GISS',\n",
       "   'institution/location': {'id': 'universal:location/01cyfxe35',\n",
       "    'type': 'institution/location',\n",
       "    'institution/city': 'New York',\n",
       "    'institution/country': ['United States', 'US'],\n",
       "    'institution/lat': 40.71427,\n",
       "    'institution/lon': -74.00597},\n",
       "   'institution/long_label': 'Goddard Institute for Space Studies',\n",
       "   'institution/ror': '01cyfxe35',\n",
       "   'institution/url': 'http://www.giss.nasa.gov/'}},\n",
       " {'id': 'cmip6plus:source/hadgem3-gc31-ll',\n",
       "  'type': ['wcrp:source', 'cmip6plus'],\n",
       "  'organisation': {'id': 'universal:institution/mohc',\n",
       "   'type': ['universal', 'wcrp:institution', 'wcrp:organisation'],\n",
       "   'institution/aliases': 'Meteorological Office',\n",
       "   'institution/established': 1854,\n",
       "   'institution/kind': 'Government',\n",
       "   'institution/label': 'MOHC',\n",
       "   'institution/location': {'id': 'universal:location/01ch2yn61',\n",
       "    'type': 'institution/location',\n",
       "    'institution/city': 'Exeter',\n",
       "    'institution/country': ['United Kingdom', 'GB'],\n",
       "    'institution/lat': 50.7236,\n",
       "    'institution/lon': 50.7236},\n",
       "   'institution/long_label': 'Met Office',\n",
       "   'institution/ror': '01ch2yn61',\n",
       "   'institution/url': 'http://www.metoffice.gov.uk/'}},\n",
       " {'id': 'cmip6plus:source/miroc6',\n",
       "  'type': ['wcrp:source', 'cmip6plus'],\n",
       "  'organisation': {'id': 'universal:consortium/miroc',\n",
       "   'type': ['wcrp:consortium', 'universal', 'wcrp:organisation'],\n",
       "   'consortium/changes': '',\n",
       "   'consortium/label': 'MIROC',\n",
       "   'consortium/long_label': 'MIROC Consortium',\n",
       "   'consortium/members': {'consortium/aori': {'consortium/current': False,\n",
       "     'consortium/era': 'cmip6',\n",
       "     'consortium/from': 2016,\n",
       "     'consortium/to': 2022},\n",
       "    'consortium/jamstec': {'consortium/current': False,\n",
       "     'consortium/era': 'cmip6',\n",
       "     'consortium/from': 2016,\n",
       "     'consortium/to': 2022},\n",
       "    'consortium/nies': {'consortium/current': False,\n",
       "     'consortium/era': 'cmip6',\n",
       "     'consortium/from': 2016,\n",
       "     'consortium/to': 2022},\n",
       "    'consortium/r-ccs': {'consortium/current': False,\n",
       "     'consortium/era': 'cmip6',\n",
       "     'consortium/from': 2016,\n",
       "     'consortium/to': 2022}},\n",
       "   'consortium/status': 'active',\n",
       "   'consortium/url': ''}},\n",
       " {'id': 'cmip6plus:source/mpi-esm1-2-hr',\n",
       "  'type': ['wcrp:source', 'cmip6plus'],\n",
       "  'organisation': {'id': 'universal:institution/mpi-m',\n",
       "   'type': ['universal', 'wcrp:institution', 'wcrp:organisation'],\n",
       "   'institution/acronyms': 'MPI-M',\n",
       "   'institution/established': 1975,\n",
       "   'institution/kind': 'Facility',\n",
       "   'institution/label': 'MPI-M',\n",
       "   'institution/location': {'id': 'universal:location/05esem239',\n",
       "    'type': 'institution/location',\n",
       "    'institution/city': 'Hamburg',\n",
       "    'institution/country': ['Germany', 'DE'],\n",
       "    'institution/lat': 53.567794,\n",
       "    'institution/lon': 9.975468},\n",
       "   'institution/long_label': 'Max Planck Institute for Meteorology',\n",
       "   'institution/ror': '05esem239',\n",
       "   'institution/url': 'http://www.mpimet.mpg.de/en/home.html'}},\n",
       " {'id': 'cmip6plus:source/mpi-esm1-2-lr',\n",
       "  'type': ['wcrp:source', 'cmip6plus'],\n",
       "  'organisation': {'id': 'universal:institution/mpi-m',\n",
       "   'type': ['universal', 'wcrp:institution', 'wcrp:organisation'],\n",
       "   'institution/acronyms': 'MPI-M',\n",
       "   'institution/established': 1975,\n",
       "   'institution/kind': 'Facility',\n",
       "   'institution/label': 'MPI-M',\n",
       "   'institution/location': {'id': 'universal:location/05esem239',\n",
       "    'type': 'institution/location',\n",
       "    'institution/city': 'Hamburg',\n",
       "    'institution/country': ['Germany', 'DE'],\n",
       "    'institution/lat': 53.567794,\n",
       "    'institution/lon': 9.975468},\n",
       "   'institution/long_label': 'Max Planck Institute for Meteorology',\n",
       "   'institution/ror': '05esem239',\n",
       "   'institution/url': 'http://www.mpimet.mpg.de/en/home.html'}},\n",
       " {'id': 'cmip6plus:source/mri-esm2-0',\n",
       "  'type': ['wcrp:source', 'cmip6plus'],\n",
       "  'organisation': {'id': 'universal:institution/mri',\n",
       "   'type': ['universal', 'wcrp:institution', 'wcrp:organisation'],\n",
       "   'institution/acronyms': 'JMA',\n",
       "   'institution/aliases': 'Kishō-chō',\n",
       "   'institution/established': 1956,\n",
       "   'institution/kind': 'Other',\n",
       "   'institution/label': 'MRI',\n",
       "   'institution/location': {'id': 'universal:location/02772kk97',\n",
       "    'type': 'institution/location',\n",
       "    'institution/city': 'Tokyo',\n",
       "    'institution/country': ['Japan', 'JP'],\n",
       "    'institution/lat': 35.6895,\n",
       "    'institution/lon': 139.69171},\n",
       "   'institution/long_label': 'Japan Meteorological Agency',\n",
       "   'institution/ror': '02772kk97',\n",
       "   'institution/url': 'http://www.jma.go.jp/jma/indexe.html'}},\n",
       " {'id': 'cmip6plus:source/noresm2-lm',\n",
       "  'type': ['wcrp:source', 'cmip6plus'],\n",
       "  'organisation': {'id': 'universal:consortium/ncc',\n",
       "   'type': ['wcrp:consortium', 'universal', 'wcrp:organisation'],\n",
       "   'consortium/changes': '',\n",
       "   'consortium/label': 'NCC',\n",
       "   'consortium/long_label': 'NCC Consortium',\n",
       "   'consortium/members': {'consortium/met-norway': {'consortium/current': False,\n",
       "     'consortium/era': 'cmip6',\n",
       "     'consortium/from': 2016,\n",
       "     'consortium/to': 2022},\n",
       "    'consortium/nersc': {'consortium/current': False,\n",
       "     'consortium/era': 'cmip6',\n",
       "     'consortium/from': 2016,\n",
       "     'consortium/to': 2022},\n",
       "    'consortium/nilu': {'consortium/current': False,\n",
       "     'consortium/era': 'cmip6',\n",
       "     'consortium/from': 2016,\n",
       "     'consortium/to': 2022},\n",
       "    'consortium/noresm': {'consortium/current': False,\n",
       "     'consortium/era': 'cmip6',\n",
       "     'consortium/from': 2016,\n",
       "     'consortium/to': 2022},\n",
       "    'consortium/uib': {'consortium/current': False,\n",
       "     'consortium/era': 'cmip6',\n",
       "     'consortium/from': 2016,\n",
       "     'consortium/to': 2022},\n",
       "    'consortium/uio': {'consortium/current': False,\n",
       "     'consortium/era': 'cmip6',\n",
       "     'consortium/from': 2016,\n",
       "     'consortium/to': 2022},\n",
       "    'consortium/uni': {'consortium/current': False,\n",
       "     'consortium/era': 'cmip6',\n",
       "     'consortium/from': 2016,\n",
       "     'consortium/to': 2022}},\n",
       "   'consortium/status': 'active',\n",
       "   'consortium/url': ''}},\n",
       " {'id': 'cmip6plus:source/ukesm1-0-ll',\n",
       "  'type': ['wcrp:source', 'cmip6plus'],\n",
       "  'organisation': {'id': 'universal:institution/mohc',\n",
       "   'type': ['universal', 'wcrp:institution', 'wcrp:organisation'],\n",
       "   'institution/aliases': 'Meteorological Office',\n",
       "   'institution/established': 1854,\n",
       "   'institution/kind': 'Government',\n",
       "   'institution/label': 'MOHC',\n",
       "   'institution/location': {'id': 'universal:location/01ch2yn61',\n",
       "    'type': 'institution/location',\n",
       "    'institution/city': 'Exeter',\n",
       "    'institution/country': ['United Kingdom', 'GB'],\n",
       "    'institution/lat': 50.7236,\n",
       "    'institution/lon': 50.7236},\n",
       "   'institution/long_label': 'Met Office',\n",
       "   'institution/ror': '01ch2yn61',\n",
       "   'institution/url': 'http://www.metoffice.gov.uk/'}}]"
      ]
     },
     "execution_count": 11,
     "metadata": {},
     "output_type": "execute_result"
    }
   ],
   "source": [
    "es_data['source'].frame({'@type':f'wcrp:source',\"@explicit\":True, 'organisation':{}})"
   ]
  },
  {
   "cell_type": "code",
   "execution_count": 12,
   "metadata": {},
   "outputs": [
    {
     "ename": "KeyError",
     "evalue": "'institution_id'",
     "output_type": "error",
     "traceback": [
      "\u001b[0;31m---------------------------------------------------------------------------\u001b[0m",
      "\u001b[0;31mKeyError\u001b[0m                                  Traceback (most recent call last)",
      "Cell \u001b[0;32mIn[12], line 1\u001b[0m\n\u001b[0;32m----> 1\u001b[0m \u001b[43mCV\u001b[49m\u001b[43m[\u001b[49m\u001b[38;5;124;43m'\u001b[39;49m\u001b[38;5;124;43minstitution_id\u001b[39;49m\u001b[38;5;124;43m'\u001b[39;49m\u001b[43m]\u001b[49m\n",
      "\u001b[0;31mKeyError\u001b[0m: 'institution_id'"
     ]
    }
   ],
   "source": [
    "CV['institution_id']"
   ]
  },
  {
   "cell_type": "code",
   "execution_count": null,
   "metadata": {},
   "outputs": [],
   "source": []
  },
  {
   "cell_type": "code",
   "execution_count": null,
   "metadata": {},
   "outputs": [],
   "source": [
    "\n"
   ]
  },
  {
   "cell_type": "code",
   "execution_count": null,
   "metadata": {},
   "outputs": [],
   "source": [
    "# import glob,json\n",
    "# files = glob.glob('../../../WCRP-universe/src-data/consortium/*.json')\n",
    "\n",
    "# for f in files:\n",
    "#     print(f)\n",
    "#     data = json.load(open(f))\n",
    "#     data['type'] = list(set(data['type']+['wcrp:organisation']))\n",
    "    \n",
    "#     json.dump(data,open(f,'w'),indent=4)\n",
    "\n",
    "# data"
   ]
  },
  {
   "cell_type": "code",
   "execution_count": null,
   "metadata": {},
   "outputs": [],
   "source": []
  }
 ],
 "metadata": {
  "kernelspec": {
   "display_name": "base",
   "language": "python",
   "name": "python3"
  },
  "language_info": {
   "codemirror_mode": {
    "name": "ipython",
    "version": 3
   },
   "file_extension": ".py",
   "mimetype": "text/x-python",
   "name": "python",
   "nbconvert_exporter": "python",
   "pygments_lexer": "ipython3",
   "version": "3.10.10"
  }
 },
 "nbformat": 4,
 "nbformat_minor": 2
}
