{
 "cells": [
  {
   "cell_type": "code",
   "execution_count": 1,
   "metadata": {},
   "outputs": [
    {
     "name": "stdout",
     "output_type": "stream",
     "text": [
      "make test for url2io\n",
      "--------------------------------------------------\n",
      "Parsing repo: cmip6plus\n",
      "Location: https://github.com/WCRP-CMIP/CMIP6Plus_CVs\n",
      "Github IO link: https://wcrp-cmip.github.io/CMIP6Plus_CVs/\n",
      "--------------------------------------------------\n"
     ]
    },
    {
     "name": "stderr",
     "output_type": "stream",
     "text": [
      "/Users/daniel.ellis/customlib/homebrew/Caskroom/mambaforge/base/lib/python3.10/site-packages/tqdm/auto.py:21: TqdmWarning: IProgress not found. Please update jupyter and ipywidgets. See https://ipywidgets.readthedocs.io/en/stable/user_install.html\n",
      "  from .autonotebook import tqdm as notebook_tqdm\n"
     ]
    }
   ],
   "source": [
    "import cmipld\n",
    "import importlib\n",
    "from collections import OrderedDict\n",
    "\n",
    "\n",
    "repo_url = cmipld.utils.git.url()\n",
    "io_url = cmipld.utils.git.url2io(repo_url)\n",
    "\n",
    "whoami = cmipld.reverse_mapping()[io_url]\n",
    "print('-'*50)\n",
    "print(f'Parsing repo: {whoami}')\n",
    "print(f'Location: {repo_url}')\n",
    "print(f'Github IO link: {io_url}')\n",
    "print('-'*50)\n",
    "\n",
    "'''\n",
    "To keep this set of functions generic, we create separate files containing all relevant functions for a repository to be processed. \n",
    "When running this script we determine the parent repository, and consequently its prefix. This is then used to grab all relevant functions for processing. \n",
    "\n",
    "Example usage: getattr(this,'activity')({'activity':[{\"label\":1,\"id\":'one'}]})\n",
    "\n",
    "'''\n",
    "# Dynamically import the target module and assign it to a variable\n",
    "module_path = f\"cmipld.cvs.{whoami}\" # go to CMIPLD/CVs/<value of whoami>.py for functions\n",
    "this = importlib.import_module(module_path)\n",
    "\n"
   ]
  },
  {
   "cell_type": "code",
   "execution_count": 2,
   "metadata": {},
   "outputs": [
    {
     "name": "stderr",
     "output_type": "stream",
     "text": [
      "Cloning into '/var/folders/hc/s_7lggq12nndglbdyrn3f91m1l58yd/T/cmipld_local_14wi6apd2025-01-30T00:16:39/universal'...\n"
     ]
    },
    {
     "name": "stdout",
     "output_type": "stream",
     "text": [
      "https://wcrp-cmip.github.io/WCRP-universe/ universal /var/folders/hc/s_7lggq12nndglbdyrn3f91m1l58yd/T/cmipld_local_14wi6apd2025-01-30T00:16:39\n",
      "\n",
      "\n",
      "https://wcrp-cmip.github.io/MIP-variables/ variables /var/folders/hc/s_7lggq12nndglbdyrn3f91m1l58yd/T/cmipld_local_14wi6apd2025-01-30T00:16:39\n"
     ]
    },
    {
     "name": "stderr",
     "output_type": "stream",
     "text": [
      "Cloning into '/var/folders/hc/s_7lggq12nndglbdyrn3f91m1l58yd/T/cmipld_local_14wi6apd2025-01-30T00:16:39/variables'...\n"
     ]
    },
    {
     "name": "stdout",
     "output_type": "stream",
     "text": [
      "\n",
      "\n",
      "https://wcrp-cmip.github.io/CMIP6Plus_CVs/ cmip6plus /var/folders/hc/s_7lggq12nndglbdyrn3f91m1l58yd/T/cmipld_local_14wi6apd2025-01-30T00:16:39\n"
     ]
    },
    {
     "name": "stderr",
     "output_type": "stream",
     "text": [
      "Cloning into '/var/folders/hc/s_7lggq12nndglbdyrn3f91m1l58yd/T/cmipld_local_14wi6apd2025-01-30T00:16:39/cmip6plus'...\n"
     ]
    },
    {
     "name": "stdout",
     "output_type": "stream",
     "text": [
      "\n",
      "\n",
      "Repositories cloned into <TemporaryDirectory '/var/folders/hc/s_7lggq12nndglbdyrn3f91m1l58yd/T/cmipld_local_14wi6apd2025-01-30T00:16:39'>\n",
      "Copying the repo into LocalServer  /Users/daniel.ellis/WIPwork/CMIP6Plus_CVs/src-data/ --> cmip6plus\n",
      "Repositories copied into <TemporaryDirectory '/var/folders/hc/s_7lggq12nndglbdyrn3f91m1l58yd/T/cmipld_local_14wi6apd2025-01-30T00:16:39'>\n"
     ]
    },
    {
     "name": "stderr",
     "output_type": "stream",
     "text": [
      ".........+......+.+..+...+...+....+...+..............+.+.....+....+.........+...............+++++++++++++++++++++++++++++++++++++++++++++*....+.+..+.+++++++++++++++++++++++++++++++++++++++++++++*...+....+.....+.+..+...+.............+.....+.........+............+....+.........+...+........+.........+.............+.........+...+.....+...+.......+...+............+...+..................+..+...+....+.....+......+................+......+..+.+............+.....+....+.........+.........+..+...+.+...........+...+...+..........+..+...+...+...............+.........+.+....................+....+..+....+.........+...+..........................................+..+.+..+................+..+....+...........+...+.......+.....+...............+.............+......+...........+.........+....+.....+...............+......+.+.....+...+.......+..............+...........................................+.....+......+.+......+.....+...+......+...+.......+.....+......+...+....+......+.........+...............+........+............+..................+.........+...+...+....+...+..+....+.........+.....+...+....+........+......+.+...........+....+.....+..........+..................+...+.........+.....+.+...+..+...+......+.+...+..............+.....................+......+...............+...+......+.......+........+.......+................................+...+...........................+............+.+..+..................+...+....+...........+.........+...+.......+..+................+...+.........+.....+......................+.....+...+..........+..+....+.........+.......................+....+......+.........+...+...........+.+...............+.....+.+.....+....+.......................+.+..+....+...+...............+......+.....+......+..................+......................+.........+.....+......+...+.+..+.........+...+.............+..+...+...+.+...............+......+...+.........+...........+....+........+..........+...+.........+......+..+...+.+...............+........+.......+.........+..+...+.........+......+.+...........+...+.......+..+.+......+...+..+......+....+...+...+.....+..................+......+....+.........+..+.....................+.............+..+.......+..+.........+.......+..+.......+.......................+...+..........+........+......+.+.....+......................+.....+.....................+.........+.......+......+..+++++\n",
      "........+..........+......+.....+.......+.....+.......+...+..+......+....+......+..+............+...+............+...+....+...+.....+...+....+......+...+.....+.+......+...+..+.........+...+...+...+...................+.....+...+.........+....+++++++++++++++++++++++++++++++++++++++++++++*.+.....+......+..........+..+..........+.....+.+..+...+.+...+++++++++++++++++++++++++++++++++++++++++++++*......+....................+......+.......+.....+..........+..+............+.+...+.....+.+...+.................+....+.....+.........+..........+......+.....+.......+........+....+...+...+.....+.......+..+...............+..........+........+.........+...............+...+..........+.....+...+....+.........+...........+......+....+++++\n"
     ]
    },
    {
     "name": "stdout",
     "output_type": "stream",
     "text": [
      "Created SSL certificates in: /var/folders/hc/s_7lggq12nndglbdyrn3f91m1l58yd/T/cmipld_local_14wi6apd2025-01-30T00:16:39\n",
      "Serving /var/folders/hc/s_7lggq12nndglbdyrn3f91m1l58yd/T/cmipld_local_14wi6apd2025-01-30T00:16:39 at https://localhost:8080\n"
     ]
    },
    {
     "name": "stderr",
     "output_type": "stream",
     "text": [
      "-----\n"
     ]
    }
   ],
   "source": [
    "# Set up offline override for the current repository\n",
    "\n",
    "from cmipld.utils.offline import LD_server\n",
    "\n",
    "ldpath = cmipld.utils.git.ldpath()\n",
    "\n",
    "\n",
    "# create a temporary directory containing (a copy of) the current repository\n",
    "# localserver = LD_server(copy = [[ldpath,'current_repo']])\n",
    "repos= { \n",
    "        'https://wcrp-cmip.github.io/WCRP-universe/': 'universal',\n",
    "        'https://wcrp-cmip.github.io/MIP-variables/': 'variables',\n",
    "        'https://wcrp-cmip.github.io/CMIP6Plus_CVs/': 'cmip6plus'\n",
    "        }\n",
    "\n",
    "localserver = LD_server(repos = repos.items(),copy = [[ldpath,whoami]],override='y')\n",
    "\n",
    "# localserver = LD_server(copy = [[ldpath,'cmip6plus']])\n",
    "\n",
    "\n",
    "localhost = localserver.start_server(8080)\n"
   ]
  },
  {
   "cell_type": "code",
   "execution_count": 3,
   "metadata": {},
   "outputs": [
    {
     "name": "stdout",
     "output_type": "stream",
     "text": [
      "Setting up location forwarding for:\n",
      " -  https://wcrp-cmip.github.io/WCRP-universe/ >>> https://localhost:8080/universal/ \n",
      "\n",
      " -  https://wcrp-cmip.github.io/MIP-variables/ >>> https://localhost:8080/variables/ \n",
      "\n",
      " -  https://wcrp-cmip.github.io/CMIP6Plus_CVs/ >>> https://localhost:8080/cmip6plus/ \n",
      "\n"
     ]
    }
   ],
   "source": [
    "cmipld.processor.replace_loader(localhost,[list(i) for i in repos.items()]) "
   ]
  },
  {
   "cell_type": "code",
   "execution_count": 4,
   "metadata": {},
   "outputs": [],
   "source": [
    "\n",
    "CV = OrderedDict()\n",
    "cmipld.processor.clear_cache()\n",
    "\n",
    "es_data = {}"
   ]
  },
  {
   "cell_type": "code",
   "execution_count": 5,
   "metadata": {},
   "outputs": [
    {
     "name": "stderr",
     "output_type": "stream",
     "text": [
      "127.0.0.1 - - [30/Jan/2025 00:16:43] \"GET /cmip6plus/project/graph.jsonld HTTP/1.1\" 200 -\n",
      "127.0.0.1 - - [30/Jan/2025 00:16:43] \"GET /universal/activity/_context_ HTTP/1.1\" 200 -\n",
      "127.0.0.1 - - [30/Jan/2025 00:16:43] \"GET /universal/_context_ HTTP/1.1\" 200 -\n",
      "127.0.0.1 - - [30/Jan/2025 00:16:43] \"GET /universal/license/_context_ HTTP/1.1\" 200 -\n",
      "127.0.0.1 - - [30/Jan/2025 00:16:43] \"GET /universal/mip/_context_ HTTP/1.1\" 200 -\n",
      "127.0.0.1 - - [30/Jan/2025 00:16:43] \"GET /universal/product/_context_ HTTP/1.1\" 200 -\n",
      "127.0.0.1 - - [30/Jan/2025 00:16:43] \"GET /variables/tables/_context_ HTTP/1.1\" 200 -\n",
      "127.0.0.1 - - [30/Jan/2025 00:16:43] \"GET /variables/_context_ HTTP/1.1\" 200 -\n",
      "127.0.0.1 - - [30/Jan/2025 00:16:43] \"GET /variables/variables/_context_ HTTP/1.1\" 200 -\n",
      "127.0.0.1 - - [30/Jan/2025 00:16:43] \"GET /variables/tables/graph.jsonld HTTP/1.1\" 200 -\n",
      "127.0.0.1 - - [30/Jan/2025 00:16:43] \"GET /cmip6plus/project/graph.jsonld HTTP/1.1\" 200 -\n",
      "127.0.0.1 - - [30/Jan/2025 00:16:43] \"GET /universal/product/_context_ HTTP/1.1\" 200 -\n",
      "127.0.0.1 - - [30/Jan/2025 00:16:43] \"GET /universal/activity/_context_ HTTP/1.1\" 200 -\n",
      "127.0.0.1 - - [30/Jan/2025 00:16:43] \"GET /universal/license/_context_ HTTP/1.1\" 200 -\n",
      "127.0.0.1 - - [30/Jan/2025 00:16:43] \"GET /universal/mip/_context_ HTTP/1.1\" 200 -\n",
      "127.0.0.1 - - [30/Jan/2025 00:16:43] \"GET /universal/product/_context_ HTTP/1.1\" 200 -\n",
      "127.0.0.1 - - [30/Jan/2025 00:16:43] \"GET /variables/tables/_context_ HTTP/1.1\" 200 -\n",
      "127.0.0.1 - - [30/Jan/2025 00:16:43] \"GET /universal/activity/_context_ HTTP/1.1\" 200 -\n",
      "127.0.0.1 - - [30/Jan/2025 00:16:43] \"GET /universal/license/_context_ HTTP/1.1\" 200 -\n",
      "127.0.0.1 - - [30/Jan/2025 00:16:43] \"GET /variables/tables/_context_ HTTP/1.1\" 200 -\n"
     ]
    },
    {
     "name": "stdout",
     "output_type": "stream",
     "text": [
      "WARNING: Part of the loaded context contains a \"@container\" this may mean referenced items become nested in framing.\n",
      " Please check output - this is not     corrected for secondary nested items.\n",
      "[0] https://wcrp-cmip.github.io/CMIP6Plus_CVs/project ['https://wcrp-cmip.github.io/CMIP6Plus_CVs/project/graph.jsonld', 'https://wcrp-cmip.github.io/MIP-variables/tables/graph.jsonld']\n"
     ]
    },
    {
     "name": "stderr",
     "output_type": "stream",
     "text": [
      "100%|██████████| 2/2 [00:00<00:00, 20.57it/s]\n"
     ]
    },
    {
     "name": "stdout",
     "output_type": "stream",
     "text": [
      "repo\n",
      "<function literal_wrapper at 0x105a52950>\n"
     ]
    },
    {
     "ename": "TypeError",
     "evalue": "list indices must be integers or slices, not str",
     "output_type": "error",
     "traceback": [
      "\u001b[0;31m---------------------------------------------------------------------------\u001b[0m",
      "\u001b[0;31mTypeError\u001b[0m                                 Traceback (most recent call last)",
      "Cell \u001b[0;32mIn[5], line 22\u001b[0m\n\u001b[1;32m     19\u001b[0m result \u001b[38;5;241m=\u001b[39m project\u001b[38;5;241m.\u001b[39mframe({\u001b[38;5;124m'\u001b[39m\u001b[38;5;124mid\u001b[39m\u001b[38;5;124m'\u001b[39m:\u001b[38;5;124mf\u001b[39m\u001b[38;5;124m'\u001b[39m\u001b[38;5;132;01m{\u001b[39;00mio_url\u001b[38;5;132;01m}\u001b[39;00m\u001b[38;5;124mproject/\u001b[39m\u001b[38;5;132;01m{\u001b[39;00mitem\u001b[38;5;132;01m}\u001b[39;00m\u001b[38;5;124m.json\u001b[39m\u001b[38;5;124m'\u001b[39m,\u001b[38;5;124m'\u001b[39m\u001b[38;5;124mtype\u001b[39m\u001b[38;5;124m'\u001b[39m:\u001b[38;5;124m'\u001b[39m\u001b[38;5;124mwcrp:\u001b[39m\u001b[38;5;124m'\u001b[39m\u001b[38;5;241m+\u001b[39mitem})\n\u001b[1;32m     21\u001b[0m \u001b[38;5;28mprint\u001b[39m(\u001b[38;5;28mgetattr\u001b[39m(this,item))\n\u001b[0;32m---> 22\u001b[0m CV[item] \u001b[38;5;241m=\u001b[39m \u001b[38;5;28;43mgetattr\u001b[39;49m\u001b[43m(\u001b[49m\u001b[43mthis\u001b[49m\u001b[43m,\u001b[49m\u001b[43mitem\u001b[49m\u001b[43m)\u001b[49m\u001b[43m(\u001b[49m\u001b[43mresult\u001b[49m\u001b[43m)\u001b[49m\n",
      "File \u001b[0;32m~/WIPwork/CMIP-LD/cmipld/cvs/cmip6plus.py:45\u001b[0m, in \u001b[0;36mliteral_wrapper\u001b[0;34m(data, field)\u001b[0m\n\u001b[1;32m     44\u001b[0m \u001b[38;5;28;01mdef\u001b[39;00m\u001b[38;5;250m \u001b[39m\u001b[38;5;21mliteral_wrapper\u001b[39m(data, field\u001b[38;5;241m=\u001b[39mfield): \n\u001b[0;32m---> 45\u001b[0m     \u001b[38;5;28;01mreturn\u001b[39;00m \u001b[43mdata\u001b[49m\u001b[43m[\u001b[49m\u001b[43mfield\u001b[49m\u001b[43m]\u001b[49m\n",
      "\u001b[0;31mTypeError\u001b[0m: list indices must be integers or slices, not str"
     ]
    }
   ],
   "source": [
    "\n",
    "\n",
    "es_data['project'] = project = cmipld.processor.EmbeddedFrame(f'{io_url}project/graph.jsonld') \n",
    "\n",
    "for item in [\n",
    "    'repo',\n",
    "    'mip-era',\n",
    "    'license',\n",
    "    'activity',\n",
    "    'drs',\n",
    "    'product',\n",
    "    'required-global-attributes',\n",
    "    'tables',\n",
    "    ]:\n",
    "    \n",
    "    print(item)\n",
    "    # CV[item] = getattr(locals(),item)\n",
    "    # ld  = cmipld.processor.expand_document(f'{io_url}project/{item}.json', depth=3)[0]\n",
    "    # functions may be autogenrated in (reponame).py under the CVs dir. \n",
    "    \n",
    "    result = project.frame({'id':f'{io_url}project/{item}.json','type':'wcrp:'+item})\n",
    "    \n",
    "    print(item,getattr(this,item))\n",
    "    CV[item] = getattr(this,item)(result)\n",
    "    \n"
   ]
  },
  {
   "cell_type": "code",
   "execution_count": null,
   "metadata": {},
   "outputs": [],
   "source": [
    "# localserver.copy_existing_repos([[ldpath,whoami]],override=True)\n",
    "\n",
    "\n",
    "result = project.frame({'type':'wcrp:'+item})\n",
    "\n",
    "\n",
    "item,result"
   ]
  },
  {
   "cell_type": "code",
   "execution_count": null,
   "metadata": {},
   "outputs": [],
   "source": [
    "project.context"
   ]
  },
  {
   "cell_type": "code",
   "execution_count": null,
   "metadata": {},
   "outputs": [],
   "source": [
    "# adding the index properties\n",
    "print('index')\n",
    "CV.update(cmipld.processor.get(f'{io_url}/project/index.json')[0]['index'])"
   ]
  },
  {
   "cell_type": "code",
   "execution_count": null,
   "metadata": {},
   "outputs": [],
   "source": [
    "print('make a file for relevant realms and relevant realms')\n",
    "\n",
    "for universe_item in ['realm','frequency']:\n",
    "    # 'grid-label''nominal'\n",
    "    print(universe_item)\n",
    "    path = f'{cmipld.mapping[\"universal\"]}{universe_item}/graph.jsonld'\n",
    "    ld  = cmipld.jsonld.compact(path,path)['@graph']\n",
    "    CV[universe_item] = getattr(this,universe_item)(ld)"
   ]
  },
  {
   "cell_type": "code",
   "execution_count": null,
   "metadata": {},
   "outputs": [],
   "source": [
    "# path = f'{cmipld.mapping[\"universal\"]}resolution/graph.jsonld'\n",
    "# data  = cmipld.jsonld.compact(path,path)['@graph']\n",
    "\n",
    "# CV['nominal_resolution'] = [f\"{r['value']} {r['unit']}\" for r in sorted(data, key=lambda x: float(x['value']) if x['value'].replace('.', '', 1).isdigit() else float('inf'))]\n",
    "\n",
    "print('make a file for relevant nominal resolution')"
   ]
  },
  {
   "cell_type": "code",
   "execution_count": null,
   "metadata": {},
   "outputs": [],
   "source": [
    "# url = cmipld.processor.resolve_prefix(file)\n",
    "\n",
    "# loads the experiments graph and relevant dependancies. \n",
    "# cmipld.processor.clear_cache()\n",
    "# localserver.copy_existing_repos([[ldpath,whoami]],override=True)\n",
    "print(ldpath,whoami)\n",
    "\n",
    "es_data = {}\n",
    "\n",
    "for value in ['experiment', 'source']:\n",
    "    print(value)\n",
    "    es_data[value] = cmipld.processor.EmbeddedFrame(f'{io_url}{value}/graph.jsonld') \n",
    "    result = es_data[value].frame({'@type':[f'wcrp:{value}']})\n",
    "    \n",
    "    # CV[value+'_id'] = getattr(this,value)(result)\n",
    "# \n",
    "\n",
    "value, es_data[value].dependencies"
   ]
  },
  {
   "cell_type": "markdown",
   "metadata": {},
   "source": []
  },
  {
   "cell_type": "code",
   "execution_count": null,
   "metadata": {},
   "outputs": [],
   "source": [
    "# CV[value+'_id']\n",
    "result[0]"
   ]
  },
  {
   "cell_type": "code",
   "execution_count": null,
   "metadata": {},
   "outputs": [],
   "source": [
    "CV"
   ]
  },
  {
   "cell_type": "code",
   "execution_count": null,
   "metadata": {},
   "outputs": [],
   "source": [
    "ls \n"
   ]
  },
  {
   "cell_type": "code",
   "execution_count": null,
   "metadata": {},
   "outputs": [],
   "source": []
  }
 ],
 "metadata": {
  "kernelspec": {
   "display_name": "base",
   "language": "python",
   "name": "python3"
  },
  "language_info": {
   "codemirror_mode": {
    "name": "ipython",
    "version": 3
   },
   "file_extension": ".py",
   "mimetype": "text/x-python",
   "name": "python",
   "nbconvert_exporter": "python",
   "pygments_lexer": "ipython3",
   "version": "3.10.10"
  }
 },
 "nbformat": 4,
 "nbformat_minor": 2
}
