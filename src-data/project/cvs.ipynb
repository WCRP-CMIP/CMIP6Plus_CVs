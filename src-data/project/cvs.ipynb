{
 "cells": [
  {
   "cell_type": "code",
   "execution_count": 1,
   "metadata": {},
   "outputs": [
    {
     "name": "stderr",
     "output_type": "stream",
     "text": [
      "/Users/daniel.ellis/customlib/homebrew/Caskroom/mambaforge/base/lib/python3.10/site-packages/tqdm/auto.py:21: TqdmWarning: IProgress not found. Please update jupyter and ipywidgets. See https://ipywidgets.readthedocs.io/en/stable/user_install.html\n",
      "  from .autonotebook import tqdm as notebook_tqdm\n"
     ]
    }
   ],
   "source": [
    "import cmipld\n",
    "from cmipld.utils.offline import LD_server, replace_loader\n",
    "from pyld import jsonld"
   ]
  },
  {
   "cell_type": "code",
   "execution_count": 2,
   "metadata": {},
   "outputs": [
    {
     "name": "stdout",
     "output_type": "stream",
     "text": [
      "https://wcrp-cmip.github.io/WCRP-universe/ universal /var/folders/hc/s_7lggq12nndglbdyrn3f91m1l58yd/T/cmipld_local_iuf51bgp2025-01-20T15:04:13\n"
     ]
    },
    {
     "name": "stderr",
     "output_type": "stream",
     "text": [
      "Cloning into '/var/folders/hc/s_7lggq12nndglbdyrn3f91m1l58yd/T/cmipld_local_iuf51bgp2025-01-20T15:04:13/universal'...\n"
     ]
    },
    {
     "name": "stdout",
     "output_type": "stream",
     "text": [
      "\n",
      "\n",
      "https://wcrp-cmip.github.io/MIP-variables/ variables /var/folders/hc/s_7lggq12nndglbdyrn3f91m1l58yd/T/cmipld_local_iuf51bgp2025-01-20T15:04:13\n"
     ]
    },
    {
     "name": "stderr",
     "output_type": "stream",
     "text": [
      "Cloning into '/var/folders/hc/s_7lggq12nndglbdyrn3f91m1l58yd/T/cmipld_local_iuf51bgp2025-01-20T15:04:13/variables'...\n"
     ]
    },
    {
     "name": "stdout",
     "output_type": "stream",
     "text": [
      "\n",
      "\n",
      "https://wcrp-cmip.github.io/CMIP6Plus_CVs/ cmip6plus /var/folders/hc/s_7lggq12nndglbdyrn3f91m1l58yd/T/cmipld_local_iuf51bgp2025-01-20T15:04:13\n"
     ]
    },
    {
     "name": "stderr",
     "output_type": "stream",
     "text": [
      "Cloning into '/var/folders/hc/s_7lggq12nndglbdyrn3f91m1l58yd/T/cmipld_local_iuf51bgp2025-01-20T15:04:13/cmip6plus'...\n"
     ]
    },
    {
     "name": "stdout",
     "output_type": "stream",
     "text": [
      "\n",
      "\n",
      "Repositories cloned into <TemporaryDirectory '/var/folders/hc/s_7lggq12nndglbdyrn3f91m1l58yd/T/cmipld_local_iuf51bgp2025-01-20T15:04:13'>\n",
      "Copying the repo into LocalServer  /Users/daniel.ellis/WIPwork/CMIP6Plus_CVs/src-data/ --> cmip6plus\n",
      "Repositories copied into <TemporaryDirectory '/var/folders/hc/s_7lggq12nndglbdyrn3f91m1l58yd/T/cmipld_local_iuf51bgp2025-01-20T15:04:13'>\n"
     ]
    },
    {
     "name": "stderr",
     "output_type": "stream",
     "text": [
      "....+.+.....+..........+...+..+.+..+...+...+......+.............+++++++++++++++++++++++++++++++++++++++++++++*..+.+.....+++++++++++++++++++++++++++++++++++++++++++++*..+.+.....+.........+....+........+...............+...+.+......+..+.+......+..............+.......+.....+...+......+.........+....+..+................+..+.......+........................+..............+.....................+.+.....+...+...+...+.+...+...+........+...................+............+........+..........+..+...+............+.........+......+...+................+..+.........+......+++++\n",
      "...+......+.....+....+...+........+++++++++++++++++++++++++++++++++++++++++++++*........+.....+...+.......+..+....+.....+.+......+.....+.......+...+++++++++++++++++++++++++++++++++++++++++++++*.....+.+...+.....................+...........+...+............+...+..........+...+...+..+...................+......+...+..............+...+.......+...+...+..............+.+...........+.........+....+.....+............+.+..+..................+......................+...+............+..+..................+...+.......................................+...+.+..............+.......+.........+............+.........+.....+...+.+..+....+..............+......+...+.+....."
     ]
    },
    {
     "name": "stdout",
     "output_type": "stream",
     "text": [
      "Created SSL certificates in: /var/folders/hc/s_7lggq12nndglbdyrn3f91m1l58yd/T/cmipld_local_iuf51bgp2025-01-20T15:04:13\n",
      "Serving /var/folders/hc/s_7lggq12nndglbdyrn3f91m1l58yd/T/cmipld_local_iuf51bgp2025-01-20T15:04:13 at https://localhost:8082\n"
     ]
    },
    {
     "name": "stderr",
     "output_type": "stream",
     "text": [
      "+.........+...+............+..........+..+.+.....+.......+......+..............................+...........+....+......+.....+.............+...+..+..........+........+...+....+.................+......+.......+...+...+..............................+.....+....+...+........+.......+...............+...+......+.....+..........+...+++++\n",
      "-----\n"
     ]
    }
   ],
   "source": [
    "# Set up offline override for the current repository\n",
    "\n",
    "ldpath = cmipld.utils.git.ldpath()\n",
    "\n",
    "\n",
    "# create a temporary directory containing (a copy of) the current repository\n",
    "# localserver = LD_server(copy = [[ldpath,'current_repo']])\n",
    "repos= { \n",
    "        'https://wcrp-cmip.github.io/WCRP-universe/': 'universal',\n",
    "        'https://wcrp-cmip.github.io/MIP-variables/': 'variables',\n",
    "        'https://wcrp-cmip.github.io/CMIP6Plus_CVs/': 'cmip6plus'\n",
    "        }\n",
    "\n",
    "localserver = LD_server(repos = repos.items(),copy = [[ldpath,'cmip6plus']],override='y')\n",
    "\n",
    "# localserver = LD_server(copy = [[ldpath,'cmip6plus']])\n",
    "\n",
    "\n",
    "localhost = localserver.start_server(8082)\n"
   ]
  },
  {
   "cell_type": "code",
   "execution_count": 3,
   "metadata": {},
   "outputs": [
    {
     "name": "stdout",
     "output_type": "stream",
     "text": [
      "<function requests_document_loader.<locals>.loader at 0x10b503880>\n",
      "Setting up location forwarding for:\n",
      " -  https://wcrp-cmip.github.io/WCRP-universe/ >>> https://localhost:8082/universal/\n",
      " -  https://wcrp-cmip.github.io/MIP-variables/ >>> https://localhost:8082/variables/\n",
      " -  https://wcrp-cmip.github.io/CMIP6Plus_CVs/ >>> https://localhost:8082/cmip6plus/\n",
      "\n"
     ]
    }
   ],
   "source": [
    "# \n",
    "replace_loader(localhost,[list(i) for i in repos.items()])\n"
   ]
  },
  {
   "cell_type": "code",
   "execution_count": 4,
   "metadata": {},
   "outputs": [
    {
     "name": "stdout",
     "output_type": "stream",
     "text": [
      "make test for url2io\n",
      "--------------------------------------------------\n",
      "Parsing repo: cmip6plus\n",
      "Location: https://github.com/WCRP-CMIP/CMIP6Plus_CVs\n",
      "Github IO link: https://wcrp-cmip.github.io/CMIP6Plus_CVs/\n",
      "--------------------------------------------------\n"
     ]
    }
   ],
   "source": [
    "import cmipld\n",
    "import importlib\n",
    "\n",
    "\n",
    "repo_url = cmipld.utils.git.url()\n",
    "io_url = cmipld.utils.git.url2io(repo_url)\n",
    "\n",
    "whoami = cmipld.reverse_mapping()[io_url]\n",
    "print('-'*50)\n",
    "print(f'Parsing repo: {whoami}')\n",
    "print(f'Location: {repo_url}')\n",
    "print(f'Github IO link: {io_url}')\n",
    "print('-'*50)\n",
    "\n",
    "'''\n",
    "To keep this set of functions generic, we create separate files containing all relevant functions for a repository to be processed. \n",
    "When running this script we determine the parent repository, and consequently its prefix. This is then used to grab all relevant functions for processing. \n",
    "\n",
    "Example usage: getattr(this,'activity')({'activity':[{\"label\":1,\"id\":'one'}]})\n",
    "\n",
    "'''\n",
    "# Dynamically import the target module and assign it to a variable\n",
    "module_path = f\"cmipld.cvs.{whoami}\" # go to CMIPLD/CVs/<value of whoami>.py for functions\n",
    "this = importlib.import_module(module_path)\n",
    "\n"
   ]
  },
  {
   "cell_type": "code",
   "execution_count": 5,
   "metadata": {},
   "outputs": [
    {
     "name": "stdout",
     "output_type": "stream",
     "text": [
      "repo\n",
      "mip-era\n",
      "license\n",
      "activity\n",
      "[{'type': ['wcrp:activity', 'universal'], 'description': 'CMIP DECK: 1pctCO2, abrupt-4xCO2, amip, esm-piControl, esm-historical, historical, and piControl experiments', 'label': 'CMIP', 'url': 'https://gmd.copernicus.org/articles/9/1937/2016/gmd-9-1937-2016.pdf'}, {'type': ['wcrp:activity', 'universal'], 'description': 'The Large Ensemble Single Forcing Model Intercomparison Project', 'label': 'LESFMIP', 'url': 'https://www.frontiersin.org/articles/10.3389/fclim.2022.955414/full'}]\n",
      "drs\n",
      "product\n",
      "required-global-attributes\n",
      "tables\n"
     ]
    },
    {
     "name": "stderr",
     "output_type": "stream",
     "text": [
      "127.0.0.1 - - [20/Jan/2025 15:04:19] \"GET /cmip6plus/project/repo.json HTTP/1.1\" 200 -\n",
      "127.0.0.1 - - [20/Jan/2025 15:04:19] \"GET /cmip6plus/project/_context_ HTTP/1.1\" 200 -\n",
      "127.0.0.1 - - [20/Jan/2025 15:04:19] \"GET /cmip6plus/_context_ HTTP/1.1\" 200 -\n",
      "127.0.0.1 - - [20/Jan/2025 15:04:19] \"GET /universal/activity/_context_ HTTP/1.1\" 200 -\n",
      "127.0.0.1 - - [20/Jan/2025 15:04:19] \"GET /universal/_context_ HTTP/1.1\" 200 -\n",
      "127.0.0.1 - - [20/Jan/2025 15:04:19] \"GET /universal/mip/_context_ HTTP/1.1\" 200 -\n",
      "127.0.0.1 - - [20/Jan/2025 15:04:19] \"GET /variables/tables/_context_ HTTP/1.1\" 200 -\n",
      "127.0.0.1 - - [20/Jan/2025 15:04:19] \"GET /variables/_context_ HTTP/1.1\" 200 -\n",
      "127.0.0.1 - - [20/Jan/2025 15:04:19] \"GET /universal/product/_context_ HTTP/1.1\" 200 -\n",
      "127.0.0.1 - - [20/Jan/2025 15:04:19] \"GET /variables/variables/_context_ HTTP/1.1\" 200 -\n",
      "127.0.0.1 - - [20/Jan/2025 15:04:19] \"GET /universal/license/_context_ HTTP/1.1\" 200 -\n",
      "127.0.0.1 - - [20/Jan/2025 15:04:19] \"GET /cmip6plus/project/_context_ HTTP/1.1\" 200 -\n",
      "127.0.0.1 - - [20/Jan/2025 15:04:20] \"GET /cmip6plus/project/mip-era.json HTTP/1.1\" 200 -\n",
      "127.0.0.1 - - [20/Jan/2025 15:04:20] \"GET /universal/mip/_context_ HTTP/1.1\" 200 -\n",
      "127.0.0.1 - - [20/Jan/2025 15:04:20] \"GET /universal/mip/cmip6plus HTTP/1.1\" 200 -\n",
      "127.0.0.1 - - [20/Jan/2025 15:04:20] \"GET /universal/mip/_context_ HTTP/1.1\" 200 -\n",
      "127.0.0.1 - - [20/Jan/2025 15:04:20] \"GET /universal/mip/_context_ HTTP/1.1\" 200 -\n",
      "127.0.0.1 - - [20/Jan/2025 15:04:20] \"GET /cmip6plus/project/_context_ HTTP/1.1\" 200 -\n",
      "127.0.0.1 - - [20/Jan/2025 15:04:21] \"GET /cmip6plus/project/license.json HTTP/1.1\" 200 -\n",
      "127.0.0.1 - - [20/Jan/2025 15:04:21] \"GET /universal/license/_context_ HTTP/1.1\" 200 -\n",
      "127.0.0.1 - - [20/Jan/2025 15:04:21] \"GET /cmip6plus/project/_context_ HTTP/1.1\" 200 -\n",
      "127.0.0.1 - - [20/Jan/2025 15:04:21] \"GET /universal/license/_context_ HTTP/1.1\" 200 -\n",
      "127.0.0.1 - - [20/Jan/2025 15:04:22] \"GET /cmip6plus/project/activity.json HTTP/1.1\" 200 -\n",
      "127.0.0.1 - - [20/Jan/2025 15:04:22] \"GET /universal/activity/_context_ HTTP/1.1\" 200 -\n",
      "127.0.0.1 - - [20/Jan/2025 15:04:22] \"GET /universal/activity/cmip HTTP/1.1\" 200 -\n",
      "127.0.0.1 - - [20/Jan/2025 15:04:22] \"GET /universal/activity/_context_ HTTP/1.1\" 200 -\n",
      "127.0.0.1 - - [20/Jan/2025 15:04:24] \"GET /universal/activity/lesfmip HTTP/1.1\" 200 -\n",
      "127.0.0.1 - - [20/Jan/2025 15:04:24] \"GET /universal/activity/_context_ HTTP/1.1\" 200 -\n",
      "127.0.0.1 - - [20/Jan/2025 15:04:24] \"GET /universal/activity/_context_ HTTP/1.1\" 200 -\n",
      "127.0.0.1 - - [20/Jan/2025 15:04:24] \"GET /cmip6plus/project/_context_ HTTP/1.1\" 200 -\n",
      "127.0.0.1 - - [20/Jan/2025 15:04:25] \"GET /cmip6plus/project/drs.json HTTP/1.1\" 200 -\n",
      "127.0.0.1 - - [20/Jan/2025 15:04:25] \"GET /cmip6plus/project/_context_ HTTP/1.1\" 200 -\n",
      "127.0.0.1 - - [20/Jan/2025 15:04:25] \"GET /cmip6plus/project/product.json HTTP/1.1\" 200 -\n",
      "127.0.0.1 - - [20/Jan/2025 15:04:25] \"GET /universal/product/_context_ HTTP/1.1\" 200 -\n",
      "127.0.0.1 - - [20/Jan/2025 15:04:25] \"GET /universal/product/model-output HTTP/1.1\" 200 -\n",
      "127.0.0.1 - - [20/Jan/2025 15:04:25] \"GET /universal/product/_context_ HTTP/1.1\" 200 -\n",
      "127.0.0.1 - - [20/Jan/2025 15:04:28] \"GET /universal/product/_context_ HTTP/1.1\" 200 -\n",
      "127.0.0.1 - - [20/Jan/2025 15:04:28] \"GET /cmip6plus/project/_context_ HTTP/1.1\" 200 -\n",
      "127.0.0.1 - - [20/Jan/2025 15:04:31] \"GET /cmip6plus/project/required-global-attributes.json HTTP/1.1\" 200 -\n",
      "127.0.0.1 - - [20/Jan/2025 15:04:31] \"GET /cmip6plus/project/_context_ HTTP/1.1\" 200 -\n",
      "127.0.0.1 - - [20/Jan/2025 15:04:31] \"GET /cmip6plus/project/tables.json HTTP/1.1\" 200 -\n",
      "127.0.0.1 - - [20/Jan/2025 15:04:31] \"GET /variables/tables/_context_ HTTP/1.1\" 200 -\n",
      "127.0.0.1 - - [20/Jan/2025 15:04:31] \"GET /variables/tables/acmon HTTP/1.1\" 200 -\n",
      "127.0.0.1 - - [20/Jan/2025 15:04:31] \"GET /universal/product/_context_ HTTP/1.1\" 200 -\n",
      "127.0.0.1 - - [20/Jan/2025 15:04:31] \"GET /universal/product/model-output HTTP/1.1\" 200 -\n",
      "127.0.0.1 - - [20/Jan/2025 15:04:31] \"GET /universal/product/_context_ HTTP/1.1\" 200 -\n",
      "127.0.0.1 - - [20/Jan/2025 15:04:33] \"GET /universal/product/_context_ HTTP/1.1\" 200 -\n",
      "127.0.0.1 - - [20/Jan/2025 15:04:33] \"GET /variables/tables/_context_ HTTP/1.1\" 200 -\n",
      "127.0.0.1 - - [20/Jan/2025 15:04:35] \"GET /variables/tables/acmonz HTTP/1.1\" 200 -\n",
      "127.0.0.1 - - [20/Jan/2025 15:04:35] \"GET /universal/product/_context_ HTTP/1.1\" 200 -\n",
      "127.0.0.1 - - [20/Jan/2025 15:04:35] \"GET /universal/product/_context_ HTTP/1.1\" 200 -\n",
      "127.0.0.1 - - [20/Jan/2025 15:04:35] \"GET /variables/tables/_context_ HTTP/1.1\" 200 -\n",
      "127.0.0.1 - - [20/Jan/2025 15:04:35] \"GET /variables/tables/ae1hr HTTP/1.1\" 200 -\n",
      "127.0.0.1 - - [20/Jan/2025 15:04:35] \"GET /universal/product/_context_ HTTP/1.1\" 200 -\n",
      "127.0.0.1 - - [20/Jan/2025 15:04:35] \"GET /universal/product/_context_ HTTP/1.1\" 200 -\n",
      "127.0.0.1 - - [20/Jan/2025 15:04:35] \"GET /variables/tables/_context_ HTTP/1.1\" 200 -\n",
      "127.0.0.1 - - [20/Jan/2025 15:04:36] \"GET /variables/tables/ae3hrpt HTTP/1.1\" 200 -\n",
      "127.0.0.1 - - [20/Jan/2025 15:04:36] \"GET /universal/product/_context_ HTTP/1.1\" 200 -\n",
      "127.0.0.1 - - [20/Jan/2025 15:04:36] \"GET /universal/product/_context_ HTTP/1.1\" 200 -\n",
      "127.0.0.1 - - [20/Jan/2025 15:04:36] \"GET /variables/tables/_context_ HTTP/1.1\" 200 -\n",
      "127.0.0.1 - - [20/Jan/2025 15:04:37] \"GET /variables/tables/ae3hrptlev HTTP/1.1\" 200 -\n",
      "127.0.0.1 - - [20/Jan/2025 15:04:37] \"GET /universal/product/_context_ HTTP/1.1\" 200 -\n",
      "127.0.0.1 - - [20/Jan/2025 15:04:37] \"GET /universal/product/_context_ HTTP/1.1\" 200 -\n",
      "127.0.0.1 - - [20/Jan/2025 15:04:37] \"GET /variables/tables/_context_ HTTP/1.1\" 200 -\n",
      "127.0.0.1 - - [20/Jan/2025 15:04:38] \"GET /variables/tables/ae6hr HTTP/1.1\" 200 -\n",
      "127.0.0.1 - - [20/Jan/2025 15:04:38] \"GET /universal/product/_context_ HTTP/1.1\" 200 -\n",
      "127.0.0.1 - - [20/Jan/2025 15:04:38] \"GET /universal/product/_context_ HTTP/1.1\" 200 -\n",
      "127.0.0.1 - - [20/Jan/2025 15:04:38] \"GET /variables/tables/_context_ HTTP/1.1\" 200 -\n",
      "127.0.0.1 - - [20/Jan/2025 15:04:39] \"GET /variables/tables/ae6hrpt HTTP/1.1\" 200 -\n",
      "127.0.0.1 - - [20/Jan/2025 15:04:39] \"GET /universal/product/_context_ HTTP/1.1\" 200 -\n",
      "127.0.0.1 - - [20/Jan/2025 15:04:39] \"GET /universal/product/_context_ HTTP/1.1\" 200 -\n",
      "127.0.0.1 - - [20/Jan/2025 15:04:39] \"GET /variables/tables/_context_ HTTP/1.1\" 200 -\n",
      "127.0.0.1 - - [20/Jan/2025 15:04:40] \"GET /variables/tables/ae6hrptlev HTTP/1.1\" 200 -\n",
      "127.0.0.1 - - [20/Jan/2025 15:04:40] \"GET /universal/product/_context_ HTTP/1.1\" 200 -\n",
      "127.0.0.1 - - [20/Jan/2025 15:04:40] \"GET /universal/product/_context_ HTTP/1.1\" 200 -\n",
      "127.0.0.1 - - [20/Jan/2025 15:04:40] \"GET /variables/tables/_context_ HTTP/1.1\" 200 -\n",
      "127.0.0.1 - - [20/Jan/2025 15:04:41] \"GET /variables/tables/aeday HTTP/1.1\" 200 -\n",
      "127.0.0.1 - - [20/Jan/2025 15:04:41] \"GET /universal/product/_context_ HTTP/1.1\" 200 -\n",
      "127.0.0.1 - - [20/Jan/2025 15:04:41] \"GET /universal/product/_context_ HTTP/1.1\" 200 -\n",
      "127.0.0.1 - - [20/Jan/2025 15:04:41] \"GET /variables/tables/_context_ HTTP/1.1\" 200 -\n",
      "127.0.0.1 - - [20/Jan/2025 15:04:41] \"GET /variables/tables/aemon HTTP/1.1\" 200 -\n",
      "127.0.0.1 - - [20/Jan/2025 15:04:41] \"GET /universal/product/_context_ HTTP/1.1\" 200 -\n",
      "127.0.0.1 - - [20/Jan/2025 15:04:41] \"GET /universal/product/_context_ HTTP/1.1\" 200 -\n",
      "127.0.0.1 - - [20/Jan/2025 15:04:41] \"GET /variables/tables/_context_ HTTP/1.1\" 200 -\n",
      "127.0.0.1 - - [20/Jan/2025 15:04:43] \"GET /variables/tables/aemonlev HTTP/1.1\" 200 -\n",
      "127.0.0.1 - - [20/Jan/2025 15:04:43] \"GET /universal/product/_context_ HTTP/1.1\" 200 -\n",
      "127.0.0.1 - - [20/Jan/2025 15:04:43] \"GET /universal/product/_context_ HTTP/1.1\" 200 -\n",
      "127.0.0.1 - - [20/Jan/2025 15:04:43] \"GET /variables/tables/_context_ HTTP/1.1\" 200 -\n",
      "127.0.0.1 - - [20/Jan/2025 15:04:43] \"GET /variables/tables/aemonz HTTP/1.1\" 200 -\n",
      "127.0.0.1 - - [20/Jan/2025 15:04:43] \"GET /universal/product/_context_ HTTP/1.1\" 200 -\n",
      "127.0.0.1 - - [20/Jan/2025 15:04:43] \"GET /universal/product/_context_ HTTP/1.1\" 200 -\n",
      "127.0.0.1 - - [20/Jan/2025 15:04:43] \"GET /variables/tables/_context_ HTTP/1.1\" 200 -\n",
      "127.0.0.1 - - [20/Jan/2025 15:04:44] \"GET /variables/tables/aesubhrpt HTTP/1.1\" 200 -\n",
      "127.0.0.1 - - [20/Jan/2025 15:04:44] \"GET /universal/product/_context_ HTTP/1.1\" 200 -\n",
      "127.0.0.1 - - [20/Jan/2025 15:04:44] \"GET /universal/product/_context_ HTTP/1.1\" 200 -\n",
      "127.0.0.1 - - [20/Jan/2025 15:04:44] \"GET /variables/tables/_context_ HTTP/1.1\" 200 -\n",
      "127.0.0.1 - - [20/Jan/2025 15:04:44] \"GET /variables/tables/aesubhrptsite HTTP/1.1\" 200 -\n",
      "127.0.0.1 - - [20/Jan/2025 15:04:44] \"GET /universal/product/_context_ HTTP/1.1\" 200 -\n",
      "127.0.0.1 - - [20/Jan/2025 15:04:44] \"GET /universal/product/_context_ HTTP/1.1\" 200 -\n",
      "127.0.0.1 - - [20/Jan/2025 15:04:44] \"GET /variables/tables/_context_ HTTP/1.1\" 200 -\n",
      "127.0.0.1 - - [20/Jan/2025 15:04:45] \"GET /variables/tables/ap1hr HTTP/1.1\" 200 -\n",
      "127.0.0.1 - - [20/Jan/2025 15:04:45] \"GET /universal/product/_context_ HTTP/1.1\" 200 -\n",
      "127.0.0.1 - - [20/Jan/2025 15:04:45] \"GET /universal/product/_context_ HTTP/1.1\" 200 -\n",
      "127.0.0.1 - - [20/Jan/2025 15:04:45] \"GET /variables/tables/_context_ HTTP/1.1\" 200 -\n",
      "127.0.0.1 - - [20/Jan/2025 15:04:45] \"GET /variables/tables/ap1hrpt HTTP/1.1\" 200 -\n",
      "127.0.0.1 - - [20/Jan/2025 15:04:45] \"GET /universal/product/_context_ HTTP/1.1\" 200 -\n",
      "127.0.0.1 - - [20/Jan/2025 15:04:45] \"GET /universal/product/_context_ HTTP/1.1\" 200 -\n",
      "127.0.0.1 - - [20/Jan/2025 15:04:45] \"GET /variables/tables/_context_ HTTP/1.1\" 200 -\n",
      "127.0.0.1 - - [20/Jan/2025 15:04:46] \"GET /variables/tables/ap3hr HTTP/1.1\" 200 -\n",
      "127.0.0.1 - - [20/Jan/2025 15:04:46] \"GET /universal/product/_context_ HTTP/1.1\" 200 -\n",
      "127.0.0.1 - - [20/Jan/2025 15:04:46] \"GET /universal/product/_context_ HTTP/1.1\" 200 -\n",
      "127.0.0.1 - - [20/Jan/2025 15:04:47] \"GET /variables/tables/_context_ HTTP/1.1\" 200 -\n",
      "127.0.0.1 - - [20/Jan/2025 15:04:48] \"GET /variables/tables/ap3hrpt HTTP/1.1\" 200 -\n",
      "127.0.0.1 - - [20/Jan/2025 15:04:48] \"GET /universal/product/_context_ HTTP/1.1\" 200 -\n",
      "127.0.0.1 - - [20/Jan/2025 15:04:48] \"GET /universal/product/_context_ HTTP/1.1\" 200 -\n",
      "127.0.0.1 - - [20/Jan/2025 15:04:48] \"GET /variables/tables/_context_ HTTP/1.1\" 200 -\n",
      "127.0.0.1 - - [20/Jan/2025 15:04:49] \"GET /variables/tables/ap3hrptlev HTTP/1.1\" 200 -\n",
      "127.0.0.1 - - [20/Jan/2025 15:04:49] \"GET /universal/product/_context_ HTTP/1.1\" 200 -\n",
      "127.0.0.1 - - [20/Jan/2025 15:04:49] \"GET /universal/product/_context_ HTTP/1.1\" 200 -\n",
      "127.0.0.1 - - [20/Jan/2025 15:04:49] \"GET /variables/tables/_context_ HTTP/1.1\" 200 -\n",
      "127.0.0.1 - - [20/Jan/2025 15:04:50] \"GET /variables/tables/ap6hr HTTP/1.1\" 200 -\n",
      "127.0.0.1 - - [20/Jan/2025 15:04:50] \"GET /universal/product/_context_ HTTP/1.1\" 200 -\n",
      "127.0.0.1 - - [20/Jan/2025 15:04:50] \"GET /universal/product/_context_ HTTP/1.1\" 200 -\n",
      "127.0.0.1 - - [20/Jan/2025 15:04:50] \"GET /variables/tables/_context_ HTTP/1.1\" 200 -\n",
      "127.0.0.1 - - [20/Jan/2025 15:04:50] \"GET /variables/tables/ap6hrpt HTTP/1.1\" 200 -\n",
      "127.0.0.1 - - [20/Jan/2025 15:04:50] \"GET /universal/product/_context_ HTTP/1.1\" 200 -\n",
      "127.0.0.1 - - [20/Jan/2025 15:04:50] \"GET /universal/product/_context_ HTTP/1.1\" 200 -\n",
      "127.0.0.1 - - [20/Jan/2025 15:04:50] \"GET /variables/tables/_context_ HTTP/1.1\" 200 -\n",
      "127.0.0.1 - - [20/Jan/2025 15:04:51] \"GET /variables/tables/ap6hrptlev HTTP/1.1\" 200 -\n",
      "127.0.0.1 - - [20/Jan/2025 15:04:51] \"GET /universal/product/_context_ HTTP/1.1\" 200 -\n",
      "127.0.0.1 - - [20/Jan/2025 15:04:51] \"GET /universal/product/_context_ HTTP/1.1\" 200 -\n",
      "127.0.0.1 - - [20/Jan/2025 15:04:51] \"GET /variables/tables/_context_ HTTP/1.1\" 200 -\n",
      "127.0.0.1 - - [20/Jan/2025 15:04:51] \"GET /variables/tables/ap6hrptz HTTP/1.1\" 200 -\n",
      "127.0.0.1 - - [20/Jan/2025 15:04:51] \"GET /universal/product/_context_ HTTP/1.1\" 200 -\n",
      "127.0.0.1 - - [20/Jan/2025 15:04:51] \"GET /universal/product/_context_ HTTP/1.1\" 200 -\n",
      "127.0.0.1 - - [20/Jan/2025 15:04:51] \"GET /variables/tables/_context_ HTTP/1.1\" 200 -\n",
      "127.0.0.1 - - [20/Jan/2025 15:04:51] \"GET /variables/tables/apday HTTP/1.1\" 200 -\n",
      "127.0.0.1 - - [20/Jan/2025 15:04:51] \"GET /universal/product/_context_ HTTP/1.1\" 200 -\n",
      "127.0.0.1 - - [20/Jan/2025 15:04:52] \"GET /universal/product/_context_ HTTP/1.1\" 200 -\n",
      "127.0.0.1 - - [20/Jan/2025 15:04:52] \"GET /variables/tables/_context_ HTTP/1.1\" 200 -\n",
      "127.0.0.1 - - [20/Jan/2025 15:04:52] \"GET /variables/tables/apdaylev HTTP/1.1\" 200 -\n",
      "127.0.0.1 - - [20/Jan/2025 15:04:52] \"GET /universal/product/_context_ HTTP/1.1\" 200 -\n",
      "127.0.0.1 - - [20/Jan/2025 15:04:52] \"GET /universal/product/_context_ HTTP/1.1\" 200 -\n",
      "127.0.0.1 - - [20/Jan/2025 15:04:52] \"GET /variables/tables/_context_ HTTP/1.1\" 200 -\n",
      "127.0.0.1 - - [20/Jan/2025 15:04:53] \"GET /variables/tables/apdayz HTTP/1.1\" 200 -\n",
      "127.0.0.1 - - [20/Jan/2025 15:04:53] \"GET /universal/product/_context_ HTTP/1.1\" 200 -\n",
      "127.0.0.1 - - [20/Jan/2025 15:04:53] \"GET /universal/product/_context_ HTTP/1.1\" 200 -\n",
      "127.0.0.1 - - [20/Jan/2025 15:04:53] \"GET /variables/tables/_context_ HTTP/1.1\" 200 -\n",
      "127.0.0.1 - - [20/Jan/2025 15:04:54] \"GET /variables/tables/apfx HTTP/1.1\" 200 -\n",
      "127.0.0.1 - - [20/Jan/2025 15:04:54] \"GET /universal/product/_context_ HTTP/1.1\" 200 -\n",
      "127.0.0.1 - - [20/Jan/2025 15:04:54] \"GET /universal/product/_context_ HTTP/1.1\" 200 -\n",
      "127.0.0.1 - - [20/Jan/2025 15:04:54] \"GET /variables/tables/_context_ HTTP/1.1\" 200 -\n",
      "127.0.0.1 - - [20/Jan/2025 15:04:56] \"GET /variables/tables/apmon HTTP/1.1\" 200 -\n",
      "127.0.0.1 - - [20/Jan/2025 15:04:56] \"GET /universal/product/_context_ HTTP/1.1\" 200 -\n",
      "127.0.0.1 - - [20/Jan/2025 15:04:56] \"GET /universal/product/_context_ HTTP/1.1\" 200 -\n",
      "127.0.0.1 - - [20/Jan/2025 15:04:56] \"GET /variables/tables/_context_ HTTP/1.1\" 200 -\n",
      "127.0.0.1 - - [20/Jan/2025 15:04:56] \"GET /variables/tables/apmonclim HTTP/1.1\" 200 -\n",
      "127.0.0.1 - - [20/Jan/2025 15:04:56] \"GET /universal/product/_context_ HTTP/1.1\" 200 -\n",
      "127.0.0.1 - - [20/Jan/2025 15:04:56] \"GET /universal/product/_context_ HTTP/1.1\" 200 -\n",
      "127.0.0.1 - - [20/Jan/2025 15:04:56] \"GET /variables/tables/_context_ HTTP/1.1\" 200 -\n",
      "127.0.0.1 - - [20/Jan/2025 15:04:57] \"GET /variables/tables/apmonclimlev HTTP/1.1\" 200 -\n",
      "127.0.0.1 - - [20/Jan/2025 15:04:57] \"GET /universal/product/_context_ HTTP/1.1\" 200 -\n",
      "127.0.0.1 - - [20/Jan/2025 15:04:57] \"GET /universal/product/_context_ HTTP/1.1\" 200 -\n",
      "127.0.0.1 - - [20/Jan/2025 15:04:57] \"GET /variables/tables/_context_ HTTP/1.1\" 200 -\n",
      "127.0.0.1 - - [20/Jan/2025 15:04:58] \"GET /variables/tables/apmondiurnal HTTP/1.1\" 200 -\n",
      "127.0.0.1 - - [20/Jan/2025 15:04:58] \"GET /universal/product/_context_ HTTP/1.1\" 200 -\n",
      "127.0.0.1 - - [20/Jan/2025 15:04:58] \"GET /universal/product/_context_ HTTP/1.1\" 200 -\n",
      "127.0.0.1 - - [20/Jan/2025 15:04:58] \"GET /variables/tables/_context_ HTTP/1.1\" 200 -\n",
      "127.0.0.1 - - [20/Jan/2025 15:04:59] \"GET /variables/tables/apmonlev HTTP/1.1\" 200 -\n",
      "127.0.0.1 - - [20/Jan/2025 15:04:59] \"GET /universal/product/_context_ HTTP/1.1\" 200 -\n",
      "127.0.0.1 - - [20/Jan/2025 15:04:59] \"GET /universal/product/_context_ HTTP/1.1\" 200 -\n",
      "127.0.0.1 - - [20/Jan/2025 15:04:59] \"GET /variables/tables/_context_ HTTP/1.1\" 200 -\n",
      "127.0.0.1 - - [20/Jan/2025 15:04:59] \"GET /variables/tables/apmonz HTTP/1.1\" 200 -\n",
      "127.0.0.1 - - [20/Jan/2025 15:04:59] \"GET /universal/product/_context_ HTTP/1.1\" 200 -\n",
      "127.0.0.1 - - [20/Jan/2025 15:04:59] \"GET /universal/product/_context_ HTTP/1.1\" 200 -\n",
      "127.0.0.1 - - [20/Jan/2025 15:04:59] \"GET /variables/tables/_context_ HTTP/1.1\" 200 -\n",
      "127.0.0.1 - - [20/Jan/2025 15:05:00] \"GET /variables/tables/apsubhrpt HTTP/1.1\" 200 -\n",
      "127.0.0.1 - - [20/Jan/2025 15:05:00] \"GET /universal/product/_context_ HTTP/1.1\" 200 -\n",
      "127.0.0.1 - - [20/Jan/2025 15:05:00] \"GET /universal/product/_context_ HTTP/1.1\" 200 -\n",
      "127.0.0.1 - - [20/Jan/2025 15:05:00] \"GET /variables/tables/_context_ HTTP/1.1\" 200 -\n",
      "127.0.0.1 - - [20/Jan/2025 15:05:01] \"GET /variables/tables/apsubhrptlev HTTP/1.1\" 200 -\n",
      "127.0.0.1 - - [20/Jan/2025 15:05:01] \"GET /universal/product/_context_ HTTP/1.1\" 200 -\n",
      "127.0.0.1 - - [20/Jan/2025 15:05:01] \"GET /universal/product/_context_ HTTP/1.1\" 200 -\n",
      "127.0.0.1 - - [20/Jan/2025 15:05:01] \"GET /variables/tables/_context_ HTTP/1.1\" 200 -\n",
      "127.0.0.1 - - [20/Jan/2025 15:05:01] \"GET /variables/tables/apsubhrptsite HTTP/1.1\" 200 -\n",
      "127.0.0.1 - - [20/Jan/2025 15:05:01] \"GET /universal/product/_context_ HTTP/1.1\" 200 -\n",
      "127.0.0.1 - - [20/Jan/2025 15:05:01] \"GET /universal/product/_context_ HTTP/1.1\" 200 -\n",
      "127.0.0.1 - - [20/Jan/2025 15:05:01] \"GET /variables/tables/_context_ HTTP/1.1\" 200 -\n",
      "127.0.0.1 - - [20/Jan/2025 15:05:03] \"GET /variables/tables/giafx HTTP/1.1\" 200 -\n",
      "127.0.0.1 - - [20/Jan/2025 15:05:03] \"GET /universal/product/_context_ HTTP/1.1\" 200 -\n",
      "127.0.0.1 - - [20/Jan/2025 15:05:03] \"GET /universal/product/_context_ HTTP/1.1\" 200 -\n",
      "127.0.0.1 - - [20/Jan/2025 15:05:03] \"GET /variables/tables/_context_ HTTP/1.1\" 200 -\n",
      "127.0.0.1 - - [20/Jan/2025 15:05:05] \"GET /variables/tables/giamon HTTP/1.1\" 200 -\n",
      "127.0.0.1 - - [20/Jan/2025 15:05:05] \"GET /universal/product/_context_ HTTP/1.1\" 200 -\n",
      "127.0.0.1 - - [20/Jan/2025 15:05:05] \"GET /universal/product/_context_ HTTP/1.1\" 200 -\n",
      "127.0.0.1 - - [20/Jan/2025 15:05:05] \"GET /variables/tables/_context_ HTTP/1.1\" 200 -\n",
      "127.0.0.1 - - [20/Jan/2025 15:05:05] \"GET /variables/tables/giayr HTTP/1.1\" 200 -\n",
      "127.0.0.1 - - [20/Jan/2025 15:05:05] \"GET /universal/product/_context_ HTTP/1.1\" 200 -\n",
      "127.0.0.1 - - [20/Jan/2025 15:05:05] \"GET /universal/product/_context_ HTTP/1.1\" 200 -\n",
      "127.0.0.1 - - [20/Jan/2025 15:05:05] \"GET /variables/tables/_context_ HTTP/1.1\" 200 -\n",
      "127.0.0.1 - - [20/Jan/2025 15:05:06] \"GET /variables/tables/gigfx HTTP/1.1\" 200 -\n",
      "127.0.0.1 - - [20/Jan/2025 15:05:06] \"GET /universal/product/_context_ HTTP/1.1\" 200 -\n",
      "127.0.0.1 - - [20/Jan/2025 15:05:06] \"GET /universal/product/_context_ HTTP/1.1\" 200 -\n",
      "127.0.0.1 - - [20/Jan/2025 15:05:07] \"GET /variables/tables/_context_ HTTP/1.1\" 200 -\n",
      "127.0.0.1 - - [20/Jan/2025 15:05:07] \"GET /variables/tables/gigmon HTTP/1.1\" 200 -\n",
      "127.0.0.1 - - [20/Jan/2025 15:05:07] \"GET /universal/product/_context_ HTTP/1.1\" 200 -\n",
      "127.0.0.1 - - [20/Jan/2025 15:05:07] \"GET /universal/product/_context_ HTTP/1.1\" 200 -\n",
      "127.0.0.1 - - [20/Jan/2025 15:05:07] \"GET /variables/tables/_context_ HTTP/1.1\" 200 -\n",
      "127.0.0.1 - - [20/Jan/2025 15:05:08] \"GET /variables/tables/gigyr HTTP/1.1\" 200 -\n",
      "127.0.0.1 - - [20/Jan/2025 15:05:08] \"GET /universal/product/_context_ HTTP/1.1\" 200 -\n",
      "127.0.0.1 - - [20/Jan/2025 15:05:08] \"GET /universal/product/_context_ HTTP/1.1\" 200 -\n",
      "127.0.0.1 - - [20/Jan/2025 15:05:08] \"GET /variables/tables/_context_ HTTP/1.1\" 200 -\n",
      "127.0.0.1 - - [20/Jan/2025 15:05:09] \"GET /variables/tables/li3hrpt HTTP/1.1\" 200 -\n",
      "127.0.0.1 - - [20/Jan/2025 15:05:09] \"GET /universal/product/_context_ HTTP/1.1\" 200 -\n",
      "127.0.0.1 - - [20/Jan/2025 15:05:09] \"GET /universal/product/_context_ HTTP/1.1\" 200 -\n",
      "127.0.0.1 - - [20/Jan/2025 15:05:09] \"GET /variables/tables/_context_ HTTP/1.1\" 200 -\n",
      "127.0.0.1 - - [20/Jan/2025 15:05:10] \"GET /variables/tables/li6hrpt HTTP/1.1\" 200 -\n",
      "127.0.0.1 - - [20/Jan/2025 15:05:10] \"GET /universal/product/_context_ HTTP/1.1\" 200 -\n",
      "127.0.0.1 - - [20/Jan/2025 15:05:10] \"GET /universal/product/_context_ HTTP/1.1\" 200 -\n",
      "127.0.0.1 - - [20/Jan/2025 15:05:10] \"GET /variables/tables/_context_ HTTP/1.1\" 200 -\n",
      "127.0.0.1 - - [20/Jan/2025 15:05:10] \"GET /variables/tables/liday HTTP/1.1\" 200 -\n",
      "127.0.0.1 - - [20/Jan/2025 15:05:10] \"GET /universal/product/_context_ HTTP/1.1\" 200 -\n",
      "127.0.0.1 - - [20/Jan/2025 15:05:10] \"GET /universal/product/_context_ HTTP/1.1\" 200 -\n",
      "127.0.0.1 - - [20/Jan/2025 15:05:10] \"GET /variables/tables/_context_ HTTP/1.1\" 200 -\n",
      "127.0.0.1 - - [20/Jan/2025 15:05:11] \"GET /variables/tables/lifx HTTP/1.1\" 200 -\n",
      "127.0.0.1 - - [20/Jan/2025 15:05:11] \"GET /universal/product/_context_ HTTP/1.1\" 200 -\n",
      "127.0.0.1 - - [20/Jan/2025 15:05:11] \"GET /universal/product/_context_ HTTP/1.1\" 200 -\n",
      "127.0.0.1 - - [20/Jan/2025 15:05:11] \"GET /variables/tables/_context_ HTTP/1.1\" 200 -\n",
      "127.0.0.1 - - [20/Jan/2025 15:05:14] \"GET /variables/tables/limon HTTP/1.1\" 200 -\n",
      "127.0.0.1 - - [20/Jan/2025 15:05:14] \"GET /universal/product/_context_ HTTP/1.1\" 200 -\n",
      "127.0.0.1 - - [20/Jan/2025 15:05:14] \"GET /universal/product/_context_ HTTP/1.1\" 200 -\n",
      "127.0.0.1 - - [20/Jan/2025 15:05:14] \"GET /variables/tables/_context_ HTTP/1.1\" 200 -\n",
      "127.0.0.1 - - [20/Jan/2025 15:05:15] \"GET /variables/tables/lisubhrptsite HTTP/1.1\" 200 -\n",
      "127.0.0.1 - - [20/Jan/2025 15:05:15] \"GET /universal/product/_context_ HTTP/1.1\" 200 -\n",
      "127.0.0.1 - - [20/Jan/2025 15:05:15] \"GET /universal/product/_context_ HTTP/1.1\" 200 -\n",
      "127.0.0.1 - - [20/Jan/2025 15:05:15] \"GET /variables/tables/_context_ HTTP/1.1\" 200 -\n",
      "127.0.0.1 - - [20/Jan/2025 15:05:18] \"GET /variables/tables/lp3hr HTTP/1.1\" 200 -\n",
      "127.0.0.1 - - [20/Jan/2025 15:05:18] \"GET /universal/product/_context_ HTTP/1.1\" 200 -\n",
      "127.0.0.1 - - [20/Jan/2025 15:05:18] \"GET /universal/product/_context_ HTTP/1.1\" 200 -\n",
      "127.0.0.1 - - [20/Jan/2025 15:05:18] \"GET /variables/tables/_context_ HTTP/1.1\" 200 -\n",
      "127.0.0.1 - - [20/Jan/2025 15:05:19] \"GET /variables/tables/lp3hrpt HTTP/1.1\" 200 -\n",
      "127.0.0.1 - - [20/Jan/2025 15:05:19] \"GET /universal/product/_context_ HTTP/1.1\" 200 -\n",
      "127.0.0.1 - - [20/Jan/2025 15:05:19] \"GET /universal/product/_context_ HTTP/1.1\" 200 -\n",
      "127.0.0.1 - - [20/Jan/2025 15:05:19] \"GET /variables/tables/_context_ HTTP/1.1\" 200 -\n",
      "127.0.0.1 - - [20/Jan/2025 15:05:20] \"GET /variables/tables/lp6hrpt HTTP/1.1\" 200 -\n",
      "127.0.0.1 - - [20/Jan/2025 15:05:20] \"GET /universal/product/_context_ HTTP/1.1\" 200 -\n",
      "127.0.0.1 - - [20/Jan/2025 15:05:20] \"GET /universal/product/_context_ HTTP/1.1\" 200 -\n",
      "127.0.0.1 - - [20/Jan/2025 15:05:20] \"GET /variables/tables/_context_ HTTP/1.1\" 200 -\n",
      "127.0.0.1 - - [20/Jan/2025 15:05:22] \"GET /variables/tables/lpday HTTP/1.1\" 200 -\n",
      "127.0.0.1 - - [20/Jan/2025 15:05:22] \"GET /universal/product/_context_ HTTP/1.1\" 200 -\n",
      "127.0.0.1 - - [20/Jan/2025 15:05:22] \"GET /universal/product/_context_ HTTP/1.1\" 200 -\n",
      "127.0.0.1 - - [20/Jan/2025 15:05:22] \"GET /variables/tables/_context_ HTTP/1.1\" 200 -\n",
      "127.0.0.1 - - [20/Jan/2025 15:05:22] \"GET /variables/tables/lpfx HTTP/1.1\" 200 -\n",
      "127.0.0.1 - - [20/Jan/2025 15:05:22] \"GET /universal/product/_context_ HTTP/1.1\" 200 -\n",
      "127.0.0.1 - - [20/Jan/2025 15:05:22] \"GET /universal/product/_context_ HTTP/1.1\" 200 -\n",
      "127.0.0.1 - - [20/Jan/2025 15:05:22] \"GET /variables/tables/_context_ HTTP/1.1\" 200 -\n",
      "127.0.0.1 - - [20/Jan/2025 15:05:24] \"GET /variables/tables/lpmon HTTP/1.1\" 200 -\n",
      "127.0.0.1 - - [20/Jan/2025 15:05:24] \"GET /universal/product/_context_ HTTP/1.1\" 200 -\n",
      "127.0.0.1 - - [20/Jan/2025 15:05:24] \"GET /universal/product/_context_ HTTP/1.1\" 200 -\n",
      "127.0.0.1 - - [20/Jan/2025 15:05:24] \"GET /variables/tables/_context_ HTTP/1.1\" 200 -\n",
      "127.0.0.1 - - [20/Jan/2025 15:05:25] \"GET /variables/tables/lpyr HTTP/1.1\" 200 -\n",
      "127.0.0.1 - - [20/Jan/2025 15:05:25] \"GET /universal/product/_context_ HTTP/1.1\" 200 -\n",
      "127.0.0.1 - - [20/Jan/2025 15:05:25] \"GET /universal/product/_context_ HTTP/1.1\" 200 -\n",
      "127.0.0.1 - - [20/Jan/2025 15:05:25] \"GET /variables/tables/_context_ HTTP/1.1\" 200 -\n",
      "127.0.0.1 - - [20/Jan/2025 15:05:25] \"GET /variables/tables/lpyrpt HTTP/1.1\" 200 -\n",
      "127.0.0.1 - - [20/Jan/2025 15:05:25] \"GET /universal/product/_context_ HTTP/1.1\" 200 -\n",
      "127.0.0.1 - - [20/Jan/2025 15:05:25] \"GET /universal/product/_context_ HTTP/1.1\" 200 -\n",
      "127.0.0.1 - - [20/Jan/2025 15:05:25] \"GET /variables/tables/_context_ HTTP/1.1\" 200 -\n",
      "127.0.0.1 - - [20/Jan/2025 15:05:26] \"GET /variables/tables/obday HTTP/1.1\" 200 -\n",
      "127.0.0.1 - - [20/Jan/2025 15:05:26] \"GET /universal/product/_context_ HTTP/1.1\" 200 -\n",
      "127.0.0.1 - - [20/Jan/2025 15:05:26] \"GET /universal/product/_context_ HTTP/1.1\" 200 -\n",
      "127.0.0.1 - - [20/Jan/2025 15:05:26] \"GET /variables/tables/_context_ HTTP/1.1\" 200 -\n",
      "127.0.0.1 - - [20/Jan/2025 15:05:26] \"GET /variables/tables/obmon HTTP/1.1\" 200 -\n",
      "127.0.0.1 - - [20/Jan/2025 15:05:26] \"GET /universal/product/_context_ HTTP/1.1\" 200 -\n",
      "127.0.0.1 - - [20/Jan/2025 15:05:26] \"GET /universal/product/_context_ HTTP/1.1\" 200 -\n",
      "127.0.0.1 - - [20/Jan/2025 15:05:26] \"GET /variables/tables/_context_ HTTP/1.1\" 200 -\n",
      "127.0.0.1 - - [20/Jan/2025 15:05:26] \"GET /variables/tables/obmonlev HTTP/1.1\" 200 -\n",
      "127.0.0.1 - - [20/Jan/2025 15:05:26] \"GET /universal/product/_context_ HTTP/1.1\" 200 -\n",
      "127.0.0.1 - - [20/Jan/2025 15:05:26] \"GET /universal/product/_context_ HTTP/1.1\" 200 -\n",
      "127.0.0.1 - - [20/Jan/2025 15:05:26] \"GET /variables/tables/_context_ HTTP/1.1\" 200 -\n",
      "127.0.0.1 - - [20/Jan/2025 15:05:26] \"GET /variables/tables/obyr HTTP/1.1\" 200 -\n",
      "127.0.0.1 - - [20/Jan/2025 15:05:26] \"GET /universal/product/_context_ HTTP/1.1\" 200 -\n",
      "127.0.0.1 - - [20/Jan/2025 15:05:26] \"GET /universal/product/_context_ HTTP/1.1\" 200 -\n",
      "127.0.0.1 - - [20/Jan/2025 15:05:26] \"GET /variables/tables/_context_ HTTP/1.1\" 200 -\n",
      "127.0.0.1 - - [20/Jan/2025 15:05:29] \"GET /variables/tables/obyrlev HTTP/1.1\" 200 -\n",
      "127.0.0.1 - - [20/Jan/2025 15:05:29] \"GET /universal/product/_context_ HTTP/1.1\" 200 -\n",
      "127.0.0.1 - - [20/Jan/2025 15:05:29] \"GET /universal/product/_context_ HTTP/1.1\" 200 -\n",
      "127.0.0.1 - - [20/Jan/2025 15:05:29] \"GET /variables/tables/_context_ HTTP/1.1\" 200 -\n",
      "127.0.0.1 - - [20/Jan/2025 15:05:29] \"GET /variables/tables/op3hrpt HTTP/1.1\" 200 -\n",
      "127.0.0.1 - - [20/Jan/2025 15:05:29] \"GET /universal/product/_context_ HTTP/1.1\" 200 -\n",
      "127.0.0.1 - - [20/Jan/2025 15:05:29] \"GET /universal/product/_context_ HTTP/1.1\" 200 -\n",
      "127.0.0.1 - - [20/Jan/2025 15:05:29] \"GET /variables/tables/_context_ HTTP/1.1\" 200 -\n",
      "127.0.0.1 - - [20/Jan/2025 15:05:29] \"GET /variables/tables/opday HTTP/1.1\" 200 -\n",
      "127.0.0.1 - - [20/Jan/2025 15:05:29] \"GET /universal/product/_context_ HTTP/1.1\" 200 -\n",
      "127.0.0.1 - - [20/Jan/2025 15:05:29] \"GET /universal/product/_context_ HTTP/1.1\" 200 -\n",
      "127.0.0.1 - - [20/Jan/2025 15:05:29] \"GET /variables/tables/_context_ HTTP/1.1\" 200 -\n",
      "127.0.0.1 - - [20/Jan/2025 15:05:30] \"GET /variables/tables/opdec HTTP/1.1\" 200 -\n",
      "127.0.0.1 - - [20/Jan/2025 15:05:30] \"GET /universal/product/_context_ HTTP/1.1\" 200 -\n",
      "127.0.0.1 - - [20/Jan/2025 15:05:30] \"GET /universal/product/_context_ HTTP/1.1\" 200 -\n",
      "127.0.0.1 - - [20/Jan/2025 15:05:30] \"GET /variables/tables/_context_ HTTP/1.1\" 200 -\n",
      "127.0.0.1 - - [20/Jan/2025 15:05:30] \"GET /variables/tables/opdeclev HTTP/1.1\" 200 -\n",
      "127.0.0.1 - - [20/Jan/2025 15:05:30] \"GET /universal/product/_context_ HTTP/1.1\" 200 -\n",
      "127.0.0.1 - - [20/Jan/2025 15:05:30] \"GET /universal/product/_context_ HTTP/1.1\" 200 -\n",
      "127.0.0.1 - - [20/Jan/2025 15:05:30] \"GET /variables/tables/_context_ HTTP/1.1\" 200 -\n",
      "127.0.0.1 - - [20/Jan/2025 15:05:30] \"GET /variables/tables/opdecz HTTP/1.1\" 200 -\n",
      "127.0.0.1 - - [20/Jan/2025 15:05:30] \"GET /universal/product/_context_ HTTP/1.1\" 200 -\n",
      "127.0.0.1 - - [20/Jan/2025 15:05:30] \"GET /universal/product/_context_ HTTP/1.1\" 200 -\n",
      "127.0.0.1 - - [20/Jan/2025 15:05:30] \"GET /variables/tables/_context_ HTTP/1.1\" 200 -\n",
      "127.0.0.1 - - [20/Jan/2025 15:05:32] \"GET /variables/tables/opfx HTTP/1.1\" 200 -\n",
      "127.0.0.1 - - [20/Jan/2025 15:05:32] \"GET /universal/product/_context_ HTTP/1.1\" 200 -\n",
      "127.0.0.1 - - [20/Jan/2025 15:05:32] \"GET /universal/product/_context_ HTTP/1.1\" 200 -\n",
      "127.0.0.1 - - [20/Jan/2025 15:05:32] \"GET /variables/tables/_context_ HTTP/1.1\" 200 -\n",
      "127.0.0.1 - - [20/Jan/2025 15:05:32] \"GET /variables/tables/opmon HTTP/1.1\" 200 -\n",
      "127.0.0.1 - - [20/Jan/2025 15:05:32] \"GET /universal/product/_context_ HTTP/1.1\" 200 -\n",
      "127.0.0.1 - - [20/Jan/2025 15:05:32] \"GET /universal/product/_context_ HTTP/1.1\" 200 -\n",
      "127.0.0.1 - - [20/Jan/2025 15:05:32] \"GET /variables/tables/_context_ HTTP/1.1\" 200 -\n",
      "127.0.0.1 - - [20/Jan/2025 15:05:33] \"GET /variables/tables/opmonclim HTTP/1.1\" 200 -\n",
      "127.0.0.1 - - [20/Jan/2025 15:05:33] \"GET /universal/product/_context_ HTTP/1.1\" 200 -\n",
      "127.0.0.1 - - [20/Jan/2025 15:05:33] \"GET /universal/product/_context_ HTTP/1.1\" 200 -\n",
      "127.0.0.1 - - [20/Jan/2025 15:05:33] \"GET /variables/tables/_context_ HTTP/1.1\" 200 -\n",
      "127.0.0.1 - - [20/Jan/2025 15:05:33] \"GET /variables/tables/opmonclimlev HTTP/1.1\" 200 -\n",
      "127.0.0.1 - - [20/Jan/2025 15:05:33] \"GET /universal/product/_context_ HTTP/1.1\" 200 -\n",
      "127.0.0.1 - - [20/Jan/2025 15:05:33] \"GET /universal/product/_context_ HTTP/1.1\" 200 -\n",
      "127.0.0.1 - - [20/Jan/2025 15:05:33] \"GET /variables/tables/_context_ HTTP/1.1\" 200 -\n",
      "127.0.0.1 - - [20/Jan/2025 15:05:33] \"GET /variables/tables/opmonlev HTTP/1.1\" 200 -\n",
      "127.0.0.1 - - [20/Jan/2025 15:05:33] \"GET /universal/product/_context_ HTTP/1.1\" 200 -\n",
      "127.0.0.1 - - [20/Jan/2025 15:05:33] \"GET /universal/product/_context_ HTTP/1.1\" 200 -\n",
      "127.0.0.1 - - [20/Jan/2025 15:05:33] \"GET /variables/tables/_context_ HTTP/1.1\" 200 -\n",
      "127.0.0.1 - - [20/Jan/2025 15:05:34] \"GET /variables/tables/opmonz HTTP/1.1\" 200 -\n",
      "127.0.0.1 - - [20/Jan/2025 15:05:34] \"GET /universal/product/_context_ HTTP/1.1\" 200 -\n",
      "127.0.0.1 - - [20/Jan/2025 15:05:34] \"GET /universal/product/_context_ HTTP/1.1\" 200 -\n",
      "127.0.0.1 - - [20/Jan/2025 15:05:34] \"GET /variables/tables/_context_ HTTP/1.1\" 200 -\n",
      "127.0.0.1 - - [20/Jan/2025 15:05:34] \"GET /variables/tables/opyr HTTP/1.1\" 200 -\n",
      "127.0.0.1 - - [20/Jan/2025 15:05:34] \"GET /universal/product/_context_ HTTP/1.1\" 200 -\n",
      "127.0.0.1 - - [20/Jan/2025 15:05:34] \"GET /universal/product/_context_ HTTP/1.1\" 200 -\n",
      "127.0.0.1 - - [20/Jan/2025 15:05:34] \"GET /variables/tables/_context_ HTTP/1.1\" 200 -\n",
      "127.0.0.1 - - [20/Jan/2025 15:05:34] \"GET /variables/tables/opyrlev HTTP/1.1\" 200 -\n",
      "127.0.0.1 - - [20/Jan/2025 15:05:34] \"GET /universal/product/_context_ HTTP/1.1\" 200 -\n",
      "127.0.0.1 - - [20/Jan/2025 15:05:34] \"GET /universal/product/_context_ HTTP/1.1\" 200 -\n",
      "127.0.0.1 - - [20/Jan/2025 15:05:34] \"GET /variables/tables/_context_ HTTP/1.1\" 200 -\n",
      "127.0.0.1 - - [20/Jan/2025 15:05:36] \"GET /variables/tables/siday HTTP/1.1\" 200 -\n",
      "127.0.0.1 - - [20/Jan/2025 15:05:36] \"GET /universal/product/_context_ HTTP/1.1\" 200 -\n",
      "127.0.0.1 - - [20/Jan/2025 15:05:36] \"GET /universal/product/_context_ HTTP/1.1\" 200 -\n",
      "127.0.0.1 - - [20/Jan/2025 15:05:36] \"GET /variables/tables/_context_ HTTP/1.1\" 200 -\n",
      "127.0.0.1 - - [20/Jan/2025 15:05:36] \"GET /variables/tables/simon HTTP/1.1\" 200 -\n",
      "127.0.0.1 - - [20/Jan/2025 15:05:36] \"GET /universal/product/_context_ HTTP/1.1\" 200 -\n",
      "127.0.0.1 - - [20/Jan/2025 15:05:36] \"GET /universal/product/observations HTTP/1.1\" 200 -\n",
      "127.0.0.1 - - [20/Jan/2025 15:05:36] \"GET /universal/product/_context_ HTTP/1.1\" 200 -\n",
      "127.0.0.1 - - [20/Jan/2025 15:05:40] \"GET /universal/product/_context_ HTTP/1.1\" 200 -\n",
      "127.0.0.1 - - [20/Jan/2025 15:05:40] \"GET /variables/tables/_context_ HTTP/1.1\" 200 -\n",
      "127.0.0.1 - - [20/Jan/2025 15:05:40] \"GET /variables/tables/simonpt HTTP/1.1\" 200 -\n",
      "127.0.0.1 - - [20/Jan/2025 15:05:40] \"GET /universal/product/_context_ HTTP/1.1\" 200 -\n",
      "127.0.0.1 - - [20/Jan/2025 15:05:40] \"GET /universal/product/_context_ HTTP/1.1\" 200 -\n",
      "127.0.0.1 - - [20/Jan/2025 15:05:40] \"GET /variables/tables/_context_ HTTP/1.1\" 200 -\n",
      "127.0.0.1 - - [20/Jan/2025 15:05:40] \"GET /variables/tables/_context_ HTTP/1.1\" 200 -\n",
      "127.0.0.1 - - [20/Jan/2025 15:05:40] \"GET /universal/product/_context_ HTTP/1.1\" 200 -\n",
      "127.0.0.1 - - [20/Jan/2025 15:05:41] \"GET /cmip6plus/project/_context_ HTTP/1.1\" 200 -\n",
      "127.0.0.1 - - [20/Jan/2025 15:06:10] \"GET /cmip6plus//project/index.json HTTP/1.1\" 200 -\n",
      "127.0.0.1 - - [20/Jan/2025 15:06:10] \"GET /cmip6plus//project/_context_ HTTP/1.1\" 200 -\n",
      "127.0.0.1 - - [20/Jan/2025 15:06:10] \"GET /cmip6plus//_context_ HTTP/1.1\" 200 -\n",
      "127.0.0.1 - - [20/Jan/2025 15:06:10] \"GET /cmip6plus/project/_context_ HTTP/1.1\" 200 -\n",
      "127.0.0.1 - - [20/Jan/2025 15:06:14] \"GET /universal/realm/graph.jsonld HTTP/1.1\" 200 -\n",
      "127.0.0.1 - - [20/Jan/2025 15:06:14] \"GET /universal/realm/graph.jsonld HTTP/1.1\" 200 -\n",
      "127.0.0.1 - - [20/Jan/2025 15:06:14] \"GET /universal/frequency/graph.jsonld HTTP/1.1\" 200 -\n",
      "127.0.0.1 - - [20/Jan/2025 15:06:14] \"GET /universal/frequency/graph.jsonld HTTP/1.1\" 200 -\n",
      "127.0.0.1 - - [20/Jan/2025 15:06:15] \"GET /universal/realm/aerosol HTTP/1.1\" 200 -\n",
      "127.0.0.1 - - [20/Jan/2025 15:06:15] \"GET /universal/realm/_context_ HTTP/1.1\" 200 -\n",
      "127.0.0.1 - - [20/Jan/2025 15:06:15] \"GET /universal/realm/_context_ HTTP/1.1\" 200 -\n",
      "127.0.0.1 - - [20/Jan/2025 15:06:22] \"GET /universal/resolution/graph.jsonld HTTP/1.1\" 200 -\n",
      "127.0.0.1 - - [20/Jan/2025 15:06:22] \"GET /universal/resolution/graph.jsonld HTTP/1.1\" 200 -\n"
     ]
    }
   ],
   "source": [
    "from collections import OrderedDict\n",
    "\n",
    "CV = OrderedDict()\n",
    "\n",
    "\n",
    "for item in [\n",
    "    'repo',\n",
    "    'mip-era',\n",
    "    'license',\n",
    "    'activity',\n",
    "    'drs',\n",
    "    'product',\n",
    "    'required-global-attributes',\n",
    "    'tables',\n",
    "    ]:\n",
    "    \n",
    "    print(item)\n",
    "    # CV[item] = getattr(locals(),item)\n",
    "    ld  = cmipld.processor.expand_document(f'{io_url}project/{item}.json', depth=3)[0]\n",
    "    CV[item] = getattr(this,item)(ld)\n",
    "\n"
   ]
  },
  {
   "cell_type": "code",
   "execution_count": 6,
   "metadata": {},
   "outputs": [],
   "source": [
    "# adding the index properties\n",
    "CV.update(cmipld.processor.get(f'{io_url}/project/index.json')[0]['index'])"
   ]
  },
  {
   "cell_type": "code",
   "execution_count": 7,
   "metadata": {},
   "outputs": [
    {
     "name": "stdout",
     "output_type": "stream",
     "text": [
      "realm\n",
      "frequency\n"
     ]
    }
   ],
   "source": [
    "for universe_item in ['realm','frequency']:\n",
    "    # 'grid-label''nominal'\n",
    "    print(universe_item)\n",
    "    path = f'{cmipld.mapping[\"universal\"]}{universe_item}/graph.jsonld'\n",
    "    ld  = cmipld.jsonld.compact(path,path)['@graph']\n",
    "    CV[universe_item] = getattr(this,universe_item)(ld)"
   ]
  },
  {
   "cell_type": "code",
   "execution_count": 8,
   "metadata": {},
   "outputs": [
    {
     "name": "stdout",
     "output_type": "stream",
     "text": [
      "Substituting prefix:\n",
      "universal: https://wcrp-cmip.github.io/WCRP-universe/realm/aerosol\n"
     ]
    },
    {
     "data": {
      "text/plain": [
       "[{'@context': 'https://wcrp-cmip.github.io/WCRP-universe/realm/_context_',\n",
       "  'id': 'universal:realm/aerosol',\n",
       "  'type': ['wcrp:realm', 'universal'],\n",
       "  'description': 'Aerosol',\n",
       "  'label': 'aerosol',\n",
       "  'long_label': 'Aerosol'}]"
      ]
     },
     "execution_count": 8,
     "metadata": {},
     "output_type": "execute_result"
    }
   ],
   "source": []
  },
  {
   "cell_type": "code",
   "execution_count": 9,
   "metadata": {},
   "outputs": [],
   "source": [
    "path = f'{cmipld.mapping[\"universal\"]}resolution/graph.jsonld'\n",
    "data  = cmipld.jsonld.compact(path,path)['@graph']\n",
    "\n",
    "CV['nominal_resolution'] = [f\"{r['value']} {r['unit']}\" for r in sorted(data, key=lambda x: float(x['value']) if x['value'].replace('.', '', 1).isdigit() else float('inf'))]\n",
    "\n"
   ]
  },
  {
   "cell_type": "code",
   "execution_count": null,
   "metadata": {},
   "outputs": [],
   "source": [
    "CV['required-global-attributes']"
   ]
  },
  {
   "cell_type": "code",
   "execution_count": null,
   "metadata": {},
   "outputs": [],
   "source": [
    "CV"
   ]
  },
  {
   "cell_type": "code",
   "execution_count": null,
   "metadata": {},
   "outputs": [],
   "source": []
  },
  {
   "cell_type": "code",
   "execution_count": null,
   "metadata": {},
   "outputs": [],
   "source": [
    "pprint(cmipld.processor.get(f'{io_url}project/mip-era.json'))"
   ]
  },
  {
   "cell_type": "code",
   "execution_count": null,
   "metadata": {},
   "outputs": [],
   "source": [
    "pprint(jsonld.expand(f'{io_url}project/activity.json'))"
   ]
  },
  {
   "cell_type": "code",
   "execution_count": null,
   "metadata": {},
   "outputs": [],
   "source": [
    "import glob\n",
    "import json\n",
    "ctx = json.load(open('_context_'))['@context'][1]\n",
    "for i,j in ctx.items(): \n",
    "    if '@' not in i:\n",
    "        data = json.load(open(f\"{i.replace('_','-')}.json\"))\n",
    "        data['@context']    =   ['_context_',{i:j}]\n",
    "        json.dump(data, open(f\"{i.replace('_','-')}.json\",'w'),indent=4)"
   ]
  },
  {
   "cell_type": "code",
   "execution_count": null,
   "metadata": {},
   "outputs": [],
   "source": [
    "\n",
    "pprint(CV)"
   ]
  },
  {
   "cell_type": "code",
   "execution_count": null,
   "metadata": {},
   "outputs": [],
   "source": []
  }
 ],
 "metadata": {
  "kernelspec": {
   "display_name": "base",
   "language": "python",
   "name": "python3"
  },
  "language_info": {
   "codemirror_mode": {
    "name": "ipython",
    "version": 3
   },
   "file_extension": ".py",
   "mimetype": "text/x-python",
   "name": "python",
   "nbconvert_exporter": "python",
   "pygments_lexer": "ipython3",
   "version": "3.10.10"
  }
 },
 "nbformat": 4,
 "nbformat_minor": 2
}
