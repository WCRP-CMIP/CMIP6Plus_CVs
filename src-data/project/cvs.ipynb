{
 "cells": [
  {
   "cell_type": "code",
   "execution_count": null,
   "metadata": {},
   "outputs": [],
   "source": [
    "import cmipld\n",
    "from cmipld.utils.offline import LD_server, replace_loader\n",
    "from pyld import jsonld"
   ]
  },
  {
   "cell_type": "code",
   "execution_count": null,
   "metadata": {},
   "outputs": [],
   "source": [
    "from pyld import jsonld \n",
    "jsonld.expand('https://wcrp-cmip.github.io/CMIP6Plus_CVs/project/product.json')"
   ]
  },
  {
   "cell_type": "code",
   "execution_count": 1,
   "metadata": {},
   "outputs": [
    {
     "name": "stderr",
     "output_type": "stream",
     "text": [
      "/Users/daniel.ellis/customlib/homebrew/Caskroom/mambaforge/base/lib/python3.10/site-packages/tqdm/auto.py:21: TqdmWarning: IProgress not found. Please update jupyter and ipywidgets. See https://ipywidgets.readthedocs.io/en/stable/user_install.html\n",
      "  from .autonotebook import tqdm as notebook_tqdm\n"
     ]
    },
    {
     "name": "stdout",
     "output_type": "stream",
     "text": [
      "xccc https://wcrp-cmip.github.io/WCRP-universe/product/_context_ {'https://wcrp-cmip.github.io/WCRP-universe/product/description': [{'@value': 'Output produced from a model simulation. This includes the various data points and metrics generated as a result of running climate models, which simulate physical, chemical, and biological processes affecting the climate system.'}], '@id': 'https://wcrp-cmip.github.io/WCRP-universe/product/model-output', 'https://wcrp-cmip.github.io/WCRP-universe/product/label': [{'@value': 'model-output'}], '@type': ['wcrp:product', 'https://wcrp-cmip.github.io/WCRP-universe/']}\n",
      "[{'@context': 'https://wcrp-cmip.github.io/WCRP-universe/product/_context_', 'id': 'universal:product/model-output', 'type': ['wcrp:product', 'universal'], 'description': 'Output produced from a model simulation. This includes the various data points and metrics generated as a result of running climate models, which simulate physical, chemical, and biological processes affecting the climate system.', 'label': 'model-output'}]\n",
      "xccc https://wcrp-cmip.github.io/CMIP6Plus_CVs/project/_context_ {'@id': 'https://wcrp-cmip.github.io/CMIP6Plus_CVs/project/product', 'https://wcrp-cmip.github.io/CMIP6Plus_CVs/project/product': [{'@id': 'https://wcrp-cmip.github.io/WCRP-universe/product/model-output'}], '@type': ['wcrp:project', 'https://wcrp-cmip.github.io/CMIP6Plus_CVs/', 'wcrp:product']}\n"
     ]
    },
    {
     "data": {
      "text/plain": [
       "[{'@context': 'https://wcrp-cmip.github.io/CMIP6Plus_CVs/project/_context_',\n",
       "  'id': 'cmip6plus:project/product',\n",
       "  'type': ['wcrp:project', 'cmip6plus', 'wcrp:product'],\n",
       "  'product': {'id': 'universal:product/model-output',\n",
       "   'type': ['wcrp:product', 'universal'],\n",
       "   'universal:product/description': 'Output produced from a model simulation. This includes the various data points and metrics generated as a result of running climate models, which simulate physical, chemical, and biological processes affecting the climate system.',\n",
       "   'universal:product/label': 'model-output'}}]"
      ]
     },
     "execution_count": 1,
     "metadata": {},
     "output_type": "execute_result"
    }
   ],
   "source": [
    "import cmipld\n",
    "cmipld.processor.expand_document('https://wcrp-cmip.github.io/CMIP6Plus_CVs/project/product.json')"
   ]
  },
  {
   "cell_type": "code",
   "execution_count": null,
   "metadata": {},
   "outputs": [],
   "source": []
  },
  {
   "cell_type": "code",
   "execution_count": null,
   "metadata": {},
   "outputs": [],
   "source": [
    "from pyld import jsonld\n",
    "jsonld.expand(f'https://wcrp-cmip.github.io/WCRP-universe/product/model-output.json')"
   ]
  },
  {
   "cell_type": "code",
   "execution_count": null,
   "metadata": {},
   "outputs": [],
   "source": [
    "jsonld.expand('https://wcrp-cmip.github.io/CMIP6Plus_CVs/project/product.json')"
   ]
  },
  {
   "cell_type": "code",
   "execution_count": null,
   "metadata": {},
   "outputs": [],
   "source": [
    "# Set up offline override for the current repository\n",
    "\n",
    "ldpath = cmipld.utils.git.ldpath()\n",
    "\n",
    "\n",
    "# create a temporary directory containing (a copy of) the current repository\n",
    "# localserver = LD_server(copy = [[ldpath,'current_repo']])\n",
    "repos= { \n",
    "        'https://wcrp-cmip.github.io/WCRP-universe/': 'universal',\n",
    "        'https://wcrp-cmip.github.io/MIP-variables/': 'variables',\n",
    "        'https://wcrp-cmip.github.io/CMIP6Plus_CVs/': 'cmip6plus'\n",
    "        }\n",
    "\n",
    "localserver = LD_server(repos = repos.items(),copy = [[ldpath,'cmip6plus']])\n",
    "\n",
    "# localserver = LD_server(copy = [[ldpath,'cmip6plus']])\n",
    "\n",
    "\n",
    "localhost = localserver.start_server(8082)\n",
    "repo_url = cmipld.utils.git.url()\n",
    "io_url = cmipld.utils.git.url2io(repo_url)\n",
    "\n",
    "\n",
    "\n"
   ]
  },
  {
   "cell_type": "code",
   "execution_count": null,
   "metadata": {},
   "outputs": [],
   "source": [
    "# \n",
    "replace_loader(localhost,[list(i) for i in repos.items()])\n"
   ]
  },
  {
   "cell_type": "code",
   "execution_count": null,
   "metadata": {},
   "outputs": [],
   "source": [
    "cmipld.processor.expand_document(f'{io_url}project/{item}.json',depth=4)"
   ]
  },
  {
   "cell_type": "code",
   "execution_count": null,
   "metadata": {},
   "outputs": [],
   "source": [
    "f'{io_url}project/{item}.json'"
   ]
  },
  {
   "cell_type": "code",
   "execution_count": null,
   "metadata": {},
   "outputs": [],
   "source": [
    "jsonld.expand(f'{io_url}project/{item}.json')"
   ]
  },
  {
   "cell_type": "code",
   "execution_count": null,
   "metadata": {
    "vscode": {
     "languageId": "markdown"
    }
   },
   "outputs": [],
   "source": [
    "jsonld.expand(f'https://wcrp-cmip.github.io/WCRP-universe/product/model-output.json')"
   ]
  },
  {
   "cell_type": "code",
   "execution_count": null,
   "metadata": {
    "vscode": {
     "languageId": "markdown"
    }
   },
   "outputs": [],
   "source": [
    "jsonld.frame(f'https://wcrp-cmip.github.io/WCRP-universe/product/model-output.json',f'https://wcrp-cmip.github.io/WCRP-universe/product/model-output.json')"
   ]
  },
  {
   "cell_type": "code",
   "execution_count": null,
   "metadata": {},
   "outputs": [],
   "source": [
    "repo_url = cmipld.utils.git.url()\n",
    "io_url = cmipld.utils.git.url2io(repo_url)\n",
    "\n",
    "# localserver.copy_existing_repos([[ldpath,'cmip6plus']])\n",
    "\n",
    "item='product'\n",
    "a = jsonld.expand(f'{io_url}project/{item}.json')\n",
    "\n",
    "\n",
    "\n",
    "b = jsonld.frame(f'{io_url}project/{item}.json',f'{io_url}project/_context_')\n",
    "\n",
    "a"
   ]
  },
  {
   "cell_type": "code",
   "execution_count": 3,
   "metadata": {},
   "outputs": [],
   "source": [
    "\n",
    "\n",
    "def get_entry(data,entry='label'):\n",
    "    return [i.get(entry) for i in data]\n",
    "\n",
    "def tables(data):\n",
    "    return get_entry(data['tables'])\n",
    "    \n",
    "# getattr(cmipld,'processor')"
   ]
  },
  {
   "cell_type": "code",
   "execution_count": 5,
   "metadata": {},
   "outputs": [],
   "source": [
    "# getattr(cmipld,'processor')"
   ]
  },
  {
   "cell_type": "code",
   "execution_count": null,
   "metadata": {},
   "outputs": [],
   "source": [
    "from collections import OrderedDict\n",
    "\n",
    "CV = OrderedDict()\n",
    "\n",
    "\n",
    "for item in [\n",
    "    'product',\n",
    "    'mip-era',\n",
    "    'license',\n",
    "    'activity',\n",
    "    'tracking-id',\n",
    "    'drs',\n",
    "    'repo',\n",
    "    # 'tables',\n",
    "    'required-global-attributes',\n",
    "    'index'\n",
    "    ]:\n",
    "    \n",
    "    print(item)\n",
    "    # CV[item] = getattr(locals(),item)\n",
    "    CV[item] = cmipld.processor.get(f'{io_url}project/{item}.json', depth=3)[0]\n",
    "\n"
   ]
  },
  {
   "cell_type": "code",
   "execution_count": null,
   "metadata": {},
   "outputs": [],
   "source": [
    "CV['product']"
   ]
  },
  {
   "cell_type": "code",
   "execution_count": null,
   "metadata": {},
   "outputs": [],
   "source": []
  },
  {
   "cell_type": "code",
   "execution_count": null,
   "metadata": {},
   "outputs": [],
   "source": [
    "\n",
    "\n",
    "# cmipld.processor.loader(f'{io_url}project/_context_',{})\n",
    "\n",
    "jsonld.expand([{\n",
    "        \"@context\": [\n",
    "        {\n",
    "            \"@base\": \"https://wcrp-cmip.github.io/CMIP6Plus_CVs/project/\",\n",
    "            \"@vocab\": \"https://wcrp-cmip.github.io/CMIP6Plus_CVs/project/\",\n",
    "            \"activity\": {\n",
    "                \"@container\": \"@id\",\n",
    "                \"@context\": \"http://wcrp-cmip.github.io/WCRP-universe/activity/_context_\"\n",
    "            },\n",
    "            \"mip_era\": {\n",
    "                \"@type\": \"@id\",\n",
    "                \"@context\": \"http://wcrp-cmip.github.io/WCRP-universe/mip/_context_\"\n",
    "            },\n",
    "            \"product\": {\n",
    "                \"@type\": \"@id\",\n",
    "                \"@context\": \"https://wcrp-cmip.github.io/WCRP-universe/product/_context_\"\n",
    "            },\n",
    "            \"tables\": {\n",
    "                \"@type\": \"@id\",\n",
    "                \"@context\": \"http://wcrp-cmip.github.io/MIP-variables/tables/_context_\"\n",
    "            },\n",
    "            \"license\":{\n",
    "                \"@type\": \"@id\",\n",
    "                \"@context\": \"http://wcrp-cmip.github.io/WCRP-universe/license/_context_\"\n",
    "            }\n",
    "        }\n",
    "    ],\n",
    "        '@id': 'project/product',\n",
    "  'product': ['model-output'],\n",
    "  '@type': ['wcrp:project',\n",
    "   'https://wcrp-cmip.github.io/CMIP6Plus_CVs/',\n",
    "   'wcrp:product']}])#,f'{io_url}project/product.json')\n",
    "\n"
   ]
  },
  {
   "cell_type": "code",
   "execution_count": null,
   "metadata": {},
   "outputs": [],
   "source": [
    "import requests\n",
    "item='product'\n",
    "print(io_url)\n",
    "iourl = localhost\n",
    "d = requests.get(f'{io_url}project/{item}.json').json()\n",
    "c = requests.get(f'{io_url}project/_context_').json()\n",
    "c"
   ]
  },
  {
   "cell_type": "code",
   "execution_count": null,
   "metadata": {},
   "outputs": [],
   "source": [
    "d['@context'] = c['@context'][1]\n",
    "jsonld.expand(d)"
   ]
  },
  {
   "cell_type": "code",
   "execution_count": null,
   "metadata": {},
   "outputs": [],
   "source": [
    "\n",
    "# localserver.copy_existing_repos([[ldpath,'cmip6plus']])\n",
    "\n",
    "item='product'\n",
    "jsonld.expand(f'{io_url}project/{item}.json')"
   ]
  },
  {
   "cell_type": "code",
   "execution_count": null,
   "metadata": {},
   "outputs": [],
   "source": [
    "# This means we can make 'locally hosted' content appear as an external resource in our PYLD instance\n",
    "\n",
    "testfile = f'{io_url}project/'\n",
    "\n"
   ]
  },
  {
   "cell_type": "code",
   "execution_count": null,
   "metadata": {},
   "outputs": [],
   "source": []
  },
  {
   "cell_type": "code",
   "execution_count": null,
   "metadata": {},
   "outputs": [],
   "source": [
    "CV['license']"
   ]
  },
  {
   "cell_type": "code",
   "execution_count": null,
   "metadata": {},
   "outputs": [],
   "source": [
    "item = 'tables'\n",
    "\n",
    "\n",
    "\n",
    "\n",
    "frame = {\n",
    "    '@context': [\n",
    "   {'@base': 'https://wcrp-cmip.github.io/CMIP6Plus_CVs/project/',\n",
    "    '@vocab': 'https://wcrp-cmip.github.io/CMIP6Plus_CVs/project/',\n",
    "    'activity': {'@container': '@id',\n",
    "     '@context': 'https://wcrp-cmip.github.io/WCRP-universe/activity/_context_'},\n",
    "    'mip_era': {'@type': '@id',\n",
    "     '@context': 'https://wcrp-cmip.github.io/WCRP-universe/mip/_context_'},\n",
    "    'product': {'@type': '@id',\n",
    "     '@context': 'https://wcrp-cmip.github.io/WCRP-universe/product/_context_'},\n",
    "    'tables': {'@type': '@id',\n",
    "     '@context': 'https://wcrp-cmip.github.io/MIP-variables/tables/_context_'},\n",
    "    'license': {'@type': '@id',\n",
    "     '@context': 'https://wcrp-cmip.github.io/WCRP-universe/license/_context_'}}],\n",
    "    \"id\": \"product\",\n",
    "    \"type\": [\n",
    "        \"wcrp:project\",\n",
    "        \"cmip6plus\",\n",
    "        \"wcrp:product\"\n",
    "    ],\n",
    "    \"product\": [\n",
    "        \"model-output\"\n",
    "    ]\n",
    "         \n",
    "}\n",
    "         \n",
    "         \n",
    "        #  ,\"tables\":[{\"product\":\"\"}],\"@embed\":\"@always\"}\n",
    "\n",
    "res = jsonld.expand(frame)\n",
    "\n",
    "res"
   ]
  },
  {
   "cell_type": "code",
   "execution_count": null,
   "metadata": {},
   "outputs": [],
   "source": [
    "#  if depth = 1 parallel, otherwise serial \n",
    "#   ptqdm?\n",
    "\n",
    "\n",
    "cahcheing \n",
    "fail repeat \n",
    "\n"
   ]
  },
  {
   "cell_type": "code",
   "execution_count": null,
   "metadata": {},
   "outputs": [],
   "source": [
    "from p_tqdm import p_map"
   ]
  },
  {
   "cell_type": "code",
   "execution_count": null,
   "metadata": {},
   "outputs": [],
   "source": [
    "from pyld import jsonld\n",
    "jsonld.frame(cmipld.get(f'{io_url}project/{item}.json'), {\n",
    "    '@context': [\n",
    "        f'{io_url}project/{item}.json', \n",
    "        ],\n",
    "    \"tables\":{\n",
    "            \"table_id\":'',\n",
    "            \"@explicit\": True,\n",
    "            }\n",
    "    })"
   ]
  },
  {
   "cell_type": "code",
   "execution_count": null,
   "metadata": {},
   "outputs": [],
   "source": []
  },
  {
   "cell_type": "code",
   "execution_count": null,
   "metadata": {},
   "outputs": [],
   "source": [
    "jsonld.frame(f'{cmipld.mapping[\"variables\"]}tables/apsubhrptsite',{\"@context\":[f'{cmipld.mapping[\"variables\"]}tables/apsubhrptsite',{}],\"table_id\":{},\"@explicit\":True})"
   ]
  },
  {
   "cell_type": "code",
   "execution_count": null,
   "metadata": {},
   "outputs": [],
   "source": [
    "# localserver.copy_existing_repos([[ldpath,'current_repo']])"
   ]
  },
  {
   "cell_type": "code",
   "execution_count": null,
   "metadata": {},
   "outputs": [],
   "source": [
    "cmipld.get(f'{io_url}source/cesm2.json')"
   ]
  },
  {
   "cell_type": "code",
   "execution_count": null,
   "metadata": {},
   "outputs": [],
   "source": [
    "           \"model-component\": {\n",
    "                \"@context\": \"https://wcrp-cmip.github.io/CMIP6Plus_CVs/component/_context_\",\n",
    "                \"@type\": \"@id\"\n",
    "            }"
   ]
  },
  {
   "cell_type": "code",
   "execution_count": null,
   "metadata": {},
   "outputs": [],
   "source": [
    "jsonld.expand(f'{io_url}source/cesm2.json')"
   ]
  },
  {
   "cell_type": "code",
   "execution_count": 3,
   "metadata": {},
   "outputs": [
    {
     "data": {
      "text/plain": [
       "{'@base': 'https://wcrp-cmip.github.io/CMIP6Plus_CVs/project/',\n",
       " '@vocab': 'https://wcrp-cmip.github.io/CMIP6Plus_CVs/project/',\n",
       " 'activity': {'@container': '@id',\n",
       "  '@context': 'https://wcrp-cmip.github.io/WCRP-universe/activity/_context_'},\n",
       " 'mip_era': {'@type': '@id',\n",
       "  '@context': 'https://wcrp-cmip.github.io/WCRP-universe/mip/_context_'},\n",
       " 'tables': {'@type': '@id',\n",
       "  '@context': 'https://wcrp-cmip.github.io/MIP-variables/tables/_context_'},\n",
       " 'license': {'@type': '@id',\n",
       "  '@context': 'https://wcrp-cmip.github.io/WCRP-universe/license/_context_'},\n",
       " 'product': {'@type': '@id',\n",
       "  '@context': 'https://wcrp-cmip.github.io/WCRP-universe/product/_context_'}}"
      ]
     },
     "execution_count": 3,
     "metadata": {},
     "output_type": "execute_result"
    }
   ],
   "source": [
    "import glob\n",
    "fls = glob.glob('*.json')\n",
    "fls\n",
    "\n",
    "import json\n",
    "ctx = json.load(open('_context_'))['@context'][1]\n",
    "ctx"
   ]
  },
  {
   "cell_type": "code",
   "execution_count": 4,
   "metadata": {},
   "outputs": [
    {
     "name": "stdout",
     "output_type": "stream",
     "text": [
      "{'@context': ['_context_', {'@container': '@id', '@context': 'https://wcrp-cmip.github.io/WCRP-universe/activity/_context_'}], 'id': 'activity', 'type': ['wcrp:project', 'cmip6plus', 'wcrp:activity'], 'activity': {'lesfmip': {'start': 2024}, 'cmip': {'start': 2023}}}\n",
      "{'@context': ['_context_', {'@type': '@id', '@context': 'https://wcrp-cmip.github.io/WCRP-universe/mip/_context_'}], 'id': 'mip-era', 'type': ['wcrp:project', 'cmip6plus', 'wcrp:mip_era'], 'mip_era': ['cmip6plus']}\n",
      "{'@context': ['_context_', {'@type': '@id', '@context': 'https://wcrp-cmip.github.io/MIP-variables/tables/_context_'}], 'id': 'tables', 'type': ['wcrp:project', 'cmip6plus', 'wcrp:tables'], 'tables': ['acmon', 'acmonz', 'ae1hr', 'ae3hrpt', 'ae3hrptlev', 'ae6hr', 'ae6hrpt', 'ae6hrptlev', 'aeday', 'aemon', 'aemonlev', 'aemonz', 'aesubhrpt', 'aesubhrptsite', 'ap1hr', 'ap1hrpt', 'ap3hr', 'ap3hrpt', 'ap3hrptlev', 'ap6hr', 'ap6hrpt', 'ap6hrptlev', 'ap6hrptz', 'apday', 'apdaylev', 'apdayz', 'apfx', 'apmon', 'apmonclim', 'apmonclimlev', 'apmondiurnal', 'apmonlev', 'apmonz', 'apsubhrpt', 'apsubhrptlev', 'apsubhrptsite', 'giafx', 'giamon', 'giayr', 'gigfx', 'gigmon', 'gigyr', 'li3hrpt', 'li6hrpt', 'liday', 'lifx', 'limon', 'lisubhrptsite', 'lp3hr', 'lp3hrpt', 'lp6hrpt', 'lpday', 'lpfx', 'lpmon', 'lpyr', 'lpyrpt', 'obday', 'obmon', 'obmonlev', 'obyr', 'obyrlev', 'op3hrpt', 'opday', 'opdec', 'opdeclev', 'opdecz', 'opfx', 'opmon', 'opmonclim', 'opmonclimlev', 'opmonlev', 'opmonz', 'opyr', 'opyrlev', 'siday', 'simon', 'simonpt']}\n",
      "{'@context': ['_context_', {'@type': '@id', '@context': 'https://wcrp-cmip.github.io/WCRP-universe/license/_context_'}], 'id': 'license', 'type': ['wcrp:project', 'cmip6plus', 'wcrp:license'], 'license': {'cc-by-4.0': {'regex': '^CMIP6Plus model data produced by .* is licensed under a Creative Commons .* License (https://creativecommons\\\\.org/.*)\\\\. *Consult https://pcmdi\\\\.llnl\\\\.gov/CMIP6Plus/TermsOfUse for terms of use governing CMIP6Plus output, including citation requirements and proper acknowledgment\\\\. *The data producers and data providers make no warranty, either express or implied, including, but not limited to, warranties of merchantability and fitness for a particular purpose\\\\. *All liabilities arising from the supply of the information (including any liability arising in negligence) are excluded to the fullest extent permitted by law\\\\.$'}}}\n",
      "{'@context': ['_context_', {'@type': '@id', '@context': 'https://wcrp-cmip.github.io/WCRP-universe/product/_context_'}], 'id': 'product', 'type': ['wcrp:project', 'cmip6plus', 'wcrp:product'], 'product': ['model-output']}\n"
     ]
    }
   ],
   "source": [
    "for i,j in ctx.items():\n",
    "    if '@' not in i:\n",
    "        data= json.load(open(f\"{i.replace('_','-')}.json\"))\n",
    "        data['@context'] = ['_context_',j]\n",
    "        print(data)\n",
    "        json.dump(data,open(f\"{i.replace('_','-')}.json\",'w'),indent=4)"
   ]
  },
  {
   "cell_type": "code",
   "execution_count": null,
   "metadata": {},
   "outputs": [],
   "source": []
  }
 ],
 "metadata": {
  "kernelspec": {
   "display_name": "base",
   "language": "python",
   "name": "python3"
  },
  "language_info": {
   "codemirror_mode": {
    "name": "ipython",
    "version": 3
   },
   "file_extension": ".py",
   "mimetype": "text/x-python",
   "name": "python",
   "nbconvert_exporter": "python",
   "pygments_lexer": "ipython3",
   "version": "3.10.10"
  }
 },
 "nbformat": 4,
 "nbformat_minor": 2
}
