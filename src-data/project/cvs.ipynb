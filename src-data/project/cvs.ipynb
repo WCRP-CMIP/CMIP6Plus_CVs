{
 "cells": [
  {
   "cell_type": "code",
   "execution_count": 71,
   "metadata": {},
   "outputs": [],
   "source": [
    "import cmipld\n",
    "# from cmipld.utils.offline import LD_server, replace_loader\n",
    "from pyld import jsonld"
   ]
  },
  {
   "cell_type": "code",
   "execution_count": 1,
   "metadata": {},
   "outputs": [
    {
     "name": "stdout",
     "output_type": "stream",
     "text": [
      "make test for url2io\n",
      "--------------------------------------------------\n",
      "Parsing repo: cmip6plus\n",
      "Location: https://github.com/WCRP-CMIP/CMIP6Plus_CVs\n",
      "Github IO link: https://wcrp-cmip.github.io/CMIP6Plus_CVs/\n",
      "--------------------------------------------------\n"
     ]
    },
    {
     "name": "stderr",
     "output_type": "stream",
     "text": [
      "/Users/daniel.ellis/customlib/homebrew/Caskroom/mambaforge/base/lib/python3.10/site-packages/tqdm/auto.py:21: TqdmWarning: IProgress not found. Please update jupyter and ipywidgets. See https://ipywidgets.readthedocs.io/en/stable/user_install.html\n",
      "  from .autonotebook import tqdm as notebook_tqdm\n"
     ]
    }
   ],
   "source": [
    "import cmipld\n",
    "import importlib\n",
    "\n",
    "\n",
    "repo_url = cmipld.utils.git.url()\n",
    "io_url = cmipld.utils.git.url2io(repo_url)\n",
    "\n",
    "whoami = cmipld.reverse_mapping()[io_url]\n",
    "print('-'*50)\n",
    "print(f'Parsing repo: {whoami}')\n",
    "print(f'Location: {repo_url}')\n",
    "print(f'Github IO link: {io_url}')\n",
    "print('-'*50)\n",
    "\n",
    "'''\n",
    "To keep this set of functions generic, we create separate files containing all relevant functions for a repository to be processed. \n",
    "When running this script we determine the parent repository, and consequently its prefix. This is then used to grab all relevant functions for processing. \n",
    "\n",
    "Example usage: getattr(this,'activity')({'activity':[{\"label\":1,\"id\":'one'}]})\n",
    "\n",
    "'''\n",
    "# Dynamically import the target module and assign it to a variable\n",
    "module_path = f\"cmipld.cvs.{whoami}\" # go to CMIPLD/CVs/<value of whoami>.py for functions\n",
    "this = importlib.import_module(module_path)\n",
    "\n"
   ]
  },
  {
   "cell_type": "code",
   "execution_count": 2,
   "metadata": {},
   "outputs": [
    {
     "name": "stdout",
     "output_type": "stream",
     "text": [
      "WARNING: Part of the loaded context contains a \"@container\" this may mean referenced items become nested in framing.\n",
      " Please use .iterative_frame() instead.\n"
     ]
    },
    {
     "name": "stderr",
     "output_type": "stream",
     "text": [
      "100%|██████████| 3/3 [00:00<00:00, 21.30it/s]\n"
     ]
    },
    {
     "ename": "TypeError",
     "evalue": "string indices must be integers",
     "output_type": "error",
     "traceback": [
      "\u001b[0;31m---------------------------------------------------------------------------\u001b[0m",
      "\u001b[0;31mTypeError\u001b[0m                                 Traceback (most recent call last)",
      "Cell \u001b[0;32mIn[2], line 10\u001b[0m\n\u001b[1;32m      8\u001b[0m \u001b[38;5;28;01mfor\u001b[39;00m value \u001b[38;5;129;01min\u001b[39;00m [\u001b[38;5;124m'\u001b[39m\u001b[38;5;124mexperiment\u001b[39m\u001b[38;5;124m'\u001b[39m, \u001b[38;5;124m'\u001b[39m\u001b[38;5;124msource\u001b[39m\u001b[38;5;124m'\u001b[39m]:\n\u001b[1;32m      9\u001b[0m     es_data[value] \u001b[38;5;241m=\u001b[39m cmipld\u001b[38;5;241m.\u001b[39mprocessor\u001b[38;5;241m.\u001b[39mEmbeddedFrame(\u001b[38;5;124mf\u001b[39m\u001b[38;5;124m'\u001b[39m\u001b[38;5;132;01m{\u001b[39;00mio_url\u001b[38;5;132;01m}\u001b[39;00m\u001b[38;5;124mexperiment/graph.jsonld\u001b[39m\u001b[38;5;124m'\u001b[39m) \n\u001b[0;32m---> 10\u001b[0m     result \u001b[38;5;241m=\u001b[39m \u001b[43mes_data\u001b[49m\u001b[43m[\u001b[49m\u001b[43mvalue\u001b[49m\u001b[43m]\u001b[49m\u001b[38;5;241;43m.\u001b[39;49m\u001b[43mframe\u001b[49m\u001b[43m(\u001b[49m\u001b[43m{\u001b[49m\u001b[38;5;124;43m'\u001b[39;49m\u001b[38;5;124;43m@type\u001b[39;49m\u001b[38;5;124;43m'\u001b[39;49m\u001b[43m:\u001b[49m\u001b[43m[\u001b[49m\u001b[38;5;124;43mf\u001b[39;49m\u001b[38;5;124;43m'\u001b[39;49m\u001b[38;5;124;43mwcrp:\u001b[39;49m\u001b[38;5;132;43;01m{\u001b[39;49;00m\u001b[43mvalue\u001b[49m\u001b[38;5;132;43;01m}\u001b[39;49;00m\u001b[38;5;124;43m'\u001b[39;49m\u001b[43m]\u001b[49m\u001b[43m,\u001b[49m\u001b[38;5;124;43m'\u001b[39;49m\u001b[38;5;124;43m@id\u001b[39;49m\u001b[38;5;124;43m'\u001b[39;49m\u001b[43m:\u001b[49m\u001b[38;5;124;43mf\u001b[39;49m\u001b[38;5;124;43m'\u001b[39;49m\u001b[38;5;132;43;01m{\u001b[39;49;00m\u001b[43mio_url\u001b[49m\u001b[38;5;132;43;01m}\u001b[39;49;00m\u001b[38;5;124;43mexperiment/abrupt-4xco2\u001b[39;49m\u001b[38;5;124;43m'\u001b[39;49m\u001b[43m}\u001b[49m\u001b[43m)\u001b[49m\n\u001b[1;32m     12\u001b[0m     a \u001b[38;5;241m=\u001b[39m es_data[value]\n\u001b[1;32m     13\u001b[0m     \u001b[38;5;28;01mbreak\u001b[39;00m\n",
      "File \u001b[0;32m~/WIPwork/CMIP-LD/cmipld/browse/class_embedded.py:93\u001b[0m, in \u001b[0;36mEmbeddedFrame.frame\u001b[0;34m(self, frame)\u001b[0m\n\u001b[1;32m     91\u001b[0m \u001b[38;5;28;01mfor\u001b[39;00m \u001b[38;5;28mid\u001b[39m,val \u001b[38;5;129;01min\u001b[39;00m \u001b[38;5;28menumerate\u001b[39m(framed):\n\u001b[1;32m     92\u001b[0m     \u001b[38;5;28;01mfor\u001b[39;00m cnt \u001b[38;5;129;01min\u001b[39;00m \u001b[38;5;28mself\u001b[39m\u001b[38;5;241m.\u001b[39mcontainer:\n\u001b[0;32m---> 93\u001b[0m         \u001b[38;5;28;01mfor\u001b[39;00m v \u001b[38;5;129;01min\u001b[39;00m \u001b[43mval\u001b[49m\u001b[43m[\u001b[49m\u001b[43mcnt\u001b[49m\u001b[43m]\u001b[49m:\n\u001b[1;32m     95\u001b[0m             dummy \u001b[38;5;241m=\u001b[39m val\n\u001b[1;32m     96\u001b[0m             \u001b[38;5;66;03m# val.update(self.corpus['@graph'][self.me][id] \u001b[39;00m\n",
      "\u001b[0;31mTypeError\u001b[0m: string indices must be integers"
     ]
    }
   ],
   "source": [
    "# url = cmipld.processor.resolve_prefix(file)\n",
    "\n",
    "# loads the experiments graph and relevant dependancies. \n",
    "cmipld.processor.clear_cache()\n",
    "\n",
    "es_data = {}\n",
    "\n",
    "for value in ['experiment', 'source']:\n",
    "    es_data[value] = cmipld.processor.EmbeddedFrame(f'{io_url}experiment/graph.jsonld') \n",
    "    \n",
    "    result = es_data[value].frame({'@type':[f'wcrp:{value}'],'@id':f'{io_url}experiment/abrupt-4xco2'})\n",
    "    \n",
    "    a = es_data[value]\n",
    "    break\n",
    "\n",
    "result"
   ]
  },
  {
   "cell_type": "code",
   "execution_count": 73,
   "metadata": {},
   "outputs": [],
   "source": [
    "# # Set up offline override for the current repository\n",
    "\n",
    "# ldpath = cmipld.utils.git.ldpath()\n",
    "\n",
    "\n",
    "# # create a temporary directory containing (a copy of) the current repository\n",
    "# # localserver = LD_server(copy = [[ldpath,'current_repo']])\n",
    "# repos= { \n",
    "#         'https://wcrp-cmip.github.io/WCRP-universe/': 'universal',\n",
    "#         'https://wcrp-cmip.github.io/MIP-variables/': 'variables',\n",
    "#         'https://wcrp-cmip.github.io/CMIP6Plus_CVs/': 'cmip6plus'\n",
    "#         }\n",
    "\n",
    "# localserver = LD_server(repos = repos.items(),copy = [[ldpath,whoami]],override='y')\n",
    "\n",
    "# # localserver = LD_server(copy = [[ldpath,'cmip6plus']])\n",
    "\n",
    "\n",
    "# localhost = localserver.start_server(8080)\n"
   ]
  },
  {
   "cell_type": "code",
   "execution_count": 74,
   "metadata": {},
   "outputs": [],
   "source": [
    "# # \n",
    "# replace_loader(localhost,[list(i) for i in repos.items()])\n",
    "# # "
   ]
  },
  {
   "cell_type": "code",
   "execution_count": 75,
   "metadata": {},
   "outputs": [],
   "source": [
    "from collections import OrderedDict\n",
    "\n",
    "CV = OrderedDict()\n",
    "\n",
    "\n"
   ]
  },
  {
   "cell_type": "code",
   "execution_count": null,
   "metadata": {},
   "outputs": [],
   "source": [
    "\n",
    "for item in [\n",
    "    'repo',\n",
    "    'mip-era',\n",
    "    'license',\n",
    "    'activity',\n",
    "    'drs',\n",
    "    'product',\n",
    "    'required-global-attributes',\n",
    "    # 'tables',\n",
    "    ]:\n",
    "    \n",
    "    print(item)\n",
    "    # CV[item] = getattr(locals(),item)\n",
    "    ld  = cmipld.processor.expand_document(f'{io_url}project/{item}.json', depth=3)[0]\n",
    "    # functions may be autogenrated in (reponame).py under the CVs dir. \n",
    "    CV[item] = getattr(this,item)(ld)\n",
    "    \n"
   ]
  },
  {
   "cell_type": "code",
   "execution_count": 77,
   "metadata": {},
   "outputs": [],
   "source": [
    "# adding the index properties\n",
    "CV.update(cmipld.processor.get(f'{io_url}/project/index.json')[0]['index'])"
   ]
  },
  {
   "cell_type": "code",
   "execution_count": null,
   "metadata": {},
   "outputs": [],
   "source": [
    "CV"
   ]
  },
  {
   "cell_type": "code",
   "execution_count": null,
   "metadata": {},
   "outputs": [],
   "source": [
    "print('make a file for relevant realms and relevant realms')\n",
    "\n",
    "for universe_item in ['realm','frequency']:\n",
    "    # 'grid-label''nominal'\n",
    "    print(universe_item)\n",
    "    path = f'{cmipld.mapping[\"universal\"]}{universe_item}/graph.jsonld'\n",
    "    ld  = cmipld.jsonld.compact(path,path)['@graph']\n",
    "    CV[universe_item] = getattr(this,universe_item)(ld)"
   ]
  },
  {
   "cell_type": "code",
   "execution_count": null,
   "metadata": {},
   "outputs": [],
   "source": [
    "# path = f'{cmipld.mapping[\"universal\"]}resolution/graph.jsonld'\n",
    "# data  = cmipld.jsonld.compact(path,path)['@graph']\n",
    "\n",
    "# CV['nominal_resolution'] = [f\"{r['value']} {r['unit']}\" for r in sorted(data, key=lambda x: float(x['value']) if x['value'].replace('.', '', 1).isdigit() else float('inf'))]\n",
    "\n",
    "print('make a file for relevant nominal resolution')"
   ]
  },
  {
   "cell_type": "code",
   "execution_count": null,
   "metadata": {},
   "outputs": [],
   "source": [
    "# url = cmipld.processor.resolve_prefix(file)\n",
    "\n",
    "# loads the experiments graph and relevant dependancies. \n",
    "\n",
    "es_data = {}\n",
    "\n",
    "for value in ['experiment', 'source']:\n",
    "    es_data[value] = cmipld.processor.EmbeddedFrame(f'{io_url}experiment/graph.jsonld') \n",
    "    result = es_data[value].frame({'@type':[f'wcrp:{value}']})\n",
    "    \n",
    "    a = es_data[value]\n",
    "    break\n",
    "\n",
    "result[1]"
   ]
  },
  {
   "cell_type": "code",
   "execution_count": null,
   "metadata": {},
   "outputs": [],
   "source": [
    "from pyld import jsonld\n",
    "# jsonld.frame(es_data[value].corpus,{'@type':[f'wcrp:{value}'],'@context':es_data[value].context,'@embed':'@always'})['@graph'][3]['model_realms']\n",
    "\n",
    "ctx = {'@base': 'https://wcrp-cmip.github.io/CMIP6Plus_CVs/experiment/',\n",
    " '@vocab': 'https://wcrp-cmip.github.io/CMIP6Plus_CVs/experiment/',\n",
    " 'id': '@id',\n",
    " 'type': '@type',\n",
    " 'cf': 'https://wcrp-cmip.github.io/CF/',\n",
    " 'cmip6plus': 'https://wcrp-cmip.github.io/CMIP6Plus_CVs/',\n",
    " 'cmip7': 'https://wcrp-cmip.github.io/CMIP7_CVs/',\n",
    " 'obs4mips': 'https://wolfiex.github.io/obs4MIPs-cmor-tables-ld/',\n",
    " 'universal': 'https://wcrp-cmip.github.io/WCRP-universe/',\n",
    " 'variables': 'https://wcrp-cmip.github.io/MIP-variables/',\n",
    " 'activity': {'@type': '@id',\n",
    "  '@context': 'https://wcrp-cmip.github.io/WCRP-universe/activity/_context_'},\n",
    "#  \"model_realms\": {\n",
    "#                 \"@container\": [\n",
    "#                     \"@id\"\n",
    "#                 ],\n",
    "#                 # '@type':'@id',\n",
    "#                 # \"@id\": \"https://test/{@index}\",\n",
    "#                 \"@context\": \"https://wcrp-cmip.github.io/WCRP-universe/source-type/_context_\"\n",
    "#             },\n",
    " 'parent_activity': {'@type': '@id',\n",
    "  '@context': 'https://wcrp-cmip.github.io/WCRP-universe/activity/_context_'},\n",
    " 'parent_experiment': {'@type': '@id',\n",
    "  '@context': 'https://wcrp-cmip.github.io/CMIP6Plus_CVs/experiment/_context_'},\n",
    " 'sub_experiment': {'@type': '@id',\n",
    "  '@context': 'https://wcrp-cmip.github.io/CMIP6Plus_CVs/sub-experiment/_context_'},\n",
    "#  \"entries\": \"@none\"\n",
    "}\n",
    "#\n",
    "\n",
    "jsonld.frame(a.url,{'@type':[f'wcrp:experiment'],'@context':ctx})['@graph'][1]"
   ]
  },
  {
   "cell_type": "code",
   "execution_count": null,
   "metadata": {},
   "outputs": [],
   "source": [
    "a.context"
   ]
  },
  {
   "cell_type": "code",
   "execution_count": null,
   "metadata": {},
   "outputs": [],
   "source": [
    "jsonld.expand(f'{io_url}experiment/abrupt-4xco2')"
   ]
  },
  {
   "cell_type": "code",
   "execution_count": null,
   "metadata": {},
   "outputs": [],
   "source": [
    "[i for i in jsonld.frame(f'{io_url}experiment/graph.jsonld',{\"@explicit\":True})['@graph'] if '@type' in i]"
   ]
  },
  {
   "cell_type": "code",
   "execution_count": null,
   "metadata": {},
   "outputs": [],
   "source": [
    "cmipld.processor.clear_cache()\n",
    "\n",
    "jsonld.frame(es_data[value].corpus,{'@context':es_data[value].context,'@embed':'@always'})['@graph'][1]"
   ]
  },
  {
   "cell_type": "code",
   "execution_count": null,
   "metadata": {},
   "outputs": [],
   "source": [
    "import json\n",
    "\"@container\" in json.dumps(cmipld.processor.loader( es_data[value].context,{} )['document']['@context'])"
   ]
  },
  {
   "cell_type": "code",
   "execution_count": null,
   "metadata": {},
   "outputs": [],
   "source": [
    "cmipld.processor.loader(es_data[value].url,{})['document']['@graph'][0]"
   ]
  },
  {
   "cell_type": "code",
   "execution_count": null,
   "metadata": {},
   "outputs": [],
   "source": [
    "result[0]\n",
    "es_data[value].container  #.corpus['@graph'][1]\n",
    "\n",
    "g = es_data[value].corpus['@graph']"
   ]
  },
  {
   "cell_type": "code",
   "execution_count": null,
   "metadata": {},
   "outputs": [],
   "source": [
    "# corpus = {}\n",
    "# for i in g:\n",
    "    \n",
    "result[3]"
   ]
  },
  {
   "cell_type": "code",
   "execution_count": 86,
   "metadata": {},
   "outputs": [],
   "source": [
    "[]\n",
    "\n",
    "\n",
    "item = result[1]\n",
    "item_id = item['experiment_id'] = item['label']\n",
    "\n",
    "item['activity_id'] = this.get_entry(item['activity'])\n",
    "\n",
    "# check that activity in activity list\n",
    "\n",
    "item['additional_allowed_model_components'] = []\n",
    "item['required_model_components'] = []\n",
    "\n",
    "# for item in item['model_realms']\n",
    "\n"
   ]
  },
  {
   "cell_type": "code",
   "execution_count": null,
   "metadata": {},
   "outputs": [],
   "source": [
    "this.name_entry(list(item['model_realms'].values()),'is_required')"
   ]
  },
  {
   "cell_type": "code",
   "execution_count": null,
   "metadata": {},
   "outputs": [],
   "source": [
    "item['parent_experiment']\n",
    "item_id"
   ]
  },
  {
   "cell_type": "code",
   "execution_count": null,
   "metadata": {},
   "outputs": [],
   "source": [
    "help(jsonld.frame)"
   ]
  },
  {
   "cell_type": "markdown",
   "metadata": {},
   "source": []
  },
  {
   "cell_type": "code",
   "execution_count": null,
   "metadata": {},
   "outputs": [],
   "source": [
    "CV"
   ]
  },
  {
   "cell_type": "code",
   "execution_count": 91,
   "metadata": {},
   "outputs": [],
   "source": [
    "# e1 = exp[1]\n",
    "# # del e1['id'], e1['type']\n",
    "# for k,v in e1.items():\n",
    "#     if isinstance(v,dict) and 'type' in v:\n",
    "#         print(k)\n",
    "#         e1[k] = v['label']\n",
    "# e1\n"
   ]
  },
  {
   "cell_type": "code",
   "execution_count": null,
   "metadata": {},
   "outputs": [],
   "source": []
  }
 ],
 "metadata": {
  "kernelspec": {
   "display_name": "base",
   "language": "python",
   "name": "python3"
  },
  "language_info": {
   "codemirror_mode": {
    "name": "ipython",
    "version": 3
   },
   "file_extension": ".py",
   "mimetype": "text/x-python",
   "name": "python",
   "nbconvert_exporter": "python",
   "pygments_lexer": "ipython3",
   "version": "3.10.10"
  }
 },
 "nbformat": 4,
 "nbformat_minor": 2
}
