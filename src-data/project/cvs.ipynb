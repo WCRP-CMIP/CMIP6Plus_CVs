{
 "cells": [
  {
   "cell_type": "code",
   "execution_count": 1,
   "metadata": {},
   "outputs": [
    {
     "name": "stdout",
     "output_type": "stream",
     "text": [
      "make test for url2io\n",
      "--------------------------------------------------\n",
      "Parsing repo: cmip6plus\n",
      "Location: https://github.com/WCRP-CMIP/CMIP6Plus_CVs\n",
      "Github IO link: https://wcrp-cmip.github.io/CMIP6Plus_CVs/\n",
      "--------------------------------------------------\n",
      "mip-era\n",
      "mipera\n",
      "activity\n",
      "product\n",
      "tables\n",
      "dict_keys(['__name__', '__doc__', '__package__', '__loader__', '__spec__', '__file__', '__cached__', '__builtins__', 'get_entry', 'name_entry', 'key_extract', 'license', 'functionlist', 'literals', 'name', 'field', 'literal_wrapper', 'name_description', 'nd_wrapper', 'named_entry_feed', 'tracking-id', 'drs', 'index', 'required-global-attributes', 'repo', 'realm', 'frequency', 'grid-label', 'nominal', 'sub-experiment', 'tables', 'mip-era', 'mipera', 'activity', 'product'])\n"
     ]
    },
    {
     "name": "stderr",
     "output_type": "stream",
     "text": [
      "/Users/daniel.ellis/customlib/homebrew/Caskroom/mambaforge/base/lib/python3.10/site-packages/tqdm/auto.py:21: TqdmWarning: IProgress not found. Please update jupyter and ipywidgets. See https://ipywidgets.readthedocs.io/en/stable/user_install.html\n",
      "  from .autonotebook import tqdm as notebook_tqdm\n"
     ]
    }
   ],
   "source": [
    "import cmipld\n",
    "import importlib\n",
    "from collections import OrderedDict\n",
    "\n",
    "\n",
    "repo_url = cmipld.utils.git.url()\n",
    "io_url = cmipld.utils.git.url2io(repo_url)\n",
    "\n",
    "whoami = cmipld.reverse_mapping()[io_url]\n",
    "print('-'*50)\n",
    "print(f'Parsing repo: {whoami}')\n",
    "print(f'Location: {repo_url}')\n",
    "print(f'Github IO link: {io_url}')\n",
    "print('-'*50)\n",
    "\n",
    "'''\n",
    "To keep this set of functions generic, we create separate files containing all relevant functions for a repository to be processed. \n",
    "When running this script we determine the parent repository, and consequently its prefix. This is then used to grab all relevant functions for processing. \n",
    "\n",
    "Example usage: getattr(this,'activity')({'activity':[{\"label\":1,\"id\":'one'}]})\n",
    "\n",
    "'''\n",
    "# Dynamically import the target module and assign it to a variable\n",
    "module_path = f\"cmipld.cvs.{whoami}\" # go to CMIPLD/CVs/<value of whoami>.py for functions\n",
    "this = importlib.import_module(module_path)\n",
    "\n"
   ]
  },
  {
   "cell_type": "code",
   "execution_count": 2,
   "metadata": {},
   "outputs": [
    {
     "name": "stdout",
     "output_type": "stream",
     "text": [
      "https://wcrp-cmip.github.io/WCRP-universe/ universal /var/folders/hc/s_7lggq12nndglbdyrn3f91m1l58yd/T/cmipld_local_sf5l1bxe2025-01-30T18:10:11\n"
     ]
    },
    {
     "name": "stderr",
     "output_type": "stream",
     "text": [
      "Cloning into '/var/folders/hc/s_7lggq12nndglbdyrn3f91m1l58yd/T/cmipld_local_sf5l1bxe2025-01-30T18:10:11/universal'...\n"
     ]
    },
    {
     "name": "stdout",
     "output_type": "stream",
     "text": [
      "\n",
      "\n",
      "https://wcrp-cmip.github.io/MIP-variables/ variables /var/folders/hc/s_7lggq12nndglbdyrn3f91m1l58yd/T/cmipld_local_sf5l1bxe2025-01-30T18:10:11\n"
     ]
    },
    {
     "name": "stderr",
     "output_type": "stream",
     "text": [
      "Cloning into '/var/folders/hc/s_7lggq12nndglbdyrn3f91m1l58yd/T/cmipld_local_sf5l1bxe2025-01-30T18:10:11/variables'...\n"
     ]
    },
    {
     "name": "stdout",
     "output_type": "stream",
     "text": [
      "\n",
      "\n",
      "https://wcrp-cmip.github.io/CMIP6Plus_CVs/ cmip6plus /var/folders/hc/s_7lggq12nndglbdyrn3f91m1l58yd/T/cmipld_local_sf5l1bxe2025-01-30T18:10:11\n"
     ]
    },
    {
     "name": "stderr",
     "output_type": "stream",
     "text": [
      "Cloning into '/var/folders/hc/s_7lggq12nndglbdyrn3f91m1l58yd/T/cmipld_local_sf5l1bxe2025-01-30T18:10:11/cmip6plus'...\n"
     ]
    },
    {
     "name": "stdout",
     "output_type": "stream",
     "text": [
      "\n",
      "\n",
      "Repositories cloned into <TemporaryDirectory '/var/folders/hc/s_7lggq12nndglbdyrn3f91m1l58yd/T/cmipld_local_sf5l1bxe2025-01-30T18:10:11'>\n",
      "Copying the repo into LocalServer  /Users/daniel.ellis/WIPwork/CMIP6Plus_CVs/src-data/ --> cmip6plus\n",
      "Repositories copied into <TemporaryDirectory '/var/folders/hc/s_7lggq12nndglbdyrn3f91m1l58yd/T/cmipld_local_sf5l1bxe2025-01-30T18:10:11'>\n"
     ]
    },
    {
     "name": "stderr",
     "output_type": "stream",
     "text": [
      ".........+.......+...+...+..+.........+....+.........+...........+.......+..+.+.....+.......+........+....+...+..+...+...+.+.....+.+............+............+.....+...+.+..+...+....+...+..+...+.........+..........+........+.+..+++++++++++++++++++++++++++++++++++++++++++++*......+++++++++++++++++++++++++++++++++++++++++++++*..+....+........+...+...+....+.................+..........+.........+.........+.....+.............+...+....................+.+.....+......+....+...+......+.........+..+...............+...+.+..+............+.......+....................+......+....+.....................+........+.......+..+.+......+........+......+.+.........+.........+..+.........+.+.........+...........+............................+...+..+...+.......+..+.........+............+....+...+..........................+............+...........................+.+..+.........................+...+.....+.+++++\n",
      "....+..+.......+.........+..+...+......+.+...+....................+....+.....+.+..+++++++++++++++++++++++++++++++++++++++++++++*....+++++++++++++++++++++++++++++++++++++++++++++*.................+............+.........+........+......+............+....+.....+.+..............+...+.......+.........+.........+............+.....+..........+........+.+.....+....+...+..+......+....+...+........................+........+.+.........+.....+.+............+"
     ]
    },
    {
     "name": "stdout",
     "output_type": "stream",
     "text": [
      "Created SSL certificates in: /var/folders/hc/s_7lggq12nndglbdyrn3f91m1l58yd/T/cmipld_local_sf5l1bxe2025-01-30T18:10:11\n",
      "Serving /var/folders/hc/s_7lggq12nndglbdyrn3f91m1l58yd/T/cmipld_local_sf5l1bxe2025-01-30T18:10:11 at https://localhost:8089\n"
     ]
    },
    {
     "name": "stderr",
     "output_type": "stream",
     "text": [
      "...+...........+...+...+........................+.+..................+...........+....+++++\n",
      "-----\n"
     ]
    }
   ],
   "source": [
    "# Set up offline override for the current repository\n",
    "\n",
    "from cmipld.utils.offline import LD_server\n",
    "\n",
    "ldpath = cmipld.utils.git.ldpath()\n",
    "\n",
    "\n",
    "# create a temporary directory containing (a copy of) the current repository\n",
    "# localserver = LD_server(copy = [[ldpath,'current_repo']])\n",
    "repos= { \n",
    "        'https://wcrp-cmip.github.io/WCRP-universe/': 'universal',\n",
    "        'https://wcrp-cmip.github.io/MIP-variables/': 'variables',\n",
    "        'https://wcrp-cmip.github.io/CMIP6Plus_CVs/': 'cmip6plus'\n",
    "        }\n",
    "\n",
    "localserver = LD_server(repos = repos.items(),copy = [[ldpath,whoami]],override='y')\n",
    "\n",
    "# localserver = LD_server(copy = [[ldpath,'cmip6plus']])\n",
    "\n",
    "\n",
    "localhost = localserver.start_server(8089)\n"
   ]
  },
  {
   "cell_type": "code",
   "execution_count": 3,
   "metadata": {},
   "outputs": [
    {
     "name": "stdout",
     "output_type": "stream",
     "text": [
      "Setting up location forwarding for:\n",
      " -  https://wcrp-cmip.github.io/WCRP-universe/ >>> https://localhost:8089/universal/ \n",
      "\n",
      " -  https://wcrp-cmip.github.io/MIP-variables/ >>> https://localhost:8089/variables/ \n",
      "\n",
      " -  https://wcrp-cmip.github.io/CMIP6Plus_CVs/ >>> https://localhost:8089/cmip6plus/ \n",
      "\n"
     ]
    }
   ],
   "source": [
    "cmipld.processor.replace_loader(localhost,[list(i) for i in repos.items()]) "
   ]
  },
  {
   "cell_type": "code",
   "execution_count": 8,
   "metadata": {},
   "outputs": [],
   "source": [
    "\n",
    "CV = OrderedDict()\n",
    "cmipld.processor.clear_cache()\n",
    "\n",
    "\n",
    "es_data = {}"
   ]
  },
  {
   "cell_type": "code",
   "execution_count": 11,
   "metadata": {},
   "outputs": [
    {
     "name": "stdout",
     "output_type": "stream",
     "text": [
      "WARNING: Part of the loaded context contains a \"@container\" this may mean referenced items become nested in framing.\n",
      " Please check output - this is not     corrected for secondary nested items.\n",
      "[2] https://wcrp-cmip.github.io/CMIP6Plus_CVs/project ['https://wcrp-cmip.github.io/WCRP-universe/activity/graph.jsonld', 'https://wcrp-cmip.github.io/WCRP-universe/product/graph.jsonld', 'https://wcrp-cmip.github.io/CMIP6Plus_CVs/project/graph.jsonld', 'https://wcrp-cmip.github.io/WCRP-universe/license/graph.jsonld', 'https://wcrp-cmip.github.io/MIP-variables/tables/graph.jsonld', 'https://wcrp-cmip.github.io/WCRP-universe/mip/graph.jsonld']\n"
     ]
    },
    {
     "name": "stderr",
     "output_type": "stream",
     "text": [
      "100%|██████████| 6/6 [00:00<00:00, 33.19it/s]\n"
     ]
    },
    {
     "name": "stdout",
     "output_type": "stream",
     "text": [
      "repo\n",
      "[{'@context': 'https://wcrp-cmip.github.io/CMIP6Plus_CVs/project/_context_',\n",
      "  'id': 'cmip6plus:project/repo-list',\n",
      "  'repo': 'https://github.com/WCRP-CMIP/CMIP6Plus_CVs',\n",
      "  'type': ['wcrp:project', 'cmip6plus', 'wcrp:repo']}]\n",
      "{'cmip6plus:project/activity-list': {'id': 'cmip6plus:project/activity-list', 'type': ['wcrp:project', 'cmip6plus', 'wcrp:activity'], 'activity': ['universal:activity/lesfmip', 'universal:activity/cmip']}, 'cmip6plus:project/drs-list': {'id': 'cmip6plus:project/drs-list', 'type': ['wcrp:project', 'cmip6plus', 'wcrp:drs'], 'drs': {'directory-path-example': 'CMIP6Plus/CMIP/MOHC/HadGEM3-GC31-MM/historical/r1i1p1f3/Amon/tas/gn/v20191207/', 'directory-path-sub-experiment-example': 'CMIP6Plus/DCPP/MOHC/HadGEM3-GC31-MM/dcppA-hindcast/s1960-r1i1p1f2/Amon/tas/gn/v20200417/', 'directory-path-template': '<mip_era>/<activity_id>/<institution_id>/<source_id>/<experiment_id>/<member_id>/<table_id>/<variable_id>/<grid_label>/<version>', 'filename-example': 'tas_Amon_HadGEM3-GC31-MM_historical_r1i1p1f3_gn_185001-186912.nc', 'filename-sub-experiment-example': 'tas_Amon_HadGEM3-GC31-MM_dcppA-hindcast_s1960-r1i1p1f2_gn_196011-196012.nc', 'filename-template': '<variable_id>_<table_id>_<source_id>_<experiment_id >_<member_id>_<grid_label>[_<time_range>].nc'}}, 'cmip6plus:project/index-list': {'id': 'cmip6plus:project/index-list', 'type': ['wcrp:project', 'cmip6plus', 'wcrp:index'], 'index': {'conventions': '^CF-1.7 CMIP-6.[0-2,5]\\\\( UGRID-1.0\\\\)\\\\{0,\\\\}$', 'forcing-index': '^\\\\[\\\\{0,\\\\}[[:digit:]]\\\\{1,\\\\}\\\\]\\\\{0,\\\\}$', 'initialization-index': '^\\\\[\\\\{0,\\\\}[[:digit:]]\\\\{1,\\\\}\\\\]\\\\{0,\\\\}$', 'physics-index': '^\\\\[\\\\{0,\\\\}[[:digit:]]\\\\{1,\\\\}\\\\]\\\\{0,\\\\}$', 'realization-index': '^\\\\[\\\\{0,\\\\}[[:digit:]]\\\\{1,\\\\}\\\\]\\\\{0,\\\\}$', 'variant-label': 'r[[:digit:]]\\\\{1,\\\\}i[[:digit:]]\\\\{1,\\\\}p[[:digit:]]\\\\{1,\\\\}f[[:digit:]]\\\\{1,\\\\}$'}}, 'cmip6plus:project/license-list': {'id': 'cmip6plus:project/license-list', 'type': ['wcrp:project', 'cmip6plus', 'wcrp:license'], 'license': [{'id': 'universal:license/cc-by-4.0', 'regex': '^CMIP6Plus model data produced by .* is licensed under a Creative Commons .* License (https://creativecommons\\\\.org/.*)\\\\. *Consult https://pcmdi\\\\.llnl\\\\.gov/CMIP6Plus/TermsOfUse for terms of use governing CMIP6Plus output, including citation requirements and proper acknowledgment\\\\. *The data producers and data providers make no warranty, either express or implied, including, but not limited to, warranties of merchantability and fitness for a particular purpose\\\\. *All liabilities arising from the supply of the information (including any liability arising in negligence) are excluded to the fullest extent permitted by law\\\\.$'}]}, 'cmip6plus:project/mip-era-list': {'id': 'cmip6plus:project/mip-era-list', 'type': ['wcrp:project', 'cmip6plus', 'wcrp:mip_era'], 'mipera': {'id': 'universal:mip/cmip6plus'}}, 'cmip6plus:project/product-list': {'id': 'cmip6plus:project/product-list', 'type': ['wcrp:project', 'cmip6plus', 'wcrp:product'], 'product': 'universal:product/model-output'}, 'cmip6plus:project/repo-list': {'id': 'cmip6plus:project/repo-list', 'type': ['wcrp:project', 'cmip6plus', 'wcrp:repo'], 'repo': 'https://github.com/WCRP-CMIP/CMIP6Plus_CVs'}, 'cmip6plus:project/required-global-attributes-list': {'id': 'cmip6plus:project/required-global-attributes-list', 'type': ['cmip6plus', 'wcrp:project', 'wcrp:required', 'wcrp:required_global_attributes'], 'required_global_attributes': ['Conventions', 'activity_id', 'creation_date', 'data_specs_version', 'experiment', 'experiment_id', 'forcing_index', 'frequency', 'grid', 'grid_label', 'initialization_index', 'institution', 'institution_id', 'license', 'mip_era', 'nominal_resolution', 'physics_index', 'realization_index', 'realm', 'source', 'source_id', 'source_type', 'sub_experiment', 'sub_experiment_id', 'table_id', 'tracking_id', 'variable_id', 'variant_label']}, 'cmip6plus:project/tables-list': {'id': 'cmip6plus:project/tables-list', 'type': ['wcrp:project', 'cmip6plus', 'wcrp:tables'], 'tables': ['variables:tables/acmon', 'variables:tables/acmonz', 'variables:tables/ae1hr', 'variables:tables/ae3hrpt', 'variables:tables/ae3hrptlev', 'variables:tables/ae6hr', 'variables:tables/ae6hrpt', 'variables:tables/ae6hrptlev', 'variables:tables/aeday', 'variables:tables/aemon', 'variables:tables/aemonlev', 'variables:tables/aemonz', 'variables:tables/aesubhrpt', 'variables:tables/aesubhrptsite', 'variables:tables/ap1hr', 'variables:tables/ap1hrpt', 'variables:tables/ap3hr', 'variables:tables/ap3hrpt', 'variables:tables/ap3hrptlev', 'variables:tables/ap6hr', 'variables:tables/ap6hrpt', 'variables:tables/ap6hrptlev', 'variables:tables/ap6hrptz', 'variables:tables/apday', 'variables:tables/apdaylev', 'variables:tables/apdayz', 'variables:tables/apfx', 'variables:tables/apmon', 'variables:tables/apmonclim', 'variables:tables/apmonclimlev', 'variables:tables/apmondiurnal', 'variables:tables/apmonlev', 'variables:tables/apmonz', 'variables:tables/apsubhrpt', 'variables:tables/apsubhrptlev', 'variables:tables/apsubhrptsite', 'variables:tables/giafx', 'variables:tables/giamon', 'variables:tables/giayr', 'variables:tables/gigfx', 'variables:tables/gigmon', 'variables:tables/gigyr', 'variables:tables/li3hrpt', 'variables:tables/li6hrpt', 'variables:tables/liday', 'variables:tables/lifx', 'variables:tables/limon', 'variables:tables/lisubhrptsite', 'variables:tables/lp3hr', 'variables:tables/lp3hrpt', 'variables:tables/lp6hrpt', 'variables:tables/lpday', 'variables:tables/lpfx', 'variables:tables/lpmon', 'variables:tables/lpyr', 'variables:tables/lpyrpt', 'variables:tables/obday', 'variables:tables/obmon', 'variables:tables/obmonlev', 'variables:tables/obyr', 'variables:tables/obyrlev', 'variables:tables/op3hrpt', 'variables:tables/opday', 'variables:tables/opdec', 'variables:tables/opdeclev', 'variables:tables/opdecz', 'variables:tables/opfx', 'variables:tables/opmon', 'variables:tables/opmonclim', 'variables:tables/opmonclimlev', 'variables:tables/opmonlev', 'variables:tables/opmonz', 'variables:tables/opyr', 'variables:tables/opyrlev', 'variables:tables/siday', 'variables:tables/simon', 'variables:tables/simonpt']}, 'cmip6plus:project/tracking-id-list': {'id': 'cmip6plus:project/tracking-id-list', 'type': ['wcrp:project', 'cmip6plus', 'wcrp:tracking-id'], 'tracking_id': 'hdl:21.14100/.*'}}\n",
      "repo <function literal_wrapper at 0x1094528c0>\n",
      "mipera\n",
      "[{'@context': 'https://wcrp-cmip.github.io/CMIP6Plus_CVs/project/_context_'}]\n",
      "{'cmip6plus:project/activity-list': {'id': 'cmip6plus:project/activity-list', 'type': ['wcrp:project', 'cmip6plus', 'wcrp:activity'], 'activity': ['universal:activity/lesfmip', 'universal:activity/cmip']}, 'cmip6plus:project/drs-list': {'id': 'cmip6plus:project/drs-list', 'type': ['wcrp:project', 'cmip6plus', 'wcrp:drs'], 'drs': {'directory-path-example': 'CMIP6Plus/CMIP/MOHC/HadGEM3-GC31-MM/historical/r1i1p1f3/Amon/tas/gn/v20191207/', 'directory-path-sub-experiment-example': 'CMIP6Plus/DCPP/MOHC/HadGEM3-GC31-MM/dcppA-hindcast/s1960-r1i1p1f2/Amon/tas/gn/v20200417/', 'directory-path-template': '<mip_era>/<activity_id>/<institution_id>/<source_id>/<experiment_id>/<member_id>/<table_id>/<variable_id>/<grid_label>/<version>', 'filename-example': 'tas_Amon_HadGEM3-GC31-MM_historical_r1i1p1f3_gn_185001-186912.nc', 'filename-sub-experiment-example': 'tas_Amon_HadGEM3-GC31-MM_dcppA-hindcast_s1960-r1i1p1f2_gn_196011-196012.nc', 'filename-template': '<variable_id>_<table_id>_<source_id>_<experiment_id >_<member_id>_<grid_label>[_<time_range>].nc'}}, 'cmip6plus:project/index-list': {'id': 'cmip6plus:project/index-list', 'type': ['wcrp:project', 'cmip6plus', 'wcrp:index'], 'index': {'conventions': '^CF-1.7 CMIP-6.[0-2,5]\\\\( UGRID-1.0\\\\)\\\\{0,\\\\}$', 'forcing-index': '^\\\\[\\\\{0,\\\\}[[:digit:]]\\\\{1,\\\\}\\\\]\\\\{0,\\\\}$', 'initialization-index': '^\\\\[\\\\{0,\\\\}[[:digit:]]\\\\{1,\\\\}\\\\]\\\\{0,\\\\}$', 'physics-index': '^\\\\[\\\\{0,\\\\}[[:digit:]]\\\\{1,\\\\}\\\\]\\\\{0,\\\\}$', 'realization-index': '^\\\\[\\\\{0,\\\\}[[:digit:]]\\\\{1,\\\\}\\\\]\\\\{0,\\\\}$', 'variant-label': 'r[[:digit:]]\\\\{1,\\\\}i[[:digit:]]\\\\{1,\\\\}p[[:digit:]]\\\\{1,\\\\}f[[:digit:]]\\\\{1,\\\\}$'}}, 'cmip6plus:project/license-list': {'id': 'cmip6plus:project/license-list', 'type': ['wcrp:project', 'cmip6plus', 'wcrp:license'], 'license': [{'id': 'universal:license/cc-by-4.0', 'regex': '^CMIP6Plus model data produced by .* is licensed under a Creative Commons .* License (https://creativecommons\\\\.org/.*)\\\\. *Consult https://pcmdi\\\\.llnl\\\\.gov/CMIP6Plus/TermsOfUse for terms of use governing CMIP6Plus output, including citation requirements and proper acknowledgment\\\\. *The data producers and data providers make no warranty, either express or implied, including, but not limited to, warranties of merchantability and fitness for a particular purpose\\\\. *All liabilities arising from the supply of the information (including any liability arising in negligence) are excluded to the fullest extent permitted by law\\\\.$'}]}, 'cmip6plus:project/mip-era-list': {'id': 'cmip6plus:project/mip-era-list', 'type': ['wcrp:project', 'cmip6plus', 'wcrp:mip_era'], 'mipera': {'id': 'universal:mip/cmip6plus'}}, 'cmip6plus:project/product-list': {'id': 'cmip6plus:project/product-list', 'type': ['wcrp:project', 'cmip6plus', 'wcrp:product'], 'product': 'universal:product/model-output'}, 'cmip6plus:project/repo-list': {'id': 'cmip6plus:project/repo-list', 'type': ['wcrp:project', 'cmip6plus', 'wcrp:repo'], 'repo': 'https://github.com/WCRP-CMIP/CMIP6Plus_CVs'}, 'cmip6plus:project/required-global-attributes-list': {'id': 'cmip6plus:project/required-global-attributes-list', 'type': ['cmip6plus', 'wcrp:project', 'wcrp:required', 'wcrp:required_global_attributes'], 'required_global_attributes': ['Conventions', 'activity_id', 'creation_date', 'data_specs_version', 'experiment', 'experiment_id', 'forcing_index', 'frequency', 'grid', 'grid_label', 'initialization_index', 'institution', 'institution_id', 'license', 'mip_era', 'nominal_resolution', 'physics_index', 'realization_index', 'realm', 'source', 'source_id', 'source_type', 'sub_experiment', 'sub_experiment_id', 'table_id', 'tracking_id', 'variable_id', 'variant_label']}, 'cmip6plus:project/tables-list': {'id': 'cmip6plus:project/tables-list', 'type': ['wcrp:project', 'cmip6plus', 'wcrp:tables'], 'tables': ['variables:tables/acmon', 'variables:tables/acmonz', 'variables:tables/ae1hr', 'variables:tables/ae3hrpt', 'variables:tables/ae3hrptlev', 'variables:tables/ae6hr', 'variables:tables/ae6hrpt', 'variables:tables/ae6hrptlev', 'variables:tables/aeday', 'variables:tables/aemon', 'variables:tables/aemonlev', 'variables:tables/aemonz', 'variables:tables/aesubhrpt', 'variables:tables/aesubhrptsite', 'variables:tables/ap1hr', 'variables:tables/ap1hrpt', 'variables:tables/ap3hr', 'variables:tables/ap3hrpt', 'variables:tables/ap3hrptlev', 'variables:tables/ap6hr', 'variables:tables/ap6hrpt', 'variables:tables/ap6hrptlev', 'variables:tables/ap6hrptz', 'variables:tables/apday', 'variables:tables/apdaylev', 'variables:tables/apdayz', 'variables:tables/apfx', 'variables:tables/apmon', 'variables:tables/apmonclim', 'variables:tables/apmonclimlev', 'variables:tables/apmondiurnal', 'variables:tables/apmonlev', 'variables:tables/apmonz', 'variables:tables/apsubhrpt', 'variables:tables/apsubhrptlev', 'variables:tables/apsubhrptsite', 'variables:tables/giafx', 'variables:tables/giamon', 'variables:tables/giayr', 'variables:tables/gigfx', 'variables:tables/gigmon', 'variables:tables/gigyr', 'variables:tables/li3hrpt', 'variables:tables/li6hrpt', 'variables:tables/liday', 'variables:tables/lifx', 'variables:tables/limon', 'variables:tables/lisubhrptsite', 'variables:tables/lp3hr', 'variables:tables/lp3hrpt', 'variables:tables/lp6hrpt', 'variables:tables/lpday', 'variables:tables/lpfx', 'variables:tables/lpmon', 'variables:tables/lpyr', 'variables:tables/lpyrpt', 'variables:tables/obday', 'variables:tables/obmon', 'variables:tables/obmonlev', 'variables:tables/obyr', 'variables:tables/obyrlev', 'variables:tables/op3hrpt', 'variables:tables/opday', 'variables:tables/opdec', 'variables:tables/opdeclev', 'variables:tables/opdecz', 'variables:tables/opfx', 'variables:tables/opmon', 'variables:tables/opmonclim', 'variables:tables/opmonclimlev', 'variables:tables/opmonlev', 'variables:tables/opmonz', 'variables:tables/opyr', 'variables:tables/opyrlev', 'variables:tables/siday', 'variables:tables/simon', 'variables:tables/simonpt']}, 'cmip6plus:project/tracking-id-list': {'id': 'cmip6plus:project/tracking-id-list', 'type': ['wcrp:project', 'cmip6plus', 'wcrp:tracking-id'], 'tracking_id': 'hdl:21.14100/.*'}}\n",
      "mipera <function <lambda> at 0x109452d40>\n"
     ]
    },
    {
     "ename": "KeyError",
     "evalue": "'mipera'",
     "output_type": "error",
     "traceback": [
      "\u001b[0;31m---------------------------------------------------------------------------\u001b[0m",
      "\u001b[0;31mKeyError\u001b[0m                                  Traceback (most recent call last)",
      "Cell \u001b[0;32mIn[11], line 24\u001b[0m\n\u001b[1;32m     21\u001b[0m     \u001b[38;5;66;03m# pprint(result)\u001b[39;00m\n\u001b[1;32m     23\u001b[0m     \u001b[38;5;28mprint\u001b[39m(item,\u001b[38;5;28mgetattr\u001b[39m(this,item))\n\u001b[0;32m---> 24\u001b[0m     CV[item] \u001b[38;5;241m=\u001b[39m \u001b[38;5;28;43mgetattr\u001b[39;49m\u001b[43m(\u001b[49m\u001b[43mthis\u001b[49m\u001b[43m,\u001b[49m\u001b[43mitem\u001b[49m\u001b[43m)\u001b[49m\u001b[43m(\u001b[49m\u001b[43mresult\u001b[49m\u001b[43m[\u001b[49m\u001b[38;5;241;43m0\u001b[39;49m\u001b[43m]\u001b[49m\u001b[43m)\u001b[49m\n\u001b[1;32m     26\u001b[0m CV\n",
      "File \u001b[0;32m~/WIPwork/CMIP-LD/cmipld/cvs/cmip6plus.py:88\u001b[0m, in \u001b[0;36m<lambda>\u001b[0;34m(data, field)\u001b[0m\n\u001b[1;32m     83\u001b[0m     \u001b[38;5;28mprint\u001b[39m(field)\n\u001b[1;32m     84\u001b[0m     \u001b[38;5;66;03m# def entry_wrapper(data, field=field):  \u001b[39;00m\n\u001b[1;32m     85\u001b[0m     \u001b[38;5;66;03m#     print('-----',field)\u001b[39;00m\n\u001b[1;32m     86\u001b[0m     \u001b[38;5;66;03m#     return get_entry(data[field],entry='label')\u001b[39;00m\n\u001b[0;32m---> 88\u001b[0m     functionlist[field] \u001b[38;5;241m=\u001b[39m \u001b[38;5;28;01mlambda\u001b[39;00m data, field\u001b[38;5;241m=\u001b[39mfield: get_entry(\u001b[43mdata\u001b[49m\u001b[43m[\u001b[49m\u001b[43mfield\u001b[49m\u001b[43m]\u001b[49m,entry\u001b[38;5;241m=\u001b[39m\u001b[38;5;124m'\u001b[39m\u001b[38;5;124mlabel\u001b[39m\u001b[38;5;124m'\u001b[39m)\n\u001b[1;32m     90\u001b[0m     \u001b[38;5;66;03m# del entry_wrapper\u001b[39;00m\n\u001b[1;32m     94\u001b[0m \u001b[38;5;28mlocals\u001b[39m()\u001b[38;5;241m.\u001b[39mupdate(functionlist)\n",
      "\u001b[0;31mKeyError\u001b[0m: 'mipera'"
     ]
    }
   ],
   "source": [
    "\n",
    "\n",
    "es_data['project'] = project = cmipld.processor.EmbeddedFrame(f'{io_url}project/graph.jsonld') \n",
    "\n",
    "for item in [\n",
    "    'repo',\n",
    "    'mip-era',\n",
    "    'license',\n",
    "    'activity',\n",
    "    'drs',\n",
    "    'product',\n",
    "    'required-global-attributes',\n",
    "    'tables',\n",
    "    ]:\n",
    "    \n",
    "    print(item)\n",
    "    # CV[item] = getattr(locals(),item)\n",
    "    # ld  = cmipld.processor.expand_document(f'{io_url}project/{item}.json', depth=3)[0]\n",
    "    # functions may be autogenrated in (reponame).py under the CVs dir. \n",
    "    \n",
    "    result = project.frame({'id':f'{io_url}project/{item}-list'})\n",
    "    from pprint import pprint \n",
    "    # pprint(result)\n",
    "    \n",
    "    print(item,getattr(this,item))\n",
    "    CV[item] = getattr(this,item)(result[0])\n",
    "    \n",
    "CV"
   ]
  },
  {
   "cell_type": "code",
   "execution_count": 10,
   "metadata": {},
   "outputs": [
    {
     "data": {
      "text/plain": [
       "[{'@context': 'https://wcrp-cmip.github.io/CMIP6Plus_CVs/project/_context_',\n",
       "  'id': 'cmip6plus:project/mip-era-list',\n",
       "  'type': ['wcrp:project', 'cmip6plus', 'wcrp:mip_era'],\n",
       "  'mipera': {'id': 'universal:mip/cmip6plus',\n",
       "   'type': ['wcrp:mip', 'universal'],\n",
       "   'end': 2999,\n",
       "   'label': 'CMIP6Plus',\n",
       "   'start': 2023,\n",
       "   'url': 'https://wcrp-cmip.org/CMIP6Plus'}}]"
      ]
     },
     "execution_count": 10,
     "metadata": {},
     "output_type": "execute_result"
    }
   ],
   "source": [
    "# project.corpus['@graph'][4]\n",
    "result"
   ]
  },
  {
   "cell_type": "code",
   "execution_count": 7,
   "metadata": {},
   "outputs": [
    {
     "name": "stdout",
     "output_type": "stream",
     "text": [
      "Copying the repo into LocalServer  /Users/daniel.ellis/WIPwork/CMIP6Plus_CVs/src-data/ --> cmip6plus\n",
      "Repositories copied into <TemporaryDirectory '/var/folders/hc/s_7lggq12nndglbdyrn3f91m1l58yd/T/cmipld_local_sf5l1bxe2025-01-30T18:10:11'>\n",
      "https://wcrp-cmip.github.io/CMIP6Plus_CVs/project/mip-era.json\n",
      "[{'@context': 'https://wcrp-cmip.github.io/CMIP6Plus_CVs/project/_context_',\n",
      "  'id': 'cmip6plus:project/mip-era-list',\n",
      "  'mip-era': 'cmip6plus',\n",
      "  'type': ['wcrp:project', 'cmip6plus', 'wcrp:mip_era']}]\n",
      "{'cmip6plus:project/activity-list': {'id': 'cmip6plus:project/activity-list', 'type': ['wcrp:project', 'cmip6plus', 'wcrp:activity'], 'activity': ['universal:activity/lesfmip', 'universal:activity/cmip']}, 'cmip6plus:project/drs-list': {'id': 'cmip6plus:project/drs-list', 'type': ['wcrp:project', 'cmip6plus', 'wcrp:drs'], 'drs': {'directory-path-example': 'CMIP6Plus/CMIP/MOHC/HadGEM3-GC31-MM/historical/r1i1p1f3/Amon/tas/gn/v20191207/', 'directory-path-sub-experiment-example': 'CMIP6Plus/DCPP/MOHC/HadGEM3-GC31-MM/dcppA-hindcast/s1960-r1i1p1f2/Amon/tas/gn/v20200417/', 'directory-path-template': '<mip_era>/<activity_id>/<institution_id>/<source_id>/<experiment_id>/<member_id>/<table_id>/<variable_id>/<grid_label>/<version>', 'filename-example': 'tas_Amon_HadGEM3-GC31-MM_historical_r1i1p1f3_gn_185001-186912.nc', 'filename-sub-experiment-example': 'tas_Amon_HadGEM3-GC31-MM_dcppA-hindcast_s1960-r1i1p1f2_gn_196011-196012.nc', 'filename-template': '<variable_id>_<table_id>_<source_id>_<experiment_id >_<member_id>_<grid_label>[_<time_range>].nc'}}, 'cmip6plus:project/index-list': {'id': 'cmip6plus:project/index-list', 'type': ['wcrp:project', 'cmip6plus', 'wcrp:index'], 'index': {'conventions': '^CF-1.7 CMIP-6.[0-2,5]\\\\( UGRID-1.0\\\\)\\\\{0,\\\\}$', 'forcing-index': '^\\\\[\\\\{0,\\\\}[[:digit:]]\\\\{1,\\\\}\\\\]\\\\{0,\\\\}$', 'initialization-index': '^\\\\[\\\\{0,\\\\}[[:digit:]]\\\\{1,\\\\}\\\\]\\\\{0,\\\\}$', 'physics-index': '^\\\\[\\\\{0,\\\\}[[:digit:]]\\\\{1,\\\\}\\\\]\\\\{0,\\\\}$', 'realization-index': '^\\\\[\\\\{0,\\\\}[[:digit:]]\\\\{1,\\\\}\\\\]\\\\{0,\\\\}$', 'variant-label': 'r[[:digit:]]\\\\{1,\\\\}i[[:digit:]]\\\\{1,\\\\}p[[:digit:]]\\\\{1,\\\\}f[[:digit:]]\\\\{1,\\\\}$'}}, 'cmip6plus:project/license-list': {'id': 'cmip6plus:project/license-list', 'type': ['wcrp:project', 'cmip6plus', 'wcrp:license'], 'license': [{'id': 'universal:license/cc-by-4.0', 'regex': '^CMIP6Plus model data produced by .* is licensed under a Creative Commons .* License (https://creativecommons\\\\.org/.*)\\\\. *Consult https://pcmdi\\\\.llnl\\\\.gov/CMIP6Plus/TermsOfUse for terms of use governing CMIP6Plus output, including citation requirements and proper acknowledgment\\\\. *The data producers and data providers make no warranty, either express or implied, including, but not limited to, warranties of merchantability and fitness for a particular purpose\\\\. *All liabilities arising from the supply of the information (including any liability arising in negligence) are excluded to the fullest extent permitted by law\\\\.$'}]}, 'cmip6plus:project/mip-era-list': {'id': 'cmip6plus:project/mip-era-list', 'type': ['wcrp:project', 'cmip6plus', 'wcrp:mip_era'], 'mip-era': 'cmip6plus'}, 'cmip6plus:project/product-list': {'id': 'cmip6plus:project/product-list', 'type': ['wcrp:project', 'cmip6plus', 'wcrp:product'], 'product': 'universal:product/model-output'}, 'cmip6plus:project/repo-list': {'id': 'cmip6plus:project/repo-list', 'type': ['wcrp:project', 'cmip6plus', 'wcrp:repo'], 'repo': 'https://github.com/WCRP-CMIP/CMIP6Plus_CVs'}, 'cmip6plus:project/required-global-attributes-list': {'id': 'cmip6plus:project/required-global-attributes-list', 'type': ['cmip6plus', 'wcrp:project', 'wcrp:required', 'wcrp:required_global_attributes'], 'required_global_attributes': ['Conventions', 'activity_id', 'creation_date', 'data_specs_version', 'experiment', 'experiment_id', 'forcing_index', 'frequency', 'grid', 'grid_label', 'initialization_index', 'institution', 'institution_id', 'license', 'mip_era', 'nominal_resolution', 'physics_index', 'realization_index', 'realm', 'source', 'source_id', 'source_type', 'sub_experiment', 'sub_experiment_id', 'table_id', 'tracking_id', 'variable_id', 'variant_label']}, 'cmip6plus:project/tables-list': {'id': 'cmip6plus:project/tables-list', 'type': ['wcrp:project', 'cmip6plus', 'wcrp:tables'], 'tables': ['variables:tables/acmon', 'variables:tables/acmonz', 'variables:tables/ae1hr', 'variables:tables/ae3hrpt', 'variables:tables/ae3hrptlev', 'variables:tables/ae6hr', 'variables:tables/ae6hrpt', 'variables:tables/ae6hrptlev', 'variables:tables/aeday', 'variables:tables/aemon', 'variables:tables/aemonlev', 'variables:tables/aemonz', 'variables:tables/aesubhrpt', 'variables:tables/aesubhrptsite', 'variables:tables/ap1hr', 'variables:tables/ap1hrpt', 'variables:tables/ap3hr', 'variables:tables/ap3hrpt', 'variables:tables/ap3hrptlev', 'variables:tables/ap6hr', 'variables:tables/ap6hrpt', 'variables:tables/ap6hrptlev', 'variables:tables/ap6hrptz', 'variables:tables/apday', 'variables:tables/apdaylev', 'variables:tables/apdayz', 'variables:tables/apfx', 'variables:tables/apmon', 'variables:tables/apmonclim', 'variables:tables/apmonclimlev', 'variables:tables/apmondiurnal', 'variables:tables/apmonlev', 'variables:tables/apmonz', 'variables:tables/apsubhrpt', 'variables:tables/apsubhrptlev', 'variables:tables/apsubhrptsite', 'variables:tables/giafx', 'variables:tables/giamon', 'variables:tables/giayr', 'variables:tables/gigfx', 'variables:tables/gigmon', 'variables:tables/gigyr', 'variables:tables/li3hrpt', 'variables:tables/li6hrpt', 'variables:tables/liday', 'variables:tables/lifx', 'variables:tables/limon', 'variables:tables/lisubhrptsite', 'variables:tables/lp3hr', 'variables:tables/lp3hrpt', 'variables:tables/lp6hrpt', 'variables:tables/lpday', 'variables:tables/lpfx', 'variables:tables/lpmon', 'variables:tables/lpyr', 'variables:tables/lpyrpt', 'variables:tables/obday', 'variables:tables/obmon', 'variables:tables/obmonlev', 'variables:tables/obyr', 'variables:tables/obyrlev', 'variables:tables/op3hrpt', 'variables:tables/opday', 'variables:tables/opdec', 'variables:tables/opdeclev', 'variables:tables/opdecz', 'variables:tables/opfx', 'variables:tables/opmon', 'variables:tables/opmonclim', 'variables:tables/opmonclimlev', 'variables:tables/opmonlev', 'variables:tables/opmonz', 'variables:tables/opyr', 'variables:tables/opyrlev', 'variables:tables/siday', 'variables:tables/simon', 'variables:tables/simonpt']}, 'cmip6plus:project/tracking-id-list': {'id': 'cmip6plus:project/tracking-id-list', 'type': ['wcrp:project', 'cmip6plus', 'wcrp:tracking-id'], 'tracking_id': 'hdl:21.14100/.*'}}\n"
     ]
    },
    {
     "data": {
      "text/plain": [
       "('mip-era',\n",
       " [{'@context': 'https://wcrp-cmip.github.io/CMIP6Plus_CVs/project/_context_',\n",
       "   'id': 'cmip6plus:project/mip-era-list',\n",
       "   'type': ['wcrp:project', 'cmip6plus', 'wcrp:mip_era'],\n",
       "   'mip-era': 'cmip6plus'}])"
      ]
     },
     "execution_count": 7,
     "metadata": {},
     "output_type": "execute_result"
    }
   ],
   "source": [
    "localserver.copy_existing_repos([[ldpath,whoami]],override=True)\n",
    "\n",
    "\n",
    "cmipld.processor.clear_cache()\n",
    "\n",
    "item = 'mip-era'\n",
    "print(f'{io_url}project/{item}.json')\n",
    "\n",
    "url = f'{io_url}project/{item}-list'\n",
    "\n",
    "result = project.frame({'@id':url})\n",
    "# ,'@context':url})\n",
    "# result = project.frame({'@type':f'wcrp:{item}'})\n",
    "\n",
    "item,result"
   ]
  },
  {
   "cell_type": "code",
   "execution_count": null,
   "metadata": {},
   "outputs": [],
   "source": [
    "from pprint import pprint\n",
    "# pprint(cmipld.jsonld.frame(project.corpus[\"@graph\"][2],{\"id\":url,\"@context\":project.context}))\n",
    "\n",
    "pprint(cmipld.jsonld.compact(project.corpus['@graph'][2],url))\n",
    "\n"
   ]
  },
  {
   "cell_type": "code",
   "execution_count": null,
   "metadata": {},
   "outputs": [],
   "source": [
    "project.context"
   ]
  },
  {
   "cell_type": "code",
   "execution_count": null,
   "metadata": {},
   "outputs": [],
   "source": [
    "project.corpus[\"@graph\"][2]\n"
   ]
  },
  {
   "cell_type": "code",
   "execution_count": null,
   "metadata": {},
   "outputs": [],
   "source": [
    "# adding the index properties\n",
    "print('index')\n",
    "CV.update(cmipld.processor.get(f'{io_url}/project/index.json')[0]['index'])"
   ]
  },
  {
   "cell_type": "code",
   "execution_count": null,
   "metadata": {},
   "outputs": [],
   "source": [
    "print('make a file for relevant realms and relevant realms')\n",
    "\n",
    "for universe_item in ['realm','frequency']:\n",
    "    # 'grid-label''nominal'\n",
    "    print(universe_item)\n",
    "    path = f'{cmipld.mapping[\"universal\"]}{universe_item}/graph.jsonld'\n",
    "    ld  = cmipld.jsonld.compact(path,path)['@graph']\n",
    "    CV[universe_item] = getattr(this,universe_item)(ld)"
   ]
  },
  {
   "cell_type": "code",
   "execution_count": null,
   "metadata": {},
   "outputs": [],
   "source": [
    "# path = f'{cmipld.mapping[\"universal\"]}resolution/graph.jsonld'\n",
    "# data  = cmipld.jsonld.compact(path,path)['@graph']\n",
    "\n",
    "# CV['nominal_resolution'] = [f\"{r['value']} {r['unit']}\" for r in sorted(data, key=lambda x: float(x['value']) if x['value'].replace('.', '', 1).isdigit() else float('inf'))]\n",
    "\n",
    "print('make a file for relevant nominal resolution')"
   ]
  },
  {
   "cell_type": "code",
   "execution_count": null,
   "metadata": {},
   "outputs": [],
   "source": [
    "# url = cmipld.processor.resolve_prefix(file)\n",
    "\n",
    "# loads the experiments graph and relevant dependancies. \n",
    "# cmipld.processor.clear_cache()\n",
    "# localserver.copy_existing_repos([[ldpath,whoami]],override=True)\n",
    "print(ldpath,whoami)\n",
    "\n",
    "es_data = {}\n",
    "\n",
    "for value in ['experiment', 'source']:\n",
    "    print(value)\n",
    "    es_data[value] = cmipld.processor.EmbeddedFrame(f'{io_url}{value}/graph.jsonld') \n",
    "    result = es_data[value].frame({'@type':[f'wcrp:{value}']})\n",
    "    \n",
    "    # CV[value+'_id'] = getattr(this,value)(result)\n",
    "# \n",
    "\n",
    "value, es_data[value].dependencies"
   ]
  },
  {
   "cell_type": "markdown",
   "metadata": {},
   "source": []
  },
  {
   "cell_type": "code",
   "execution_count": null,
   "metadata": {},
   "outputs": [],
   "source": [
    "# CV[value+'_id']\n",
    "result[0]"
   ]
  },
  {
   "cell_type": "code",
   "execution_count": null,
   "metadata": {},
   "outputs": [],
   "source": [
    "CV"
   ]
  },
  {
   "cell_type": "code",
   "execution_count": null,
   "metadata": {},
   "outputs": [],
   "source": [
    "ls \n"
   ]
  },
  {
   "cell_type": "code",
   "execution_count": null,
   "metadata": {},
   "outputs": [],
   "source": []
  }
 ],
 "metadata": {
  "kernelspec": {
   "display_name": "base",
   "language": "python",
   "name": "python3"
  },
  "language_info": {
   "codemirror_mode": {
    "name": "ipython",
    "version": 3
   },
   "file_extension": ".py",
   "mimetype": "text/x-python",
   "name": "python",
   "nbconvert_exporter": "python",
   "pygments_lexer": "ipython3",
   "version": "3.10.10"
  }
 },
 "nbformat": 4,
 "nbformat_minor": 2
}
