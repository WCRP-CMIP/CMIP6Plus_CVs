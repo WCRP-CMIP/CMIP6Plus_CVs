{
 "cells": [
  {
   "cell_type": "code",
   "execution_count": 1,
   "metadata": {},
   "outputs": [
    {
     "name": "stderr",
     "output_type": "stream",
     "text": [
      "/Users/daniel.ellis/customlib/homebrew/Caskroom/mambaforge/base/lib/python3.10/site-packages/tqdm/auto.py:21: TqdmWarning: IProgress not found. Please update jupyter and ipywidgets. See https://ipywidgets.readthedocs.io/en/stable/user_install.html\n",
      "  from .autonotebook import tqdm as notebook_tqdm\n"
     ]
    }
   ],
   "source": [
    "import cmipld\n",
    "from cmipld.utils.offline import LD_server, replace_loader\n",
    "from pyld import jsonld"
   ]
  },
  {
   "cell_type": "code",
   "execution_count": 2,
   "metadata": {},
   "outputs": [
    {
     "name": "stdout",
     "output_type": "stream",
     "text": [
      "https://wcrp-cmip.github.io/WCRP-universe/ universal /var/folders/hc/s_7lggq12nndglbdyrn3f91m1l58yd/T/cmipld_local_08zezpe72025-01-16T10:53:39\n"
     ]
    },
    {
     "name": "stderr",
     "output_type": "stream",
     "text": [
      "Cloning into '/var/folders/hc/s_7lggq12nndglbdyrn3f91m1l58yd/T/cmipld_local_08zezpe72025-01-16T10:53:39/universal'...\n"
     ]
    },
    {
     "name": "stdout",
     "output_type": "stream",
     "text": [
      "\n",
      "\n",
      "https://wcrp-cmip.github.io/MIP-variables/ variables /var/folders/hc/s_7lggq12nndglbdyrn3f91m1l58yd/T/cmipld_local_08zezpe72025-01-16T10:53:39\n"
     ]
    },
    {
     "name": "stderr",
     "output_type": "stream",
     "text": [
      "Cloning into '/var/folders/hc/s_7lggq12nndglbdyrn3f91m1l58yd/T/cmipld_local_08zezpe72025-01-16T10:53:39/variables'...\n"
     ]
    },
    {
     "name": "stdout",
     "output_type": "stream",
     "text": [
      "\n",
      "\n",
      "https://wcrp-cmip.github.io/CMIP6Plus_CVs/ cmip6plus /var/folders/hc/s_7lggq12nndglbdyrn3f91m1l58yd/T/cmipld_local_08zezpe72025-01-16T10:53:39\n"
     ]
    },
    {
     "name": "stderr",
     "output_type": "stream",
     "text": [
      "Cloning into '/var/folders/hc/s_7lggq12nndglbdyrn3f91m1l58yd/T/cmipld_local_08zezpe72025-01-16T10:53:39/cmip6plus'...\n"
     ]
    },
    {
     "name": "stdout",
     "output_type": "stream",
     "text": [
      "\n",
      "\n",
      "Repositories cloned into <TemporaryDirectory '/var/folders/hc/s_7lggq12nndglbdyrn3f91m1l58yd/T/cmipld_local_08zezpe72025-01-16T10:53:39'>\n",
      "Copying the repo into LocalServer  /Users/daniel.ellis/WIPwork/CMIP6Plus_CVs/src-data/ --> cmip6plus\n",
      "Repositories copied into <TemporaryDirectory '/var/folders/hc/s_7lggq12nndglbdyrn3f91m1l58yd/T/cmipld_local_08zezpe72025-01-16T10:53:39'>\n"
     ]
    },
    {
     "name": "stderr",
     "output_type": "stream",
     "text": [
      "......+......+.....+++++++++++++++++++++++++++++++++++++++++++++*..+++++++++++++++++++++++++++++++++++++++++++++*.......+.+..+......+..........+.................+..................+.........+.......+........+.......+...+......+..+.......+....................+......+....+..+.+.....+.............+.................+....+...+....................+...+...+.......+..+.............+..+......+.+..............+......+....+..+............+............+.........+............+....+.....+....+............+..+.+..+.......+..+.........+....+..+.+......................................+....+........+...+..........+.................+.......+.....+.......+...+..+..................+.+......+...+........+.............+......+...+...+........+.........+...............+...+.........+..............................+....+..+............+............+...+.......+....................+...+......+..........+..+.......+..+.........................+.........+......+...+.....+............+.+...+.....+.+..............+....+...........+....+...+.........+........................+.....+.+........+...............+..........+..+.+..................+.....+......+...............+..........+....................+.+........+......+.........+.+......+..+...+..........+........+.........+.+......+.........+.....+.+...........+.......+++++\n",
      "......+......+.........+..........+...+......+.........+...+...+.....+.+.....+.........+......+.+..+++++++++++++++++++++++++++++++++++++++++++++*...+.+...+++++++++++++++++++++++++++++++++++++++++++++*........+..+...+...+...............+............+...+....+.........+...........+......+.......+...+..+......+.........................+...........+....+..+.......+......+.....+.........+............+.+...+.....+....+..+......+....+......+............+...+..+......................+...+...+.....+.......+..+....+......+........+......+.+...............+...........+............+.......+........+...+..........+........+.+......+....................+..........+.........+...+...+...+..+...+.....................+....+"
     ]
    },
    {
     "name": "stdout",
     "output_type": "stream",
     "text": [
      "Created SSL certificates in: /var/folders/hc/s_7lggq12nndglbdyrn3f91m1l58yd/T/cmipld_local_08zezpe72025-01-16T10:53:39\n",
      "Serving /var/folders/hc/s_7lggq12nndglbdyrn3f91m1l58yd/T/cmipld_local_08zezpe72025-01-16T10:53:39 at https://localhost:8082\n",
      "make test for url2io\n"
     ]
    },
    {
     "name": "stderr",
     "output_type": "stream",
     "text": [
      "............+.....+.......+..+.+........+..........+..+.........+...+...+.........+.........+.......+...+..+.........+......+.............+.....+....+.....+......................+...+...........+..........+..+..........+..............+...+..........+......+...........+.........+.+...........+...+......+.+.....+...+.+...+..+....+..+...+.........+................+......+...+.....+...+....+.....+...................+......+........+......+.+......+...+.........+..+...+..........+.....+......+.+++++\n",
      "-----\n"
     ]
    }
   ],
   "source": [
    "# Set up offline override for the current repository\n",
    "\n",
    "ldpath = cmipld.utils.git.ldpath()\n",
    "\n",
    "\n",
    "# create a temporary directory containing (a copy of) the current repository\n",
    "# localserver = LD_server(copy = [[ldpath,'current_repo']])\n",
    "repos= { \n",
    "        'https://wcrp-cmip.github.io/WCRP-universe/': 'universal',\n",
    "        'https://wcrp-cmip.github.io/MIP-variables/': 'variables',\n",
    "        'https://wcrp-cmip.github.io/CMIP6Plus_CVs/': 'cmip6plus'\n",
    "        }\n",
    "\n",
    "localserver = LD_server(repos = repos.items(),copy = [[ldpath,'cmip6plus']])\n",
    "\n",
    "# localserver = LD_server(copy = [[ldpath,'cmip6plus']])\n",
    "\n",
    "\n",
    "localhost = localserver.start_server(8082)\n",
    "repo_url = cmipld.utils.git.url()\n",
    "io_url = cmipld.utils.git.url2io(repo_url)\n",
    "\n",
    "\n",
    "\n"
   ]
  },
  {
   "cell_type": "code",
   "execution_count": 4,
   "metadata": {},
   "outputs": [
    {
     "name": "stdout",
     "output_type": "stream",
     "text": [
      "<function requests_document_loader.<locals>.loader at 0x10da07b50>\n",
      "Setting up location forwarding for:\n",
      " -  https://wcrp-cmip.github.io/WCRP-universe/ >>> https://localhost:8082/universal/\n",
      " -  https://wcrp-cmip.github.io/MIP-variables/ >>> https://localhost:8082/variables/\n",
      " -  https://wcrp-cmip.github.io/CMIP6Plus_CVs/ >>> https://localhost:8082/cmip6plus/\n",
      "\n"
     ]
    }
   ],
   "source": [
    "# \n",
    "replace_loader(localhost,[list(i) for i in repos.items()])\n"
   ]
  },
  {
   "cell_type": "code",
   "execution_count": 3,
   "metadata": {},
   "outputs": [],
   "source": [
    "\n",
    "\n",
    "def get_entry(data,entry='label'):\n",
    "    return [i.get(entry) for i in data]\n",
    "\n",
    "def tables(data):\n",
    "    return get_entry(data['tables'])\n",
    "    \n",
    "# getattr(cmipld,'processor')"
   ]
  },
  {
   "cell_type": "code",
   "execution_count": 5,
   "metadata": {},
   "outputs": [],
   "source": [
    "# getattr(cmipld,'processor')"
   ]
  },
  {
   "cell_type": "code",
   "execution_count": null,
   "metadata": {},
   "outputs": [],
   "source": [
    "from collections import OrderedDict\n",
    "\n",
    "CV = OrderedDict()\n",
    "\n",
    "\n",
    "for item in [\n",
    "    'product',\n",
    "    'mip-era',\n",
    "    'license',\n",
    "    'activity',\n",
    "    'tracking-id',\n",
    "    'drs',\n",
    "    'repo',\n",
    "    # 'tables',\n",
    "    'required-global-attributes',\n",
    "    'index'\n",
    "    ]:\n",
    "    \n",
    "    print(item)\n",
    "    # CV[item] = getattr(locals(),item)\n",
    "    CV[item] = cmipld.processor.get(f'{io_url}project/{item}.json', depth=3)[0]\n",
    "\n"
   ]
  },
  {
   "cell_type": "code",
   "execution_count": null,
   "metadata": {},
   "outputs": [],
   "source": [
    "CV['product']"
   ]
  },
  {
   "cell_type": "code",
   "execution_count": null,
   "metadata": {},
   "outputs": [],
   "source": [
    "repo_url = cmipld.utils.git.url()\n",
    "io_url = cmipld.utils.git.url2io(repo_url)"
   ]
  },
  {
   "cell_type": "code",
   "execution_count": null,
   "metadata": {},
   "outputs": [],
   "source": [
    "\n",
    "\n",
    "# cmipld.processor.loader(f'{io_url}project/_context_',{})\n",
    "\n",
    "jsonld.expand([{\n",
    "        \"@context\": [\n",
    "        {\n",
    "            \"@base\": \"https://wcrp-cmip.github.io/CMIP6Plus_CVs/project/\",\n",
    "            \"@vocab\": \"https://wcrp-cmip.github.io/CMIP6Plus_CVs/project/\",\n",
    "            \"activity\": {\n",
    "                \"@container\": \"@id\",\n",
    "                \"@context\": \"http://wcrp-cmip.github.io/WCRP-universe/activity/_context_\"\n",
    "            },\n",
    "            \"mip_era\": {\n",
    "                \"@type\": \"@id\",\n",
    "                \"@context\": \"http://wcrp-cmip.github.io/WCRP-universe/mip/_context_\"\n",
    "            },\n",
    "            \"product\": {\n",
    "                \"@type\": \"@id\",\n",
    "                \"@context\": \"https://wcrp-cmip.github.io/WCRP-universe/product/_context_\"\n",
    "            },\n",
    "            \"tables\": {\n",
    "                \"@type\": \"@id\",\n",
    "                \"@context\": \"http://wcrp-cmip.github.io/MIP-variables/tables/_context_\"\n",
    "            },\n",
    "            \"license\":{\n",
    "                \"@type\": \"@id\",\n",
    "                \"@context\": \"http://wcrp-cmip.github.io/WCRP-universe/license/_context_\"\n",
    "            }\n",
    "        }\n",
    "    ],\n",
    "        '@id': 'project/product',\n",
    "  'product': ['model-output'],\n",
    "  '@type': ['wcrp:project',\n",
    "   'https://wcrp-cmip.github.io/CMIP6Plus_CVs/',\n",
    "   'wcrp:product']}])#,f'{io_url}project/product.json')\n",
    "\n"
   ]
  },
  {
   "cell_type": "code",
   "execution_count": null,
   "metadata": {},
   "outputs": [],
   "source": [
    "import requests\n",
    "item='product'\n",
    "print(io_url)\n",
    "iourl = localhost\n",
    "d = requests.get(f'{io_url}project/{item}.json').json()\n",
    "c = requests.get(f'{io_url}project/_context_').json()\n",
    "c"
   ]
  },
  {
   "cell_type": "code",
   "execution_count": null,
   "metadata": {},
   "outputs": [],
   "source": [
    "d['@context'] = c['@context'][1]\n",
    "jsonld.expand(d)"
   ]
  },
  {
   "cell_type": "code",
   "execution_count": 5,
   "metadata": {},
   "outputs": [
    {
     "name": "stderr",
     "output_type": "stream",
     "text": [
      "127.0.0.1 - - [16/Jan/2025 10:54:01] \"GET /cmip6plus/project/product.json HTTP/1.1\" 200 -\n",
      "127.0.0.1 - - [16/Jan/2025 10:54:01] \"GET /universal/activity/_context_ HTTP/1.1\" 200 -\n",
      "127.0.0.1 - - [16/Jan/2025 10:54:01] \"GET /universal/_context_ HTTP/1.1\" 200 -\n",
      "127.0.0.1 - - [16/Jan/2025 10:54:01] \"GET /universal/mip/_context_ HTTP/1.1\" 200 -\n",
      "127.0.0.1 - - [16/Jan/2025 10:54:01] \"GET /universal/product/_context_ HTTP/1.1\" 200 -\n",
      "127.0.0.1 - - [16/Jan/2025 10:54:01] \"GET /variables/tables/_context_ HTTP/1.1\" 200 -\n",
      "127.0.0.1 - - [16/Jan/2025 10:54:01] \"GET /variables/_context_ HTTP/1.1\" 200 -\n",
      "127.0.0.1 - - [16/Jan/2025 10:54:01] \"GET /variables/variables/_context_ HTTP/1.1\" 200 -\n",
      "127.0.0.1 - - [16/Jan/2025 10:54:03] \"GET /universal/license/_context_ HTTP/1.1\" 200 -\n"
     ]
    },
    {
     "data": {
      "text/plain": [
       "[{'https://wcrp-cmip.github.io/CMIP6Plus_CVs/project/id': [{'@value': 'product'}],\n",
       "  'https://wcrp-cmip.github.io/CMIP6Plus_CVs/project/product': [{'@value': 'model-output'}],\n",
       "  'https://wcrp-cmip.github.io/CMIP6Plus_CVs/project/type': [{'@value': 'wcrp:project'},\n",
       "   {'@value': 'cmip6plus'},\n",
       "   {'@value': 'wcrp:product'}]}]"
      ]
     },
     "execution_count": 5,
     "metadata": {},
     "output_type": "execute_result"
    }
   ],
   "source": [
    "item='product'\n",
    "jsonld.expand(f'{io_url}project/{item}.json')"
   ]
  },
  {
   "cell_type": "code",
   "execution_count": null,
   "metadata": {},
   "outputs": [],
   "source": [
    "# This means we can make 'locally hosted' content appear as an external resource in our PYLD instance\n",
    "\n",
    "testfile = f'{io_url}project/'\n",
    "\n"
   ]
  },
  {
   "cell_type": "code",
   "execution_count": null,
   "metadata": {},
   "outputs": [],
   "source": [
    "CV['license']"
   ]
  },
  {
   "cell_type": "code",
   "execution_count": null,
   "metadata": {},
   "outputs": [],
   "source": [
    "item = 'tables'\n",
    "\n",
    "\n",
    "\n",
    "\n",
    "frame = {\n",
    "    '@context': [\n",
    "   {'@base': 'https://wcrp-cmip.github.io/CMIP6Plus_CVs/project/',\n",
    "    '@vocab': 'https://wcrp-cmip.github.io/CMIP6Plus_CVs/project/',\n",
    "    'activity': {'@container': '@id',\n",
    "     '@context': 'https://wcrp-cmip.github.io/WCRP-universe/activity/_context_'},\n",
    "    'mip_era': {'@type': '@id',\n",
    "     '@context': 'https://wcrp-cmip.github.io/WCRP-universe/mip/_context_'},\n",
    "    'product': {'@type': '@id',\n",
    "     '@context': 'https://wcrp-cmip.github.io/WCRP-universe/product/_context_'},\n",
    "    'tables': {'@type': '@id',\n",
    "     '@context': 'https://wcrp-cmip.github.io/MIP-variables/tables/_context_'},\n",
    "    'license': {'@type': '@id',\n",
    "     '@context': 'https://wcrp-cmip.github.io/WCRP-universe/license/_context_'}}],\n",
    "    \"id\": \"product\",\n",
    "    \"type\": [\n",
    "        \"wcrp:project\",\n",
    "        \"cmip6plus\",\n",
    "        \"wcrp:product\"\n",
    "    ],\n",
    "    \"product\": [\n",
    "        \"model-output\"\n",
    "    ]\n",
    "         \n",
    "}\n",
    "         \n",
    "         \n",
    "        #  ,\"tables\":[{\"product\":\"\"}],\"@embed\":\"@always\"}\n",
    "\n",
    "res = jsonld.expand(frame)\n",
    "\n",
    "res"
   ]
  },
  {
   "cell_type": "code",
   "execution_count": null,
   "metadata": {},
   "outputs": [],
   "source": [
    "#  if depth = 1 parallel, otherwise serial \n",
    "#   ptqdm?\n",
    "\n",
    "\n",
    "cahcheing \n",
    "fail repeat \n",
    "\n"
   ]
  },
  {
   "cell_type": "code",
   "execution_count": null,
   "metadata": {},
   "outputs": [],
   "source": [
    "from p_tqdm import p_map"
   ]
  },
  {
   "cell_type": "code",
   "execution_count": null,
   "metadata": {},
   "outputs": [],
   "source": [
    "from pyld import jsonld\n",
    "jsonld.frame(cmipld.get(f'{io_url}project/{item}.json'), {\n",
    "    '@context': [\n",
    "        f'{io_url}project/{item}.json', \n",
    "        ],\n",
    "    \"tables\":{\n",
    "            \"table_id\":'',\n",
    "            \"@explicit\": True,\n",
    "            }\n",
    "    })"
   ]
  },
  {
   "cell_type": "code",
   "execution_count": null,
   "metadata": {},
   "outputs": [],
   "source": []
  },
  {
   "cell_type": "code",
   "execution_count": null,
   "metadata": {},
   "outputs": [],
   "source": [
    "jsonld.frame(f'{cmipld.mapping[\"variables\"]}tables/apsubhrptsite',{\"@context\":[f'{cmipld.mapping[\"variables\"]}tables/apsubhrptsite',{}],\"table_id\":{},\"@explicit\":True})"
   ]
  },
  {
   "cell_type": "code",
   "execution_count": null,
   "metadata": {},
   "outputs": [],
   "source": [
    "# localserver.copy_existing_repos([[ldpath,'current_repo']])"
   ]
  },
  {
   "cell_type": "code",
   "execution_count": null,
   "metadata": {},
   "outputs": [],
   "source": [
    "cmipld.get(f'{io_url}source/cesm2.json')"
   ]
  },
  {
   "cell_type": "code",
   "execution_count": null,
   "metadata": {},
   "outputs": [],
   "source": [
    "           \"model-component\": {\n",
    "                \"@context\": \"https://wcrp-cmip.github.io/CMIP6Plus_CVs/component/_context_\",\n",
    "                \"@type\": \"@id\"\n",
    "            }"
   ]
  },
  {
   "cell_type": "code",
   "execution_count": null,
   "metadata": {},
   "outputs": [],
   "source": [
    "jsonld.expand(f'{io_url}source/cesm2.json')"
   ]
  },
  {
   "cell_type": "code",
   "execution_count": null,
   "metadata": {},
   "outputs": [],
   "source": []
  }
 ],
 "metadata": {
  "kernelspec": {
   "display_name": "base",
   "language": "python",
   "name": "python3"
  },
  "language_info": {
   "codemirror_mode": {
    "name": "ipython",
    "version": 3
   },
   "file_extension": ".py",
   "mimetype": "text/x-python",
   "name": "python",
   "nbconvert_exporter": "python",
   "pygments_lexer": "ipython3",
   "version": "3.10.10"
  }
 },
 "nbformat": 4,
 "nbformat_minor": 2
}
