{
 "cells": [
  {
   "cell_type": "code",
   "execution_count": 1,
   "metadata": {},
   "outputs": [
    {
     "name": "stdout",
     "output_type": "stream",
     "text": [
      "make test for url2io\n",
      "--------------------------------------------------\n",
      "Parsing repo: cmip6plus\n",
      "Location: https://github.com/WCRP-CMIP/CMIP6Plus_CVs\n",
      "Github IO link: https://wcrp-cmip.github.io/CMIP6Plus_CVs/\n",
      "--------------------------------------------------\n"
     ]
    },
    {
     "name": "stderr",
     "output_type": "stream",
     "text": [
      "/Users/daniel.ellis/customlib/homebrew/Caskroom/mambaforge/base/lib/python3.10/site-packages/tqdm/auto.py:21: TqdmWarning: IProgress not found. Please update jupyter and ipywidgets. See https://ipywidgets.readthedocs.io/en/stable/user_install.html\n",
      "  from .autonotebook import tqdm as notebook_tqdm\n"
     ]
    }
   ],
   "source": [
    "import cmipld\n",
    "import importlib\n",
    "from collections import OrderedDict\n",
    "\n",
    "\n",
    "repo_url = cmipld.utils.git.url()\n",
    "io_url = cmipld.utils.git.url2io(repo_url)\n",
    "\n",
    "whoami = cmipld.reverse_mapping()[io_url]\n",
    "print('-'*50)\n",
    "print(f'Parsing repo: {whoami}')\n",
    "print(f'Location: {repo_url}')\n",
    "print(f'Github IO link: {io_url}')\n",
    "print('-'*50)\n",
    "\n",
    "'''\n",
    "To keep this set of functions generic, we create separate files containing all relevant functions for a repository to be processed. \n",
    "When running this script we determine the parent repository, and consequently its prefix. This is then used to grab all relevant functions for processing. \n",
    "\n",
    "Example usage: getattr(this,'activity')({'activity':[{\"label\":1,\"id\":'one'}]})\n",
    "\n",
    "'''\n",
    "# Dynamically import the target module and assign it to a variable\n",
    "module_path = f\"cmipld.cvs.{whoami}\" # go to CMIPLD/CVs/<value of whoami>.py for functions\n",
    "this = importlib.import_module(module_path)\n",
    "\n"
   ]
  },
  {
   "cell_type": "code",
   "execution_count": 2,
   "metadata": {},
   "outputs": [
    {
     "name": "stderr",
     "output_type": "stream",
     "text": [
      "Cloning into '/var/folders/hc/s_7lggq12nndglbdyrn3f91m1l58yd/T/cmipld_local_44h8v8902025-02-04T21:30:08/universal'...\n"
     ]
    },
    {
     "name": "stdout",
     "output_type": "stream",
     "text": [
      "https://wcrp-cmip.github.io/WCRP-universe/ universal /var/folders/hc/s_7lggq12nndglbdyrn3f91m1l58yd/T/cmipld_local_44h8v8902025-02-04T21:30:08\n",
      "\n",
      "\n",
      "https://wcrp-cmip.github.io/MIP-variables/ variables /var/folders/hc/s_7lggq12nndglbdyrn3f91m1l58yd/T/cmipld_local_44h8v8902025-02-04T21:30:08\n"
     ]
    },
    {
     "name": "stderr",
     "output_type": "stream",
     "text": [
      "Cloning into '/var/folders/hc/s_7lggq12nndglbdyrn3f91m1l58yd/T/cmipld_local_44h8v8902025-02-04T21:30:08/variables'...\n"
     ]
    },
    {
     "name": "stdout",
     "output_type": "stream",
     "text": [
      "\n",
      "\n",
      "https://wcrp-cmip.github.io/CMIP6Plus_CVs/ cmip6plus /var/folders/hc/s_7lggq12nndglbdyrn3f91m1l58yd/T/cmipld_local_44h8v8902025-02-04T21:30:08\n"
     ]
    },
    {
     "name": "stderr",
     "output_type": "stream",
     "text": [
      "Cloning into '/var/folders/hc/s_7lggq12nndglbdyrn3f91m1l58yd/T/cmipld_local_44h8v8902025-02-04T21:30:08/cmip6plus'...\n"
     ]
    },
    {
     "name": "stdout",
     "output_type": "stream",
     "text": [
      "\n",
      "\n",
      "Repositories cloned into <TemporaryDirectory '/var/folders/hc/s_7lggq12nndglbdyrn3f91m1l58yd/T/cmipld_local_44h8v8902025-02-04T21:30:08'>\n",
      "Copying the repo into LocalServer  /Users/daniel.ellis/WIPwork/CMIP6Plus_CVs/src-data/ --> cmip6plus\n",
      "Repositories copied into <TemporaryDirectory '/var/folders/hc/s_7lggq12nndglbdyrn3f91m1l58yd/T/cmipld_local_44h8v8902025-02-04T21:30:08'>\n",
      "Created SSL certificates in: /var/folders/hc/s_7lggq12nndglbdyrn3f91m1l58yd/T/cmipld_local_44h8v8902025-02-04T21:30:08\n",
      "Serving /var/folders/hc/s_7lggq12nndglbdyrn3f91m1l58yd/T/cmipld_local_44h8v8902025-02-04T21:30:08 at https://localhost:8089\n"
     ]
    },
    {
     "name": "stderr",
     "output_type": "stream",
     "text": [
      ".+...............+...+.+......+..+...+....+...+...+...+......+.....+.+..+.+....................+....+......+...........+......+....+...............+........+......+....+..+...+.+......+.....+.+........+.......+..+...+....+...+..+.+.....+...+....+...+.........+........+.+..+.......+...+.........+++++++++++++++++++++++++++++++++++++++++++++*.....+...+.+.....+............+...+......+....+.....+.......+.........+...+..+.........+.+........+.+..+....+++++++++++++++++++++++++++++++++++++++++++++*........+................+...+.....+......+.+.........+........+.+......+....................+...............+...+.+...........+...+++++\n",
      "....+........+......+....+..+.......+.....+...+...+.+...+...+++++++++++++++++++++++++++++++++++++++++++++*.............+..+....+++++++++++++++++++++++++++++++++++++++++++++*....+....+..........................+........................+.+............+...+...+......+...+......+...............+.....+.......+...+.....+.......+..+............+...+.......+......+...+.........+..+......+.........+....+..+++++\n",
      "-----\n"
     ]
    }
   ],
   "source": [
    "# Set up offline override for the current repository\n",
    "\n",
    "from cmipld.utils.offline import LD_server\n",
    "\n",
    "ldpath = cmipld.utils.git.ldpath()\n",
    "\n",
    "\n",
    "# create a temporary directory containing (a copy of) the current repository\n",
    "# localserver = LD_server(copy = [[ldpath,'current_repo']])\n",
    "repos= { \n",
    "        'https://wcrp-cmip.github.io/WCRP-universe/': 'universal',\n",
    "        'https://wcrp-cmip.github.io/MIP-variables/': 'variables',\n",
    "        'https://wcrp-cmip.github.io/CMIP6Plus_CVs/': 'cmip6plus'\n",
    "        }\n",
    "\n",
    "localserver = LD_server(repos = repos.items(),copy = [[ldpath,whoami]],override='y')\n",
    "\n",
    "# localserver = LD_server(copy = [[ldpath,'cmip6plus']])\n",
    "\n",
    "\n",
    "localhost = localserver.start_server(8089)\n"
   ]
  },
  {
   "cell_type": "code",
   "execution_count": 3,
   "metadata": {},
   "outputs": [
    {
     "name": "stdout",
     "output_type": "stream",
     "text": [
      "Setting up location forwarding for:\n",
      " -  https://wcrp-cmip.github.io/WCRP-universe/ >>> https://localhost:8089/universal/ \n",
      "\n",
      " -  https://wcrp-cmip.github.io/MIP-variables/ >>> https://localhost:8089/variables/ \n",
      "\n",
      " -  https://wcrp-cmip.github.io/CMIP6Plus_CVs/ >>> https://localhost:8089/cmip6plus/ \n",
      "\n"
     ]
    }
   ],
   "source": [
    "cmipld.processor.replace_loader(localhost,[list(i) for i in repos.items()]) "
   ]
  },
  {
   "cell_type": "code",
   "execution_count": 4,
   "metadata": {},
   "outputs": [],
   "source": [
    "\n",
    "CV = OrderedDict()\n",
    "cmipld.processor.clear_cache()\n",
    "\n",
    "\n",
    "es_data = {}"
   ]
  },
  {
   "cell_type": "code",
   "execution_count": 5,
   "metadata": {},
   "outputs": [
    {
     "name": "stderr",
     "output_type": "stream",
     "text": [
      "127.0.0.1 - - [04/Feb/2025 21:30:10] \"GET /cmip6plus/project/graph.jsonld HTTP/1.1\" 200 -\n",
      "127.0.0.1 - - [04/Feb/2025 21:30:10] \"GET /universal/activity/_context_ HTTP/1.1\" 200 -\n",
      "127.0.0.1 - - [04/Feb/2025 21:30:10] \"GET /universal/_context_ HTTP/1.1\" 200 -\n",
      "127.0.0.1 - - [04/Feb/2025 21:30:10] \"GET /universal/license/_context_ HTTP/1.1\" 200 -\n",
      "127.0.0.1 - - [04/Feb/2025 21:30:11] \"GET /universal/mip/_context_ HTTP/1.1\" 200 -\n",
      "127.0.0.1 - - [04/Feb/2025 21:30:11] \"GET /universal/resolution/_context_ HTTP/1.1\" 200 -\n",
      "127.0.0.1 - - [04/Feb/2025 21:30:11] \"GET /universal/product/_context_ HTTP/1.1\" 200 -\n",
      "127.0.0.1 - - [04/Feb/2025 21:30:11] \"GET /variables/tables/_context_ HTTP/1.1\" 200 -\n",
      "127.0.0.1 - - [04/Feb/2025 21:30:11] \"GET /variables/_context_ HTTP/1.1\" 200 -\n",
      "127.0.0.1 - - [04/Feb/2025 21:30:11] \"GET /variables/variables/_context_ HTTP/1.1\" 200 -\n",
      "127.0.0.1 - - [04/Feb/2025 21:30:13] \"GET /universal/product/graph.jsonld HTTP/1.1\" 200 -\n",
      "127.0.0.1 - - [04/Feb/2025 21:30:13] \"GET /universal/license/graph.jsonld HTTP/1.1\" 200 -\n",
      "127.0.0.1 - - [04/Feb/2025 21:30:13] \"GET /universal/activity/graph.jsonld HTTP/1.1\" 200 -\n",
      "127.0.0.1 - - [04/Feb/2025 21:30:13] \"GET /universal/mip/graph.jsonld HTTP/1.1\" 200 -\n",
      "127.0.0.1 - - [04/Feb/2025 21:30:13] \"GET /cmip6plus/project/graph.jsonld HTTP/1.1\" 200 -\n",
      "127.0.0.1 - - [04/Feb/2025 21:30:13] \"GET /variables/tables/graph.jsonld HTTP/1.1\" 200 -\n",
      "127.0.0.1 - - [04/Feb/2025 21:30:13] \"GET /universal/activity/_context_ HTTP/1.1\" 200 -\n",
      "127.0.0.1 - - [04/Feb/2025 21:30:13] \"GET /universal/product/_context_ HTTP/1.1\" 200 -\n",
      "127.0.0.1 - - [04/Feb/2025 21:30:13] \"GET /universal/license/_context_ HTTP/1.1\" 200 -\n",
      "127.0.0.1 - - [04/Feb/2025 21:30:13] \"GET /universal/mip/_context_ HTTP/1.1\" 200 -\n",
      "127.0.0.1 - - [04/Feb/2025 21:30:13] \"GET /universal/product/_context_ HTTP/1.1\" 200 -\n",
      "127.0.0.1 - - [04/Feb/2025 21:30:13] \"GET /variables/tables/_context_ HTTP/1.1\" 200 -\n",
      "127.0.0.1 - - [04/Feb/2025 21:30:13] \"GET /cmip6plus/project/_context_ HTTP/1.1\" 200 -\n",
      "127.0.0.1 - - [04/Feb/2025 21:30:13] \"GET /cmip6plus/_context_ HTTP/1.1\" 200 -\n",
      "127.0.0.1 - - [04/Feb/2025 21:30:13] \"GET /universal/activity/_context_ HTTP/1.1\" 200 -\n",
      "127.0.0.1 - - [04/Feb/2025 21:30:13] \"GET /universal/license/_context_ HTTP/1.1\" 200 -\n",
      "127.0.0.1 - - [04/Feb/2025 21:30:13] \"GET /universal/mip/_context_ HTTP/1.1\" 200 -\n",
      "127.0.0.1 - - [04/Feb/2025 21:30:13] \"GET /universal/product/_context_ HTTP/1.1\" 200 -\n",
      "127.0.0.1 - - [04/Feb/2025 21:30:13] \"GET /variables/tables/_context_ HTTP/1.1\" 200 -\n",
      "127.0.0.1 - - [04/Feb/2025 21:30:13] \"GET /cmip6plus/project/_context_ HTTP/1.1\" 200 -\n",
      "127.0.0.1 - - [04/Feb/2025 21:30:13] \"GET /universal/mip/_context_ HTTP/1.1\" 200 -\n",
      "127.0.0.1 - - [04/Feb/2025 21:30:13] \"GET /universal/activity/_context_ HTTP/1.1\" 200 -\n",
      "127.0.0.1 - - [04/Feb/2025 21:30:13] \"GET /universal/license/_context_ HTTP/1.1\" 200 -\n",
      "127.0.0.1 - - [04/Feb/2025 21:30:14] \"GET /universal/mip/_context_ HTTP/1.1\" 200 -\n",
      "127.0.0.1 - - [04/Feb/2025 21:30:14] \"GET /universal/product/_context_ HTTP/1.1\" 200 -\n",
      "127.0.0.1 - - [04/Feb/2025 21:30:14] \"GET /variables/tables/_context_ HTTP/1.1\" 200 -\n",
      "127.0.0.1 - - [04/Feb/2025 21:30:14] \"GET /cmip6plus/project/_context_ HTTP/1.1\" 200 -\n",
      "127.0.0.1 - - [04/Feb/2025 21:30:14] \"GET /universal/license/_context_ HTTP/1.1\" 200 -\n",
      "127.0.0.1 - - [04/Feb/2025 21:30:14] \"GET /universal/activity/_context_ HTTP/1.1\" 200 -\n",
      "127.0.0.1 - - [04/Feb/2025 21:30:14] \"GET /universal/license/_context_ HTTP/1.1\" 200 -\n",
      "127.0.0.1 - - [04/Feb/2025 21:30:14] \"GET /universal/mip/_context_ HTTP/1.1\" 200 -\n",
      "127.0.0.1 - - [04/Feb/2025 21:30:14] \"GET /universal/product/_context_ HTTP/1.1\" 200 -\n",
      "127.0.0.1 - - [04/Feb/2025 21:30:14] \"GET /variables/tables/_context_ HTTP/1.1\" 200 -\n",
      "127.0.0.1 - - [04/Feb/2025 21:30:14] \"GET /cmip6plus/project/_context_ HTTP/1.1\" 200 -\n",
      "127.0.0.1 - - [04/Feb/2025 21:30:14] \"GET /universal/activity/_context_ HTTP/1.1\" 200 -\n",
      "127.0.0.1 - - [04/Feb/2025 21:30:14] \"GET /universal/activity/_context_ HTTP/1.1\" 200 -\n",
      "127.0.0.1 - - [04/Feb/2025 21:30:14] \"GET /universal/license/_context_ HTTP/1.1\" 200 -\n",
      "127.0.0.1 - - [04/Feb/2025 21:30:14] \"GET /universal/mip/_context_ HTTP/1.1\" 200 -\n",
      "127.0.0.1 - - [04/Feb/2025 21:30:14] \"GET /universal/product/_context_ HTTP/1.1\" 200 -\n",
      "127.0.0.1 - - [04/Feb/2025 21:30:14] \"GET /variables/tables/_context_ HTTP/1.1\" 200 -\n",
      "127.0.0.1 - - [04/Feb/2025 21:30:14] \"GET /cmip6plus/project/_context_ HTTP/1.1\" 200 -\n",
      "127.0.0.1 - - [04/Feb/2025 21:30:14] \"GET /universal/activity/_context_ HTTP/1.1\" 200 -\n",
      "127.0.0.1 - - [04/Feb/2025 21:30:14] \"GET /universal/license/_context_ HTTP/1.1\" 200 -\n",
      "127.0.0.1 - - [04/Feb/2025 21:30:14] \"GET /universal/mip/_context_ HTTP/1.1\" 200 -\n",
      "127.0.0.1 - - [04/Feb/2025 21:30:14] \"GET /universal/product/_context_ HTTP/1.1\" 200 -\n",
      "127.0.0.1 - - [04/Feb/2025 21:30:14] \"GET /variables/tables/_context_ HTTP/1.1\" 200 -\n",
      "127.0.0.1 - - [04/Feb/2025 21:30:14] \"GET /cmip6plus/project/_context_ HTTP/1.1\" 200 -\n",
      "127.0.0.1 - - [04/Feb/2025 21:30:14] \"GET /universal/product/_context_ HTTP/1.1\" 200 -\n",
      "127.0.0.1 - - [04/Feb/2025 21:30:14] \"GET /universal/activity/_context_ HTTP/1.1\" 200 -\n",
      "127.0.0.1 - - [04/Feb/2025 21:30:14] \"GET /universal/license/_context_ HTTP/1.1\" 200 -\n",
      "127.0.0.1 - - [04/Feb/2025 21:30:14] \"GET /universal/mip/_context_ HTTP/1.1\" 200 -\n",
      "127.0.0.1 - - [04/Feb/2025 21:30:14] \"GET /universal/product/_context_ HTTP/1.1\" 200 -\n",
      "127.0.0.1 - - [04/Feb/2025 21:30:14] \"GET /variables/tables/_context_ HTTP/1.1\" 200 -\n",
      "127.0.0.1 - - [04/Feb/2025 21:30:14] \"GET /cmip6plus/project/_context_ HTTP/1.1\" 200 -\n",
      "127.0.0.1 - - [04/Feb/2025 21:30:14] \"GET /universal/activity/_context_ HTTP/1.1\" 200 -\n",
      "127.0.0.1 - - [04/Feb/2025 21:30:14] \"GET /universal/license/_context_ HTTP/1.1\" 200 -\n",
      "127.0.0.1 - - [04/Feb/2025 21:30:14] \"GET /universal/mip/_context_ HTTP/1.1\" 200 -\n",
      "127.0.0.1 - - [04/Feb/2025 21:30:14] \"GET /universal/product/_context_ HTTP/1.1\" 200 -\n",
      "127.0.0.1 - - [04/Feb/2025 21:30:14] \"GET /variables/tables/_context_ HTTP/1.1\" 200 -\n",
      "127.0.0.1 - - [04/Feb/2025 21:30:14] \"GET /cmip6plus/project/_context_ HTTP/1.1\" 200 -\n",
      "127.0.0.1 - - [04/Feb/2025 21:30:14] \"GET /variables/tables/_context_ HTTP/1.1\" 200 -\n",
      "127.0.0.1 - - [04/Feb/2025 21:30:14] \"GET /universal/product/_context_ HTTP/1.1\" 200 -\n",
      "127.0.0.1 - - [04/Feb/2025 21:30:14] \"GET /universal/activity/_context_ HTTP/1.1\" 200 -\n",
      "127.0.0.1 - - [04/Feb/2025 21:30:14] \"GET /universal/license/_context_ HTTP/1.1\" 200 -\n",
      "127.0.0.1 - - [04/Feb/2025 21:30:14] \"GET /universal/mip/_context_ HTTP/1.1\" 200 -\n",
      "127.0.0.1 - - [04/Feb/2025 21:30:14] \"GET /universal/product/_context_ HTTP/1.1\" 200 -\n",
      "127.0.0.1 - - [04/Feb/2025 21:30:14] \"GET /variables/tables/_context_ HTTP/1.1\" 200 -\n",
      "127.0.0.1 - - [04/Feb/2025 21:30:14] \"GET /cmip6plus//project/index-list.json HTTP/1.1\" 200 -\n",
      "127.0.0.1 - - [04/Feb/2025 21:30:14] \"GET /cmip6plus//project/_context_ HTTP/1.1\" 200 -\n",
      "127.0.0.1 - - [04/Feb/2025 21:30:14] \"GET /cmip6plus//_context_ HTTP/1.1\" 200 -\n",
      "127.0.0.1 - - [04/Feb/2025 21:30:14] \"GET /cmip6plus/project/_context_ HTTP/1.1\" 200 -\n",
      "127.0.0.1 - - [04/Feb/2025 21:30:15] \"GET /universal/realm/graph.jsonld HTTP/1.1\" 200 -\n",
      "127.0.0.1 - - [04/Feb/2025 21:30:15] \"GET /universal/realm/graph.jsonld HTTP/1.1\" 200 -\n",
      "127.0.0.1 - - [04/Feb/2025 21:30:15] \"GET /universal/frequency/graph.jsonld HTTP/1.1\" 200 -\n",
      "127.0.0.1 - - [04/Feb/2025 21:30:15] \"GET /universal/frequency/graph.jsonld HTTP/1.1\" 200 -\n",
      "127.0.0.1 - - [04/Feb/2025 21:30:15] \"GET /cmip6plus/experiment/graph.jsonld HTTP/1.1\" 200 -\n",
      "127.0.0.1 - - [04/Feb/2025 21:30:15] \"GET /universal/source-type/_context_ HTTP/1.1\" 200 -\n",
      "127.0.0.1 - - [04/Feb/2025 21:30:15] \"GET /cmip6plus/experiment/_context_ HTTP/1.1\" 200 -\n",
      "127.0.0.1 - - [04/Feb/2025 21:30:15] \"GET /cmip6plus/sub-experiment/_context_ HTTP/1.1\" 200 -\n",
      "127.0.0.1 - - [04/Feb/2025 21:30:15] \"GET /universal/activity/_context_ HTTP/1.1\" 200 -\n",
      "127.0.0.1 - - [04/Feb/2025 21:30:15] \"GET /cmip6plus/experiment/graph.jsonld HTTP/1.1\" 200 -\n",
      "127.0.0.1 - - [04/Feb/2025 21:30:15] \"GET /universal/activity/graph.jsonld HTTP/1.1\" 200 -\n",
      "127.0.0.1 - - [04/Feb/2025 21:30:15] \"GET /universal/source-type/graph.jsonld HTTP/1.1\" 200 -\n",
      "127.0.0.1 - - [04/Feb/2025 21:30:15] \"GET /universal/activity/_context_ HTTP/1.1\" 200 -\n",
      "127.0.0.1 - - [04/Feb/2025 21:30:15] \"GET /universal/source-type/_context_ HTTP/1.1\" 200 -\n",
      "127.0.0.1 - - [04/Feb/2025 21:30:15] \"GET /cmip6plus/experiment/_context_ HTTP/1.1\" 200 -\n",
      "127.0.0.1 - - [04/Feb/2025 21:30:15] \"GET /cmip6plus/sub-experiment/_context_ HTTP/1.1\" 200 -\n",
      "127.0.0.1 - - [04/Feb/2025 21:30:15] \"GET /cmip6plus/experiment/_context_ HTTP/1.1\" 200 -\n",
      "127.0.0.1 - - [04/Feb/2025 21:30:15] \"GET /universal/activity/_context_ HTTP/1.1\" 200 -\n",
      "127.0.0.1 - - [04/Feb/2025 21:30:15] \"GET /universal/source-type/_context_ HTTP/1.1\" 200 -\n",
      "127.0.0.1 - - [04/Feb/2025 21:30:15] \"GET /universal/activity/_context_ HTTP/1.1\" 200 -\n",
      "127.0.0.1 - - [04/Feb/2025 21:30:15] \"GET /universal/source-type/_context_ HTTP/1.1\" 200 -\n",
      "127.0.0.1 - - [04/Feb/2025 21:30:16] \"GET /cmip6plus/experiment/_context_ HTTP/1.1\" 200 -\n",
      "127.0.0.1 - - [04/Feb/2025 21:30:16] \"GET /cmip6plus/source/graph.jsonld HTTP/1.1\" 200 -\n",
      "127.0.0.1 - - [04/Feb/2025 21:30:16] \"GET /universal/organisation/_context_ HTTP/1.1\" 200 -\n",
      "127.0.0.1 - - [04/Feb/2025 21:30:16] \"GET /universal/activity/_context_ HTTP/1.1\" 200 -\n",
      "127.0.0.1 - - [04/Feb/2025 21:30:16] \"GET /universal/license/_context_ HTTP/1.1\" 200 -\n",
      "127.0.0.1 - - [04/Feb/2025 21:30:16] \"GET /universal/license/graph.jsonld HTTP/1.1\" 200 -\n",
      "127.0.0.1 - - [04/Feb/2025 21:30:16] \"GET /universal/activity/graph.jsonld HTTP/1.1\" 200 -\n",
      "127.0.0.1 - - [04/Feb/2025 21:30:16] code 404, message File not found\n",
      "127.0.0.1 - - [04/Feb/2025 21:30:16] \"GET /universal/organisation/organisation/graph.jsonld HTTP/1.1\" 404 -\n",
      "127.0.0.1 - - [04/Feb/2025 21:30:16] \"GET /cmip6plus/source/graph.jsonld HTTP/1.1\" 200 -\n",
      "127.0.0.1 - - [04/Feb/2025 21:30:16] \"GET /universal/activity/_context_ HTTP/1.1\" 200 -\n",
      "127.0.0.1 - - [04/Feb/2025 21:30:16] code 404, message File not found\n",
      "127.0.0.1 - - [04/Feb/2025 21:30:16] \"GET /universal/organisation/organisation/graph.jsonld HTTP/1.1\" 404 -\n",
      "127.0.0.1 - - [04/Feb/2025 21:30:16] \"GET /universal/license/_context_ HTTP/1.1\" 200 -\n",
      "127.0.0.1 - - [04/Feb/2025 21:30:16] code 404, message File not found\n",
      "127.0.0.1 - - [04/Feb/2025 21:30:16] \"GET /universal/organisation/organisation/graph.jsonld HTTP/1.1\" 404 -\n",
      "127.0.0.1 - - [04/Feb/2025 21:30:16] \"GET /universal/organisation/_context_ HTTP/1.1\" 200 -\n",
      "127.0.0.1 - - [04/Feb/2025 21:30:16] code 404, message File not found\n",
      "127.0.0.1 - - [04/Feb/2025 21:30:16] \"GET /universal/organisation/organisation/graph.jsonld HTTP/1.1\" 404 -\n",
      "127.0.0.1 - - [04/Feb/2025 21:31:04] \"GET /cmip6plus/experiment/graph.jsonld HTTP/1.1\" 200 -\n",
      "127.0.0.1 - - [04/Feb/2025 21:31:04] \"GET /universal/activity/_context_ HTTP/1.1\" 200 -\n",
      "127.0.0.1 - - [04/Feb/2025 21:31:04] \"GET /universal/source-type/_context_ HTTP/1.1\" 200 -\n",
      "127.0.0.1 - - [04/Feb/2025 21:31:04] \"GET /cmip6plus/experiment/_context_ HTTP/1.1\" 200 -\n",
      "127.0.0.1 - - [04/Feb/2025 21:31:04] \"GET /cmip6plus/sub-experiment/_context_ HTTP/1.1\" 200 -\n",
      "127.0.0.1 - - [04/Feb/2025 21:31:05] \"GET /universal/source-type/graph.jsonld HTTP/1.1\" 200 -\n",
      "127.0.0.1 - - [04/Feb/2025 21:31:05] \"GET /cmip6plus/experiment/graph.jsonld HTTP/1.1\" 200 -\n",
      "127.0.0.1 - - [04/Feb/2025 21:31:05] \"GET /cmip6plus/sub-experiment/graph.jsonld HTTP/1.1\" 200 -\n",
      "127.0.0.1 - - [04/Feb/2025 21:31:05] \"GET /universal/activity/graph.jsonld HTTP/1.1\" 200 -\n",
      "127.0.0.1 - - [04/Feb/2025 21:31:05] \"GET /universal/activity/_context_ HTTP/1.1\" 200 -\n",
      "127.0.0.1 - - [04/Feb/2025 21:31:05] \"GET /universal/source-type/_context_ HTTP/1.1\" 200 -\n",
      "127.0.0.1 - - [04/Feb/2025 21:31:05] \"GET /cmip6plus/experiment/_context_ HTTP/1.1\" 200 -\n",
      "127.0.0.1 - - [04/Feb/2025 21:31:05] \"GET /cmip6plus/sub-experiment/_context_ HTTP/1.1\" 200 -\n"
     ]
    },
    {
     "name": "stdout",
     "output_type": "stream",
     "text": [
      "WARNING: Part of the loaded context contains a \"@container\" this may mean referenced items become nested in framing.\n",
      " Please check output - this is not     corrected for secondary nested items.\n",
      "[4] https://wcrp-cmip.github.io/CMIP6Plus_CVs/project ['https://wcrp-cmip.github.io/WCRP-universe/license/graph.jsonld', 'https://wcrp-cmip.github.io/WCRP-universe/activity/graph.jsonld', 'https://wcrp-cmip.github.io/WCRP-universe/product/graph.jsonld', 'https://wcrp-cmip.github.io/MIP-variables/tables/graph.jsonld', 'https://wcrp-cmip.github.io/CMIP6Plus_CVs/project/graph.jsonld', 'https://wcrp-cmip.github.io/WCRP-universe/mip/graph.jsonld']\n"
     ]
    },
    {
     "name": "stderr",
     "output_type": "stream",
     "text": [
      "100%|██████████| 6/6 [00:00<00:00, 45.34it/s]\n"
     ]
    },
    {
     "name": "stdout",
     "output_type": "stream",
     "text": [
      "repo\n",
      "mip-era\n",
      "license\n",
      "activity\n",
      "drs\n",
      "product\n",
      "required-global-attributes\n",
      "tables\n"
     ]
    }
   ],
   "source": [
    "\n",
    "\n",
    "es_data['project'] = project = cmipld.processor.EmbeddedFrame(f'{io_url}project/graph.jsonld') \n",
    "\n",
    "for item in [\n",
    "    'repo',\n",
    "    'mip-era',\n",
    "    'license',\n",
    "    'activity',\n",
    "    'drs',\n",
    "    'product',\n",
    "    'required-global-attributes',\n",
    "    'tables',\n",
    "    ]:\n",
    "    \n",
    "    print(item)\n",
    "    # CV[item] = getattr(locals(),item)\n",
    "    # ld  = cmipld.processor.expand_document(f'{io_url}project/{item}.json', depth=3)[0]\n",
    "    # functions may be autogenrated in (reponame).py under the CVs dir. \n",
    "    \n",
    "    result = project.frame({'id':f'{io_url}project/{item}-list'})\n",
    "    # from pprint import pprint \n",
    "    # pprint(result)\n",
    "    \n",
    "    # print(item,getattr(this,item))\n",
    "    \n",
    "    item = item.replace('-','_')\n",
    "    CV[item] = getattr(this,item)(result[0])\n",
    "    "
   ]
  },
  {
   "cell_type": "code",
   "execution_count": null,
   "metadata": {},
   "outputs": [],
   "source": []
  },
  {
   "cell_type": "code",
   "execution_count": 6,
   "metadata": {},
   "outputs": [
    {
     "name": "stdout",
     "output_type": "stream",
     "text": [
      "index\n"
     ]
    }
   ],
   "source": [
    "\n",
    "# adding the index properties\n",
    "print('index')\n",
    "CV.update(cmipld.processor.get(f'{io_url}/project/index-list.json')[0]['index'])"
   ]
  },
  {
   "cell_type": "code",
   "execution_count": 7,
   "metadata": {},
   "outputs": [
    {
     "name": "stdout",
     "output_type": "stream",
     "text": [
      "make a file for relevant realms and relevant realms\n",
      "realm\n",
      "frequency\n"
     ]
    }
   ],
   "source": [
    "print('make a file for relevant realms and relevant realms')\n",
    "\n",
    "for universe_item in ['realm','frequency']:\n",
    "    # 'grid-label''nominal'\n",
    "    print(universe_item)\n",
    "    path = f'{cmipld.mapping[\"universal\"]}{universe_item}/graph.jsonld'\n",
    "    ld  = cmipld.jsonld.compact(path,path)['@graph']\n",
    "    CV[universe_item] = getattr(this,universe_item)(ld)"
   ]
  },
  {
   "cell_type": "code",
   "execution_count": 8,
   "metadata": {},
   "outputs": [
    {
     "name": "stdout",
     "output_type": "stream",
     "text": [
      "make a file for relevant nominal resolution\n"
     ]
    }
   ],
   "source": [
    "# path = f'{cmipld.mapping[\"universal\"]}resolution/graph.jsonld'\n",
    "# data  = cmipld.jsonld.compact(path,path)['@graph']\n",
    "\n",
    "# CV['nominal_resolution'] = [f\"{r['value']} {r['unit']}\" for r in sorted(data, key=lambda x: float(x['value']) if x['value'].replace('.', '', 1).isdigit() else float('inf'))]\n",
    "\n",
    "print('make a file for relevant nominal resolution')"
   ]
  },
  {
   "cell_type": "code",
   "execution_count": null,
   "metadata": {},
   "outputs": [
    {
     "name": "stdout",
     "output_type": "stream",
     "text": [
      "/Users/daniel.ellis/WIPwork/CMIP6Plus_CVs/src-data/ cmip6plus\n",
      "WARNING: Part of the loaded context contains a \"@container\" this may mean referenced items become nested in framing.\n",
      " Please check output - this is not     corrected for secondary nested items.\n",
      "[0] https://wcrp-cmip.github.io/CMIP6Plus_CVs/experiment ['https://wcrp-cmip.github.io/CMIP6Plus_CVs/experiment/graph.jsonld', 'https://wcrp-cmip.github.io/WCRP-universe/activity/graph.jsonld', 'https://wcrp-cmip.github.io/WCRP-universe/source-type/graph.jsonld', 'https://wcrp-cmip.github.io/CMIP6Plus_CVs/sub-experiment/graph.jsonld']\n"
     ]
    },
    {
     "name": "stderr",
     "output_type": "stream",
     "text": [
      "  0%|          | 0/4 [00:00<?, ?it/s]"
     ]
    }
   ],
   "source": [
    "# url = cmipld.processor.resolve_prefix(file)\n",
    "\n",
    "# loads the experiments graph and relevant dependancies. \n",
    "# cmipld.processor.clear_cache()\n",
    "# localserver.copy_existing_repos([[ldpath,whoami]],override=True)\n",
    "print(ldpath,whoami)\n",
    "\n",
    "es_data = {}\n",
    "\n",
    "for value in ['experiment', 'source']:\n",
    "    # print(value)\n",
    "    es_data[value] = cmipld.processor.EmbeddedFrame(f'{io_url}{value}/graph.jsonld') \n",
    "    result = es_data[value].frame({'@type':[f'wcrp:{value}']})\n",
    "    CV[value] = getattr(this,universe_item)(result)\n",
    "    \n",
    "    "
   ]
  },
  {
   "cell_type": "code",
   "execution_count": null,
   "metadata": {},
   "outputs": [],
   "source": [
    "org = getattr(this,'organisation')(es_data['source'].frame({'@type':f'wcrp:source',\"@explicit\":True, 'organisation':{}}))\n",
    "CV['institute_id'] = {k: v for d in org for k, v in d.items()}\n",
    "print('organisations')"
   ]
  },
  {
   "cell_type": "code",
   "execution_count": null,
   "metadata": {},
   "outputs": [],
   "source": [
    "es_data['source'].frame({'@type':f'wcrp:source',\"@explicit\":True, 'organisation':{}})"
   ]
  },
  {
   "cell_type": "code",
   "execution_count": null,
   "metadata": {},
   "outputs": [],
   "source": [
    "CV['institution_id']"
   ]
  },
  {
   "cell_type": "code",
   "execution_count": null,
   "metadata": {},
   "outputs": [],
   "source": []
  },
  {
   "cell_type": "code",
   "execution_count": null,
   "metadata": {},
   "outputs": [],
   "source": [
    "\n"
   ]
  },
  {
   "cell_type": "code",
   "execution_count": null,
   "metadata": {},
   "outputs": [],
   "source": [
    "# import glob,json\n",
    "# files = glob.glob('../../../WCRP-universe/src-data/consortium/*.json')\n",
    "\n",
    "# for f in files:\n",
    "#     print(f)\n",
    "#     data = json.load(open(f))\n",
    "#     data['type'] = list(set(data['type']+['wcrp:organisation']))\n",
    "    \n",
    "#     json.dump(data,open(f,'w'),indent=4)\n",
    "\n",
    "# data"
   ]
  },
  {
   "cell_type": "code",
   "execution_count": null,
   "metadata": {},
   "outputs": [],
   "source": []
  }
 ],
 "metadata": {
  "kernelspec": {
   "display_name": "base",
   "language": "python",
   "name": "python3"
  },
  "language_info": {
   "codemirror_mode": {
    "name": "ipython",
    "version": 3
   },
   "file_extension": ".py",
   "mimetype": "text/x-python",
   "name": "python",
   "nbconvert_exporter": "python",
   "pygments_lexer": "ipython3",
   "version": "3.10.10"
  }
 },
 "nbformat": 4,
 "nbformat_minor": 2
}
