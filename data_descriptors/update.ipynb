{
 "cells": [
  {
   "cell_type": "code",
   "execution_count": 48,
   "metadata": {},
   "outputs": [],
   "source": [
    "import os, sys, json, pyld, glob\n",
    "from pyld import jsonld\n",
    "from collections import OrderedDict\n",
    "import traceback\n",
    "\n",
    "\n",
    "\n",
    "def ldid (k,value=dict()):\n",
    "    return {k: value}\n",
    "    \n",
    "    \n",
    "def sortld(data):\n",
    "    \n",
    "    '''\n",
    "    A sorted JSON-LD file with ctx, id, type first, then the rest of the keys in alphabetical order\n",
    "    '''\n",
    "    \n",
    "    from collections import OrderedDict\n",
    "    \n",
    "    out = OrderedDict()\n",
    "    for ld in '@context id type'.split():\n",
    "        if ld in data:\n",
    "            out[ld] = data[ld]\n",
    "    for ld in sorted(data.keys()):\n",
    "        if ld not in out:\n",
    "            out[ld] = data[ld]\n",
    "            \n",
    "    return out"
   ]
  },
  {
   "cell_type": "code",
   "execution_count": 49,
   "metadata": {},
   "outputs": [],
   "source": [
    "# exp = glob.glob('experiment/*.json')\n",
    "\n",
    "# for e in exp:\n",
    "#     try:\n",
    "#         with open(e) as f:\n",
    "            \n",
    "#             print(e,f)\n",
    "#             data = json.load(f)\n",
    "            \n",
    "#             data['@context'] = data['@context'].replace('data_descriptors/','')\n",
    "            \n",
    "#             data['type'] = 'experiment'\n",
    "            \n",
    "#             # data['experiment'] = data['experiment-id'].replace('.json','')\n",
    "#             # now name \n",
    "            \n",
    "#             data['activity'] = [ldid(i['@id'].replace('cmip6plus:activity/','')) for i in data['activity-id']]\n",
    "            \n",
    "#             data['sub_experiment'] = ldid(data['sub-experiment-id']['@id'].replace('cmip6plus:experiment/sub-id/',''),{})\n",
    "            \n",
    "#             data['parameters']['id'] = 'additional_parameters'\n",
    "            \n",
    "#             data['parent_experiment'] = [ldid(i[\"@id\"].split('/')[-1]) if not isinstance(i,str) else ldid('none') for i in data['parent']['experiment-id'] ]\n",
    "            \n",
    "#             data['parent_activity'] = [ldid(i['@id'].split('/')[-1]) if not isinstance(i,str) else ldid('none') for i in data['parent']['activity-id']]\n",
    "            \n",
    "#             data['model_realms'] = {}\n",
    "#             for r in data['model-components']['required']:\n",
    "#                 data['model_realms'][r['@id'].split('/')[-1]] = dict(is_required=True)\n",
    "                \n",
    "#             for a in data['model-components']['additional-allowed']:\n",
    "#                 data['model_realms'][a['@id'].split('/')[-1]] = dict(is_required=False)\n",
    "                \n",
    "            \n",
    "#             del data['activity-id'], data['sub-experiment-id'], data['parent'], data['experiment'], data['model-components']\n",
    "        \n",
    "#         data = OrderedDict(sorted(data.items()))\n",
    "                \n",
    "#         with open(e,'w') as f:\n",
    "#             json.dump(data,f,indent=4)\n",
    "#     except Exception as e:\n",
    "#         print('-----ERROR----',e, data)\n",
    "#         traceback.print_exc()\n",
    "\n",
    "        "
   ]
  },
  {
   "cell_type": "code",
   "execution_count": 51,
   "metadata": {},
   "outputs": [],
   "source": [
    "# exp = glob.glob('experiment/*.json')\n",
    "\n",
    "# for e in exp:\n",
    "#         with open(e) as f:\n",
    "#             data = json.load(f)\n",
    "#             data = sortld(data)\n",
    "                \n",
    "#         with open(e,'w') as f:\n",
    "#             json.dump(data,f,indent=4)\n"
   ]
  },
  {
   "cell_type": "code",
   "execution_count": null,
   "metadata": {},
   "outputs": [],
   "source": []
  }
 ],
 "metadata": {
  "kernelspec": {
   "display_name": "base",
   "language": "python",
   "name": "python3"
  },
  "language_info": {
   "codemirror_mode": {
    "name": "ipython",
    "version": 3
   },
   "file_extension": ".py",
   "mimetype": "text/x-python",
   "name": "python",
   "nbconvert_exporter": "python",
   "pygments_lexer": "ipython3",
   "version": "3.10.10"
  }
 },
 "nbformat": 4,
 "nbformat_minor": 2
}
