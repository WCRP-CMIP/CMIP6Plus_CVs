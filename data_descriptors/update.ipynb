{
 "cells": [
  {
   "cell_type": "code",
   "execution_count": 19,
   "metadata": {},
   "outputs": [],
   "source": [
    "import os, sys, json, pyld, glob\n",
    "from pyld import jsonld\n",
    "\n",
    "\n",
    "\n",
    "def ldid (k,value=dict()):\n",
    "    return {k: value}\n",
    "    "
   ]
  },
  {
   "cell_type": "code",
   "execution_count": 32,
   "metadata": {},
   "outputs": [
    {
     "data": {
      "text/plain": [
       "{'@context': 'https://WCRP-CMIP.github.io/CMIP6Plus_CVs/data_descriptors/experiment/_context',\n",
       " 'description': 'Historical simulations with only land use changes',\n",
       " 'experiment': [],\n",
       " 'id': 'hist_lu',\n",
       " 'model-components': {'additional-allowed': [{'@id': 'mip-cmor-tables:auxillary/source-type/aer'},\n",
       "   {'@id': 'mip-cmor-tables:auxillary/source-type/chem'},\n",
       "   {'@id': 'mip-cmor-tables:auxillary/source-type/bgc'}],\n",
       "  'required': [{'@id': 'mip-cmor-tables:auxillary/source-type/aogcm'}]},\n",
       " 'name': 'hist-lu',\n",
       " 'parameters': {'end': 2020,\n",
       "  'min-number-yrs-per-sim': 0,\n",
       "  'start': 1850,\n",
       "  'id': 'param'},\n",
       " 'tier': 1,\n",
       " 'type': 'experiment_id',\n",
       " 'activity': [{'lesfmip': {}}],\n",
       " 'sub_experiment': {'f2023': {}},\n",
       " 'parent_experiment': [{'picontrol': {}}],\n",
       " 'parent_activity': [{'cmip': {}}]}"
      ]
     },
     "execution_count": 32,
     "metadata": {},
     "output_type": "execute_result"
    }
   ],
   "source": [
    "exp = glob.glob('experiment/*.json')\n",
    "\n",
    "for e in exp:\n",
    "    with open(e) as f:\n",
    "        \n",
    "        print(e,f)\n",
    "        data = json.load(f)\n",
    "        \n",
    "        data['@context'] = data['@context'].replace('data_descriptors/','')\n",
    "        \n",
    "        data['type'] = 'experiment'\n",
    "        \n",
    "        data['experiment'] = data['experiment-id'].replace('.json','')\n",
    "        \n",
    "        data['activity'] = [ldid(i['@id'].replace('cmip6plus:activity/','')) for i in data['activity-id']]\n",
    "        \n",
    "        data['sub_experiment'] = ldid(data['sub-experiment-id']['@id'].replace('cmip6plus:experiment/sub-id/',''),{})\n",
    "        \n",
    "        data['parameters']['id'] = 'param'\n",
    "        \n",
    "        data['parent_experiment'] = [ldid(i[\"@id\"].split('/')[-1]) for i in data['parent']['experiment-id']]\n",
    "        \n",
    "        data['parent_activity'] = [ldid(i['@id'].split('/')[-1]) for i in data['parent']['activity-id']]\n",
    "        \n",
    "        \n",
    "        \n",
    "        del data['activity-id'], data['sub-experiment-id'], data['parent'], data['experiment-id']\n",
    "        \n",
    "        print(data)\n",
    "        \n",
    "    break\n",
    "\n",
    "data\n",
    "        "
   ]
  },
  {
   "cell_type": "code",
   "execution_count": null,
   "metadata": {},
   "outputs": [],
   "source": []
  },
  {
   "cell_type": "code",
   "execution_count": null,
   "metadata": {},
   "outputs": [],
   "source": []
  }
 ],
 "metadata": {
  "kernelspec": {
   "display_name": "base",
   "language": "python",
   "name": "python3"
  },
  "language_info": {
   "codemirror_mode": {
    "name": "ipython",
    "version": 3
   },
   "file_extension": ".py",
   "mimetype": "text/x-python",
   "name": "python",
   "nbconvert_exporter": "python",
   "pygments_lexer": "ipython3",
   "version": "3.10.10"
  }
 },
 "nbformat": 4,
 "nbformat_minor": 2
}
