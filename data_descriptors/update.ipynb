{
 "cells": [
  {
   "cell_type": "code",
   "execution_count": 24,
   "metadata": {},
   "outputs": [],
   "source": [
    "import os, sys, json, pyld, glob\n",
    "from pyld import jsonld\n",
    "from collections import OrderedDict\n",
    "import traceback\n",
    "\n",
    "\n",
    "\n",
    "def ldid (k,value=dict()):\n",
    "    return {k: value}\n",
    "    "
   ]
  },
  {
   "cell_type": "code",
   "execution_count": 45,
   "metadata": {},
   "outputs": [
    {
     "name": "stdout",
     "output_type": "stream",
     "text": [
      "experiment/hist_lu.json <_io.TextIOWrapper name='experiment/hist_lu.json' mode='r' encoding='UTF-8'>\n",
      "experiment/fut_lu.json <_io.TextIOWrapper name='experiment/fut_lu.json' mode='r' encoding='UTF-8'>\n",
      "experiment/fut_volc.json <_io.TextIOWrapper name='experiment/fut_volc.json' mode='r' encoding='UTF-8'>\n",
      "experiment/esm_hist.json <_io.TextIOWrapper name='experiment/esm_hist.json' mode='r' encoding='UTF-8'>\n",
      "experiment/hist_pitotalo3.json <_io.TextIOWrapper name='experiment/hist_pitotalo3.json' mode='r' encoding='UTF-8'>\n",
      "experiment/1pctco2.json <_io.TextIOWrapper name='experiment/1pctco2.json' mode='r' encoding='UTF-8'>\n",
      "experiment/hist_aer.json <_io.TextIOWrapper name='experiment/hist_aer.json' mode='r' encoding='UTF-8'>\n",
      "experiment/fut_totalo3.json <_io.TextIOWrapper name='experiment/fut_totalo3.json' mode='r' encoding='UTF-8'>\n",
      "experiment/picontrol.json <_io.TextIOWrapper name='experiment/picontrol.json' mode='r' encoding='UTF-8'>\n",
      "experiment/fut_aer.json <_io.TextIOWrapper name='experiment/fut_aer.json' mode='r' encoding='UTF-8'>\n",
      "experiment/historical.json <_io.TextIOWrapper name='experiment/historical.json' mode='r' encoding='UTF-8'>\n",
      "experiment/hist_pisol.json <_io.TextIOWrapper name='experiment/hist_pisol.json' mode='r' encoding='UTF-8'>\n",
      "experiment/hist_pighg.json <_io.TextIOWrapper name='experiment/hist_pighg.json' mode='r' encoding='UTF-8'>\n",
      "experiment/abrupt_4xco2.json <_io.TextIOWrapper name='experiment/abrupt_4xco2.json' mode='r' encoding='UTF-8'>\n",
      "experiment/fut_sol.json <_io.TextIOWrapper name='experiment/fut_sol.json' mode='r' encoding='UTF-8'>\n",
      "experiment/hist_piaer.json <_io.TextIOWrapper name='experiment/hist_piaer.json' mode='r' encoding='UTF-8'>\n",
      "experiment/fut_ghg.json <_io.TextIOWrapper name='experiment/fut_ghg.json' mode='r' encoding='UTF-8'>\n",
      "experiment/hist_nat.json <_io.TextIOWrapper name='experiment/hist_nat.json' mode='r' encoding='UTF-8'>\n",
      "experiment/hist_ghg.json <_io.TextIOWrapper name='experiment/hist_ghg.json' mode='r' encoding='UTF-8'>\n",
      "experiment/hist_sol.json <_io.TextIOWrapper name='experiment/hist_sol.json' mode='r' encoding='UTF-8'>\n",
      "experiment/amip.json <_io.TextIOWrapper name='experiment/amip.json' mode='r' encoding='UTF-8'>\n",
      "experiment/esm_picontrol_spinup.json <_io.TextIOWrapper name='experiment/esm_picontrol_spinup.json' mode='r' encoding='UTF-8'>\n",
      "experiment/hist_pivolc.json <_io.TextIOWrapper name='experiment/hist_pivolc.json' mode='r' encoding='UTF-8'>\n",
      "experiment/hist_totalo3.json <_io.TextIOWrapper name='experiment/hist_totalo3.json' mode='r' encoding='UTF-8'>\n",
      "experiment/hist_volc.json <_io.TextIOWrapper name='experiment/hist_volc.json' mode='r' encoding='UTF-8'>\n",
      "experiment/picontrol_spinup.json <_io.TextIOWrapper name='experiment/picontrol_spinup.json' mode='r' encoding='UTF-8'>\n",
      "experiment/esm_picontrol.json <_io.TextIOWrapper name='experiment/esm_picontrol.json' mode='r' encoding='UTF-8'>\n",
      "experiment/hist_nolu.json <_io.TextIOWrapper name='experiment/hist_nolu.json' mode='r' encoding='UTF-8'>\n"
     ]
    }
   ],
   "source": [
    "# exp = glob.glob('experiment/*.json')\n",
    "\n",
    "# for e in exp:\n",
    "#     try:\n",
    "#         with open(e) as f:\n",
    "            \n",
    "#             print(e,f)\n",
    "#             data = json.load(f)\n",
    "            \n",
    "#             data['@context'] = data['@context'].replace('data_descriptors/','')\n",
    "            \n",
    "#             data['type'] = 'experiment'\n",
    "            \n",
    "#             # data['experiment'] = data['experiment-id'].replace('.json','')\n",
    "#             # now name \n",
    "            \n",
    "#             data['activity'] = [ldid(i['@id'].replace('cmip6plus:activity/','')) for i in data['activity-id']]\n",
    "            \n",
    "#             data['sub_experiment'] = ldid(data['sub-experiment-id']['@id'].replace('cmip6plus:experiment/sub-id/',''),{})\n",
    "            \n",
    "#             data['parameters']['id'] = 'additional_parameters'\n",
    "            \n",
    "#             data['parent_experiment'] = [ldid(i[\"@id\"].split('/')[-1]) if not isinstance(i,str) else ldid('none') for i in data['parent']['experiment-id'] ]\n",
    "            \n",
    "#             data['parent_activity'] = [ldid(i['@id'].split('/')[-1]) if not isinstance(i,str) else ldid('none') for i in data['parent']['activity-id']]\n",
    "            \n",
    "#             data['model_realms'] = {}\n",
    "#             for r in data['model-components']['required']:\n",
    "#                 data['model_realms'][r['@id'].split('/')[-1]] = dict(is_required=True)\n",
    "                \n",
    "#             for a in data['model-components']['additional-allowed']:\n",
    "#                 data['model_realms'][a['@id'].split('/')[-1]] = dict(is_required=False)\n",
    "                \n",
    "            \n",
    "#             del data['activity-id'], data['sub-experiment-id'], data['parent'], data['experiment'], data['model-components']\n",
    "        \n",
    "#         data = OrderedDict(sorted(data.items()))\n",
    "                \n",
    "#         with open(e,'w') as f:\n",
    "#             json.dump(data,f,indent=4)\n",
    "#     except Exception as e:\n",
    "#         print('-----ERROR----',e, data)\n",
    "#         traceback.print_exc()\n",
    "\n",
    "        "
   ]
  },
  {
   "cell_type": "code",
   "execution_count": null,
   "metadata": {},
   "outputs": [],
   "source": []
  },
  {
   "cell_type": "code",
   "execution_count": null,
   "metadata": {},
   "outputs": [],
   "source": []
  }
 ],
 "metadata": {
  "kernelspec": {
   "display_name": "base",
   "language": "python",
   "name": "python3"
  },
  "language_info": {
   "codemirror_mode": {
    "name": "ipython",
    "version": 3
   },
   "file_extension": ".py",
   "mimetype": "text/x-python",
   "name": "python",
   "nbconvert_exporter": "python",
   "pygments_lexer": "ipython3",
   "version": "3.10.10"
  }
 },
 "nbformat": 4,
 "nbformat_minor": 2
}
