{
 "cells": [
  {
   "cell_type": "code",
   "execution_count": 1,
   "metadata": {},
   "outputs": [],
   "source": [
    "\n",
    "'''\n",
    "core MIP entries, generally singular, and do not change often. \n",
    "'''\n",
    "import json \n",
    "\n",
    "repo_ctx = json.load(open('../context.json'))\n",
    "repo_ctx['@depends'] = ['mip-cmor-tables:auxillary/mip_era',]\n",
    "\n",
    "activity=[] \n",
    "\n",
    "from jsonschema import validate,exceptions\n",
    "\n",
    "'''\n",
    "cmip6plus/ activity\n",
    "'''\n",
    "\n",
    "def validate_json(data, schema, name = 'none'):\n",
    "    try:\n",
    "        validate(instance=data, schema=schema)\n",
    "        print(f\"Validation succeeded: {name}\")\n",
    "    except exceptions.ValidationError as err:\n",
    "        print(\"Validation error:\", err.message)"
   ]
  },
  {
   "cell_type": "code",
   "execution_count": 2,
   "metadata": {},
   "outputs": [],
   "source": [
    "\n",
    "schema = {\n",
    "    \"type\": \"object\",\n",
    "    \"properties\": {\n",
    "        \"@id\": {\"type\": \"string\"},\n",
    "        \"@type\": {\"type\": \"string\"},\n",
    "        \"name\": {\n",
    "            \"type\": \"string\",\n",
    "            \"pattern\": \"^[\\\\w]+$\"  # Ensures the name is a single word\n",
    "        },\n",
    "        \"URL\": {\n",
    "            \"type\": \"string\",\n",
    "            \"format\": \"uri\"  # Ensures the URL is a valid URI\n",
    "        },\n",
    "        \"description\": {\"type\": \"string\"}\n",
    "    },\n",
    "    \"required\": [\"@id\", \"@type\", \"name\", \"URL\", \"description\"]\n",
    "}\n",
    "loc = f'./schema.json'\n",
    "json.dump(schema, open(loc,'w'),indent=4)"
   ]
  },
  {
   "cell_type": "code",
   "execution_count": 3,
   "metadata": {},
   "outputs": [],
   "source": [
    "\n",
    "activities = json.load(open('../../CMIP6Plus_activity_id.json'))['activity_id']"
   ]
  },
  {
   "cell_type": "code",
   "execution_count": 4,
   "metadata": {},
   "outputs": [
    {
     "name": "stdout",
     "output_type": "stream",
     "text": [
      "Validation succeeded: CMIP\n",
      "Validation succeeded: LESFMIP\n"
     ]
    }
   ],
   "source": [
    "activity_id = []\n",
    "for a in activities:\n",
    "    values = activities[a]\n",
    "    \n",
    "    data = {\n",
    "        \"@id\": 'cmip6plus:activity/'+a.lower(),\n",
    "        \"@type\": 'mip:activity-id',\n",
    "        \"name\":a,\n",
    "        \"URL\": values['URL'],\n",
    "        \"description\": values['long_name']\n",
    "\n",
    "    }\n",
    "    \n",
    "    validate_json(data,schema,a)\n",
    "\n",
    "    loc = f'./{a.lower()}.json'\n",
    "    json.dump(data, open(loc,'w'),indent=4)\n",
    "        \n",
    "        "
   ]
  },
  {
   "cell_type": "code",
   "execution_count": 5,
   "metadata": {},
   "outputs": [],
   "source": [
    "# ctx = repo_ctx['@context']\n",
    "# ctx.update({\"@vocab\":\"activity-id:\"})\n",
    "# ctx\n",
    "\n",
    "# loc = f'./context.json'\n",
    "# json.dump(ctx, open(loc,'w'),indent=4)"
   ]
  },
  {
   "cell_type": "markdown",
   "metadata": {},
   "source": []
  },
  {
   "cell_type": "code",
   "execution_count": 7,
   "metadata": {},
   "outputs": [
    {
     "name": "stderr",
     "output_type": "stream",
     "text": [
      "rm: context.json: No such file or directory\n"
     ]
    },
    {
     "data": {
      "text/plain": [
       "256"
      ]
     },
     "execution_count": 7,
     "metadata": {},
     "output_type": "execute_result"
    }
   ],
   "source": [
    "frame = {\n",
    "  \"@context\": {\n",
    "    \"@vocab\": \"activity-id:\"\n",
    "  },\n",
    "  \"@type\": \"mip:activity_id\",\n",
    "  \"name\": \"\",\n",
    "  \"URL\": \"\",\n",
    "  \"description\": \"\"\n",
    "}\n",
    "\n",
    "loc = f'./frame.json'\n",
    "json.dump(frame, open(loc,'w'),indent=4)\n",
    "import os \n",
    "os.system('rm context.json')"
   ]
  },
  {
   "cell_type": "code",
   "execution_count": null,
   "metadata": {},
   "outputs": [],
   "source": []
  },
  {
   "cell_type": "code",
   "execution_count": null,
   "metadata": {},
   "outputs": [],
   "source": []
  },
  {
   "cell_type": "code",
   "execution_count": null,
   "metadata": {},
   "outputs": [],
   "source": []
  }
 ],
 "metadata": {
  "kernelspec": {
   "display_name": "base",
   "language": "python",
   "name": "python3"
  },
  "language_info": {
   "codemirror_mode": {
    "name": "ipython",
    "version": 3
   },
   "file_extension": ".py",
   "mimetype": "text/x-python",
   "name": "python",
   "nbconvert_exporter": "python",
   "pygments_lexer": "ipython3",
   "version": "3.10.10"
  }
 },
 "nbformat": 4,
 "nbformat_minor": 2
}
