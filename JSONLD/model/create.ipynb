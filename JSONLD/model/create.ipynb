{
 "cells": [
  {
   "cell_type": "code",
   "execution_count": 2,
   "metadata": {},
   "outputs": [
    {
     "ename": "FileNotFoundError",
     "evalue": "[Errno 2] No such file or directory: '../context.json'",
     "output_type": "error",
     "traceback": [
      "\u001b[0;31m---------------------------------------------------------------------------\u001b[0m",
      "\u001b[0;31mFileNotFoundError\u001b[0m                         Traceback (most recent call last)",
      "Cell \u001b[0;32mIn[2], line 4\u001b[0m\n\u001b[1;32m      1\u001b[0m \u001b[38;5;28;01mimport\u001b[39;00m \u001b[38;5;21;01mjson\u001b[39;00m \n\u001b[1;32m      2\u001b[0m components \u001b[38;5;241m=\u001b[39m []\n\u001b[0;32m----> 4\u001b[0m repo_ctx \u001b[38;5;241m=\u001b[39m json\u001b[38;5;241m.\u001b[39mload(\u001b[38;5;28;43mopen\u001b[39;49m\u001b[43m(\u001b[49m\u001b[38;5;124;43m'\u001b[39;49m\u001b[38;5;124;43m../context.json\u001b[39;49m\u001b[38;5;124;43m'\u001b[39;49m\u001b[43m)\u001b[49m)\n",
      "File \u001b[0;32m~/customlib/homebrew/Caskroom/mambaforge/base/lib/python3.10/site-packages/IPython/core/interactiveshell.py:310\u001b[0m, in \u001b[0;36m_modified_open\u001b[0;34m(file, *args, **kwargs)\u001b[0m\n\u001b[1;32m    303\u001b[0m \u001b[38;5;28;01mif\u001b[39;00m file \u001b[38;5;129;01min\u001b[39;00m {\u001b[38;5;241m0\u001b[39m, \u001b[38;5;241m1\u001b[39m, \u001b[38;5;241m2\u001b[39m}:\n\u001b[1;32m    304\u001b[0m     \u001b[38;5;28;01mraise\u001b[39;00m \u001b[38;5;167;01mValueError\u001b[39;00m(\n\u001b[1;32m    305\u001b[0m         \u001b[38;5;124mf\u001b[39m\u001b[38;5;124m\"\u001b[39m\u001b[38;5;124mIPython won\u001b[39m\u001b[38;5;124m'\u001b[39m\u001b[38;5;124mt let you open fd=\u001b[39m\u001b[38;5;132;01m{\u001b[39;00mfile\u001b[38;5;132;01m}\u001b[39;00m\u001b[38;5;124m by default \u001b[39m\u001b[38;5;124m\"\u001b[39m\n\u001b[1;32m    306\u001b[0m         \u001b[38;5;124m\"\u001b[39m\u001b[38;5;124mas it is likely to crash IPython. If you know what you are doing, \u001b[39m\u001b[38;5;124m\"\u001b[39m\n\u001b[1;32m    307\u001b[0m         \u001b[38;5;124m\"\u001b[39m\u001b[38;5;124myou can use builtins\u001b[39m\u001b[38;5;124m'\u001b[39m\u001b[38;5;124m open.\u001b[39m\u001b[38;5;124m\"\u001b[39m\n\u001b[1;32m    308\u001b[0m     )\n\u001b[0;32m--> 310\u001b[0m \u001b[38;5;28;01mreturn\u001b[39;00m \u001b[43mio_open\u001b[49m\u001b[43m(\u001b[49m\u001b[43mfile\u001b[49m\u001b[43m,\u001b[49m\u001b[43m \u001b[49m\u001b[38;5;241;43m*\u001b[39;49m\u001b[43margs\u001b[49m\u001b[43m,\u001b[49m\u001b[43m \u001b[49m\u001b[38;5;241;43m*\u001b[39;49m\u001b[38;5;241;43m*\u001b[39;49m\u001b[43mkwargs\u001b[49m\u001b[43m)\u001b[49m\n",
      "\u001b[0;31mFileNotFoundError\u001b[0m: [Errno 2] No such file or directory: '../context.json'"
     ]
    }
   ],
   "source": [
    "import json \n",
    "components = []\n",
    "\n",
    "repo_ctx = json.load(open('../context.json'))"
   ]
  },
  {
   "cell_type": "code",
   "execution_count": 2,
   "metadata": {},
   "outputs": [],
   "source": [
    "cmip6 = [i['model-component'] for i in list(json.load(open('../../../CMIP6_CVs/CMIP6_source_id.json'))['source_id'].values())]\n",
    "\n",
    "# cmip6[10]"
   ]
  },
  {
   "cell_type": "code",
   "execution_count": 2,
   "metadata": {},
   "outputs": [
    {
     "data": {
      "text/plain": [
       "{'aerosol': {'description': 'UKCA-GLOMAP-mode',\n",
       "  'native_nominal_resolution': '250 km'},\n",
       " 'atmos': {'description': 'MetUM-HadGEM3-GA7.1 (N96; 192 x 144 longitude/latitude; 85 levels; top level 85 km)',\n",
       "  'native_nominal_resolution': '250 km'},\n",
       " 'atmosChem': {'description': 'none', 'native_nominal_resolution': 'none'},\n",
       " 'land': {'description': 'JULES-HadGEM3-GL7.1',\n",
       "  'native_nominal_resolution': '250 km'},\n",
       " 'landIce': {'description': 'none', 'native_nominal_resolution': 'none'},\n",
       " 'ocean': {'description': 'NEMO-HadGEM3-GO6.0 (eORCA1 tripolar primarily 1 deg with meridional refinement down to 1/3 degree in the tropics; 360 x 330 longitude/latitude; 75 levels; top grid cell 0-1 m)',\n",
       "  'native_nominal_resolution': '100 km'},\n",
       " 'ocnBgchem': {'description': 'none', 'native_nominal_resolution': 'none'},\n",
       " 'seaIce': {'description': 'CICE-HadGEM3-GSI8 (eORCA1 tripolar primarily 1 deg; 360 x 330 longitude/latitude)',\n",
       "  'native_nominal_resolution': '100 km'}}"
      ]
     },
     "execution_count": 2,
     "metadata": {},
     "output_type": "execute_result"
    }
   ],
   "source": [
    "\n",
    "import json \n",
    "cmip6plus = [i['model_component'] for i in list(json.load(open('../../CMIP6Plus_source_id.json'))['source_id'].values())]\n",
    "\n",
    "cmip6plus[1]"
   ]
  },
  {
   "cell_type": "code",
   "execution_count": 4,
   "metadata": {},
   "outputs": [],
   "source": [
    "for source in cmip6plus:\n",
    "    for realm in source:\n",
    "        item = source[realm]\n",
    "        if item['description'] == 'none':\n",
    "            continue\n",
    "        \n",
    "        id = item['description'].split(\" (\")[0].replace(' ','_')\n",
    "        res = item['native_nominal_resolution'].replace(' ','')\n",
    "        \n",
    "        model = {\n",
    "            \"@id\": f\"cmip6plus:model/component/\"+id.lower().replace('_','-'),\n",
    "            \"@type\": \"model-component\",\n",
    "            \"id\":id,\n",
    "            \"description\":item['description'],\n",
    "            \"nominal-resolution\":{\n",
    "        \"@id\": f\"cmip6plus:model/nominal-resolution/{res}\"},\n",
    "            \"version\":-999,   \n",
    "            \"realm\":{\n",
    "        \"@id\": f\"mip-cmor-tables:auxillary/realms/{realm}\"},\n",
    "            # \"model-component:mips\": {\n",
    "            #     \"@container\": \"@set\",\n",
    "            #     \"@value\": [\n",
    "            #         {\"@id\": f\"cmip:CMIP6Plus\"},\n",
    "            #     ]\n",
    "            #     }\n",
    "        }\n",
    "\n",
    "        \n",
    "        \n",
    "        loc = f\"./components/{id.lower().replace('_','-')}.json\"\n",
    "        json.dump(model, open(loc,'w'),indent=4)\n",
    "        \n",
    "        \n",
    "        \n",
    "ctx = repo_ctx['@context'].copy()\n",
    "ctx.update({\"@vocab\":\"model-component\",\n",
    "            # \"@depends\":[],\n",
    "        })\n",
    "# loc = f'./components/context.json'\n",
    "# json.dump({'@context':ctx}, open(loc,'w'),indent=4)"
   ]
  },
  {
   "cell_type": "code",
   "execution_count": null,
   "metadata": {},
   "outputs": [],
   "source": []
  },
  {
   "cell_type": "code",
   "execution_count": 5,
   "metadata": {},
   "outputs": [
    {
     "ename": "FileNotFoundError",
     "evalue": "[Errno 2] No such file or directory: './realms/aerosol.json'",
     "output_type": "error",
     "traceback": [
      "\u001b[0;31m---------------------------------------------------------------------------\u001b[0m",
      "\u001b[0;31mFileNotFoundError\u001b[0m                         Traceback (most recent call last)",
      "Cell \u001b[0;32mIn[5], line 31\u001b[0m\n\u001b[1;32m     14\u001b[0m         rl \u001b[38;5;241m=\u001b[39m {\n\u001b[1;32m     15\u001b[0m             \u001b[38;5;124m\"\u001b[39m\u001b[38;5;124m@id\u001b[39m\u001b[38;5;124m\"\u001b[39m: \u001b[38;5;124mf\u001b[39m\u001b[38;5;124m\"\u001b[39m\u001b[38;5;124mmip-cmor-tables:auxillary/realms/\u001b[39m\u001b[38;5;124m\"\u001b[39m\u001b[38;5;241m+\u001b[39mrealm,\n\u001b[1;32m     16\u001b[0m             \u001b[38;5;124m\"\u001b[39m\u001b[38;5;124m@type\u001b[39m\u001b[38;5;124m\"\u001b[39m: \u001b[38;5;124m\"\u001b[39m\u001b[38;5;124mcmip:realm\u001b[39m\u001b[38;5;124m\"\u001b[39m,\n\u001b[0;32m   (...)\u001b[0m\n\u001b[1;32m     27\u001b[0m             \u001b[38;5;66;03m#                 }\u001b[39;00m\n\u001b[1;32m     28\u001b[0m         }\n\u001b[1;32m     30\u001b[0m         loc \u001b[38;5;241m=\u001b[39m \u001b[38;5;124mf\u001b[39m\u001b[38;5;124m'\u001b[39m\u001b[38;5;124m./realms/\u001b[39m\u001b[38;5;132;01m{\u001b[39;00mrealm\u001b[38;5;132;01m}\u001b[39;00m\u001b[38;5;124m.json\u001b[39m\u001b[38;5;124m'\u001b[39m\n\u001b[0;32m---> 31\u001b[0m         json\u001b[38;5;241m.\u001b[39mdump(rl, \u001b[38;5;28;43mopen\u001b[39;49m\u001b[43m(\u001b[49m\u001b[43mloc\u001b[49m\u001b[43m,\u001b[49m\u001b[38;5;124;43m'\u001b[39;49m\u001b[38;5;124;43mw\u001b[39;49m\u001b[38;5;124;43m'\u001b[39;49m\u001b[43m)\u001b[49m,indent\u001b[38;5;241m=\u001b[39m\u001b[38;5;241m4\u001b[39m)\n\u001b[1;32m     34\u001b[0m     \u001b[38;5;28;01mbreak\u001b[39;00m\n\u001b[1;32m     38\u001b[0m ctx \u001b[38;5;241m=\u001b[39m repo_ctx[\u001b[38;5;124m'\u001b[39m\u001b[38;5;124m@context\u001b[39m\u001b[38;5;124m'\u001b[39m]\u001b[38;5;241m.\u001b[39mcopy()\n",
      "File \u001b[0;32m~/customlib/homebrew/Caskroom/mambaforge/base/lib/python3.10/site-packages/IPython/core/interactiveshell.py:310\u001b[0m, in \u001b[0;36m_modified_open\u001b[0;34m(file, *args, **kwargs)\u001b[0m\n\u001b[1;32m    303\u001b[0m \u001b[38;5;28;01mif\u001b[39;00m file \u001b[38;5;129;01min\u001b[39;00m {\u001b[38;5;241m0\u001b[39m, \u001b[38;5;241m1\u001b[39m, \u001b[38;5;241m2\u001b[39m}:\n\u001b[1;32m    304\u001b[0m     \u001b[38;5;28;01mraise\u001b[39;00m \u001b[38;5;167;01mValueError\u001b[39;00m(\n\u001b[1;32m    305\u001b[0m         \u001b[38;5;124mf\u001b[39m\u001b[38;5;124m\"\u001b[39m\u001b[38;5;124mIPython won\u001b[39m\u001b[38;5;124m'\u001b[39m\u001b[38;5;124mt let you open fd=\u001b[39m\u001b[38;5;132;01m{\u001b[39;00mfile\u001b[38;5;132;01m}\u001b[39;00m\u001b[38;5;124m by default \u001b[39m\u001b[38;5;124m\"\u001b[39m\n\u001b[1;32m    306\u001b[0m         \u001b[38;5;124m\"\u001b[39m\u001b[38;5;124mas it is likely to crash IPython. If you know what you are doing, \u001b[39m\u001b[38;5;124m\"\u001b[39m\n\u001b[1;32m    307\u001b[0m         \u001b[38;5;124m\"\u001b[39m\u001b[38;5;124myou can use builtins\u001b[39m\u001b[38;5;124m'\u001b[39m\u001b[38;5;124m open.\u001b[39m\u001b[38;5;124m\"\u001b[39m\n\u001b[1;32m    308\u001b[0m     )\n\u001b[0;32m--> 310\u001b[0m \u001b[38;5;28;01mreturn\u001b[39;00m \u001b[43mio_open\u001b[49m\u001b[43m(\u001b[49m\u001b[43mfile\u001b[49m\u001b[43m,\u001b[49m\u001b[43m \u001b[49m\u001b[38;5;241;43m*\u001b[39;49m\u001b[43margs\u001b[49m\u001b[43m,\u001b[49m\u001b[43m \u001b[49m\u001b[38;5;241;43m*\u001b[39;49m\u001b[38;5;241;43m*\u001b[39;49m\u001b[43mkwargs\u001b[49m\u001b[43m)\u001b[49m\n",
      "\u001b[0;31mFileNotFoundError\u001b[0m: [Errno 2] No such file or directory: './realms/aerosol.json'"
     ]
    }
   ],
   "source": [
    "\n",
    "\n",
    "realms ={\n",
    "        \"aerosol\":\"Aerosol\",\n",
    "        \"atmos\":\"Atmosphere\",\n",
    "        \"atmosChem\":\"Atmospheric Chemistry\",\n",
    "        \"land\":\"Land Surface\",\n",
    "        \"landIce\":\"Land Ice\",\n",
    "        \"ocean\":\"Ocean\",\n",
    "        \"ocnBgchem\":\"Ocean Biogeochemistry\",\n",
    "        \"seaIce\":\"Sea Ice\"\n",
    "    }\n",
    "\n",
    "for source in cmip6plus:\n",
    "    for realm in source:\n",
    "        rl = {\n",
    "            \"@id\": f\"mip-cmor-tables:auxillary/realms/\"+realm,\n",
    "            \"@type\": \"cmip:realm\",\n",
    "            \"realm:name\":realm,\n",
    "            \"realm:description\":realms[realm],\n",
    "            # \"realm:mips\": {\n",
    "            #                 \"@container\": \"@set\",\n",
    "            #                 \"@value\": [\n",
    "            #                     'MIP:CMIP6Plus','MIP:CMIP6'\n",
    "            #                     # {\"@id\":f\"MIP:CMIP6Plus\"},\n",
    "            #                     # {\"@id\": f\"MIP:CMIP6\"},\n",
    "            #                     # {\"@id\": f\"MIP:CMIP5\"}\n",
    "            #                 ]\n",
    "            #                 }\n",
    "        }\n",
    "\n",
    "        loc = f'./realms/{realm}.json'\n",
    "        json.dump(rl, open(loc,'w'),indent=4)\n",
    "        \n",
    "        \n",
    "    break\n",
    "\n",
    "    \n",
    "        \n",
    "ctx = repo_ctx['@context'].copy()\n",
    "ctx.update({\"@vocab\":\"realm:\",\n",
    "            # \"@depends\":[],\n",
    "        })\n",
    "loc = f'./realms/context.json'\n",
    "json.dump({'@context':ctx}, open(loc,'w'),indent=4)"
   ]
  },
  {
   "cell_type": "code",
   "execution_count": 3,
   "metadata": {},
   "outputs": [],
   "source": [
    "\n",
    "for source in cmip6plus:\n",
    "    for realm in source:\n",
    "        item = source[realm]\n",
    "        if item['description'] == 'none':\n",
    "            continue\n",
    "        \n",
    "        try: \n",
    "            res = item['native_nominal_resolution'].replace(' ','')\n",
    "            num,unit = item['native_nominal_resolution'].split(' ')\n",
    "            \n",
    "            nnm = {\n",
    "                \"@id\": f\"mip-cmor-tables:auxillary/native-nominal-resolution/\"+res,\n",
    "                \"@type\": \"mip:native-nominal-resolution\",\n",
    "                \"value\":num,\n",
    "                \"cf:unit\":{\"@id\": f\"si:{unit}\"},\n",
    "            }\n",
    "\n",
    "            \n",
    "            \n",
    "            loc = f'./native-nominal-resolution/{res}.json'\n",
    "            json.dump(nnm, open(loc,'w'),indent=4)\n",
    "        except:\n",
    "            ...\n",
    "\n",
    "\n",
    "        \n",
    "# ctx = repo_ctx['@context'].copy()\n",
    "# # ctx.update({\"@vocab\":\"nnr:\",\n",
    "#             # \"@depends\":[],\n",
    "#         # })\n",
    "# loc = f'./native_nominal_resolution/context.json'\n",
    "# json.dump({'@context':ctx}, open(loc,'w'),indent=4)"
   ]
  },
  {
   "cell_type": "code",
   "execution_count": null,
   "metadata": {},
   "outputs": [],
   "source": []
  },
  {
   "cell_type": "code",
   "execution_count": null,
   "metadata": {},
   "outputs": [],
   "source": [
    "src_schema = {}"
   ]
  },
  {
   "cell_type": "code",
   "execution_count": null,
   "metadata": {},
   "outputs": [],
   "source": []
  },
  {
   "cell_type": "code",
   "execution_count": null,
   "metadata": {},
   "outputs": [],
   "source": []
  },
  {
   "cell_type": "code",
   "execution_count": null,
   "metadata": {},
   "outputs": [],
   "source": []
  },
  {
   "cell_type": "code",
   "execution_count": null,
   "metadata": {},
   "outputs": [],
   "source": []
  },
  {
   "cell_type": "code",
   "execution_count": null,
   "metadata": {},
   "outputs": [],
   "source": []
  }
 ],
 "metadata": {
  "kernelspec": {
   "display_name": "base",
   "language": "python",
   "name": "python3"
  },
  "language_info": {
   "codemirror_mode": {
    "name": "ipython",
    "version": 3
   },
   "file_extension": ".py",
   "mimetype": "text/x-python",
   "name": "python",
   "nbconvert_exporter": "python",
   "pygments_lexer": "ipython3",
   "version": "3.10.10"
  }
 },
 "nbformat": 4,
 "nbformat_minor": 2
}
