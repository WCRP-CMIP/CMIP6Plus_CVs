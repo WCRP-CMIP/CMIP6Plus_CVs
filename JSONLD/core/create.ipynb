{
 "cells": [
  {
   "cell_type": "code",
   "execution_count": 1,
   "metadata": {},
   "outputs": [],
   "source": [
    "\n",
    "'''\n",
    "core MIP entries, generally singular, and do not change often. \n",
    "'''\n",
    "import json \n",
    "\n",
    "repo_ctx = json.load(open('../context.json'))\n",
    "repo_ctx['@depends'] = ['mip-cmor-tables/JSONLD/auxillary/mip_era',]\n",
    "\n",
    "core = []\n",
    "core_ctx = []\n",
    "core_schema = {}\n",
    "\n",
    "from jsonschema import validate,exceptions\n",
    "\n",
    "'''\n",
    "mip-cmor-tables/auxillary\n",
    "'''\n",
    "\n",
    "def validate_json(data, schema, name = 'none'):\n",
    "    try:\n",
    "        validate(instance=data, schema=schema)\n",
    "        print(f\"Validation succeeded: {name}\")\n",
    "    except exceptions.ValidationError as err:\n",
    "        print(\"Validation error:\", err.message)"
   ]
  },
  {
   "cell_type": "code",
   "execution_count": 2,
   "metadata": {},
   "outputs": [],
   "source": [
    "schema = {\n",
    "    \n",
    "    \"type\": \"array\",\n",
    "    \"items\": {\n",
    "        \"type\": \"object\",\n",
    "        \"properties\": {\n",
    "            \"@id\": {\"type\": \"string\"},\n",
    "            \"@type\": {\"type\": \"string\"},\n",
    "            \"core:tracking_id\": {\"type\": \"string\"},\n",
    "            # \"core:license\": {\"type\": \"string\"},\n",
    "            \"core:required_global_attributes\": {\n",
    "                \"type\": \"object\",\n",
    "                \"properties\": {\n",
    "                    \"@list\": {\n",
    "                        \"type\": \"array\",\n",
    "                        \"items\": {\"type\": \"string\"}\n",
    "                    }\n",
    "                },\n",
    "                \"required\": [\"@list\"]\n",
    "            }\n",
    "        }\n",
    "    }\n",
    "}\n",
    "loc = f'./schema.json'\n",
    "json.dump(schema, open(loc,'w'),indent=4)"
   ]
  },
  {
   "cell_type": "code",
   "execution_count": 3,
   "metadata": {},
   "outputs": [],
   "source": [
    "\n",
    "# already defined earlier \n",
    "\n",
    "\n",
    "mip_era = {\"@id\": \"mip-cmor-tables:auxillary/mip-era/cmip6plus\"}\n",
    "core.append(mip_era)\n",
    "\n",
    "json.dump(mip_era, open('mip-era.json','w'),indent=4)\n"
   ]
  },
  {
   "cell_type": "code",
   "execution_count": 4,
   "metadata": {},
   "outputs": [],
   "source": [
    "tracking_id = {\n",
    "        \"@id\":'cmip6plus:core/tracking-id',\n",
    "        \"tracking-id\": \"hdl:21.14100/.*\"\n",
    "}\n",
    "core.append(tracking_id)\n",
    "json.dump(tracking_id, open('tracking-id.json','w'),indent=4)"
   ]
  },
  {
   "cell_type": "code",
   "execution_count": null,
   "metadata": {},
   "outputs": [],
   "source": []
  },
  {
   "cell_type": "code",
   "execution_count": 9,
   "metadata": {},
   "outputs": [],
   "source": [
    "required = [f\"mip:{i.lower().replace('_','-') }\" for i in [\n",
    "        \"Conventions\",\n",
    "        \"activity_id\",\n",
    "        \"creation_date\",\n",
    "        \"data_specs_version\",\n",
    "        \"experiment\",\n",
    "        \"experiment_id\",\n",
    "        \"forcing_index\",\n",
    "        \"frequency\",\n",
    "        \"grid\",\n",
    "        \"grid_label\",\n",
    "        \"initialization_index\",\n",
    "        \"institution\",\n",
    "        \"institution_id\",\n",
    "        \"license\",\n",
    "        \"mip_era\",\n",
    "        \"nominal_resolution\",\n",
    "        \"physics_index\",\n",
    "        \"realization_index\",\n",
    "        \"realm\",\n",
    "        \"source\",\n",
    "        \"source_id\",\n",
    "        \"source_type\",\n",
    "        \"sub_experiment\",\n",
    "        \"sub_experiment_id\",\n",
    "        \"table_id\",\n",
    "        \"tracking_id\",\n",
    "        \"variable_id\",\n",
    "        \"variant_label\"\n",
    "    ]\n",
    "]\n",
    "\n",
    "\n",
    "\n",
    "required_global_attributes = {\n",
    "    \"@id\":\"cmip6plus:core/required-global-attributes\",\n",
    "    \"@type\":\"required-global-attributes\",\n",
    "    \"mip\" : {\"@id\":\"mip-cmor-tables:auxillary/mip-era/cmip6plus\"},\n",
    "    \"required-global-attributes\":{\n",
    "    \"@list\": required\n",
    "    }\n",
    "}\n",
    "\n",
    "core.append(required_global_attributes)\n",
    "json.dump(required_global_attributes, open('required-global-attributes.json','w'),indent=4)"
   ]
  },
  {
   "cell_type": "code",
   "execution_count": 6,
   "metadata": {},
   "outputs": [
    {
     "name": "stdout",
     "output_type": "stream",
     "text": [
      "Validation succeeded: core\n"
     ]
    }
   ],
   "source": [
    "validate_json(core,schema,'core')\n",
    "\n",
    "# loc = f'./core.json'\n",
    "# json.dump(core, open(loc,'w'),indent=4)"
   ]
  },
  {
   "cell_type": "code",
   "execution_count": 7,
   "metadata": {},
   "outputs": [],
   "source": [
    "ctx = {\"@context\":{\"@vocab\":\"core:\",\n",
    "                   \"@base\":\"https://github.com/WCRP-CMIP/CMIP6Plus_CVs/\",\n",
    "                #    basepath\n",
    "}}\n",
    "\n",
    "loc = f'./context.json'\n",
    "json.dump(ctx, open(loc,'w'),indent=4)"
   ]
  },
  {
   "cell_type": "code",
   "execution_count": 8,
   "metadata": {},
   "outputs": [
    {
     "data": {
      "text/plain": [
       "0"
      ]
     },
     "execution_count": 8,
     "metadata": {},
     "output_type": "execute_result"
    }
   ],
   "source": [
    "frame = {\n",
    "  \"@context\": {\n",
    "    \"@vocab\": \"core\"\n",
    "  }\n",
    "}\n",
    "\n",
    "loc = f'./frame.json'\n",
    "json.dump(frame, open(loc,'w'),indent=4)\n",
    "import os \n",
    "os.system('rm context.json')"
   ]
  },
  {
   "cell_type": "code",
   "execution_count": null,
   "metadata": {},
   "outputs": [],
   "source": []
  },
  {
   "cell_type": "code",
   "execution_count": null,
   "metadata": {},
   "outputs": [],
   "source": []
  },
  {
   "cell_type": "code",
   "execution_count": null,
   "metadata": {},
   "outputs": [],
   "source": []
  }
 ],
 "metadata": {
  "kernelspec": {
   "display_name": "base",
   "language": "python",
   "name": "python3"
  },
  "language_info": {
   "codemirror_mode": {
    "name": "ipython",
    "version": 3
   },
   "file_extension": ".py",
   "mimetype": "text/x-python",
   "name": "python",
   "nbconvert_exporter": "python",
   "pygments_lexer": "ipython3",
   "version": "3.10.10"
  }
 },
 "nbformat": 4,
 "nbformat_minor": 2
}
