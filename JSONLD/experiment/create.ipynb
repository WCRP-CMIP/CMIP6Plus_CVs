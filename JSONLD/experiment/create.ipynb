{
 "cells": [
  {
   "cell_type": "code",
   "execution_count": 2,
   "metadata": {},
   "outputs": [],
   "source": [
    "\n",
    "'''\n",
    "core MIP entries, generally singular, and do not change often. \n",
    "'''\n",
    "import json \n",
    "\n"
   ]
  },
  {
   "cell_type": "code",
   "execution_count": null,
   "metadata": {},
   "outputs": [],
   "source": []
  },
  {
   "cell_type": "code",
   "execution_count": 3,
   "metadata": {},
   "outputs": [
    {
     "data": {
      "text/plain": [
       "{'activity_id': ['CMIP'],\n",
       " 'additional_allowed_model_components': ['AER', 'CHEM', 'BGC'],\n",
       " 'description': 'DECK: 1pctCO2',\n",
       " 'end': '',\n",
       " 'experiment': '1 percent per year increase in CO2',\n",
       " 'experiment_id': '1pctCO2',\n",
       " 'min_number_yrs_per_sim': 150,\n",
       " 'parent_activity_id': ['CMIP'],\n",
       " 'parent_experiment_id': ['piControl'],\n",
       " 'required_model_components': ['AOGCM'],\n",
       " 'start': '',\n",
       " 'sub_experiment_id': ['none'],\n",
       " 'tier': 1}"
      ]
     },
     "execution_count": 3,
     "metadata": {},
     "output_type": "execute_result"
    }
   ],
   "source": [
    "experiment = json.load(open('../../CMIP6Plus_experiment_id.json'))['experiment_id']\n",
    "list(experiment.values())[0]"
   ]
  },
  {
   "cell_type": "code",
   "execution_count": 6,
   "metadata": {},
   "outputs": [
    {
     "name": "stdout",
     "output_type": "stream",
     "text": [
      "{'parameters': {'start': -999, 'end': -999, 'min_number_yrs_per_sim': 150}, 'parent': {'activity-id': [{'@id': 'cmip6plus:activity/cmip'}], 'experiment-id': [{'@id': 'cmip6:experiment/id/picontrol'}]}, 'sub-experiment-id': {'@id': 'cmip6plus:experiment/sub-id/none'}, 'tier': 1, '@id': 'cmip6plus:experiment/id/1pctco2', '@type': 'experiment-id', 'activity-id': [{'@id': 'cmip6plus:activity/cmip'}], 'description': 'DECK: 1pctCO2', 'experiment': '1 percent per year increase in CO2', 'name': '1pctCO2', 'model-components': {'additional-allowed': [{'@id': 'mip-cmor-tables:auxillary/source-type/aer'}, {'@id': 'mip-cmor-tables:auxillary/source-type/chem'}, {'@id': 'mip-cmor-tables:auxillary/source-type/bgc'}], 'required': [{'@id': 'mip-cmor-tables:auxillary/source-type/aogcm'}]}}\n",
      "{'parameters': {'start': -999, 'end': -999, 'min_number_yrs_per_sim': 150}, 'parent': {'activity-id': [{'@id': 'cmip6plus:activity/cmip'}], 'experiment-id': [{'@id': 'cmip6:experiment/id/picontrol'}]}, 'sub-experiment-id': {'@id': 'cmip6plus:experiment/sub-id/none'}, 'tier': 1, '@id': 'cmip6plus:experiment/id/abrupt-4xco2', '@type': 'experiment-id', 'activity-id': [{'@id': 'cmip6plus:activity/cmip'}], 'description': 'DECK: abrupt-4xCO2', 'experiment': 'abrupt quadrupling of CO2', 'name': 'abrupt-4xCO2', 'model-components': {'additional-allowed': [{'@id': 'mip-cmor-tables:auxillary/source-type/aer'}, {'@id': 'mip-cmor-tables:auxillary/source-type/chem'}, {'@id': 'mip-cmor-tables:auxillary/source-type/bgc'}], 'required': [{'@id': 'mip-cmor-tables:auxillary/source-type/aogcm'}]}}\n",
      "{'parameters': {'start': 1979, 'end': 2022, 'min_number_yrs_per_sim': 43}, 'parent': {'activity-id': [{'@id': 'cmip6plus:activity/no parent'}], 'experiment-id': [{'@id': 'cmip6:experiment/id/no parent'}]}, 'sub-experiment-id': {'@id': 'cmip6plus:experiment/sub-id/none'}, 'tier': 1, '@id': 'cmip6plus:experiment/id/amip', '@type': 'experiment-id', 'activity-id': [{'@id': 'cmip6plus:activity/cmip'}], 'description': 'DECK: AMIP', 'experiment': 'AMIP', 'name': 'amip', 'model-components': {'additional-allowed': [{'@id': 'mip-cmor-tables:auxillary/source-type/aer'}, {'@id': 'mip-cmor-tables:auxillary/source-type/chem'}, {'@id': 'mip-cmor-tables:auxillary/source-type/bgc'}], 'required': [{'@id': 'mip-cmor-tables:auxillary/source-type/agcm'}]}}\n",
      "{'parameters': {'start': 1850, 'end': 2014, 'min_number_yrs_per_sim': 165}, 'parent': {'activity-id': [{'@id': 'cmip6plus:activity/cmip'}], 'experiment-id': [{'@id': 'cmip6:experiment/id/esm-picontrol'}]}, 'sub-experiment-id': {'@id': 'cmip6plus:experiment/sub-id/none'}, 'tier': 1, '@id': 'cmip6plus:experiment/id/esm-hist', '@type': 'experiment-id', 'activity-id': [{'@id': 'cmip6plus:activity/cmip'}], 'description': 'CMIP6 historical (CO2 emission-driven)', 'experiment': 'all-forcing simulation of the recent past with atmospheric CO2 concentration calculated (CO2 emission-driven)', 'name': 'esm-hist', 'model-components': {'additional-allowed': [{'@id': 'mip-cmor-tables:auxillary/source-type/aer'}, {'@id': 'mip-cmor-tables:auxillary/source-type/chem'}], 'required': [{'@id': 'mip-cmor-tables:auxillary/source-type/aogcm'}, {'@id': 'mip-cmor-tables:auxillary/source-type/bgc'}]}}\n",
      "{'parameters': {'start': -999, 'end': -999, 'min_number_yrs_per_sim': 500}, 'parent': {'activity-id': [{'@id': 'cmip6plus:activity/cmip'}], 'experiment-id': [{'@id': 'cmip6:experiment/id/esm-picontrol-spinup'}]}, 'sub-experiment-id': {'@id': 'cmip6plus:experiment/sub-id/none'}, 'tier': 1, '@id': 'cmip6plus:experiment/id/esm-picontrol', '@type': 'experiment-id', 'activity-id': [{'@id': 'cmip6plus:activity/cmip'}], 'description': 'DECK: control (emission-driven)', 'experiment': 'pre-industrial control simulation with preindustrial CO2 emissions defined (CO2 emission-driven)', 'name': 'esm-piControl', 'model-components': {'additional-allowed': [{'@id': 'mip-cmor-tables:auxillary/source-type/aer'}, {'@id': 'mip-cmor-tables:auxillary/source-type/chem'}], 'required': [{'@id': 'mip-cmor-tables:auxillary/source-type/aogcm'}, {'@id': 'mip-cmor-tables:auxillary/source-type/bgc'}]}}\n",
      "{'parameters': {'start': -999, 'end': -999, 'min_number_yrs_per_sim': 100}, 'parent': {'activity-id': [{'@id': 'cmip6plus:activity/no parent'}], 'experiment-id': [{'@id': 'cmip6:experiment/id/no parent'}]}, 'sub-experiment-id': {'@id': 'cmip6plus:experiment/sub-id/none'}, 'tier': 2, '@id': 'cmip6plus:experiment/id/esm-picontrol-spinup', '@type': 'experiment-id', 'activity-id': [{'@id': 'cmip6plus:activity/cmip'}], 'description': 'DECK: spin-up portion of the control (emission-driven)', 'experiment': 'pre-industrial control simulation with CO2 concentration calculated (spin-up)', 'name': 'esm-piControl-spinup', 'model-components': {'additional-allowed': [{'@id': 'mip-cmor-tables:auxillary/source-type/aer'}, {'@id': 'mip-cmor-tables:auxillary/source-type/chem'}], 'required': [{'@id': 'mip-cmor-tables:auxillary/source-type/aogcm'}, {'@id': 'mip-cmor-tables:auxillary/source-type/bgc'}]}}\n",
      "{'parameters': {'start': 2015, 'end': 2024, 'min_number_yrs_per_sim': 'none'}, 'parent': {'activity-id': [{'@id': 'cmip6plus:activity/lesfmip'}], 'experiment-id': [{'@id': 'cmip6:experiment/id/hist-aer'}]}, 'sub-experiment-id': {'@id': 'cmip6plus:experiment/sub-id/f2023'}, 'tier': 2, '@id': 'cmip6plus:experiment/id/fut-aer', '@type': 'experiment-id', 'activity-id': [{'@id': 'cmip6plus:activity/lesfmip'}], 'description': 'As hist-aer but with updated forcings', 'experiment': 'future anthropogenic aerosols-only run', 'name': 'fut-Aer', 'model-components': {'additional-allowed': [{'@id': 'mip-cmor-tables:auxillary/source-type/aer'}, {'@id': 'mip-cmor-tables:auxillary/source-type/chem'}, {'@id': 'mip-cmor-tables:auxillary/source-type/bgc'}], 'required': [{'@id': 'mip-cmor-tables:auxillary/source-type/aogcm'}]}}\n",
      "{'parameters': {'start': 2015, 'end': 2024, 'min_number_yrs_per_sim': 'none'}, 'parent': {'activity-id': [{'@id': 'cmip6plus:activity/lesfmip'}], 'experiment-id': [{'@id': 'cmip6:experiment/id/hist-ghg'}]}, 'sub-experiment-id': {'@id': 'cmip6plus:experiment/sub-id/f2023'}, 'tier': 2, '@id': 'cmip6plus:experiment/id/fut-ghg', '@type': 'experiment-id', 'activity-id': [{'@id': 'cmip6plus:activity/lesfmip'}], 'description': 'As hist-GHG but with updated forcings', 'experiment': 'future well-mixed GHG-only run', 'name': 'fut-GHG', 'model-components': {'additional-allowed': [{'@id': 'mip-cmor-tables:auxillary/source-type/aer'}, {'@id': 'mip-cmor-tables:auxillary/source-type/chem'}, {'@id': 'mip-cmor-tables:auxillary/source-type/bgc'}], 'required': [{'@id': 'mip-cmor-tables:auxillary/source-type/aogcm'}]}}\n",
      "{'parameters': {'start': 2015, 'end': 2024, 'min_number_yrs_per_sim': 'none'}, 'parent': {'activity-id': [{'@id': 'cmip6plus:activity/cmip'}], 'experiment-id': [{'@id': 'cmip6:experiment/id/picontrol'}]}, 'sub-experiment-id': {'@id': 'cmip6plus:experiment/sub-id/f2023'}, 'tier': 2, '@id': 'cmip6plus:experiment/id/fut-lu', '@type': 'experiment-id', 'activity-id': [{'@id': 'cmip6plus:activity/lesfmip'}], 'description': 'As hist-lu but with updated forcings', 'experiment': 'Single forcing projections', 'name': 'fut-lu', 'model-components': {'additional-allowed': [{'@id': 'mip-cmor-tables:auxillary/source-type/aer'}, {'@id': 'mip-cmor-tables:auxillary/source-type/chem'}, {'@id': 'mip-cmor-tables:auxillary/source-type/bgc'}], 'required': [{'@id': 'mip-cmor-tables:auxillary/source-type/aogcm'}]}}\n",
      "{'parameters': {'start': 2015, 'end': 2024, 'min_number_yrs_per_sim': 'none'}, 'parent': {'activity-id': [{'@id': 'cmip6plus:activity/lesfmip'}], 'experiment-id': [{'@id': 'cmip6:experiment/id/hist-sol'}]}, 'sub-experiment-id': {'@id': 'cmip6plus:experiment/sub-id/f2023'}, 'tier': 2, '@id': 'cmip6plus:experiment/id/fut-sol', '@type': 'experiment-id', 'activity-id': [{'@id': 'cmip6plus:activity/lesfmip'}], 'description': 'As hist-sol but with updated forcings', 'experiment': 'future solar-only run', 'name': 'fut-sol', 'model-components': {'additional-allowed': [{'@id': 'mip-cmor-tables:auxillary/source-type/aer'}, {'@id': 'mip-cmor-tables:auxillary/source-type/chem'}, {'@id': 'mip-cmor-tables:auxillary/source-type/bgc'}], 'required': [{'@id': 'mip-cmor-tables:auxillary/source-type/aogcm'}]}}\n",
      "{'parameters': {'start': 2015, 'end': 2024, 'min_number_yrs_per_sim': 'none'}, 'parent': {'activity-id': [{'@id': 'cmip6plus:activity/lesfmip'}], 'experiment-id': [{'@id': 'cmip6:experiment/id/hist-totalo3'}]}, 'sub-experiment-id': {'@id': 'cmip6plus:experiment/sub-id/f2023'}, 'tier': 2, '@id': 'cmip6plus:experiment/id/fut-totalo3', '@type': 'experiment-id', 'activity-id': [{'@id': 'cmip6plus:activity/lesfmip'}], 'description': 'As hist-totalO3 but with updated forcings', 'experiment': 'future total ozone-only run', 'name': 'fut-totalO3', 'model-components': {'additional-allowed': [{'@id': 'mip-cmor-tables:auxillary/source-type/aer'}, {'@id': 'mip-cmor-tables:auxillary/source-type/chem'}, {'@id': 'mip-cmor-tables:auxillary/source-type/bgc'}], 'required': [{'@id': 'mip-cmor-tables:auxillary/source-type/aogcm'}]}}\n",
      "{'parameters': {'start': 2015, 'end': 2024, 'min_number_yrs_per_sim': 'none'}, 'parent': {'activity-id': [{'@id': 'cmip6plus:activity/lesfmip'}], 'experiment-id': [{'@id': 'cmip6:experiment/id/hist-volc'}]}, 'sub-experiment-id': {'@id': 'cmip6plus:experiment/sub-id/f2023'}, 'tier': 2, '@id': 'cmip6plus:experiment/id/fut-volc', '@type': 'experiment-id', 'activity-id': [{'@id': 'cmip6plus:activity/lesfmip'}], 'description': 'As hist-volc but with updated forcings', 'experiment': 'future volcanic-only run', 'name': 'fut-volc', 'model-components': {'additional-allowed': [{'@id': 'mip-cmor-tables:auxillary/source-type/aer'}, {'@id': 'mip-cmor-tables:auxillary/source-type/chem'}, {'@id': 'mip-cmor-tables:auxillary/source-type/bgc'}], 'required': [{'@id': 'mip-cmor-tables:auxillary/source-type/aogcm'}]}}\n",
      "{'parameters': {'start': 1850, 'end': 2020, 'min_number_yrs_per_sim': 'none'}, 'parent': {'activity-id': [{'@id': 'cmip6plus:activity/cmip'}], 'experiment-id': [{'@id': 'cmip6:experiment/id/picontrol'}]}, 'sub-experiment-id': {'@id': 'cmip6plus:experiment/sub-id/f2023'}, 'tier': 1, '@id': 'cmip6plus:experiment/id/hist-ghg', '@type': 'experiment-id', 'activity-id': [{'@id': 'cmip6plus:activity/lesfmip'}], 'description': 'Well-mixed greenhouse-gas-only historical simulations', 'experiment': 'historical well-mixed GHG-only run', 'name': 'hist-GHG', 'model-components': {'additional-allowed': [{'@id': 'mip-cmor-tables:auxillary/source-type/aer'}, {'@id': 'mip-cmor-tables:auxillary/source-type/chem'}, {'@id': 'mip-cmor-tables:auxillary/source-type/bgc'}], 'required': [{'@id': 'mip-cmor-tables:auxillary/source-type/aogcm'}]}}\n",
      "{'parameters': {'start': 1850, 'end': 2020, 'min_number_yrs_per_sim': 'none'}, 'parent': {'activity-id': [{'@id': 'cmip6plus:activity/cmip'}], 'experiment-id': [{'@id': 'cmip6:experiment/id/picontrol'}]}, 'sub-experiment-id': {'@id': 'cmip6plus:experiment/sub-id/f2023'}, 'tier': 1, '@id': 'cmip6plus:experiment/id/hist-aer', '@type': 'experiment-id', 'activity-id': [{'@id': 'cmip6plus:activity/lesfmip'}], 'description': 'Anthropogenic-aerosol-only historical simulations', 'experiment': 'historical anthropogenic aerosols-only run', 'name': 'hist-aer', 'model-components': {'additional-allowed': [{'@id': 'mip-cmor-tables:auxillary/source-type/aer'}, {'@id': 'mip-cmor-tables:auxillary/source-type/chem'}, {'@id': 'mip-cmor-tables:auxillary/source-type/bgc'}], 'required': [{'@id': 'mip-cmor-tables:auxillary/source-type/aogcm'}]}}\n",
      "{'parameters': {'start': 1850, 'end': 2020, 'min_number_yrs_per_sim': 'none'}, 'parent': {'activity-id': [{'@id': 'cmip6plus:activity/cmip'}], 'experiment-id': [{'@id': 'cmip6:experiment/id/picontrol'}]}, 'sub-experiment-id': {'@id': 'cmip6plus:experiment/sub-id/f2023'}, 'tier': 1, '@id': 'cmip6plus:experiment/id/hist-lu', '@type': 'experiment-id', 'activity-id': [{'@id': 'cmip6plus:activity/lesfmip'}], 'description': 'Historical simulations with only land use changes', 'experiment': 'Single forcing historical simulations', 'name': 'hist-lu', 'model-components': {'additional-allowed': [{'@id': 'mip-cmor-tables:auxillary/source-type/aer'}, {'@id': 'mip-cmor-tables:auxillary/source-type/chem'}, {'@id': 'mip-cmor-tables:auxillary/source-type/bgc'}], 'required': [{'@id': 'mip-cmor-tables:auxillary/source-type/aogcm'}]}}\n",
      "{'parameters': {'start': 1850, 'end': 2020, 'min_number_yrs_per_sim': 'none'}, 'parent': {'activity-id': [{'@id': 'cmip6plus:activity/cmip'}], 'experiment-id': [{'@id': 'cmip6:experiment/id/picontrol'}]}, 'sub-experiment-id': {'@id': 'cmip6plus:experiment/sub-id/f2023'}, 'tier': 3, '@id': 'cmip6plus:experiment/id/hist-nat', '@type': 'experiment-id', 'activity-id': [{'@id': 'cmip6plus:activity/lesfmip'}], 'description': 'Natural forcings (solar + volcanic)', 'experiment': 'historical natural-only run', 'name': 'hist-nat', 'model-components': {'additional-allowed': [{'@id': 'mip-cmor-tables:auxillary/source-type/aer'}, {'@id': 'mip-cmor-tables:auxillary/source-type/chem'}, {'@id': 'mip-cmor-tables:auxillary/source-type/bgc'}], 'required': [{'@id': 'mip-cmor-tables:auxillary/source-type/aogcm'}]}}\n",
      "{'parameters': {'start': 1850, 'end': 2020, 'min_number_yrs_per_sim': 'none'}, 'parent': {'activity-id': [{'@id': 'cmip6plus:activity/cmip'}], 'experiment-id': [{'@id': 'cmip6:experiment/id/picontrol'}]}, 'sub-experiment-id': {'@id': 'cmip6plus:experiment/sub-id/f2023'}, 'tier': 3, '@id': 'cmip6plus:experiment/id/hist-nolu', '@type': 'experiment-id', 'activity-id': [{'@id': 'cmip6plus:activity/lesfmip'}], 'description': 'Same as CMIP6 historical but with land cover held at 1850, no human activity; concentration driven', 'experiment': 'historical with no land-use change', 'name': 'hist-noLu', 'model-components': {'additional-allowed': [{'@id': 'mip-cmor-tables:auxillary/source-type/aer'}, {'@id': 'mip-cmor-tables:auxillary/source-type/chem'}, {'@id': 'mip-cmor-tables:auxillary/source-type/bgc'}], 'required': [{'@id': 'mip-cmor-tables:auxillary/source-type/aogcm'}]}}\n",
      "{'parameters': {'start': 1850, 'end': 2020, 'min_number_yrs_per_sim': 'none'}, 'parent': {'activity-id': [{'@id': 'cmip6plus:activity/cmip'}], 'experiment-id': [{'@id': 'cmip6:experiment/id/picontrol'}]}, 'sub-experiment-id': {'@id': 'cmip6plus:experiment/sub-id/f2023'}, 'tier': 3, '@id': 'cmip6plus:experiment/id/hist-pighg', '@type': 'experiment-id', 'activity-id': [{'@id': 'cmip6plus:activity/lesfmip'}], 'description': 'Pre-industrial WMGHG, halocarbon and O3 precursor emissions, other forcings as for the historical experiment', 'experiment': 'historical forcing but with pre-industrial GHG', 'name': 'hist-piGHG', 'model-components': {'additional-allowed': [{'@id': 'mip-cmor-tables:auxillary/source-type/aer'}, {'@id': 'mip-cmor-tables:auxillary/source-type/chem'}, {'@id': 'mip-cmor-tables:auxillary/source-type/bgc'}], 'required': [{'@id': 'mip-cmor-tables:auxillary/source-type/aogcm'}]}}\n",
      "{'parameters': {'start': 1850, 'end': 2020, 'min_number_yrs_per_sim': 'none'}, 'parent': {'activity-id': [{'@id': 'cmip6plus:activity/cmip'}], 'experiment-id': [{'@id': 'cmip6:experiment/id/picontrol'}]}, 'sub-experiment-id': {'@id': 'cmip6plus:experiment/sub-id/f2023'}, 'tier': 3, '@id': 'cmip6plus:experiment/id/hist-piaer', '@type': 'experiment-id', 'activity-id': [{'@id': 'cmip6plus:activity/lesfmip'}], 'description': 'Historical WMGHG, halocarbon concentrations and O3 precursor emissions, 1850 aerosol precursor emissions.', 'experiment': 'historical forcing, but with pre-industrial aerosol emissions', 'name': 'hist-piAer', 'model-components': {'additional-allowed': [{'@id': 'mip-cmor-tables:auxillary/source-type/aer'}, {'@id': 'mip-cmor-tables:auxillary/source-type/chem'}, {'@id': 'mip-cmor-tables:auxillary/source-type/bgc'}], 'required': [{'@id': 'mip-cmor-tables:auxillary/source-type/aogcm'}]}}\n",
      "{'parameters': {'start': 1850, 'end': 2020, 'min_number_yrs_per_sim': 'none'}, 'parent': {'activity-id': [{'@id': 'cmip6plus:activity/cmip'}], 'experiment-id': [{'@id': 'cmip6:experiment/id/picontrol'}]}, 'sub-experiment-id': {'@id': 'cmip6plus:experiment/sub-id/f2023'}, 'tier': 3, '@id': 'cmip6plus:experiment/id/hist-pisol', '@type': 'experiment-id', 'activity-id': [{'@id': 'cmip6plus:activity/lesfmip'}], 'description': 'historical simulations with 1850 solar forcing', 'experiment': 'historical all-but-solar run', 'name': 'hist-piSol', 'model-components': {'additional-allowed': [{'@id': 'mip-cmor-tables:auxillary/source-type/aer'}, {'@id': 'mip-cmor-tables:auxillary/source-type/chem'}, {'@id': 'mip-cmor-tables:auxillary/source-type/bgc'}], 'required': [{'@id': 'mip-cmor-tables:auxillary/source-type/aogcm'}]}}\n",
      "{'parameters': {'start': 1850, 'end': 2020, 'min_number_yrs_per_sim': 'none'}, 'parent': {'activity-id': [{'@id': 'cmip6plus:activity/cmip'}], 'experiment-id': [{'@id': 'cmip6:experiment/id/picontrol'}]}, 'sub-experiment-id': {'@id': 'cmip6plus:experiment/sub-id/f2023'}, 'tier': 3, '@id': 'cmip6plus:experiment/id/hist-pitotalo3', '@type': 'experiment-id', 'activity-id': [{'@id': 'cmip6plus:activity/lesfmip'}], 'description': 'historical simulations with 1850 total ozone', 'experiment': 'historical all-but-ozone run', 'name': 'hist-piTotalO3', 'model-components': {'additional-allowed': [{'@id': 'mip-cmor-tables:auxillary/source-type/aer'}, {'@id': 'mip-cmor-tables:auxillary/source-type/chem'}, {'@id': 'mip-cmor-tables:auxillary/source-type/bgc'}], 'required': [{'@id': 'mip-cmor-tables:auxillary/source-type/aogcm'}]}}\n",
      "{'parameters': {'start': 1850, 'end': 2020, 'min_number_yrs_per_sim': 'none'}, 'parent': {'activity-id': [{'@id': 'cmip6plus:activity/cmip'}], 'experiment-id': [{'@id': 'cmip6:experiment/id/picontrol'}]}, 'sub-experiment-id': {'@id': 'cmip6plus:experiment/sub-id/f2023'}, 'tier': 3, '@id': 'cmip6plus:experiment/id/hist-pivolc', '@type': 'experiment-id', 'activity-id': [{'@id': 'cmip6plus:activity/lesfmip'}], 'description': 'historical simulations with 1850 volcanic emissions', 'experiment': 'historical all-but-volcanic run', 'name': 'hist-piVolc', 'model-components': {'additional-allowed': [{'@id': 'mip-cmor-tables:auxillary/source-type/aer'}, {'@id': 'mip-cmor-tables:auxillary/source-type/chem'}, {'@id': 'mip-cmor-tables:auxillary/source-type/bgc'}], 'required': [{'@id': 'mip-cmor-tables:auxillary/source-type/aogcm'}]}}\n",
      "{'parameters': {'start': 1850, 'end': 2020, 'min_number_yrs_per_sim': 'none'}, 'parent': {'activity-id': [{'@id': 'cmip6plus:activity/cmip'}], 'experiment-id': [{'@id': 'cmip6:experiment/id/picontrol'}]}, 'sub-experiment-id': {'@id': 'cmip6plus:experiment/sub-id/f2023'}, 'tier': 1, '@id': 'cmip6plus:experiment/id/hist-sol', '@type': 'experiment-id', 'activity-id': [{'@id': 'cmip6plus:activity/lesfmip'}], 'description': 'Solar-only historical simulations', 'experiment': 'historical solar-only run', 'name': 'hist-sol', 'model-components': {'additional-allowed': [{'@id': 'mip-cmor-tables:auxillary/source-type/aer'}, {'@id': 'mip-cmor-tables:auxillary/source-type/chem'}, {'@id': 'mip-cmor-tables:auxillary/source-type/bgc'}], 'required': [{'@id': 'mip-cmor-tables:auxillary/source-type/aogcm'}]}}\n",
      "{'parameters': {'start': 1850, 'end': 2020, 'min_number_yrs_per_sim': 'none'}, 'parent': {'activity-id': [{'@id': 'cmip6plus:activity/cmip'}], 'experiment-id': [{'@id': 'cmip6:experiment/id/picontrol'}]}, 'sub-experiment-id': {'@id': 'cmip6plus:experiment/sub-id/f2023'}, 'tier': 1, '@id': 'cmip6plus:experiment/id/hist-totalo3', '@type': 'experiment-id', 'activity-id': [{'@id': 'cmip6plus:activity/lesfmip'}], 'description': 'Ozone-only historical simulations', 'experiment': 'historical total ozone-only run', 'name': 'hist-totalO3', 'model-components': {'additional-allowed': [{'@id': 'mip-cmor-tables:auxillary/source-type/aer'}, {'@id': 'mip-cmor-tables:auxillary/source-type/chem'}, {'@id': 'mip-cmor-tables:auxillary/source-type/bgc'}], 'required': [{'@id': 'mip-cmor-tables:auxillary/source-type/aogcm'}]}}\n",
      "{'parameters': {'start': 1850, 'end': 2020, 'min_number_yrs_per_sim': 'none'}, 'parent': {'activity-id': [{'@id': 'cmip6plus:activity/cmip'}], 'experiment-id': [{'@id': 'cmip6:experiment/id/picontrol'}]}, 'sub-experiment-id': {'@id': 'cmip6plus:experiment/sub-id/f2023'}, 'tier': 1, '@id': 'cmip6plus:experiment/id/hist-volc', '@type': 'experiment-id', 'activity-id': [{'@id': 'cmip6plus:activity/lesfmip'}], 'description': 'Volcanic-only historical simulations', 'experiment': 'historical volcanic-only run', 'name': 'hist-volc', 'model-components': {'additional-allowed': [{'@id': 'mip-cmor-tables:auxillary/source-type/aer'}, {'@id': 'mip-cmor-tables:auxillary/source-type/chem'}, {'@id': 'mip-cmor-tables:auxillary/source-type/bgc'}], 'required': [{'@id': 'mip-cmor-tables:auxillary/source-type/aogcm'}]}}\n",
      "{'parameters': {'start': 1850, 'end': 2014, 'min_number_yrs_per_sim': 165}, 'parent': {'activity-id': [{'@id': 'cmip6plus:activity/cmip'}], 'experiment-id': [{'@id': 'cmip6:experiment/id/picontrol'}]}, 'sub-experiment-id': {'@id': 'cmip6plus:experiment/sub-id/none'}, 'tier': 1, '@id': 'cmip6plus:experiment/id/historical', '@type': 'experiment-id', 'activity-id': [{'@id': 'cmip6plus:activity/cmip'}], 'description': 'CMIP6 historical', 'experiment': 'all-forcing simulation of the recent past (CO2 concentration-driven)', 'name': 'historical', 'model-components': {'additional-allowed': [{'@id': 'mip-cmor-tables:auxillary/source-type/aer'}, {'@id': 'mip-cmor-tables:auxillary/source-type/chem'}, {'@id': 'mip-cmor-tables:auxillary/source-type/bgc'}], 'required': [{'@id': 'mip-cmor-tables:auxillary/source-type/aogcm'}]}}\n",
      "{'parameters': {'start': -999, 'end': -999, 'min_number_yrs_per_sim': 500}, 'parent': {'activity-id': [{'@id': 'cmip6plus:activity/cmip'}], 'experiment-id': [{'@id': 'cmip6:experiment/id/picontrol-spinup'}]}, 'sub-experiment-id': {'@id': 'cmip6plus:experiment/sub-id/none'}, 'tier': 1, '@id': 'cmip6plus:experiment/id/picontrol', '@type': 'experiment-id', 'activity-id': [{'@id': 'cmip6plus:activity/cmip'}], 'description': 'DECK: control', 'experiment': 'pre-industrial control (CO2 concentration-driven)', 'name': 'piControl', 'model-components': {'additional-allowed': [{'@id': 'mip-cmor-tables:auxillary/source-type/aer'}, {'@id': 'mip-cmor-tables:auxillary/source-type/chem'}, {'@id': 'mip-cmor-tables:auxillary/source-type/bgc'}], 'required': [{'@id': 'mip-cmor-tables:auxillary/source-type/aogcm'}]}}\n",
      "{'parameters': {'start': -999, 'end': -999, 'min_number_yrs_per_sim': 100}, 'parent': {'activity-id': [{'@id': 'cmip6plus:activity/no parent'}], 'experiment-id': [{'@id': 'cmip6:experiment/id/no parent'}]}, 'sub-experiment-id': {'@id': 'cmip6plus:experiment/sub-id/none'}, 'tier': 2, '@id': 'cmip6plus:experiment/id/picontrol-spinup', '@type': 'experiment-id', 'activity-id': [{'@id': 'cmip6plus:activity/cmip'}], 'description': 'DECK: spin-up portion of the control', 'experiment': 'pre-industrial control (spin-up)', 'name': 'piControl-spinup', 'model-components': {'additional-allowed': [{'@id': 'mip-cmor-tables:auxillary/source-type/aer'}, {'@id': 'mip-cmor-tables:auxillary/source-type/chem'}, {'@id': 'mip-cmor-tables:auxillary/source-type/bgc'}], 'required': [{'@id': 'mip-cmor-tables:auxillary/source-type/aogcm'}]}}\n"
     ]
    }
   ],
   "source": [
    "\n",
    "\n",
    "for exe in experiment.values():\n",
    "\n",
    "\n",
    "    exist = json.load(open(f'./id/{exe[\"experiment_id\"].lower()}.json'))\n",
    "    \n",
    "    eid = exe['experiment_id']\n",
    "    data = {\n",
    "       \n",
    "        \"parameters\":{\n",
    "            \"start\": int(exe['start'] or -999),\n",
    "            \"end\": int(exe['end'] or -999),\n",
    "            \"min_number_yrs_per_sim\": exe['min_number_yrs_per_sim'],\n",
    "            \n",
    "        },\n",
    "        \"parent\":{\n",
    "            \"activity-id\":[{\"@id\":f'cmip6plus:activity/{i.lower()}'} for i in exe[\"parent_activity_id\"]],\n",
    "            \"experiment-id\":[{\"@id\":f'cmip6:experiment/id/{i.lower()}'} for i in exe[\"parent_experiment_id\"]]\n",
    "        },\n",
    "        'sub-experiment-id': {\"@id\":f\"cmip6plus:experiment/sub-id/{exe['sub_experiment_id'][0].lower()}\"},\n",
    "        'tier': int(exe['tier'] or -999)\n",
    "    }\n",
    "    \n",
    "    \n",
    "    data.update(exist)\n",
    "    \n",
    "    print(data)\n",
    "        \n",
    "        \n",
    "        \n",
    "\n",
    "\n",
    "    loc = f'./id/{eid.lower()}.json'\n",
    "    json.dump(data, open(loc,'w'),indent=4)\n",
    "        \n",
    "        "
   ]
  },
  {
   "cell_type": "code",
   "execution_count": 6,
   "metadata": {},
   "outputs": [],
   "source": []
  },
  {
   "cell_type": "code",
   "execution_count": 7,
   "metadata": {},
   "outputs": [],
   "source": []
  },
  {
   "cell_type": "code",
   "execution_count": null,
   "metadata": {},
   "outputs": [],
   "source": []
  },
  {
   "cell_type": "code",
   "execution_count": 8,
   "metadata": {},
   "outputs": [],
   "source": []
  },
  {
   "cell_type": "code",
   "execution_count": 9,
   "metadata": {},
   "outputs": [],
   "source": []
  },
  {
   "cell_type": "code",
   "execution_count": null,
   "metadata": {},
   "outputs": [],
   "source": []
  },
  {
   "cell_type": "code",
   "execution_count": 10,
   "metadata": {},
   "outputs": [
    {
     "data": {
      "text/plain": [
       "{'@id': 'cmip6plus:experiment/sub-id/none',\n",
       " '@type': 'mip:sub-experiment-id',\n",
       " 'sub-experiment-id': 'none',\n",
       " 'description': 'none'}"
      ]
     },
     "execution_count": 10,
     "metadata": {},
     "output_type": "execute_result"
    }
   ],
   "source": []
  },
  {
   "cell_type": "code",
   "execution_count": null,
   "metadata": {},
   "outputs": [],
   "source": []
  },
  {
   "cell_type": "code",
   "execution_count": null,
   "metadata": {},
   "outputs": [],
   "source": []
  }
 ],
 "metadata": {
  "kernelspec": {
   "display_name": "base",
   "language": "python",
   "name": "python3"
  },
  "language_info": {
   "codemirror_mode": {
    "name": "ipython",
    "version": 3
   },
   "file_extension": ".py",
   "mimetype": "text/x-python",
   "name": "python",
   "nbconvert_exporter": "python",
   "pygments_lexer": "ipython3",
   "version": "3.10.10"
  }
 },
 "nbformat": 4,
 "nbformat_minor": 2
}
