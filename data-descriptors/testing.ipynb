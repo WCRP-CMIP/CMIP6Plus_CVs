{
 "cells": [
  {
   "cell_type": "code",
   "execution_count": 4,
   "metadata": {},
   "outputs": [],
   "source": [
    "from pyld import jsonld "
   ]
  },
  {
   "cell_type": "code",
   "execution_count": 6,
   "metadata": {},
   "outputs": [],
   "source": [
    "# jsonld.expand('http://localhost:8000/data_descriptors/experiment/amip.json')"
   ]
  },
  {
   "cell_type": "code",
   "execution_count": 7,
   "metadata": {},
   "outputs": [],
   "source": [
    "import requests\n",
    "def getfromurl(url):\n",
    "    json =  requests.get(url).json()\n",
    "    json['@context'] = json['@context'].replace('https://WCRP-CMIP.github.io/CMIP6Plus_CVs/','http://localhost:8000/')\n",
    "    \n",
    "    \n",
    "    return json\n",
    "    \n",
    "    "
   ]
  },
  {
   "cell_type": "code",
   "execution_count": 13,
   "metadata": {},
   "outputs": [],
   "source": [
    "ld = getfromurl('http://localhost:8000/data_descriptors/experiment/amip.json')"
   ]
  },
  {
   "cell_type": "code",
   "execution_count": 14,
   "metadata": {},
   "outputs": [
    {
     "data": {
      "text/plain": [
       "{'@context': 'http://localhost:8000/data_descriptors/experiment/_context',\n",
       " 'activity-id': [{'@id': 'cmip6plus:activity/cmip'}],\n",
       " 'description': 'DECK: AMIP',\n",
       " 'experiment': 'AMIP',\n",
       " 'id': 'amip',\n",
       " 'model-components': {'additional-allowed': [{'@id': 'mip-cmor-tables:auxillary/source-type/aer'},\n",
       "   {'@id': 'mip-cmor-tables:auxillary/source-type/chem'},\n",
       "   {'@id': 'mip-cmor-tables:auxillary/source-type/bgc'}],\n",
       "  'required': [{'@id': 'mip-cmor-tables:auxillary/source-type/agcm'}]},\n",
       " 'name': 'amip',\n",
       " 'parameters': {'end': 2022, 'min-number-yrs-per-sim': 43, 'start': 1979},\n",
       " 'parent': {'activity-id': ['no parent'], 'experiment-id': ['no parent']},\n",
       " 'sub-experiment-id': {'@id': 'cmip6plus:experiment/sub-id/none'},\n",
       " 'tier': 1,\n",
       " 'type': 'experiment_id'}"
      ]
     },
     "execution_count": 14,
     "metadata": {},
     "output_type": "execute_result"
    }
   ],
   "source": [
    "# getfromurl('http://localhost:8000/data_descriptors/experiment/_context')\n",
    "ld"
   ]
  },
  {
   "cell_type": "code",
   "execution_count": 21,
   "metadata": {},
   "outputs": [
    {
     "data": {
      "text/plain": [
       "[{'https://WCRP-CMIP.github.io/CMIP6Plus_CVs/data_descriptors/experiment/activity-id': [{'@id': 'cmip6plus:activity/cmip'}],\n",
       "  'https://WCRP-CMIP.github.io/CMIP6Plus_CVs/data_descriptors/experiment/description': [{'@value': 'DECK: AMIP'}],\n",
       "  'https://WCRP-CMIP.github.io/CMIP6Plus_CVs/data_descriptors/experiment/experiment': [{'@value': 'AMIP'}],\n",
       "  '@id': 'amip',\n",
       "  'https://WCRP-CMIP.github.io/CMIP6Plus_CVs/data_descriptors/experiment/model-components': [{'https://WCRP-CMIP.github.io/CMIP6Plus_CVs/data_descriptors/experiment/additional-allowed': [{'@id': 'https://wcrp-cmip.github.io/WCRP-UNIVERSE/data_descriptors/auxillary/source-type/aer'},\n",
       "     {'@id': 'https://wcrp-cmip.github.io/WCRP-UNIVERSE/data_descriptors/auxillary/source-type/chem'},\n",
       "     {'@id': 'https://wcrp-cmip.github.io/WCRP-UNIVERSE/data_descriptors/auxillary/source-type/bgc'}],\n",
       "    'https://WCRP-CMIP.github.io/CMIP6Plus_CVs/data_descriptors/experiment/required': [{'@id': 'https://wcrp-cmip.github.io/WCRP-UNIVERSE/data_descriptors/auxillary/source-type/agcm'}]}],\n",
       "  'https://WCRP-CMIP.github.io/CMIP6Plus_CVs/data_descriptors/experiment/name': [{'@value': 'amip'}],\n",
       "  'https://WCRP-CMIP.github.io/CMIP6Plus_CVs/data_descriptors/experiment/parameters': [{'https://WCRP-CMIP.github.io/CMIP6Plus_CVs/data_descriptors/experiment/end': [{'@value': 2022}],\n",
       "    'https://WCRP-CMIP.github.io/CMIP6Plus_CVs/data_descriptors/experiment/min-number-yrs-per-sim': [{'@value': 43}],\n",
       "    'https://WCRP-CMIP.github.io/CMIP6Plus_CVs/data_descriptors/experiment/start': [{'@value': 1979}]}],\n",
       "  'https://WCRP-CMIP.github.io/CMIP6Plus_CVs/data_descriptors/experiment/parent': [{'https://WCRP-CMIP.github.io/CMIP6Plus_CVs/data_descriptors/experiment/activity-id': [{'@value': 'no parent'}],\n",
       "    'https://WCRP-CMIP.github.io/CMIP6Plus_CVs/data_descriptors/experiment/experiment-id': [{'@value': 'no parent'}]}],\n",
       "  'https://WCRP-CMIP.github.io/CMIP6Plus_CVs/data_descriptors/experiment/sub-experiment-id': [{'@id': 'cmip6plus:experiment/sub-id/none'}],\n",
       "  'https://WCRP-CMIP.github.io/CMIP6Plus_CVs/data_descriptors/experiment/tier': [{'@value': 1}],\n",
       "  '@type': ['https://WCRP-CMIP.github.io/CMIP6Plus_CVs/data_descriptors/experiment/experiment_id']}]"
      ]
     },
     "execution_count": 21,
     "metadata": {},
     "output_type": "execute_result"
    }
   ],
   "source": [
    "jsonld.expand(ld)"
   ]
  },
  {
   "cell_type": "code",
   "execution_count": null,
   "metadata": {},
   "outputs": [],
   "source": []
  },
  {
   "cell_type": "code",
   "execution_count": null,
   "metadata": {},
   "outputs": [],
   "source": [
    "extensions work for links, cotnext needed to ahve short ids \n",
    "\n",
    "\n",
    "make a named class named parent in universe. \n",
    "\n",
    "or\n",
    "\n",
    "parent-activity \n",
    "parent-experiment\n",
    "sub-experiment \n"
   ]
  }
 ],
 "metadata": {
  "kernelspec": {
   "display_name": "base",
   "language": "python",
   "name": "python3"
  },
  "language_info": {
   "codemirror_mode": {
    "name": "ipython",
    "version": 3
   },
   "file_extension": ".py",
   "mimetype": "text/x-python",
   "name": "python",
   "nbconvert_exporter": "python",
   "pygments_lexer": "ipython3",
   "version": "3.10.10"
  }
 },
 "nbformat": 4,
 "nbformat_minor": 2
}
